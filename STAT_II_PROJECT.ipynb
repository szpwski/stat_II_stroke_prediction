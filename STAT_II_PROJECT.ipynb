{
  "nbformat": 4,
  "nbformat_minor": 0,
  "metadata": {
    "colab": {
      "name": "STAT II - PROJECT",
      "provenance": [],
      "collapsed_sections": []
    },
    "kernelspec": {
      "name": "python3",
      "display_name": "Python 3"
    },
    "language_info": {
      "name": "python"
    }
  },
  "cells": [
    {
      "cell_type": "markdown",
      "source": [
        "Naszym zadaniem jest przeanalizowanie zbioru danych medycznych oraz stworzenia modelu klasyfikującego potencjalnego pacjenta ze względu na fakt wystąpienia udaru mózgu.\n",
        "\n",
        "Udar mózgu to zespół objawów klinicznych związanych z nagłym wystąpieniem ogniskowego lub uogólnionego zaburzenia czynności mózgu, powstały w wyniku zaburzenia krążenia mózgowego i utrzymującego się ponad 24 godziny."
      ],
      "metadata": {
        "id": "A0H4CNPsh_Zj"
      }
    },
    {
      "cell_type": "markdown",
      "source": [
        "# Biblioteki"
      ],
      "metadata": {
        "id": "IT01EXJjSCSZ"
      }
    },
    {
      "cell_type": "code",
      "source": [
        "import pandas as pd\n",
        "import numpy as np\n",
        "\n",
        "from plotly.subplots import make_subplots\n",
        "import plotly.graph_objects as go\n",
        "import plotly.express as px\n",
        "from matplotlib import pyplot as plt\n",
        "import seaborn as sns\n",
        "\n",
        "from sklearn import preprocessing\n",
        "from sklearn.utils import shuffle\n",
        "from sklearn.model_selection import train_test_split\n",
        "from imblearn.over_sampling import SMOTE\n",
        "from imblearn.over_sampling import SMOTENC\n",
        "from imblearn.over_sampling import ADASYN\n",
        "from imblearn.combine import SMOTETomek\n",
        "from imblearn.combine import SMOTEENN\n",
        "from imblearn.under_sampling import EditedNearestNeighbours\n",
        "from sklearn.pipeline import Pipeline\n",
        "from sklearn import metrics\n",
        "\n",
        "from sklearn.linear_model import LogisticRegression\n",
        "from sklearn.svm import SVC\n",
        "from sklearn.feature_selection import SequentialFeatureSelector\n",
        "from sklearn.ensemble import RandomForestClassifier\n",
        "from sklearn.feature_selection import RFE\n",
        "from sklearn.model_selection import cross_validate\n",
        "\n",
        "from yellowbrick import classifier\n",
        "from yellowbrick.classifier import ClassificationReport\n",
        "from yellowbrick.classifier.rocauc import roc_auc"
      ],
      "metadata": {
        "id": "gurH9SH9SKNp"
      },
      "execution_count": null,
      "outputs": []
    },
    {
      "cell_type": "markdown",
      "source": [
        "# Funkcje"
      ],
      "metadata": {
        "id": "lQSfvfiuGwhr"
      }
    },
    {
      "cell_type": "code",
      "source": [
        "def plotting(data: pd.DataFrame, x: str, type: str, y=None, cl = 'stroke'):\n",
        "  \"\"\"\n",
        "    Function for plotting data in specific way\n",
        "\n",
        "  Args:\n",
        "    data - dataset to plot\n",
        "\n",
        "    x - column for x-axis\n",
        "    \n",
        "    y - column for y-axis\n",
        "    \n",
        "    type - type of plot \n",
        "      values: {'hist', 'box', 'hist_box', 'class_hist', 'class_box', 'class_hist_box', 'scatter', 'heatmap', 'lineplot'} \n",
        "\n",
        "    cl - class\n",
        "\n",
        "  Returns:\n",
        "    Plot in plotly\n",
        "  \"\"\"\n",
        "\n",
        "  def plot_class_hist():\n",
        "    \"\"\"\n",
        "      Plots histogram with stroke classes in plotly\n",
        "    \"\"\"\n",
        "    \n",
        "    fig = go.Figure()\n",
        "    fig.add_trace(go.Histogram(x = data.loc[data[cl]==0, x], name='No '+cl))\n",
        "    fig.add_trace(go.Histogram(x = data.loc[data[cl]==1, x], name=cl))\n",
        "\n",
        "    fig.update_layout(barmode='overlay')\n",
        "    fig.update_traces(opacity=0.75)\n",
        "    \n",
        "    return fig\n",
        "  \n",
        "  def plot_class_box():\n",
        "    \"\"\"\n",
        "      Plots boxplot with stroke classes in plotly\n",
        "    \"\"\"\n",
        "    \n",
        "    fig = go.Figure()\n",
        "    fig.add_trace(go.Box(y = data.loc[data[cl]==0, x], name='No '+cl))\n",
        "    fig.add_trace(go.Box(y = data.loc[data[cl]==1, x], name=cl))\n",
        "\n",
        "    fig.update_layout(barmode='overlay')\n",
        "    fig.update_traces(opacity=0.75)\n",
        "    \n",
        "    return fig\n",
        "    \n",
        "\n",
        "  if type=='hist':\n",
        "    fig = px.histogram(data, x=x)\n",
        "    fig.show()\n",
        "\n",
        "  elif type=='box':\n",
        "    fig = px.box(data, x=x)\n",
        "    fig.show()\n",
        "  \n",
        "  elif type=='scatter':\n",
        "    data['temp'] = data[cl].astype('str')\n",
        "\n",
        "    fig = px.scatter(data, x=x, y=y, color='temp')\n",
        "    fig.update_layout(title_text=\"Scatterplot for \" + x)\n",
        "    fig.update_traces(marker_size=10)\n",
        "    \n",
        "    fig.show()\n",
        "  \n",
        "  elif type=='heatmap':\n",
        "    corr = data.corr()\n",
        "    f, ax = plt.subplots(figsize=(16, 12))\n",
        "    mask = np.triu(np.ones_like(corr, dtype=bool))\n",
        "    cmap = sns.diverging_palette(230, 20, as_cmap=True)\n",
        "    sns.heatmap(corr, annot=True, mask = mask, cmap=cmap)\n",
        "\n",
        "  elif type=='hist_box':\n",
        "    fig = make_subplots(rows=1, cols=2)\n",
        "\n",
        "    fig.add_trace(go.Histogram(x = data[x], name=x), row=1,col=1)\n",
        "    fig.add_trace(go.Box(y = data[x], name=x), row=1, col=2)\n",
        "    \n",
        "    fig.update_layout(barmode=\"overlay\")\n",
        "    fig.update_traces(opacity=0.7, row=1, col=1)\n",
        "    fig.update_layout(title_text=\"Histogram and Boxplot for \" + x)\n",
        "    fig.show()\n",
        "\n",
        "  elif type=='class_hist':\n",
        "    \n",
        "    fig = plot_class_hist()\n",
        "    fig.show()\n",
        "  \n",
        "  elif type=='class_box':\n",
        "    \n",
        "    fig = plot_class_box()\n",
        "    fig.show()\n",
        "\n",
        "  elif type=='class_hist_box':\n",
        "    fig = make_subplots(rows=1, cols=2)\n",
        "\n",
        "    fig.add_trace(go.Histogram(x = data.loc[data[cl]==0, x], name='No '+cl), row=1,col=1)\n",
        "    fig.add_trace(go.Histogram(x = data.loc[data[cl]==1, x], name=cl), row=1, col=1)\n",
        "    fig.add_trace(go.Box(y = data.loc[data[cl]==0, x], name='No '+cl), row=1, col=2)\n",
        "    fig.add_trace(go.Box(y = data.loc[data[cl]==1, x], name=cl), row=1, col=2)\n",
        "\n",
        "    fig.update_layout(barmode=\"overlay\")\n",
        "    fig.update_traces(opacity=0.7, row=1, col=1)\n",
        "    fig.update_layout(title_text=\"Histogram and Boxplot with classes for \" + x)\n",
        "    fig.show()\n",
        "\n",
        "  elif type=='lineplot':\n",
        "    fig = px.line(data, x=x, y=y, color=cl)\n",
        "    fig.show()\n",
        "\n",
        "  else:\n",
        "    raise NotImplementedError('Not implemented!')\n",
        "\n",
        "  return 0"
      ],
      "metadata": {
        "id": "iUWj_78UGwuY"
      },
      "execution_count": null,
      "outputs": []
    },
    {
      "cell_type": "code",
      "source": [
        "def iqr_outliers(df: pd.DataFrame, col: str):\n",
        "  \"\"\"\n",
        "  Function for managin outliers in given column from dataframe using IQR method. \n",
        "  In descriptive statistics, the interquartile range (IQR) is a measure of statistical dispersion, which is the spread of the data. \n",
        "  It is defined as the difference between the 75th and 25th percentiles of the data.\n",
        "\n",
        "  Args:\n",
        "    df - dataset to remove outliers\n",
        "\n",
        "    col - column for removing outliers\n",
        "    \n",
        "  Returns:\n",
        "    Whole dataframe with specified column cleaned from outliers using IQR method\n",
        "\n",
        "  \"\"\"\n",
        "  Q1 = df[col].quantile(0.25)\n",
        "  Q3 = df[col].quantile(0.75)\n",
        "  IQR = Q3 - Q1\n",
        "  df.loc[df[col] <= Q1 - 1.5*IQR, col] = df[col].quantile(0.1)\n",
        "  df.loc[df[col] >= Q3 + 1.5*IQR, col] = df[col].quantile(0.9)\n",
        "\n",
        "  return df"
      ],
      "metadata": {
        "id": "xPeoXq0CWhmc"
      },
      "execution_count": null,
      "outputs": []
    },
    {
      "cell_type": "code",
      "source": [
        "def balance_data(X, y, algorithm, cat_features, strategy=1, seed = 123, k_neighbors = 5, n_neighbors=3):\n",
        "  \"\"\"\n",
        "  Function for balancing dataset using specified algorithm and sampling strategy. \n",
        "\n",
        "  Args:\n",
        "    X - matrix of features\n",
        "\n",
        "    y - vector of target variable observations\n",
        "\n",
        "    algorithm - algorithm for balancing dataset\n",
        "      values: {'SMOTE', 'ADASYN', 'SMOTETOMEK', 'SMOTEENN'}\n",
        "\n",
        "    strategy - sampling information to resample the data set\n",
        "\n",
        "    Optional **kwargs:\n",
        "      k_neighbors - number of neighbours for SMOTE algorithm\n",
        "      n_neighbors - number of neighbours for ADASYN and ENN algorithms\n",
        "\n",
        "  Returns:\n",
        "    Whole balanced dataframe \n",
        "  \"\"\"\n",
        "\n",
        "  ft = []\n",
        "  for feat in cat_features:\n",
        "    ft.append(X.columns.get_loc(feat))\n",
        "\n",
        "  #sm = SMOTE(sampling_strategy = strategy, k_neighbors = k_neighbors)\n",
        "  sm = SMOTENC(random_state=seed, categorical_features=ft, sampling_strategy = strategy, k_neighbors=k_neighbors)\n",
        "\n",
        "  if algorithm == 'SMOTE':\n",
        "    bs = sm\n",
        "\n",
        "  elif algorithm == 'ADASYN':\n",
        "    bs = ADASYN(random_state = seed, sampling_strategy = strategy, n_neighbors =n_neighbors)\n",
        "\n",
        "  elif algorithm == 'SMOTETOMEK':\n",
        "    \n",
        "    bs = SMOTETomek(random_state = seed, sampling_strategy = strategy, smote= sm)\n",
        "\n",
        "  elif algorithm == 'SMOTEENN':\n",
        "    enn = EditedNearestNeighbours(n_neighbors = n_neighbors)\n",
        "\n",
        "    bs = SMOTEENN(sampling_strategy = strategy, smote=sm, enn = enn)\n",
        "  \n",
        "  else:\n",
        "    raise NotImplementedError('Not implemented!')\n",
        "\n",
        "  X_bs,  y_bs = bs.fit_resample(X, y)\n",
        "\n",
        "  df_bs = X_bs.copy()\n",
        "  df_bs['stroke'] = y_bs\n",
        "\n",
        "  X_bs = X_bs.drop(columns='index', axis=1)\n",
        "\n",
        "  print(\"Liczba wszystkich obserwacji: \", len(y_bs))\n",
        "  print(\"\\nLiczba obserwacji z klasy mniejszościowej: \", len(y_bs[y_bs==1]))\n",
        "  print(\"\\nProcent klasy mniejszościowej do całości po zbalansowaniu: \", len(y_bs[y_bs == 1])/len(y_bs))\n",
        "  \n",
        "  return df_bs, X_bs, y_bs"
      ],
      "metadata": {
        "id": "weyTtidn1jXl"
      },
      "execution_count": null,
      "outputs": []
    },
    {
      "cell_type": "code",
      "source": [
        "#Stwórz klase z doborem parametru thresholda p\n",
        "\n",
        "class LogisticRegressionWithThreshold(LogisticRegression):\n",
        "    def predict(self, X, threshold=None):\n",
        "        if threshold == None: # If no threshold passed in, simply call the base class predict, effectively threshold=0.5\n",
        "            return LogisticRegression.predict(self, X)\n",
        "        else:\n",
        "            y_scores = LogisticRegression.predict_proba(self, X)[:, 1]\n",
        "            y_pred_with_threshold = (y_scores >= threshold).astype(int)\n",
        "\n",
        "            return y_pred_with_threshold"
      ],
      "metadata": {
        "id": "buCBNtlDnTO2"
      },
      "execution_count": null,
      "outputs": []
    },
    {
      "cell_type": "code",
      "source": [
        "def fit_pred_score(X_train, y_train, X_test, y_test, model, model_name, dataset_name, scaler=True, ohe = False, columns_to_standardize = None, cat_features = None, visualize_train = True, visualize_test = True, show_coefficients = False, threshold = None):\n",
        "  \"\"\"\n",
        "  Function for training and testing given classifier. \n",
        "  It plots classification reports for train and test data and might display coefficients of predictors. \n",
        "  Returns report in dataframe format for given model and dataset with metrics from classification report.\n",
        "\n",
        "  Args:\n",
        "\n",
        "    X_train, y_train, X_test, y_test - training and testing data with associated labels\n",
        "\n",
        "    model - model to train and test\n",
        "\n",
        "    model_name - name of the model for the report\n",
        "\n",
        "    dataset_name - dataset name used for the report\n",
        "\n",
        "    scaler - if features should be scaled\n",
        "\n",
        "    columns_to_standardize - columns which should be scaled if scaler = True\n",
        "\n",
        "    visualize_train - if classification report for training data should be visualized\n",
        "\n",
        "    visualize_test - if classification report for testing data should be visualized\n",
        "\n",
        "    show_coefficients - if coefficients of features should be displayed\n",
        "\n",
        "    threshold - value of 'p' for Logistic Regression model\n",
        "\n",
        "  Returns:\n",
        "\n",
        "    report - dataframe with metrics from classification report with associated dataset and model name\n",
        "  \"\"\"\n",
        "\n",
        "  def ohe(df: pd.DataFrame, cat_features):\n",
        "    df_ohe = df[cat_features].astype('str')\n",
        "    dummies = pd.get_dummies(df_ohe)\n",
        "\n",
        "    df = df.drop(columns=cat_features, axis=1)\n",
        "    df = pd.merge(df, dummies, left_index=True, right_index=True)\n",
        "    \n",
        "    return df\n",
        "  \n",
        "  X = X_train.copy()\n",
        "  X_t = X_test.copy()\n",
        "\n",
        "  if scaler == True:\n",
        "    sc = preprocessing.StandardScaler()\n",
        "    X[columns_to_standardize] = sc.fit_transform(X_train[columns_to_standardize])\n",
        "    X_t[columns_to_standardize] = sc.transform(X_t[columns_to_standardize])\n",
        "\n",
        "  if ohe ==True:\n",
        "    X = ohe(X, cat_features)\n",
        "    X_t = ohe(X_t, cat_features)\n",
        "\n",
        "  model.fit(X, y_train)\n",
        "\n",
        "  if threshold == None:\n",
        "    y_pred = model.predict(X_t)\n",
        "  else:\n",
        "    y_pred = model.predict(X_t, threshold = threshold)\n",
        "\n",
        "  classes=['No stroke', 'Stroke']\n",
        "\n",
        "  #plot classification report for training data\n",
        "  if visualize_train == True:\n",
        "    visualizer = ClassificationReport(\n",
        "          model, classes=classes)\n",
        "    visualizer.fit(X, y_train)\n",
        "    visualizer.score(X, y_train)\n",
        "    visualizer.show()\n",
        "\n",
        "  if visualize_test == True:\n",
        "    #plot classification report for test data\n",
        "    classifier.classification_report(model, X, y_train, X_t, y_test, classes=classes)\n",
        "\n",
        "  if show_coefficients == True:\n",
        "    coef_dict = {}\n",
        "    for coef, feat in zip(model.coef_[0,:],X.columns):\n",
        "      print(feat, \" = \", coef)\n",
        "\n",
        "  report = pd.DataFrame(metrics.classification_report(y_test, y_pred, target_names = classes, output_dict=True))\n",
        "  report['metric'] = report.index\n",
        "  report.reset_index(inplace=True, drop=True)\n",
        "  report['dataset_name'] = dataset_name\n",
        "  report['model_name'] = model_name\n",
        "  \n",
        "  return report"
      ],
      "metadata": {
        "id": "FaMWkQbknfBM"
      },
      "execution_count": null,
      "outputs": []
    },
    {
      "cell_type": "code",
      "source": [
        "def transform_report_to_plot(dt : pd.DataFrame, x : str):\n",
        "  \"\"\"\n",
        "  Function transforms report dataset for plotting in a way that for F1-score macro avg value is taken, for precision the values for no stroke and for recall the values for stroke. \n",
        "  \n",
        "  Args:\n",
        "    dt - filtered dataset\n",
        "\n",
        "    x - axis\n",
        "\n",
        "  Returns:\n",
        "    df - transformed report dataframe\n",
        "  \"\"\"\n",
        "\n",
        "  #cols_to_select\n",
        "  f1_s = dt.loc[(dt.metric == 'f1-score'),['macro avg','metric', x]]\n",
        "  precision_s = dt.loc[(report.metric == 'precision'),['Stroke','metric', x]]\n",
        "  precision_s.metric = \"Precision (Stroke)\"\n",
        "  recall_s = dt.loc[(dt.metric == 'recall'),['Stroke','metric', x]]\n",
        "  recall_s.metric = \"Recall (Stroke)\"\n",
        "  precision_ns = dt.loc[(report.metric == 'precision'),['No stroke','metric', x]]\n",
        "  precision_ns.metric = \"Precision (No stroke)\"\n",
        "  recall_ns = dt.loc[(dt.metric == 'recall'),['No stroke','metric', x]]\n",
        "  recall_ns.metric = \"Recall (No stroke)\"\n",
        "\n",
        "  columns = ['value', 'metric', '']\n",
        "  for d in [f1_s, precision_s, recall_s, precision_ns, recall_ns]:\n",
        "    d.columns = columns\n",
        "\n",
        "  df = pd.concat([f1_s, precision_s, recall_s, precision_ns, recall_ns])\n",
        "  return df"
      ],
      "metadata": {
        "id": "la-KtZxa0S_K"
      },
      "execution_count": 71,
      "outputs": []
    },
    {
      "cell_type": "markdown",
      "source": [
        "# Dane"
      ],
      "metadata": {
        "id": "NSnz1gUTSLeH"
      }
    },
    {
      "cell_type": "code",
      "execution_count": null,
      "metadata": {
        "id": "sD8LcgMfRoW7",
        "colab": {
          "base_uri": "https://localhost:8080/",
          "height": 206
        },
        "outputId": "ee1e7a44-70f2-4f9a-d164-69259149ee9a"
      },
      "outputs": [
        {
          "output_type": "execute_result",
          "data": {
            "text/plain": [
              "      id  gender   age  hypertension  heart_disease ever_married  \\\n",
              "0   9046    Male  67.0             0              1          Yes   \n",
              "1  51676  Female  61.0             0              0          Yes   \n",
              "2  31112    Male  80.0             0              1          Yes   \n",
              "3  60182  Female  49.0             0              0          Yes   \n",
              "4   1665  Female  79.0             1              0          Yes   \n",
              "\n",
              "       work_type Residence_type  avg_glucose_level   bmi   smoking_status  \\\n",
              "0        Private          Urban             228.69  36.6  formerly smoked   \n",
              "1  Self-employed          Rural             202.21   NaN     never smoked   \n",
              "2        Private          Rural             105.92  32.5     never smoked   \n",
              "3        Private          Urban             171.23  34.4           smokes   \n",
              "4  Self-employed          Rural             174.12  24.0     never smoked   \n",
              "\n",
              "   stroke  \n",
              "0       1  \n",
              "1       1  \n",
              "2       1  \n",
              "3       1  \n",
              "4       1  "
            ],
            "text/html": [
              "\n",
              "  <div id=\"df-e5b82f36-63bc-47a5-8bb2-d924d73b7999\">\n",
              "    <div class=\"colab-df-container\">\n",
              "      <div>\n",
              "<style scoped>\n",
              "    .dataframe tbody tr th:only-of-type {\n",
              "        vertical-align: middle;\n",
              "    }\n",
              "\n",
              "    .dataframe tbody tr th {\n",
              "        vertical-align: top;\n",
              "    }\n",
              "\n",
              "    .dataframe thead th {\n",
              "        text-align: right;\n",
              "    }\n",
              "</style>\n",
              "<table border=\"1\" class=\"dataframe\">\n",
              "  <thead>\n",
              "    <tr style=\"text-align: right;\">\n",
              "      <th></th>\n",
              "      <th>id</th>\n",
              "      <th>gender</th>\n",
              "      <th>age</th>\n",
              "      <th>hypertension</th>\n",
              "      <th>heart_disease</th>\n",
              "      <th>ever_married</th>\n",
              "      <th>work_type</th>\n",
              "      <th>Residence_type</th>\n",
              "      <th>avg_glucose_level</th>\n",
              "      <th>bmi</th>\n",
              "      <th>smoking_status</th>\n",
              "      <th>stroke</th>\n",
              "    </tr>\n",
              "  </thead>\n",
              "  <tbody>\n",
              "    <tr>\n",
              "      <th>0</th>\n",
              "      <td>9046</td>\n",
              "      <td>Male</td>\n",
              "      <td>67.0</td>\n",
              "      <td>0</td>\n",
              "      <td>1</td>\n",
              "      <td>Yes</td>\n",
              "      <td>Private</td>\n",
              "      <td>Urban</td>\n",
              "      <td>228.69</td>\n",
              "      <td>36.6</td>\n",
              "      <td>formerly smoked</td>\n",
              "      <td>1</td>\n",
              "    </tr>\n",
              "    <tr>\n",
              "      <th>1</th>\n",
              "      <td>51676</td>\n",
              "      <td>Female</td>\n",
              "      <td>61.0</td>\n",
              "      <td>0</td>\n",
              "      <td>0</td>\n",
              "      <td>Yes</td>\n",
              "      <td>Self-employed</td>\n",
              "      <td>Rural</td>\n",
              "      <td>202.21</td>\n",
              "      <td>NaN</td>\n",
              "      <td>never smoked</td>\n",
              "      <td>1</td>\n",
              "    </tr>\n",
              "    <tr>\n",
              "      <th>2</th>\n",
              "      <td>31112</td>\n",
              "      <td>Male</td>\n",
              "      <td>80.0</td>\n",
              "      <td>0</td>\n",
              "      <td>1</td>\n",
              "      <td>Yes</td>\n",
              "      <td>Private</td>\n",
              "      <td>Rural</td>\n",
              "      <td>105.92</td>\n",
              "      <td>32.5</td>\n",
              "      <td>never smoked</td>\n",
              "      <td>1</td>\n",
              "    </tr>\n",
              "    <tr>\n",
              "      <th>3</th>\n",
              "      <td>60182</td>\n",
              "      <td>Female</td>\n",
              "      <td>49.0</td>\n",
              "      <td>0</td>\n",
              "      <td>0</td>\n",
              "      <td>Yes</td>\n",
              "      <td>Private</td>\n",
              "      <td>Urban</td>\n",
              "      <td>171.23</td>\n",
              "      <td>34.4</td>\n",
              "      <td>smokes</td>\n",
              "      <td>1</td>\n",
              "    </tr>\n",
              "    <tr>\n",
              "      <th>4</th>\n",
              "      <td>1665</td>\n",
              "      <td>Female</td>\n",
              "      <td>79.0</td>\n",
              "      <td>1</td>\n",
              "      <td>0</td>\n",
              "      <td>Yes</td>\n",
              "      <td>Self-employed</td>\n",
              "      <td>Rural</td>\n",
              "      <td>174.12</td>\n",
              "      <td>24.0</td>\n",
              "      <td>never smoked</td>\n",
              "      <td>1</td>\n",
              "    </tr>\n",
              "  </tbody>\n",
              "</table>\n",
              "</div>\n",
              "      <button class=\"colab-df-convert\" onclick=\"convertToInteractive('df-e5b82f36-63bc-47a5-8bb2-d924d73b7999')\"\n",
              "              title=\"Convert this dataframe to an interactive table.\"\n",
              "              style=\"display:none;\">\n",
              "        \n",
              "  <svg xmlns=\"http://www.w3.org/2000/svg\" height=\"24px\"viewBox=\"0 0 24 24\"\n",
              "       width=\"24px\">\n",
              "    <path d=\"M0 0h24v24H0V0z\" fill=\"none\"/>\n",
              "    <path d=\"M18.56 5.44l.94 2.06.94-2.06 2.06-.94-2.06-.94-.94-2.06-.94 2.06-2.06.94zm-11 1L8.5 8.5l.94-2.06 2.06-.94-2.06-.94L8.5 2.5l-.94 2.06-2.06.94zm10 10l.94 2.06.94-2.06 2.06-.94-2.06-.94-.94-2.06-.94 2.06-2.06.94z\"/><path d=\"M17.41 7.96l-1.37-1.37c-.4-.4-.92-.59-1.43-.59-.52 0-1.04.2-1.43.59L10.3 9.45l-7.72 7.72c-.78.78-.78 2.05 0 2.83L4 21.41c.39.39.9.59 1.41.59.51 0 1.02-.2 1.41-.59l7.78-7.78 2.81-2.81c.8-.78.8-2.07 0-2.86zM5.41 20L4 18.59l7.72-7.72 1.47 1.35L5.41 20z\"/>\n",
              "  </svg>\n",
              "      </button>\n",
              "      \n",
              "  <style>\n",
              "    .colab-df-container {\n",
              "      display:flex;\n",
              "      flex-wrap:wrap;\n",
              "      gap: 12px;\n",
              "    }\n",
              "\n",
              "    .colab-df-convert {\n",
              "      background-color: #E8F0FE;\n",
              "      border: none;\n",
              "      border-radius: 50%;\n",
              "      cursor: pointer;\n",
              "      display: none;\n",
              "      fill: #1967D2;\n",
              "      height: 32px;\n",
              "      padding: 0 0 0 0;\n",
              "      width: 32px;\n",
              "    }\n",
              "\n",
              "    .colab-df-convert:hover {\n",
              "      background-color: #E2EBFA;\n",
              "      box-shadow: 0px 1px 2px rgba(60, 64, 67, 0.3), 0px 1px 3px 1px rgba(60, 64, 67, 0.15);\n",
              "      fill: #174EA6;\n",
              "    }\n",
              "\n",
              "    [theme=dark] .colab-df-convert {\n",
              "      background-color: #3B4455;\n",
              "      fill: #D2E3FC;\n",
              "    }\n",
              "\n",
              "    [theme=dark] .colab-df-convert:hover {\n",
              "      background-color: #434B5C;\n",
              "      box-shadow: 0px 1px 3px 1px rgba(0, 0, 0, 0.15);\n",
              "      filter: drop-shadow(0px 1px 2px rgba(0, 0, 0, 0.3));\n",
              "      fill: #FFFFFF;\n",
              "    }\n",
              "  </style>\n",
              "\n",
              "      <script>\n",
              "        const buttonEl =\n",
              "          document.querySelector('#df-e5b82f36-63bc-47a5-8bb2-d924d73b7999 button.colab-df-convert');\n",
              "        buttonEl.style.display =\n",
              "          google.colab.kernel.accessAllowed ? 'block' : 'none';\n",
              "\n",
              "        async function convertToInteractive(key) {\n",
              "          const element = document.querySelector('#df-e5b82f36-63bc-47a5-8bb2-d924d73b7999');\n",
              "          const dataTable =\n",
              "            await google.colab.kernel.invokeFunction('convertToInteractive',\n",
              "                                                     [key], {});\n",
              "          if (!dataTable) return;\n",
              "\n",
              "          const docLinkHtml = 'Like what you see? Visit the ' +\n",
              "            '<a target=\"_blank\" href=https://colab.research.google.com/notebooks/data_table.ipynb>data table notebook</a>'\n",
              "            + ' to learn more about interactive tables.';\n",
              "          element.innerHTML = '';\n",
              "          dataTable['output_type'] = 'display_data';\n",
              "          await google.colab.output.renderOutput(dataTable, element);\n",
              "          const docLink = document.createElement('div');\n",
              "          docLink.innerHTML = docLinkHtml;\n",
              "          element.appendChild(docLink);\n",
              "        }\n",
              "      </script>\n",
              "    </div>\n",
              "  </div>\n",
              "  "
            ]
          },
          "metadata": {},
          "execution_count": 7
        }
      ],
      "source": [
        "url = 'https://github.com/maju116/Statistics_II_GUT/raw/main/PROJECT/healthcare-dataset-stroke-data.csv'\n",
        "df = pd.read_csv(url)\n",
        "\n",
        "df.head(5)"
      ]
    },
    {
      "cell_type": "code",
      "source": [
        "df.info()"
      ],
      "metadata": {
        "id": "TfEXXtb0SRhH",
        "colab": {
          "base_uri": "https://localhost:8080/"
        },
        "outputId": "f51ea91d-9c39-4c6d-dbaa-ae2f9642e3ba"
      },
      "execution_count": null,
      "outputs": [
        {
          "output_type": "stream",
          "name": "stdout",
          "text": [
            "<class 'pandas.core.frame.DataFrame'>\n",
            "RangeIndex: 5110 entries, 0 to 5109\n",
            "Data columns (total 12 columns):\n",
            " #   Column             Non-Null Count  Dtype  \n",
            "---  ------             --------------  -----  \n",
            " 0   id                 5110 non-null   int64  \n",
            " 1   gender             5110 non-null   object \n",
            " 2   age                5110 non-null   float64\n",
            " 3   hypertension       5110 non-null   int64  \n",
            " 4   heart_disease      5110 non-null   int64  \n",
            " 5   ever_married       5110 non-null   object \n",
            " 6   work_type          5110 non-null   object \n",
            " 7   Residence_type     5110 non-null   object \n",
            " 8   avg_glucose_level  5110 non-null   float64\n",
            " 9   bmi                4909 non-null   float64\n",
            " 10  smoking_status     5110 non-null   object \n",
            " 11  stroke             5110 non-null   int64  \n",
            "dtypes: float64(3), int64(4), object(5)\n",
            "memory usage: 479.2+ KB\n"
          ]
        }
      ]
    },
    {
      "cell_type": "code",
      "source": [
        "df.describe().transpose()"
      ],
      "metadata": {
        "id": "X7c0HkBFka99",
        "colab": {
          "base_uri": "https://localhost:8080/",
          "height": 269
        },
        "outputId": "099300ed-ec5f-4464-b6b3-de09ed8a3edc"
      },
      "execution_count": null,
      "outputs": [
        {
          "output_type": "execute_result",
          "data": {
            "text/plain": [
              "                    count          mean           std    min        25%  \\\n",
              "id                 5110.0  36517.829354  21161.721625  67.00  17741.250   \n",
              "age                5110.0     43.226614     22.612647   0.08     25.000   \n",
              "hypertension       5110.0      0.097456      0.296607   0.00      0.000   \n",
              "heart_disease      5110.0      0.054012      0.226063   0.00      0.000   \n",
              "avg_glucose_level  5110.0    106.147677     45.283560  55.12     77.245   \n",
              "bmi                4909.0     28.893237      7.854067  10.30     23.500   \n",
              "stroke             5110.0      0.048728      0.215320   0.00      0.000   \n",
              "\n",
              "                         50%       75%       max  \n",
              "id                 36932.000  54682.00  72940.00  \n",
              "age                   45.000     61.00     82.00  \n",
              "hypertension           0.000      0.00      1.00  \n",
              "heart_disease          0.000      0.00      1.00  \n",
              "avg_glucose_level     91.885    114.09    271.74  \n",
              "bmi                   28.100     33.10     97.60  \n",
              "stroke                 0.000      0.00      1.00  "
            ],
            "text/html": [
              "\n",
              "  <div id=\"df-7168629a-73b4-4379-b48b-72c68c1eb767\">\n",
              "    <div class=\"colab-df-container\">\n",
              "      <div>\n",
              "<style scoped>\n",
              "    .dataframe tbody tr th:only-of-type {\n",
              "        vertical-align: middle;\n",
              "    }\n",
              "\n",
              "    .dataframe tbody tr th {\n",
              "        vertical-align: top;\n",
              "    }\n",
              "\n",
              "    .dataframe thead th {\n",
              "        text-align: right;\n",
              "    }\n",
              "</style>\n",
              "<table border=\"1\" class=\"dataframe\">\n",
              "  <thead>\n",
              "    <tr style=\"text-align: right;\">\n",
              "      <th></th>\n",
              "      <th>count</th>\n",
              "      <th>mean</th>\n",
              "      <th>std</th>\n",
              "      <th>min</th>\n",
              "      <th>25%</th>\n",
              "      <th>50%</th>\n",
              "      <th>75%</th>\n",
              "      <th>max</th>\n",
              "    </tr>\n",
              "  </thead>\n",
              "  <tbody>\n",
              "    <tr>\n",
              "      <th>id</th>\n",
              "      <td>5110.0</td>\n",
              "      <td>36517.829354</td>\n",
              "      <td>21161.721625</td>\n",
              "      <td>67.00</td>\n",
              "      <td>17741.250</td>\n",
              "      <td>36932.000</td>\n",
              "      <td>54682.00</td>\n",
              "      <td>72940.00</td>\n",
              "    </tr>\n",
              "    <tr>\n",
              "      <th>age</th>\n",
              "      <td>5110.0</td>\n",
              "      <td>43.226614</td>\n",
              "      <td>22.612647</td>\n",
              "      <td>0.08</td>\n",
              "      <td>25.000</td>\n",
              "      <td>45.000</td>\n",
              "      <td>61.00</td>\n",
              "      <td>82.00</td>\n",
              "    </tr>\n",
              "    <tr>\n",
              "      <th>hypertension</th>\n",
              "      <td>5110.0</td>\n",
              "      <td>0.097456</td>\n",
              "      <td>0.296607</td>\n",
              "      <td>0.00</td>\n",
              "      <td>0.000</td>\n",
              "      <td>0.000</td>\n",
              "      <td>0.00</td>\n",
              "      <td>1.00</td>\n",
              "    </tr>\n",
              "    <tr>\n",
              "      <th>heart_disease</th>\n",
              "      <td>5110.0</td>\n",
              "      <td>0.054012</td>\n",
              "      <td>0.226063</td>\n",
              "      <td>0.00</td>\n",
              "      <td>0.000</td>\n",
              "      <td>0.000</td>\n",
              "      <td>0.00</td>\n",
              "      <td>1.00</td>\n",
              "    </tr>\n",
              "    <tr>\n",
              "      <th>avg_glucose_level</th>\n",
              "      <td>5110.0</td>\n",
              "      <td>106.147677</td>\n",
              "      <td>45.283560</td>\n",
              "      <td>55.12</td>\n",
              "      <td>77.245</td>\n",
              "      <td>91.885</td>\n",
              "      <td>114.09</td>\n",
              "      <td>271.74</td>\n",
              "    </tr>\n",
              "    <tr>\n",
              "      <th>bmi</th>\n",
              "      <td>4909.0</td>\n",
              "      <td>28.893237</td>\n",
              "      <td>7.854067</td>\n",
              "      <td>10.30</td>\n",
              "      <td>23.500</td>\n",
              "      <td>28.100</td>\n",
              "      <td>33.10</td>\n",
              "      <td>97.60</td>\n",
              "    </tr>\n",
              "    <tr>\n",
              "      <th>stroke</th>\n",
              "      <td>5110.0</td>\n",
              "      <td>0.048728</td>\n",
              "      <td>0.215320</td>\n",
              "      <td>0.00</td>\n",
              "      <td>0.000</td>\n",
              "      <td>0.000</td>\n",
              "      <td>0.00</td>\n",
              "      <td>1.00</td>\n",
              "    </tr>\n",
              "  </tbody>\n",
              "</table>\n",
              "</div>\n",
              "      <button class=\"colab-df-convert\" onclick=\"convertToInteractive('df-7168629a-73b4-4379-b48b-72c68c1eb767')\"\n",
              "              title=\"Convert this dataframe to an interactive table.\"\n",
              "              style=\"display:none;\">\n",
              "        \n",
              "  <svg xmlns=\"http://www.w3.org/2000/svg\" height=\"24px\"viewBox=\"0 0 24 24\"\n",
              "       width=\"24px\">\n",
              "    <path d=\"M0 0h24v24H0V0z\" fill=\"none\"/>\n",
              "    <path d=\"M18.56 5.44l.94 2.06.94-2.06 2.06-.94-2.06-.94-.94-2.06-.94 2.06-2.06.94zm-11 1L8.5 8.5l.94-2.06 2.06-.94-2.06-.94L8.5 2.5l-.94 2.06-2.06.94zm10 10l.94 2.06.94-2.06 2.06-.94-2.06-.94-.94-2.06-.94 2.06-2.06.94z\"/><path d=\"M17.41 7.96l-1.37-1.37c-.4-.4-.92-.59-1.43-.59-.52 0-1.04.2-1.43.59L10.3 9.45l-7.72 7.72c-.78.78-.78 2.05 0 2.83L4 21.41c.39.39.9.59 1.41.59.51 0 1.02-.2 1.41-.59l7.78-7.78 2.81-2.81c.8-.78.8-2.07 0-2.86zM5.41 20L4 18.59l7.72-7.72 1.47 1.35L5.41 20z\"/>\n",
              "  </svg>\n",
              "      </button>\n",
              "      \n",
              "  <style>\n",
              "    .colab-df-container {\n",
              "      display:flex;\n",
              "      flex-wrap:wrap;\n",
              "      gap: 12px;\n",
              "    }\n",
              "\n",
              "    .colab-df-convert {\n",
              "      background-color: #E8F0FE;\n",
              "      border: none;\n",
              "      border-radius: 50%;\n",
              "      cursor: pointer;\n",
              "      display: none;\n",
              "      fill: #1967D2;\n",
              "      height: 32px;\n",
              "      padding: 0 0 0 0;\n",
              "      width: 32px;\n",
              "    }\n",
              "\n",
              "    .colab-df-convert:hover {\n",
              "      background-color: #E2EBFA;\n",
              "      box-shadow: 0px 1px 2px rgba(60, 64, 67, 0.3), 0px 1px 3px 1px rgba(60, 64, 67, 0.15);\n",
              "      fill: #174EA6;\n",
              "    }\n",
              "\n",
              "    [theme=dark] .colab-df-convert {\n",
              "      background-color: #3B4455;\n",
              "      fill: #D2E3FC;\n",
              "    }\n",
              "\n",
              "    [theme=dark] .colab-df-convert:hover {\n",
              "      background-color: #434B5C;\n",
              "      box-shadow: 0px 1px 3px 1px rgba(0, 0, 0, 0.15);\n",
              "      filter: drop-shadow(0px 1px 2px rgba(0, 0, 0, 0.3));\n",
              "      fill: #FFFFFF;\n",
              "    }\n",
              "  </style>\n",
              "\n",
              "      <script>\n",
              "        const buttonEl =\n",
              "          document.querySelector('#df-7168629a-73b4-4379-b48b-72c68c1eb767 button.colab-df-convert');\n",
              "        buttonEl.style.display =\n",
              "          google.colab.kernel.accessAllowed ? 'block' : 'none';\n",
              "\n",
              "        async function convertToInteractive(key) {\n",
              "          const element = document.querySelector('#df-7168629a-73b4-4379-b48b-72c68c1eb767');\n",
              "          const dataTable =\n",
              "            await google.colab.kernel.invokeFunction('convertToInteractive',\n",
              "                                                     [key], {});\n",
              "          if (!dataTable) return;\n",
              "\n",
              "          const docLinkHtml = 'Like what you see? Visit the ' +\n",
              "            '<a target=\"_blank\" href=https://colab.research.google.com/notebooks/data_table.ipynb>data table notebook</a>'\n",
              "            + ' to learn more about interactive tables.';\n",
              "          element.innerHTML = '';\n",
              "          dataTable['output_type'] = 'display_data';\n",
              "          await google.colab.output.renderOutput(dataTable, element);\n",
              "          const docLink = document.createElement('div');\n",
              "          docLink.innerHTML = docLinkHtml;\n",
              "          element.appendChild(docLink);\n",
              "        }\n",
              "      </script>\n",
              "    </div>\n",
              "  </div>\n",
              "  "
            ]
          },
          "metadata": {},
          "execution_count": 9
        }
      ]
    },
    {
      "cell_type": "markdown",
      "source": [
        "Mamy łącznie 12 kolumn po 5110 obserwacji z czego jedna z nich stanowi ('stroke') zmienną celu i będziemy starać się ja zamodelować. Jest to zmienna binarna informująca czy dany pacjent miał udar mózgu czy też nie zatem jest to typowe zadanie klasyfikujące. Oprócz tego jest pozostałych 11 zmiennych:\n",
        "- zmienna **id** typu integer przypisująca konkretnego pacjenta nie wnosi raczej żadnej wartości informacyjnej ale pozwoli nam sprawdzić czy jakiś pacjent jest dwukrotnie w historii co mogłoby wskazywać na podwyższone ryzyko udaru.\n",
        "- zmienna **gender** typu object jest zmienną binarną wskazująca na płeć pacjenta, z pewnością będzie trzeba ją zakodować. Spodziewa się, iż będzie dawała istotną informacje dla zmiennej celu. \n",
        "- zmienna **age** typu float jest zmienną numeryczną wskazująca na wiek pacjenta i także można się spodziewać że będzie istotna w modelowaniu. Mamy tutaj zakres wartości od 25 do 82 bez raczej mocnych ogonów.\n",
        "- zmienna **hypertension** typu integer jest zmienną binarną informująca o nadciśnieniu pacjenta.\n",
        "- zmienna **heart_disease** typu integer jest zmienną binarną informująca o występowaniu chorób serca.\n",
        "- zmienna **ever_married** typu object jest zmienną kategoryczną informująca o tym czy pacjent kiedykolwiek był w związku małżeńskim.\n",
        "- zmienna **work_type** typu object jest zmienną kategoryczną informująca o typie zatrudnieniu.\n",
        "- zmienna **residence_type** typu object jest zmienną kategoryczną informująca o strukturze miejsca zamieszkania.\n",
        "- zmienna **avg_glucose_level** typu float jest zmienną numeryczną informująca o przeciętnyn poziomie glukozy we krwi.\n",
        "- zmienna **bmi** typu float jest zmienną numeryczną informująca o wskaźniku BMI pacjenta. Posiada 201 braków danych.\n",
        "- zmienna **smoking_status** typu object jest zmienną kategoryczną informująca o tym czy i jak często palił pacjent.\n",
        "- zmienna **stroke** typu int jest zmienną binarną informująca czy pacjent doznał udaru mózgu i jest to nasza zmienną celu.\n",
        "\n",
        "Widzimy, że mamy 211 braków danych dla zmiennej **bmi**, którymi zajmiemy się w dalszej części projektu."
      ],
      "metadata": {
        "id": "xv8PI4rITCWN"
      }
    },
    {
      "cell_type": "markdown",
      "source": [
        "# EDA"
      ],
      "metadata": {
        "id": "FVZ2tbKn5Xou"
      }
    },
    {
      "cell_type": "markdown",
      "source": [
        "### stroke"
      ],
      "metadata": {
        "id": "AbTH4QF_DJ88"
      }
    },
    {
      "cell_type": "code",
      "source": [
        "df.stroke.value_counts()"
      ],
      "metadata": {
        "id": "zE0L_B7hS9qu"
      },
      "execution_count": null,
      "outputs": []
    },
    {
      "cell_type": "code",
      "source": [
        "plotting(df, 'stroke', type = 'hist')"
      ],
      "metadata": {
        "id": "aTcMEvpx5ew0"
      },
      "execution_count": null,
      "outputs": []
    },
    {
      "cell_type": "markdown",
      "source": [
        "Widzimy, że nasza zmienna celu jest niezbalansowana gdzie klasą większościową są pacjenci bez udaru mózgu. Musimy mieć to na uwadze i w przypadku pozostawienia takiego stanu rzeczy nie możemy skorzystać z metryki **accuracy**, a powinniśmy skorzystać z innej - przykładowo średniej harmonicznej między **precision** a **recall** czyli **f1-score**. Niezbalansowany zbiór danych jest jednak dość problemtyczny, gdyż klasyfikator ma tendencję skupiania się na predykcji klasy większościowej. \n",
        "\n",
        "Istnieją sposoby na zbalansowanie zbioru danych, które są częścią **pre-processingu** czyli wstępnego przetwarzania danych przed modelowaniem. Do jednych z bardziej popularnych metod należą:\n",
        "- **undersampling** - pozostawia wszystkie obserwacje z klasy mniejszościowej i losowo eliminuje obiekty z klasy większościowej\n",
        "- **oversampling** - pozostawia wszystkie obserwacje z klasy większościowej i losowo replikuje elementy z klasy mniejszościowej\n",
        "\n",
        "W przypadku undersamplingu możemy pozbyć się istotnych informacyjnie obserwacji. Dodatkowo nasz zbiór danych jest niewielki, więc nie chcielibyśmy się ograniczyć do zaledwie 249 obserwacji. Natomiast oversampling może doprowadzić do nadmiernego dopasowania modelu do naszych danych. Istnieje też podejście mieszane wykorzystujące zarówno undersampling, jak też oversampling ale ciężko jest ustalić optymalną proporcję między podejściami. Spróbujemy sprawdzić empirycznie najlepszą metodę i się do niej ograniczyć oczywiście opierając się nie o zwykłe próbkowanie, a dostępne i znane algorytmu balansowania zbiorów danych."
      ],
      "metadata": {
        "id": "ebwe_erS5pSY"
      }
    },
    {
      "cell_type": "markdown",
      "source": [
        "### id"
      ],
      "metadata": {
        "id": "cVDJmTKkDPF1"
      }
    },
    {
      "cell_type": "code",
      "source": [
        "print(\"Liczba zduplikowanych wartości ID pacjentów: \", len(df[df.id.duplicated()]))"
      ],
      "metadata": {
        "id": "nh5NcWyW5i7g"
      },
      "execution_count": null,
      "outputs": []
    },
    {
      "cell_type": "markdown",
      "source": [
        "W naszym zbiorze danych każdy pacjent jest wpisany unikalnie, tak więc zmienna ID raczej do niczego więcej nam się nie przyda i będziemy mogli ją pozostawić w dalszych etapach. "
      ],
      "metadata": {
        "id": "_3M-D5XGDsJ8"
      }
    },
    {
      "cell_type": "markdown",
      "source": [
        "### gender"
      ],
      "metadata": {
        "id": "24gMmbK4D43s"
      }
    },
    {
      "cell_type": "code",
      "source": [
        "plotting(data = df, x='gender',  type='class_hist')"
      ],
      "metadata": {
        "id": "f3LTySO9Eko_"
      },
      "execution_count": null,
      "outputs": []
    },
    {
      "cell_type": "code",
      "source": [
        "df.gender.value_counts()"
      ],
      "metadata": {
        "id": "qfFuXY8WgZrW"
      },
      "execution_count": null,
      "outputs": []
    },
    {
      "cell_type": "markdown",
      "source": [
        "W zmiennej gender występują 3 wartości (male, female, other). Wartość 'Other' występuje tylko jeden raz, więc można go potraktować jako brak danych. W zależności od wartości pozostałych zmiennej dla tej obserwacji albo zastąpimy ją wartością male lub female (jako tą która najczęściej występuje) albo usuniemy."
      ],
      "metadata": {
        "id": "jr83L74rgK_I"
      }
    },
    {
      "cell_type": "markdown",
      "source": [
        "### age"
      ],
      "metadata": {
        "id": "zHzYSl0tD6bL"
      }
    },
    {
      "cell_type": "code",
      "source": [
        "plotting(data = df, x='age',  type='hist_box')"
      ],
      "metadata": {
        "id": "XD8c8c5wsAP1"
      },
      "execution_count": null,
      "outputs": []
    },
    {
      "cell_type": "code",
      "source": [
        "plotting(data = df, x='age',  type='class_hist_box')"
      ],
      "metadata": {
        "id": "GT1I4GCnElWI"
      },
      "execution_count": null,
      "outputs": []
    },
    {
      "cell_type": "markdown",
      "source": [
        "Możemy zaobserwować, że udar mózgu w naszym zbiorze mają głównie osoby w podeszłym wieku (60-80 lat). Natomiast osoby bez udaru rozkładają się dość równomiernie, mediana wynosi 43 lata, gdzie dla osób z udarem 71 lat. Dodatkowo występują zmienne odstające w grupie ludzi z udarem. Sam rozkład zmiennej zbliżony jest do rozkładu jednostajnego. "
      ],
      "metadata": {
        "id": "fE8pPd4KkLQI"
      }
    },
    {
      "cell_type": "markdown",
      "source": [
        "### hypertension"
      ],
      "metadata": {
        "id": "fS2ZKoxvD6eP"
      }
    },
    {
      "cell_type": "code",
      "source": [
        "plotting(data = df, x='hypertension',  type='class_hist')"
      ],
      "metadata": {
        "id": "YPjfAvqpEl4j"
      },
      "execution_count": null,
      "outputs": []
    },
    {
      "cell_type": "markdown",
      "source": [
        "Można zauważyć, że znaczna większość pacjentów nie ma nadciśnienia. Co więcej, mimo braku zbalansowanego zbioru danych, więcej pacjentów z udarem mózgu nie miało przy tym nadciśnienia. "
      ],
      "metadata": {
        "id": "GqokMlKxt73d"
      }
    },
    {
      "cell_type": "markdown",
      "source": [
        "### heart_disease"
      ],
      "metadata": {
        "id": "zhosBPheD6hX"
      }
    },
    {
      "cell_type": "code",
      "source": [
        "plotting(data = df, x='heart_disaease',  type='class_hist')"
      ],
      "metadata": {
        "id": "yjChB3dXEmht"
      },
      "execution_count": null,
      "outputs": []
    },
    {
      "cell_type": "markdown",
      "source": [
        "Podobna sytuacja jak dla zmiennej hypertension. Znaczna większość pacjentow nie ma chorób serca oraz mimo braku zbalansowania, większość osób z udarem także nie ma chorób serca. "
      ],
      "metadata": {
        "id": "TetI4jqKwiO3"
      }
    },
    {
      "cell_type": "markdown",
      "source": [
        "### ever_married"
      ],
      "metadata": {
        "id": "dEkbvWRk2Ws2"
      }
    },
    {
      "cell_type": "code",
      "source": [
        "plotting(data = df, x='ever_married',  type='class_hist')"
      ],
      "metadata": {
        "id": "7tglviIrEnLG"
      },
      "execution_count": null,
      "outputs": []
    },
    {
      "cell_type": "markdown",
      "source": [
        "Zmienna ever_married jest zmienną kategoryczną, którą będzie trzeba zakodować w wartości (0,1). Większa część pacjentów była kiedykolwiek żonata oraz to w tej grupie udar mózgu występuje w większej ilości. "
      ],
      "metadata": {
        "id": "RdF-w4Wl2nTr"
      }
    },
    {
      "cell_type": "markdown",
      "source": [
        "### work_type"
      ],
      "metadata": {
        "id": "owEkVxa4D6nY"
      }
    },
    {
      "cell_type": "code",
      "source": [
        "plotting(data = df, x='work_type',  type='class_hist')"
      ],
      "metadata": {
        "id": "9UW2B4kxEnr7"
      },
      "execution_count": null,
      "outputs": []
    },
    {
      "cell_type": "markdown",
      "source": [
        "Zmienna work_type określająca rodzaj wykonywanej pracy jest także zmienną kategoryczną, którą zakodujemy w wartości numeryczne. Najwięcej pacjentów jest z kategorii 'private', następnie równiemiernie ilościowo rozłożeni między 'children', 'self_employed', 'govt_job'. Znikoma ilość nigdy nie pracowała. Największa ilość udarów znajduje się wśród sektora prywatnego oraz samo-zatrunionego. Niewielka część w sektorze publicznym. Pojedyncze wartości występują też w grupie dzieci, ale z poprzednich wniosków najprawdopodobniej są to obserwacje odstające. Można także spróbować zkoszykować tą zmienną i rozdzielić na sektor obciążony i nieobciążony względem ryzyka udaru mózgu. "
      ],
      "metadata": {
        "id": "5xF50UxP3Zr7"
      }
    },
    {
      "cell_type": "markdown",
      "source": [
        "### residence_type"
      ],
      "metadata": {
        "id": "fRdubKRYD6qR"
      }
    },
    {
      "cell_type": "code",
      "source": [
        "plotting(data = df, x='Residence_type',  type='class_hist')"
      ],
      "metadata": {
        "id": "l2StKIT9EoJk"
      },
      "execution_count": null,
      "outputs": []
    },
    {
      "cell_type": "markdown",
      "source": [
        "Zmienna określa obszar zamieszkania z rozdziałem na wiejski i miejski. Widać, że podział jest równomierny oraz w każdym z podziałów jest zbliżona proporcja osób po udarze do osób bez udaru mózgu, więc zmienna ta niesie ze sobą najpewniej niewielką ilość informacji dla potencjalnego modelu. "
      ],
      "metadata": {
        "id": "eKTdP1ox5IP1"
      }
    },
    {
      "cell_type": "markdown",
      "source": [
        "### avg_glucose_level"
      ],
      "metadata": {
        "id": "5WgJOtdRD6s_"
      }
    },
    {
      "cell_type": "code",
      "source": [
        "plotting(data = df, x='avg_glucose_level',  type='hist_box')"
      ],
      "metadata": {
        "id": "tEKzgwe_6Zia"
      },
      "execution_count": null,
      "outputs": []
    },
    {
      "cell_type": "code",
      "source": [
        "plotting(data = df, x='avg_glucose_level',  type='class_hist_box')"
      ],
      "metadata": {
        "id": "iYF-CGXOEo9I"
      },
      "execution_count": null,
      "outputs": []
    },
    {
      "cell_type": "markdown",
      "source": [
        "Możemy zaobserwować, że najwięcej jest pacjentów ze średnim poziomem glukozy w przedziale 77.24 - I kwantyl, 114.09 - II kwantyl, a więc z poziomem prawidłowym lub stanem przedcukrzycowym. Wniosek ten jednak jest uogólniony, gdyż zakres ten jest nieco inny w zależności od pory czy też sposobu wykonywanego badania, a także wieku badanej osoby. Osoby z wyższym średnim poziomem glukozy we krwi są outlierami dla grupy bez udaru mózgu, natomiast dla pozostałej części osób mieszczą się one w IV kwantylu. Więc usunięcie tych obserwacji, lub też zmiana ich wartości spowodowałaby utratę być może znaczącej informacji. Zamiast tego spróbujemy wykorzystać tą zależność tworząc nową zmienną kategoryczną informującą o średnim zakresie glukozy (poziom prawidłowy, stan przedcukrzycowy, cukrzyca) oraz imputując nowe wartości, jak też transformując całą zmienną. "
      ],
      "metadata": {
        "id": "-AVj9RBt6LSp"
      }
    },
    {
      "cell_type": "markdown",
      "source": [
        "\n",
        "### bmi"
      ],
      "metadata": {
        "id": "iVmqCSl3D6v9"
      }
    },
    {
      "cell_type": "code",
      "source": [
        "plotting(data = df, x='bmi',  type='hist_box')"
      ],
      "metadata": {
        "id": "nexjRul-Epc5"
      },
      "execution_count": null,
      "outputs": []
    },
    {
      "cell_type": "code",
      "source": [
        "plotting(data = df, x='bmi',  type='class_hist_box')"
      ],
      "metadata": {
        "id": "Ehu1rPGC9Gns"
      },
      "execution_count": null,
      "outputs": []
    },
    {
      "cell_type": "markdown",
      "source": [
        "Rozkład zmiennej bmi przypomina rozkład normalny z cięższym prawym ogonem. Występują też outliery dla bmi > 47.5. Większość pacjentów zawiera się w przedziale 23.5 - 33.1 czyli jest z wagą prawidłową lub nadwagą I stopnia. O ile sama zmienna może nie nieść zbyt dużej informacji z uwagi, że rozkład wartości jest zbliżony dla osób z udarem, jak i bez udaru to niemniej możliwe są pewne istotne interakcje między pozostałymi zmiennymi jak chociażby średnim poziomem glukozy we krwi. W kontekście danych odstających również można stworzyć zmienną kategoryczną zgodnie z kategoriami wskaźników BMI.\n",
        "\n",
        "Dodatkowo zmienna BMI zawiera braki danych, którymi należy się zająć. Istnieje na to wiele metod m.in. \n",
        "- usunięcie obserwacji\n",
        "- wypełnienie ich statystyką opisową typu średnia, mediana\n",
        "- wykorzystanie algorytmów ML takich jak KNN\n",
        "\n",
        "Z racji, iż braków danych jest niewiele (zaledwie 4%) to wypełnimi ich statystyką opisową jako działaniem prostym, ale i skutecznym. Jak wspomniano, rozkład zmiennej jest zbliżony do normalnego więc nie ma większego znaczenia wybór między medianą, a średnią ale zważywszy na lekki ogon prawostronny wybrana zostanie mediana. Dla obserwacji odstających posłużymy się metodą IQR."
      ],
      "metadata": {
        "id": "oPfmeTpa9c8O"
      }
    },
    {
      "cell_type": "markdown",
      "source": [
        "### smoking_status"
      ],
      "metadata": {
        "id": "70X2R8NaEczr"
      }
    },
    {
      "cell_type": "code",
      "source": [
        "plotting(data = df, x='smoking_status',  type='class_hist_box')"
      ],
      "metadata": {
        "id": "Cmd9LjIsEqK-"
      },
      "execution_count": null,
      "outputs": []
    },
    {
      "cell_type": "markdown",
      "source": [
        "Ciężko wyciągnać tu szersze wnioski zważywszy na dość liczną grupę 'Unknown', Najliczniejsza grupa pacjentów nigdy nie paliła papierosów zakładając, że w grupie 'Unknown' wartości rozkładałyby się w miare równomiernie. Widać rozróżnienei dla osób z udarem, że w większości są to osoby niepalące lub palące sporadycznie. Sprawdźmy wiek osób dla grupy Unknown, być może w naturalny sposób wydzieli nam się grupa osób niepełnoletnich."
      ],
      "metadata": {
        "id": "GSziJFf0-3gy"
      }
    },
    {
      "cell_type": "code",
      "source": [
        "plotting(data=df[(df.age <= 16)], x='smoking_status', type='class_hist')"
      ],
      "metadata": {
        "id": "8fuYC9hAvHcy"
      },
      "execution_count": null,
      "outputs": []
    },
    {
      "cell_type": "markdown",
      "source": [
        "Widzimy, że dla osób niepełnoletnich wartość smoking_status jest w większości równa 'Unknown'. Należy coś z tą grupą osób zrobić, jednakże nie można po prostu usunąć tych obserwacji, gdyż udar mózgu dotyczyć może także dzieci. Z jednej strony można zaklasyfikować te osoby do grupy 'Never smoked', jednak jest wysoce prawdopodobne, że w rzeczywistości część osób może 'popalać'. Stworzymy więc nową kategorię 'Underage' dla tych pacjentów. "
      ],
      "metadata": {
        "id": "NoNemP31vnRR"
      }
    },
    {
      "cell_type": "markdown",
      "source": [
        "# Inżynieria cech\n",
        "\n",
        "W inżynierii cech będziemy tworzyli nowe zmienne z już istniejących, zajmowali się brakiem danych czy też odstającymi obserwacjami. Do tego ostatniego skorzystamy z metody rozstępu międzyćwiartylkowego IQR. Jest to różnica między trzecim a pierwszym kwartylem. Ponieważ pomiędzy tymi kwartylami znajduje się z definicji 50% wszystkich obserwacji (położonych centralnie w rozkładzie), dlatego im większa szerokość rozstępu ćwiartkowego, tym większe zróżnicowanie cechy. Dodatkowo na końcu dokonamy balansowania naszego zbioru z wykorzystaniem 4 technik: SMOTE, ADASYN, SMOTE+Tomek, SMOTE ENN. "
      ],
      "metadata": {
        "id": "MLumG93KP1Sx"
      }
    },
    {
      "cell_type": "code",
      "source": [
        "#głęboka kopia danych\n",
        "\n",
        "df_clear = df.copy()"
      ],
      "metadata": {
        "id": "HUKbBvGwQnJh"
      },
      "execution_count": null,
      "outputs": []
    },
    {
      "cell_type": "markdown",
      "source": [
        "### bmi\n",
        "\n",
        "- imputacja braków danych przy użyciu mediany\n",
        "- stworzenie nowej zmiennej kategorycznej na podstawie istniejącej zmiennej numerycznej oraz zakodowanie jej. Do kategoryzacji posłużymy się kategoriami zaproponowanymi przez 'Centers for Disease Control and Prevention' (https://www.cdc.gov/healthyweight/assessing/bmi/adult_bmi/index.html).\n",
        "![image.png](data:image/png;base64,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)\n",
        "- dodanie zmiennej numerycznej bez danych odstających poprzez wykrycie ich metodą IQR oraz ograniczenie ich wartości na 0.9 kwantyl oraz 0.1 kwantyl\n",
        "- log-transformacja zmiennej oraz wykrycie ich metodą IQR oraz ograniczenie ich wartości na 0.9 kwantyl oraz 0.1 kwantyl"
      ],
      "metadata": {
        "id": "wFcj8rp1P61k"
      }
    },
    {
      "cell_type": "code",
      "source": [
        "#imputacja mediany w miejsca NA\n",
        "df_clear['bmi_no_nan'] = df_clear.bmi.fillna(df_clear.bmi.median())\n",
        "\n",
        "#zmienna numeryczna bez outlierów\n",
        "df_clear['bmi_no_outliers'] = df_clear.bmi_no_nan\n",
        "df_clear = iqr_outliers(df_clear, 'bmi_no_outliers')\n",
        "\n",
        "#log-transformacja bez outlierów\n",
        "df_clear['log_bmi_no_outliers'] = np.log(df_clear.bmi_no_nan)\n",
        "df_clear = iqr_outliers(df_clear, 'log_bmi_no_outliers')\n",
        "df_clear.info()\n",
        "\n",
        "#nowa zmienna kategoryczna zgodnie ze wskaźnikami BMI\n",
        "df_clear.loc[(df_clear.bmi_no_outliers < 18.5), 'bmi_categorical'] = 'underweight'\n",
        "df_clear.loc[(df_clear.bmi_no_outliers >= 18.5) & (df_clear.bmi_no_outliers < 24.9), 'bmi_categorical'] = 'normal'\n",
        "df_clear.loc[(df_clear.bmi_no_outliers >= 24.9) & (df_clear.bmi_no_outliers < 29.9), 'bmi_categorical'] = 'overweight'\n",
        "df_clear.loc[(df_clear.bmi_no_outliers >= 29.9) & (df_clear.bmi_no_outliers < 34.9), 'bmi_categorical'] = 'obese'\n",
        "df_clear.loc[(df_clear.bmi_no_outliers >= 34.9), 'bmi_categorical'] = 'extremely obese'\n",
        "\n",
        "#kodowanie medianą przedziałów\n",
        "df_clear.loc[df_clear.bmi_categorical == 'underweight', 'bmi_categorical_encoded'] = int(df_clear.loc[df_clear.bmi_categorical == 'underweight','bmi_no_outliers'].median())\n",
        "df_clear.loc[df_clear.bmi_categorical == 'normal', 'bmi_categorical_encoded'] = int(df_clear.loc[df_clear.bmi_categorical == 'normal','bmi_no_outliers'].median())\n",
        "df_clear.loc[df_clear.bmi_categorical == 'overweight', 'bmi_categorical_encoded'] = int(df_clear.loc[df_clear.bmi_categorical == 'overweight','bmi_no_outliers'].median())\n",
        "df_clear.loc[df_clear.bmi_categorical == 'obese', 'bmi_categorical_encoded'] = int(df_clear.loc[df_clear.bmi_categorical == 'obese','bmi_no_outliers'].median())\n",
        "df_clear.loc[df_clear.bmi_categorical == 'extremely obese', 'bmi_categorical_encoded'] = int(df_clear.loc[df_clear.bmi_categorical == 'extremely obese','bmi_no_outliers'].median())"
      ],
      "metadata": {
        "id": "esQwAT5SP4df",
        "colab": {
          "base_uri": "https://localhost:8080/"
        },
        "outputId": "7cedc4c2-6ced-4b53-c809-1778c970e549"
      },
      "execution_count": null,
      "outputs": [
        {
          "output_type": "stream",
          "name": "stdout",
          "text": [
            "<class 'pandas.core.frame.DataFrame'>\n",
            "RangeIndex: 5110 entries, 0 to 5109\n",
            "Data columns (total 15 columns):\n",
            " #   Column               Non-Null Count  Dtype  \n",
            "---  ------               --------------  -----  \n",
            " 0   id                   5110 non-null   int64  \n",
            " 1   gender               5110 non-null   object \n",
            " 2   age                  5110 non-null   float64\n",
            " 3   hypertension         5110 non-null   int64  \n",
            " 4   heart_disease        5110 non-null   int64  \n",
            " 5   ever_married         5110 non-null   object \n",
            " 6   work_type            5110 non-null   object \n",
            " 7   Residence_type       5110 non-null   object \n",
            " 8   avg_glucose_level    5110 non-null   float64\n",
            " 9   bmi                  4909 non-null   float64\n",
            " 10  smoking_status       5110 non-null   object \n",
            " 11  stroke               5110 non-null   int64  \n",
            " 12  bmi_no_nan           5110 non-null   float64\n",
            " 13  bmi_no_outliers      5110 non-null   float64\n",
            " 14  log_bmi_no_outliers  5110 non-null   float64\n",
            "dtypes: float64(6), int64(4), object(5)\n",
            "memory usage: 599.0+ KB\n"
          ]
        }
      ]
    },
    {
      "cell_type": "code",
      "source": [
        "for col, types in zip(['bmi_no_nan', 'bmi_categorical', 'bmi_no_outliers', 'log_bmi_no_outliers'], ['class_hist_box','class_hist','class_hist_box','class_hist_box']):\n",
        "  plotting(data = df_clear, x=col, type=types)"
      ],
      "metadata": {
        "id": "PF7ER1MCY0_u"
      },
      "execution_count": null,
      "outputs": []
    },
    {
      "cell_type": "markdown",
      "source": [
        "Możemy zaobserwować, że wypełnienie braków danych spowodowało peak w punkcie mediany co jest naturalnym efektem zastosowanej metody. \n",
        "\n",
        "Dodatkowo, najbardziej liczna jest grupa osób z nadwagą i to tam również najliczniej występują osoby z udarem mózgu. W przypadku usunięcia outlierów mozemy zaobserwować pozbycie się ogona prawostronnego, natomiast zastosowanie log-transformacji wydaje się nie mieć znacznego wpływu poza przeskalowaniem co będzie zbędne z racji iż w późniejszym etapie będziemy dokonywać standaryzacji zmiennych, dlatego odrzucimy tą zmienną. \n",
        "\n",
        "Co więcej, możemy zauważyć, że przypisanie granicznych wartości kwantylowych nie zlikwidowało danych odstających w grupie osób z udarem. W tej sytuacji możemy usunąć obserwacje specjalnie dla tej grupy, ale nie są to pojedyncze przypadki a i tak jest ona mało liczna. W takim razie, z racji dalszego lekkiego zaszumienia zmiennej przez te obserwacje, pozostaniemy przy zmiennej kategorycznej koszykującej do odpowiedniej grupy. Jest to dość powszechne rozwiązanie dla BMI, gdyż to powszechny indeks wagi ciała.  "
      ],
      "metadata": {
        "id": "EmKg0-awZ6-q"
      }
    },
    {
      "cell_type": "markdown",
      "source": [
        "### gender\n",
        "- z racji, iż jest to tylko jedna obserwacja i ciężko jest ją odpowiednio podmienić (pozostałe zmienne są mocno rozrzucone, więc nie niosą wystarczającej informacji do imputacji) zostanie usunięta\n",
        "- kodowanie zmiennej"
      ],
      "metadata": {
        "id": "01tSzx_eUk_k"
      }
    },
    {
      "cell_type": "code",
      "source": [
        "df_clear = df_clear.loc[df_clear.gender != 'Other',:]\n",
        "df_clear.loc[df_clear.gender == 'Female', 'is_female'] = 1\n",
        "df_clear.loc[df_clear.gender == 'Male', 'is_female'] = 0\n",
        "df_clear.is_female = df_clear.is_female.astype('int')\n",
        "\n",
        "df_clear.info()"
      ],
      "metadata": {
        "id": "KSF-_iXSYyRC",
        "colab": {
          "base_uri": "https://localhost:8080/"
        },
        "outputId": "0b9334c0-a387-4469-b287-d7beb6bee942"
      },
      "execution_count": null,
      "outputs": [
        {
          "output_type": "stream",
          "name": "stdout",
          "text": [
            "<class 'pandas.core.frame.DataFrame'>\n",
            "Int64Index: 5109 entries, 0 to 5109\n",
            "Data columns (total 18 columns):\n",
            " #   Column                   Non-Null Count  Dtype  \n",
            "---  ------                   --------------  -----  \n",
            " 0   id                       5109 non-null   int64  \n",
            " 1   gender                   5109 non-null   object \n",
            " 2   age                      5109 non-null   float64\n",
            " 3   hypertension             5109 non-null   int64  \n",
            " 4   heart_disease            5109 non-null   int64  \n",
            " 5   ever_married             5109 non-null   object \n",
            " 6   work_type                5109 non-null   object \n",
            " 7   Residence_type           5109 non-null   object \n",
            " 8   avg_glucose_level        5109 non-null   float64\n",
            " 9   bmi                      4908 non-null   float64\n",
            " 10  smoking_status           5109 non-null   object \n",
            " 11  stroke                   5109 non-null   int64  \n",
            " 12  bmi_no_nan               5109 non-null   float64\n",
            " 13  bmi_no_outliers          5109 non-null   float64\n",
            " 14  log_bmi_no_outliers      5109 non-null   float64\n",
            " 15  bmi_categorical          5109 non-null   object \n",
            " 16  bmi_categorical_encoded  5109 non-null   float64\n",
            " 17  is_female                5109 non-null   int64  \n",
            "dtypes: float64(7), int64(5), object(6)\n",
            "memory usage: 758.4+ KB\n"
          ]
        },
        {
          "output_type": "stream",
          "name": "stderr",
          "text": [
            "/usr/local/lib/python3.7/dist-packages/pandas/core/indexing.py:1684: SettingWithCopyWarning: \n",
            "A value is trying to be set on a copy of a slice from a DataFrame.\n",
            "Try using .loc[row_indexer,col_indexer] = value instead\n",
            "\n",
            "See the caveats in the documentation: https://pandas.pydata.org/pandas-docs/stable/user_guide/indexing.html#returning-a-view-versus-a-copy\n",
            "  self.obj[key] = infer_fill_value(value)\n",
            "/usr/local/lib/python3.7/dist-packages/pandas/core/indexing.py:1817: SettingWithCopyWarning: \n",
            "A value is trying to be set on a copy of a slice from a DataFrame.\n",
            "Try using .loc[row_indexer,col_indexer] = value instead\n",
            "\n",
            "See the caveats in the documentation: https://pandas.pydata.org/pandas-docs/stable/user_guide/indexing.html#returning-a-view-versus-a-copy\n",
            "  self._setitem_single_column(loc, value, pi)\n",
            "/usr/local/lib/python3.7/dist-packages/pandas/core/generic.py:5516: SettingWithCopyWarning: \n",
            "A value is trying to be set on a copy of a slice from a DataFrame.\n",
            "Try using .loc[row_indexer,col_indexer] = value instead\n",
            "\n",
            "See the caveats in the documentation: https://pandas.pydata.org/pandas-docs/stable/user_guide/indexing.html#returning-a-view-versus-a-copy\n",
            "  self[name] = value\n"
          ]
        }
      ]
    },
    {
      "cell_type": "markdown",
      "source": [
        "### age\n",
        "- pozbycie się outlierów dla klasy 'stroke', gdyż widać zróżnicowanie dla tej grupy i pozostawienie ich mogłoby wprowadzić zbędny szum"
      ],
      "metadata": {
        "id": "ZNospATya5AB"
      }
    },
    {
      "cell_type": "code",
      "source": [
        "#tablica z pacjentami z udarem\n",
        "df_stroke = df_clear[df_clear.stroke == 1].copy()\n",
        "#pozbycie sie outlierow\n",
        "df_stroke = iqr_outliers(df=df_stroke, col='age')\n",
        "#ponowna konkatenacja zbioru\n",
        "df_clear = pd.concat([df_clear[df_clear.stroke==0], df_stroke])\n",
        "#plot\n",
        "plotting(data=df_clear, x='age', type='class_hist_box')\n",
        "#podsumowanie\n",
        "df_clear.info()"
      ],
      "metadata": {
        "id": "mfqFaf2aa6DN",
        "colab": {
          "base_uri": "https://localhost:8080/",
          "height": 976
        },
        "outputId": "e61b1bf5-5817-40fc-aa4c-e9317d3ebbd2"
      },
      "execution_count": null,
      "outputs": [
        {
          "output_type": "display_data",
          "data": {
            "text/html": [
              "<html>\n",
              "<head><meta charset=\"utf-8\" /></head>\n",
              "<body>\n",
              "    <div>            <script src=\"https://cdnjs.cloudflare.com/ajax/libs/mathjax/2.7.5/MathJax.js?config=TeX-AMS-MML_SVG\"></script><script type=\"text/javascript\">if (window.MathJax) {MathJax.Hub.Config({SVG: {font: \"STIX-Web\"}});}</script>                <script type=\"text/javascript\">window.PlotlyConfig = {MathJaxConfig: 'local'};</script>\n",
              "        <script src=\"https://cdn.plot.ly/plotly-2.8.3.min.js\"></script>                <div id=\"788d0eef-22d2-4dd1-ae4d-6665c014d525\" class=\"plotly-graph-div\" style=\"height:525px; width:100%;\"></div>            <script type=\"text/javascript\">                                    window.PLOTLYENV=window.PLOTLYENV || {};                                    if (document.getElementById(\"788d0eef-22d2-4dd1-ae4d-6665c014d525\")) {                    Plotly.newPlot(                        \"788d0eef-22d2-4dd1-ae4d-6665c014d525\",                        [{\"name\":\"No stroke\",\"x\":[3.0,58.0,8.0,70.0,14.0,47.0,52.0,75.0,32.0,74.0,79.0,79.0,37.0,37.0,40.0,35.0,20.0,42.0,44.0,79.0,65.0,57.0,49.0,71.0,59.0,25.0,67.0,38.0,54.0,70.0,27.0,47.0,58.0,3.0,58.0,14.0,32.0,23.0,55.0,17.0,59.0,13.0,4.0,16.0,67.0,22.0,45.0,66.0,58.0,69.0,58.0,53.0,78.0,44.0,66.0,27.0,43.0,13.0,51.0,30.0,46.0,43.0,79.0,27.0,38.0,78.0,57.0,61.0,37.0,48.0,29.0,22.0,11.0,22.0,53.0,27.0,76.0,57.0,8.0,21.0,18.0,78.0,78.0,33.0,52.0,51.0,11.0,48.0,82.0,54.0,49.0,24.0,37.0,34.0,64.0,66.0,23.0,68.0,55.0,25.0,48.0,79.0,47.0,20.0,60.0,32.0,66.0,43.0,36.0,52.0,29.0,76.0,39.0,76.0,0.64,34.0,72.0,43.0,57.0,44.0,4.0,44.0,18.0,41.0,23.0,53.0,56.0,0.88,25.0,14.0,53.0,4.0,39.0,53.0,5.0,4.0,37.0,70.0,24.0,55.0,70.0,34.0,26.0,39.0,38.0,20.0,17.0,60.0,75.0,31.0,58.0,5.0,13.0,22.0,52.0,61.0,78.0,57.0,21.0,22.0,80.0,7.0,64.0,64.0,38.0,12.0,33.0,3.0,37.0,22.0,24.0,75.0,12.0,63.0,52.0,68.0,5.0,56.0,43.0,40.0,53.0,52.0,31.0,63.0,69.0,64.0,64.0,62.0,2.0,53.0,65.0,22.0,26.0,53.0,20.0,63.0,13.0,21.0,65.0,65.0,42.0,72.0,13.0,29.0,59.0,42.0,13.0,75.0,33.0,43.0,11.0,7.0,16.0,44.0,78.0,25.0,69.0,61.0,43.0,38.0,68.0,26.0,18.0,43.0,43.0,32.0,81.0,25.0,61.0,66.0,54.0,11.0,53.0,78.0,9.0,48.0,31.0,20.0,21.0,42.0,35.0,53.0,60.0,74.0,23.0,55.0,71.0,5.0,14.0,15.0,66.0,56.0,60.0,57.0,29.0,76.0,52.0,42.0,71.0,64.0,39.0,46.0,51.0,31.0,22.0,41.0,28.0,44.0,68.0,49.0,10.0,31.0,67.0,40.0,70.0,38.0,5.0,54.0,30.0,23.0,31.0,72.0,23.0,25.0,51.0,20.0,12.0,57.0,65.0,16.0,43.0,30.0,29.0,54.0,57.0,42.0,18.0,9.0,26.0,40.0,77.0,15.0,76.0,52.0,55.0,5.0,55.0,36.0,46.0,5.0,39.0,12.0,67.0,1.8,72.0,0.32,64.0,27.0,25.0,81.0,32.0,57.0,52.0,54.0,36.0,18.0,45.0,29.0,51.0,23.0,54.0,54.0,18.0,26.0,72.0,5.0,65.0,42.0,47.0,24.0,57.0,51.0,48.0,56.0,30.0,63.0,46.0,53.0,1.08,15.0,59.0,24.0,53.0,39.0,23.0,31.0,5.0,44.0,1.8,40.0,7.0,56.0,42.0,48.0,82.0,52.0,42.0,73.0,55.0,50.0,43.0,33.0,80.0,33.0,74.0,65.0,40.0,52.0,66.0,20.0,51.0,60.0,59.0,58.0,42.0,28.0,57.0,66.0,56.0,48.0,37.0,27.0,15.0,61.0,80.0,43.0,53.0,70.0,58.0,49.0,65.0,54.0,74.0,56.0,79.0,71.0,28.0,9.0,4.0,36.0,78.0,52.0,80.0,28.0,38.0,56.0,75.0,76.0,10.0,48.0,40.0,82.0,61.0,17.0,58.0,12.0,53.0,26.0,48.0,25.0,27.0,31.0,16.0,20.0,2.0,1.8,28.0,32.0,35.0,52.0,55.0,42.0,52.0,18.0,13.0,45.0,29.0,12.0,37.0,30.0,44.0,79.0,38.0,45.0,66.0,19.0,49.0,66.0,47.0,59.0,23.0,79.0,37.0,78.0,70.0,34.0,28.0,29.0,13.0,22.0,56.0,81.0,28.0,9.0,50.0,70.0,30.0,51.0,24.0,17.0,43.0,9.0,50.0,49.0,6.0,30.0,73.0,20.0,42.0,79.0,55.0,27.0,71.0,9.0,23.0,71.0,56.0,31.0,64.0,46.0,55.0,2.0,58.0,78.0,1.16,35.0,64.0,18.0,19.0,47.0,54.0,39.0,37.0,17.0,20.0,31.0,56.0,31.0,82.0,33.0,42.0,20.0,22.0,61.0,31.0,31.0,17.0,30.0,69.0,63.0,19.0,7.0,51.0,38.0,2.0,58.0,69.0,64.0,31.0,59.0,54.0,24.0,19.0,17.0,29.0,42.0,31.0,29.0,23.0,25.0,14.0,66.0,77.0,79.0,52.0,41.0,31.0,39.0,51.0,40.0,48.0,55.0,41.0,39.0,41.0,5.0,38.0,40.0,12.0,20.0,53.0,21.0,70.0,61.0,70.0,38.0,59.0,36.0,31.0,65.0,61.0,2.0,52.0,33.0,5.0,32.0,54.0,51.0,39.0,40.0,19.0,9.0,53.0,23.0,19.0,1.0,48.0,71.0,44.0,53.0,70.0,1.4,49.0,17.0,40.0,46.0,32.0,2.0,40.0,19.0,43.0,46.0,71.0,31.0,41.0,65.0,52.0,20.0,77.0,51.0,37.0,49.0,62.0,17.0,28.0,80.0,45.0,37.0,3.0,26.0,71.0,58.0,59.0,74.0,17.0,62.0,37.0,19.0,59.0,59.0,62.0,80.0,54.0,27.0,4.0,81.0,41.0,27.0,51.0,59.0,51.0,71.0,48.0,49.0,35.0,25.0,31.0,68.0,39.0,32.0,39.0,63.0,69.0,29.0,1.72,58.0,32.0,63.0,57.0,77.0,8.0,21.0,16.0,8.0,71.0,74.0,7.0,19.0,64.0,23.0,75.0,80.0,40.0,24.0,74.0,52.0,54.0,23.0,19.0,23.0,13.0,51.0,60.0,79.0,75.0,69.0,57.0,47.0,33.0,51.0,47.0,15.0,1.0,20.0,6.0,50.0,31.0,15.0,3.0,30.0,17.0,24.0,5.0,33.0,30.0,66.0,40.0,27.0,21.0,55.0,19.0,75.0,71.0,16.0,49.0,10.0,37.0,59.0,7.0,61.0,34.0,9.0,46.0,0.88,50.0,19.0,21.0,2.0,37.0,20.0,50.0,61.0,48.0,82.0,64.0,50.0,1.4,0.24,55.0,29.0,4.0,70.0,35.0,80.0,54.0,39.0,26.0,6.0,41.0,42.0,9.0,55.0,71.0,14.0,77.0,50.0,49.0,51.0,79.0,63.0,66.0,20.0,37.0,22.0,60.0,39.0,53.0,55.0,63.0,57.0,82.0,56.0,41.0,8.0,34.0,75.0,57.0,72.0,21.0,51.0,15.0,24.0,30.0,82.0,62.0,79.0,19.0,45.0,5.0,57.0,31.0,61.0,27.0,61.0,53.0,76.0,57.0,9.0,34.0,51.0,61.0,19.0,50.0,80.0,13.0,55.0,67.0,30.0,67.0,82.0,5.0,81.0,48.0,66.0,38.0,8.0,47.0,27.0,53.0,27.0,36.0,50.0,32.0,58.0,73.0,62.0,50.0,51.0,19.0,30.0,45.0,30.0,28.0,70.0,0.32,23.0,18.0,41.0,52.0,77.0,34.0,67.0,1.64,23.0,59.0,62.0,47.0,71.0,22.0,33.0,27.0,44.0,18.0,47.0,66.0,42.0,13.0,56.0,69.0,65.0,53.0,36.0,69.0,19.0,3.0,15.0,59.0,61.0,28.0,52.0,33.0,80.0,47.0,2.0,48.0,1.56,26.0,62.0,1.72,38.0,28.0,67.0,57.0,40.0,10.0,55.0,7.0,56.0,37.0,69.0,45.0,28.0,52.0,46.0,45.0,21.0,4.0,45.0,71.0,46.0,3.0,79.0,71.0,74.0,52.0,49.0,32.0,62.0,78.0,48.0,18.0,80.0,34.0,40.0,59.0,11.0,35.0,29.0,23.0,59.0,44.0,62.0,32.0,2.0,73.0,79.0,2.0,43.0,43.0,62.0,73.0,31.0,42.0,20.0,55.0,3.0,23.0,33.0,14.0,79.0,64.0,76.0,46.0,80.0,21.0,33.0,32.0,0.72,49.0,41.0,37.0,58.0,79.0,23.0,78.0,51.0,41.0,68.0,30.0,1.88,32.0,20.0,20.0,10.0,8.0,65.0,65.0,46.0,53.0,79.0,43.0,56.0,3.0,32.0,41.0,53.0,35.0,67.0,33.0,21.0,26.0,69.0,73.0,15.0,3.0,1.24,80.0,2.0,50.0,30.0,15.0,71.0,4.0,2.0,11.0,45.0,22.0,63.0,50.0,25.0,49.0,39.0,43.0,67.0,48.0,38.0,14.0,63.0,37.0,20.0,60.0,13.0,34.0,22.0,46.0,53.0,28.0,62.0,6.0,11.0,66.0,80.0,8.0,53.0,63.0,31.0,43.0,79.0,8.0,38.0,80.0,49.0,50.0,13.0,46.0,73.0,60.0,44.0,79.0,5.0,51.0,71.0,5.0,65.0,81.0,46.0,44.0,54.0,25.0,49.0,80.0,22.0,61.0,3.0,50.0,45.0,55.0,21.0,0.8,50.0,73.0,58.0,30.0,55.0,57.0,80.0,77.0,29.0,46.0,40.0,29.0,37.0,35.0,54.0,56.0,26.0,75.0,44.0,63.0,17.0,46.0,47.0,50.0,49.0,76.0,47.0,47.0,49.0,71.0,65.0,40.0,82.0,64.0,72.0,50.0,40.0,74.0,30.0,68.0,6.0,4.0,60.0,59.0,72.0,62.0,13.0,72.0,1.08,35.0,54.0,40.0,3.0,2.0,41.0,61.0,58.0,17.0,64.0,32.0,42.0,39.0,10.0,78.0,68.0,24.0,59.0,45.0,12.0,37.0,43.0,12.0,13.0,74.0,2.0,59.0,21.0,55.0,14.0,53.0,75.0,37.0,49.0,55.0,57.0,45.0,46.0,12.0,12.0,77.0,6.0,76.0,52.0,62.0,82.0,69.0,78.0,37.0,50.0,41.0,54.0,43.0,37.0,9.0,11.0,56.0,5.0,17.0,6.0,25.0,57.0,18.0,2.0,76.0,1.0,54.0,45.0,54.0,67.0,53.0,47.0,44.0,65.0,40.0,3.0,81.0,24.0,9.0,52.0,63.0,78.0,22.0,2.0,79.0,49.0,74.0,62.0,16.0,62.0,27.0,50.0,49.0,24.0,21.0,17.0,22.0,13.0,21.0,51.0,8.0,48.0,16.0,18.0,7.0,68.0,49.0,80.0,31.0,25.0,39.0,35.0,71.0,71.0,40.0,41.0,2.0,3.0,53.0,1.88,60.0,5.0,30.0,49.0,68.0,23.0,2.0,24.0,41.0,63.0,64.0,38.0,1.24,38.0,43.0,27.0,61.0,42.0,46.0,67.0,34.0,51.0,77.0,30.0,81.0,12.0,18.0,35.0,82.0,53.0,75.0,32.0,27.0,56.0,71.0,78.0,44.0,62.0,27.0,42.0,66.0,25.0,82.0,49.0,77.0,59.0,54.0,38.0,55.0,13.0,45.0,54.0,30.0,51.0,47.0,25.0,61.0,55.0,23.0,71.0,59.0,4.0,65.0,50.0,42.0,51.0,66.0,22.0,5.0,19.0,47.0,12.0,53.0,26.0,62.0,81.0,63.0,25.0,8.0,76.0,44.0,65.0,54.0,24.0,65.0,12.0,33.0,74.0,18.0,77.0,48.0,52.0,23.0,25.0,44.0,78.0,37.0,32.0,67.0,41.0,2.0,75.0,17.0,13.0,25.0,57.0,31.0,61.0,46.0,47.0,15.0,47.0,68.0,0.4,40.0,62.0,45.0,47.0,35.0,51.0,60.0,59.0,1.24,18.0,81.0,15.0,73.0,0.08,53.0,45.0,70.0,56.0,7.0,66.0,53.0,20.0,15.0,51.0,34.0,33.0,53.0,69.0,28.0,81.0,20.0,1.48,2.0,77.0,38.0,23.0,67.0,59.0,41.0,76.0,21.0,41.0,54.0,29.0,25.0,48.0,6.0,21.0,32.0,57.0,64.0,70.0,44.0,60.0,56.0,53.0,59.0,53.0,63.0,42.0,63.0,52.0,62.0,68.0,36.0,3.0,40.0,8.0,58.0,45.0,65.0,28.0,40.0,65.0,58.0,44.0,54.0,79.0,62.0,37.0,66.0,63.0,27.0,6.0,30.0,15.0,50.0,32.0,33.0,62.0,82.0,71.0,20.0,44.0,57.0,50.0,50.0,44.0,47.0,35.0,8.0,3.0,29.0,36.0,19.0,41.0,23.0,14.0,35.0,45.0,52.0,19.0,21.0,8.0,35.0,33.0,53.0,59.0,34.0,31.0,43.0,61.0,57.0,11.0,36.0,16.0,60.0,13.0,69.0,69.0,22.0,63.0,45.0,58.0,61.0,30.0,78.0,68.0,16.0,38.0,39.0,51.0,37.0,16.0,39.0,24.0,51.0,50.0,27.0,73.0,65.0,76.0,66.0,53.0,65.0,48.0,31.0,1.72,45.0,56.0,62.0,35.0,16.0,31.0,5.0,26.0,10.0,22.0,82.0,50.0,47.0,31.0,22.0,12.0,63.0,78.0,4.0,76.0,32.0,81.0,39.0,59.0,2.0,37.0,78.0,75.0,34.0,48.0,13.0,54.0,13.0,24.0,76.0,1.0,57.0,46.0,26.0,56.0,34.0,25.0,60.0,22.0,35.0,48.0,38.0,12.0,22.0,0.64,13.0,78.0,23.0,35.0,78.0,50.0,61.0,60.0,43.0,60.0,51.0,21.0,16.0,25.0,36.0,8.0,48.0,14.0,60.0,61.0,60.0,56.0,9.0,45.0,14.0,37.0,52.0,30.0,60.0,47.0,82.0,64.0,12.0,79.0,77.0,25.0,26.0,14.0,42.0,37.0,8.0,78.0,18.0,78.0,55.0,68.0,47.0,47.0,51.0,43.0,78.0,63.0,45.0,53.0,12.0,56.0,29.0,10.0,55.0,49.0,23.0,53.0,56.0,56.0,61.0,45.0,80.0,47.0,3.0,63.0,68.0,76.0,62.0,30.0,44.0,47.0,25.0,31.0,71.0,32.0,72.0,44.0,63.0,37.0,54.0,20.0,56.0,25.0,19.0,62.0,27.0,5.0,20.0,21.0,44.0,39.0,38.0,77.0,26.0,51.0,39.0,5.0,59.0,67.0,45.0,43.0,80.0,42.0,8.0,68.0,5.0,57.0,44.0,16.0,60.0,58.0,43.0,50.0,1.48,5.0,9.0,67.0,21.0,36.0,70.0,57.0,52.0,28.0,41.0,81.0,33.0,31.0,42.0,10.0,34.0,70.0,33.0,58.0,25.0,1.4,47.0,14.0,82.0,52.0,72.0,52.0,61.0,15.0,1.56,6.0,3.0,18.0,53.0,58.0,31.0,29.0,5.0,40.0,75.0,52.0,39.0,40.0,78.0,39.0,17.0,45.0,0.56,13.0,26.0,42.0,44.0,3.0,42.0,25.0,41.0,51.0,20.0,25.0,18.0,37.0,51.0,2.0,38.0,64.0,60.0,22.0,71.0,32.0,32.0,63.0,0.24,54.0,25.0,80.0,31.0,53.0,35.0,31.0,60.0,0.56,21.0,78.0,59.0,0.64,10.0,60.0,11.0,48.0,50.0,69.0,20.0,22.0,55.0,57.0,29.0,32.0,54.0,37.0,58.0,41.0,72.0,0.48,32.0,54.0,79.0,56.0,45.0,6.0,45.0,60.0,65.0,57.0,58.0,8.0,18.0,49.0,2.0,52.0,63.0,57.0,50.0,12.0,35.0,35.0,64.0,42.0,62.0,3.0,43.0,52.0,64.0,59.0,81.0,15.0,50.0,73.0,19.0,30.0,40.0,47.0,66.0,47.0,41.0,63.0,12.0,1.32,46.0,8.0,74.0,74.0,4.0,26.0,63.0,48.0,24.0,47.0,70.0,41.0,42.0,57.0,51.0,15.0,11.0,27.0,53.0,52.0,68.0,65.0,23.0,43.0,55.0,52.0,21.0,78.0,35.0,49.0,50.0,27.0,52.0,22.0,19.0,77.0,57.0,13.0,14.0,29.0,49.0,1.24,21.0,36.0,42.0,56.0,46.0,79.0,25.0,67.0,37.0,44.0,36.0,17.0,50.0,53.0,39.0,71.0,18.0,55.0,52.0,27.0,24.0,72.0,41.0,29.0,26.0,23.0,43.0,43.0,49.0,13.0,26.0,10.0,39.0,41.0,25.0,10.0,54.0,7.0,53.0,55.0,6.0,72.0,42.0,50.0,55.0,47.0,3.0,49.0,12.0,28.0,40.0,55.0,9.0,77.0,18.0,73.0,67.0,58.0,2.0,38.0,5.0,34.0,78.0,57.0,17.0,71.0,19.0,56.0,64.0,13.0,40.0,80.0,62.0,79.0,9.0,77.0,26.0,1.72,16.0,40.0,46.0,45.0,59.0,31.0,69.0,73.0,56.0,80.0,60.0,40.0,30.0,66.0,78.0,37.0,41.0,34.0,18.0,69.0,67.0,28.0,3.0,57.0,34.0,50.0,55.0,2.0,27.0,57.0,73.0,52.0,65.0,48.0,54.0,8.0,45.0,48.0,77.0,34.0,33.0,39.0,39.0,40.0,46.0,1.0,5.0,14.0,49.0,45.0,13.0,76.0,14.0,20.0,9.0,78.0,49.0,55.0,43.0,16.0,58.0,67.0,71.0,8.0,18.0,47.0,59.0,28.0,20.0,67.0,71.0,56.0,44.0,6.0,78.0,32.0,40.0,63.0,51.0,22.0,82.0,17.0,34.0,42.0,32.0,73.0,47.0,34.0,64.0,52.0,49.0,55.0,64.0,23.0,18.0,65.0,12.0,61.0,66.0,59.0,47.0,47.0,71.0,62.0,28.0,7.0,68.0,37.0,75.0,5.0,1.08,34.0,49.0,8.0,50.0,2.0,1.16,76.0,18.0,82.0,67.0,27.0,57.0,51.0,68.0,56.0,77.0,52.0,18.0,63.0,31.0,37.0,64.0,47.0,1.8,42.0,37.0,69.0,13.0,73.0,48.0,78.0,21.0,54.0,43.0,19.0,82.0,80.0,69.0,21.0,46.0,14.0,6.0,3.0,47.0,34.0,41.0,67.0,5.0,20.0,63.0,73.0,62.0,0.88,50.0,71.0,30.0,80.0,64.0,7.0,36.0,79.0,35.0,28.0,72.0,12.0,25.0,27.0,62.0,58.0,30.0,56.0,28.0,47.0,16.0,29.0,26.0,26.0,55.0,29.0,29.0,33.0,19.0,10.0,3.0,60.0,16.0,35.0,41.0,19.0,79.0,41.0,1.64,51.0,33.0,33.0,48.0,45.0,61.0,31.0,60.0,51.0,53.0,52.0,42.0,56.0,14.0,40.0,58.0,52.0,30.0,47.0,34.0,82.0,31.0,58.0,47.0,65.0,13.0,37.0,9.0,7.0,37.0,62.0,14.0,77.0,36.0,3.0,78.0,49.0,44.0,10.0,8.0,60.0,56.0,73.0,65.0,34.0,13.0,80.0,46.0,80.0,65.0,24.0,33.0,11.0,57.0,19.0,82.0,39.0,14.0,60.0,3.0,57.0,79.0,65.0,67.0,60.0,36.0,36.0,26.0,71.0,78.0,77.0,74.0,50.0,9.0,1.64,54.0,8.0,36.0,38.0,34.0,7.0,5.0,14.0,0.88,30.0,39.0,17.0,14.0,52.0,78.0,2.0,32.0,0.88,50.0,48.0,66.0,78.0,46.0,54.0,81.0,15.0,77.0,59.0,48.0,76.0,49.0,44.0,39.0,34.0,50.0,62.0,38.0,43.0,28.0,58.0,28.0,18.0,62.0,31.0,55.0,54.0,73.0,26.0,73.0,38.0,75.0,81.0,20.0,12.0,78.0,42.0,71.0,16.0,4.0,79.0,60.0,45.0,23.0,21.0,67.0,10.0,24.0,50.0,79.0,14.0,13.0,71.0,66.0,32.0,46.0,48.0,45.0,55.0,31.0,25.0,73.0,14.0,56.0,60.0,27.0,28.0,46.0,11.0,63.0,59.0,57.0,35.0,54.0,7.0,48.0,69.0,59.0,72.0,49.0,73.0,24.0,26.0,27.0,78.0,77.0,59.0,0.32,39.0,35.0,54.0,75.0,80.0,35.0,22.0,39.0,6.0,62.0,13.0,56.0,53.0,5.0,44.0,13.0,59.0,35.0,52.0,76.0,51.0,79.0,69.0,78.0,60.0,10.0,42.0,21.0,56.0,59.0,69.0,25.0,63.0,25.0,58.0,28.0,46.0,53.0,37.0,12.0,14.0,60.0,42.0,65.0,80.0,32.0,53.0,50.0,23.0,45.0,0.8,49.0,70.0,82.0,23.0,79.0,74.0,78.0,50.0,34.0,47.0,52.0,67.0,62.0,18.0,75.0,42.0,29.0,52.0,18.0,67.0,66.0,5.0,18.0,52.0,44.0,46.0,36.0,61.0,7.0,15.0,61.0,20.0,2.0,47.0,25.0,66.0,2.0,63.0,53.0,33.0,23.0,23.0,81.0,55.0,69.0,58.0,70.0,48.0,15.0,31.0,2.0,80.0,69.0,52.0,80.0,54.0,2.0,39.0,38.0,76.0,45.0,1.24,77.0,46.0,50.0,52.0,73.0,41.0,40.0,59.0,48.0,42.0,26.0,39.0,34.0,54.0,57.0,1.56,50.0,64.0,44.0,38.0,32.0,17.0,81.0,15.0,5.0,70.0,52.0,67.0,17.0,61.0,31.0,58.0,12.0,30.0,65.0,23.0,14.0,27.0,53.0,58.0,9.0,59.0,46.0,41.0,55.0,43.0,5.0,15.0,36.0,36.0,47.0,18.0,19.0,65.0,17.0,54.0,46.0,59.0,48.0,38.0,18.0,56.0,3.0,41.0,67.0,60.0,47.0,24.0,43.0,17.0,45.0,24.0,79.0,79.0,27.0,72.0,64.0,34.0,50.0,58.0,26.0,50.0,80.0,2.0,46.0,29.0,6.0,32.0,16.0,44.0,23.0,48.0,34.0,78.0,42.0,14.0,40.0,10.0,39.0,42.0,47.0,14.0,45.0,58.0,73.0,62.0,62.0,51.0,0.8,57.0,8.0,69.0,16.0,56.0,41.0,1.24,42.0,57.0,20.0,8.0,43.0,62.0,42.0,50.0,63.0,80.0,13.0,20.0,71.0,50.0,76.0,41.0,76.0,78.0,5.0,29.0,43.0,49.0,70.0,24.0,41.0,20.0,34.0,32.0,27.0,44.0,20.0,52.0,57.0,29.0,16.0,35.0,5.0,63.0,59.0,63.0,52.0,50.0,43.0,27.0,30.0,8.0,75.0,14.0,23.0,6.0,37.0,38.0,3.0,26.0,58.0,57.0,58.0,76.0,68.0,79.0,34.0,75.0,11.0,71.0,40.0,24.0,0.64,82.0,32.0,81.0,33.0,79.0,62.0,39.0,60.0,48.0,24.0,70.0,17.0,56.0,3.0,65.0,72.0,10.0,29.0,44.0,46.0,33.0,63.0,0.24,55.0,56.0,50.0,78.0,63.0,31.0,65.0,51.0,60.0,69.0,23.0,46.0,16.0,26.0,44.0,56.0,23.0,38.0,18.0,63.0,23.0,32.0,8.0,77.0,41.0,34.0,25.0,35.0,15.0,1.64,4.0,33.0,28.0,37.0,50.0,76.0,72.0,16.0,44.0,46.0,46.0,73.0,29.0,19.0,27.0,36.0,61.0,9.0,25.0,68.0,26.0,17.0,75.0,34.0,53.0,18.0,48.0,5.0,79.0,16.0,32.0,70.0,55.0,70.0,51.0,39.0,79.0,80.0,34.0,59.0,54.0,22.0,21.0,4.0,26.0,62.0,33.0,51.0,75.0,42.0,82.0,61.0,62.0,59.0,31.0,12.0,76.0,71.0,15.0,44.0,30.0,47.0,47.0,60.0,62.0,47.0,78.0,35.0,71.0,57.0,12.0,26.0,33.0,60.0,35.0,10.0,50.0,44.0,73.0,41.0,7.0,45.0,60.0,49.0,45.0,55.0,54.0,39.0,76.0,28.0,70.0,28.0,79.0,30.0,26.0,57.0,16.0,40.0,77.0,67.0,36.0,40.0,2.0,52.0,78.0,22.0,33.0,40.0,20.0,19.0,25.0,23.0,28.0,6.0,37.0,10.0,34.0,60.0,22.0,62.0,52.0,61.0,10.0,36.0,29.0,69.0,62.0,62.0,79.0,13.0,38.0,49.0,41.0,56.0,8.0,24.0,61.0,40.0,22.0,80.0,60.0,57.0,55.0,39.0,51.0,47.0,77.0,32.0,45.0,49.0,13.0,74.0,72.0,57.0,51.0,55.0,73.0,12.0,6.0,76.0,38.0,50.0,75.0,1.16,32.0,12.0,32.0,13.0,1.32,63.0,29.0,53.0,49.0,81.0,66.0,42.0,61.0,52.0,8.0,82.0,43.0,4.0,58.0,45.0,62.0,42.0,72.0,9.0,31.0,20.0,22.0,23.0,57.0,52.0,64.0,26.0,54.0,32.0,66.0,13.0,77.0,18.0,11.0,16.0,73.0,44.0,36.0,10.0,54.0,42.0,52.0,32.0,43.0,28.0,79.0,11.0,75.0,55.0,78.0,48.0,73.0,56.0,54.0,55.0,65.0,69.0,29.0,64.0,16.0,75.0,17.0,42.0,78.0,24.0,68.0,50.0,52.0,82.0,56.0,56.0,18.0,33.0,57.0,30.0,52.0,3.0,39.0,44.0,33.0,24.0,24.0,54.0,72.0,37.0,36.0,22.0,68.0,24.0,35.0,32.0,52.0,21.0,82.0,33.0,62.0,57.0,14.0,60.0,63.0,50.0,12.0,80.0,74.0,46.0,66.0,26.0,70.0,62.0,15.0,67.0,63.0,42.0,49.0,78.0,31.0,67.0,52.0,61.0,41.0,73.0,64.0,65.0,81.0,47.0,40.0,46.0,2.0,56.0,54.0,26.0,45.0,57.0,78.0,2.0,76.0,51.0,54.0,36.0,57.0,25.0,7.0,76.0,45.0,66.0,45.0,79.0,25.0,53.0,35.0,78.0,32.0,0.56,26.0,34.0,65.0,15.0,17.0,71.0,42.0,30.0,75.0,9.0,47.0,75.0,61.0,61.0,27.0,55.0,2.0,51.0,45.0,36.0,46.0,48.0,79.0,50.0,79.0,32.0,36.0,27.0,22.0,5.0,9.0,31.0,26.0,43.0,33.0,34.0,66.0,44.0,56.0,67.0,18.0,55.0,61.0,0.08,48.0,44.0,68.0,52.0,15.0,2.0,60.0,37.0,5.0,25.0,52.0,79.0,61.0,36.0,34.0,2.0,43.0,1.48,49.0,2.0,82.0,81.0,81.0,1.08,60.0,1.88,58.0,8.0,9.0,34.0,23.0,74.0,72.0,47.0,56.0,5.0,27.0,38.0,13.0,41.0,50.0,41.0,6.0,62.0,4.0,59.0,63.0,9.0,41.0,72.0,45.0,80.0,19.0,37.0,58.0,77.0,38.0,49.0,20.0,23.0,55.0,16.0,81.0,23.0,82.0,48.0,56.0,61.0,43.0,39.0,22.0,41.0,37.0,65.0,8.0,51.0,63.0,48.0,17.0,53.0,75.0,51.0,51.0,41.0,75.0,57.0,33.0,72.0,52.0,11.0,28.0,78.0,82.0,74.0,31.0,53.0,0.24,67.0,17.0,29.0,56.0,15.0,29.0,79.0,82.0,17.0,8.0,23.0,36.0,47.0,24.0,60.0,63.0,44.0,38.0,26.0,18.0,18.0,13.0,13.0,47.0,80.0,24.0,72.0,5.0,51.0,82.0,5.0,66.0,53.0,15.0,53.0,78.0,62.0,41.0,49.0,41.0,78.0,14.0,1.48,71.0,32.0,16.0,68.0,0.56,59.0,32.0,58.0,40.0,41.0,21.0,1.88,55.0,67.0,49.0,42.0,54.0,25.0,62.0,75.0,72.0,14.0,38.0,59.0,23.0,63.0,82.0,34.0,8.0,28.0,49.0,24.0,17.0,69.0,58.0,50.0,5.0,34.0,64.0,47.0,61.0,14.0,57.0,53.0,67.0,57.0,38.0,13.0,37.0,39.0,13.0,57.0,11.0,68.0,79.0,24.0,44.0,46.0,66.0,61.0,16.0,37.0,43.0,27.0,44.0,14.0,81.0,52.0,54.0,77.0,27.0,35.0,30.0,48.0,15.0,26.0,38.0,29.0,49.0,55.0,52.0,49.0,21.0,24.0,18.0,52.0,70.0,51.0,58.0,46.0,79.0,11.0,61.0,51.0,21.0,71.0,13.0,16.0,61.0,49.0,65.0,40.0,44.0,11.0,20.0,24.0,44.0,5.0,41.0,23.0,7.0,74.0,61.0,80.0,35.0,43.0,25.0,72.0,45.0,9.0,33.0,53.0,67.0,59.0,1.32,27.0,41.0,64.0,55.0,40.0,33.0,33.0,39.0,74.0,38.0,53.0,22.0,5.0,24.0,27.0,41.0,20.0,71.0,65.0,38.0,25.0,53.0,50.0,1.24,55.0,38.0,72.0,43.0,30.0,69.0,61.0,34.0,43.0,62.0,48.0,37.0,64.0,51.0,69.0,75.0,27.0,49.0,82.0,36.0,1.88,45.0,64.0,32.0,15.0,1.64,34.0,17.0,76.0,61.0,30.0,18.0,48.0,0.16,4.0,38.0,27.0,50.0,19.0,8.0,78.0,0.8,53.0,73.0,34.0,58.0,62.0,78.0,51.0,78.0,40.0,35.0,82.0,46.0,51.0,53.0,55.0,43.0,81.0,12.0,20.0,53.0,1.32,22.0,75.0,66.0,7.0,26.0,14.0,32.0,6.0,42.0,4.0,75.0,80.0,52.0,11.0,14.0,74.0,58.0,80.0,31.0,28.0,25.0,71.0,51.0,15.0,45.0,53.0,69.0,42.0,4.0,64.0,5.0,44.0,78.0,16.0,69.0,80.0,7.0,2.0,80.0,69.0,58.0,75.0,60.0,75.0,10.0,38.0,28.0,3.0,31.0,59.0,31.0,45.0,58.0,57.0,31.0,43.0,40.0,1.08,34.0,55.0,39.0,42.0,44.0,69.0,16.0,8.0,1.48,1.88,69.0,13.0,53.0,16.0,64.0,7.0,41.0,65.0,61.0,63.0,1.8,54.0,14.0,45.0,51.0,8.0,52.0,39.0,13.0,69.0,71.0,73.0,54.0,10.0,26.0,41.0,71.0,46.0,15.0,29.0,8.0,21.0,56.0,14.0,78.0,36.0,57.0,79.0,26.0,22.0,72.0,54.0,8.0,62.0,28.0,50.0,7.0,33.0,55.0,25.0,25.0,37.0,58.0,45.0,60.0,66.0,80.0,38.0,11.0,63.0,19.0,17.0,19.0,40.0,49.0,69.0,46.0,78.0,63.0,3.0,1.8,18.0,46.0,8.0,53.0,38.0,74.0,24.0,78.0,60.0,12.0,32.0,5.0,40.0,19.0,28.0,61.0,44.0,50.0,50.0,18.0,1.64,37.0,5.0,39.0,65.0,26.0,42.0,34.0,45.0,43.0,40.0,35.0,2.0,61.0,64.0,32.0,23.0,51.0,52.0,75.0,40.0,39.0,6.0,32.0,55.0,23.0,52.0,58.0,17.0,3.0,23.0,56.0,45.0,14.0,45.0,57.0,35.0,8.0,42.0,8.0,62.0,43.0,8.0,40.0,2.0,27.0,47.0,53.0,62.0,50.0,26.0,19.0,0.32,45.0,45.0,54.0,64.0,2.0,66.0,73.0,31.0,1.88,58.0,12.0,60.0,32.0,23.0,26.0,36.0,3.0,21.0,67.0,35.0,26.0,47.0,81.0,1.64,52.0,28.0,45.0,20.0,1.56,65.0,45.0,77.0,37.0,50.0,0.56,30.0,31.0,4.0,65.0,68.0,63.0,46.0,54.0,66.0,29.0,78.0,56.0,57.0,2.0,49.0,31.0,47.0,37.0,79.0,65.0,61.0,66.0,24.0,66.0,64.0,38.0,7.0,63.0,71.0,18.0,65.0,57.0,62.0,1.8,35.0,50.0,73.0,23.0,32.0,38.0,50.0,39.0,7.0,15.0,67.0,8.0,32.0,5.0,56.0,49.0,75.0,11.0,61.0,76.0,34.0,20.0,79.0,24.0,39.0,55.0,16.0,36.0,38.0,20.0,38.0,52.0,49.0,80.0,75.0,13.0,54.0,28.0,61.0,0.16,59.0,12.0,38.0,15.0,31.0,52.0,61.0,50.0,41.0,20.0,67.0,45.0,73.0,52.0,51.0,56.0,49.0,10.0,51.0,57.0,76.0,28.0,57.0,39.0,41.0,72.0,45.0,33.0,62.0,27.0,31.0,24.0,1.88,28.0,24.0,30.0,38.0,1.64,0.72,57.0,27.0,30.0,42.0,36.0,44.0,59.0,61.0,18.0,44.0,16.0,13.0,9.0,0.16,81.0,38.0,58.0,5.0,64.0,38.0,56.0,58.0,9.0,34.0,79.0,62.0,60.0,42.0,59.0,54.0,59.0,15.0,14.0,5.0,17.0,13.0,48.0,37.0,69.0,74.0,54.0,64.0,26.0,55.0,74.0,0.48,41.0,68.0,9.0,36.0,17.0,24.0,69.0,38.0,69.0,32.0,25.0,2.0,79.0,28.0,16.0,31.0,66.0,57.0,61.0,74.0,70.0,8.0,49.0,30.0,51.0,10.0,34.0,40.0,3.0,45.0,4.0,52.0,68.0,8.0,82.0,36.0,42.0,27.0,55.0,31.0,82.0,57.0,78.0,55.0,51.0,80.0,17.0,61.0,62.0,14.0,62.0,56.0,41.0,59.0,29.0,39.0,66.0,35.0,36.0,35.0,26.0,31.0,56.0,36.0,41.0,50.0,42.0,79.0,57.0,68.0,25.0,69.0,42.0,37.0,2.0,78.0,36.0,10.0,39.0,4.0,48.0,72.0,63.0,28.0,80.0,49.0,57.0,59.0,43.0,47.0,54.0,57.0,56.0,66.0,18.0,81.0,30.0,8.0,55.0,79.0,49.0,53.0,26.0,14.0,25.0,20.0,18.0,38.0,72.0,52.0,82.0,71.0,46.0,33.0,37.0,54.0,5.0,45.0,14.0,5.0,35.0,20.0,51.0,40.0,79.0,61.0,33.0,27.0,28.0,67.0,35.0,78.0,20.0,43.0,27.0,45.0,11.0,31.0,30.0,27.0,34.0,19.0,3.0,53.0,81.0,44.0,59.0,43.0,32.0,5.0,31.0,47.0,12.0,40.0,49.0,38.0,15.0,81.0,48.0,24.0,47.0,13.0,16.0,64.0,11.0,55.0,38.0,37.0,34.0,52.0,50.0,37.0,55.0,2.0,68.0,27.0,17.0,53.0,5.0,3.0,20.0,19.0,31.0,63.0,49.0,72.0,50.0,41.0,40.0,17.0,3.0,33.0,12.0,23.0,31.0,65.0,43.0,22.0,7.0,81.0,10.0,18.0,5.0,24.0,45.0,46.0,64.0,25.0,12.0,81.0,65.0,40.0,81.0,36.0,32.0,31.0,55.0,39.0,17.0,31.0,36.0,5.0,29.0,2.0,62.0,45.0,18.0,29.0,52.0,59.0,69.0,71.0,3.0,33.0,43.0,39.0,60.0,54.0,61.0,0.24,11.0,75.0,64.0,78.0,14.0,66.0,48.0,44.0,30.0,1.48,61.0,54.0,22.0,47.0,67.0,53.0,45.0,65.0,39.0,57.0,45.0,28.0,30.0,31.0,70.0,17.0,44.0,65.0,6.0,15.0,80.0,54.0,79.0,60.0,12.0,36.0,54.0,63.0,2.0,28.0,38.0,37.0,80.0,43.0,60.0,66.0,45.0,29.0,4.0,48.0,68.0,57.0,29.0,30.0,47.0,73.0,66.0,39.0,66.0,52.0,34.0,79.0,39.0,61.0,26.0,37.0,66.0,16.0,51.0,15.0,1.72,60.0,66.0,75.0,40.0,52.0,13.0,44.0,37.0,2.0,48.0,81.0,76.0,58.0,11.0,9.0,54.0,37.0,16.0,11.0,32.0,26.0,21.0,45.0,40.0,41.0,71.0,16.0,7.0,27.0,22.0,79.0,38.0,64.0,4.0,23.0,35.0,66.0,34.0,19.0,73.0,70.0,45.0,34.0,81.0,0.72,13.0,57.0,38.0,21.0,38.0,41.0,26.0,48.0,18.0,66.0,27.0,18.0,20.0,11.0,7.0,54.0,43.0,61.0,31.0,40.0,71.0,57.0,13.0,21.0,63.0,7.0,78.0,66.0,41.0,11.0,55.0,42.0,51.0,79.0,28.0,73.0,42.0,37.0,78.0,74.0,59.0,78.0,82.0,71.0,19.0,18.0,53.0,62.0,3.0,49.0,51.0,53.0,10.0,54.0,40.0,3.0,12.0,56.0,43.0,28.0,28.0,56.0,14.0,63.0,29.0,48.0,47.0,63.0,40.0,40.0,55.0,43.0,59.0,78.0,27.0,49.0,14.0,17.0,42.0,36.0,19.0,55.0,8.0,56.0,54.0,15.0,43.0,52.0,62.0,54.0,60.0,7.0,3.0,39.0,60.0,60.0,46.0,26.0,12.0,16.0,2.0,82.0,32.0,62.0,75.0,81.0,37.0,28.0,25.0,44.0,11.0,54.0,52.0,43.0,56.0,37.0,60.0,4.0,51.0,82.0,56.0,60.0,35.0,32.0,45.0,10.0,68.0,51.0,8.0,63.0,4.0,33.0,56.0,49.0,30.0,16.0,1.8,54.0,49.0,17.0,11.0,51.0,74.0,42.0,69.0,22.0,25.0,17.0,64.0,50.0,52.0,65.0,37.0,31.0,52.0,56.0,43.0,11.0,2.0,16.0,23.0,40.0,15.0,48.0,33.0,46.0,53.0,68.0,60.0,57.0,51.0,0.4,76.0,46.0,23.0,9.0,53.0,4.0,62.0,37.0,82.0,33.0,3.0,14.0,16.0,40.0,18.0,29.0,56.0,33.0,2.0,36.0,30.0,31.0,16.0,58.0,19.0,47.0,59.0,40.0,26.0,17.0,30.0,19.0,78.0,55.0,59.0,57.0,33.0,35.0,32.0,55.0,28.0,25.0,45.0,34.0,33.0,65.0,62.0,36.0,31.0,54.0,53.0,44.0,77.0,67.0,48.0,42.0,72.0,49.0,1.32,45.0,63.0,33.0,32.0,0.48,63.0,70.0,57.0,8.0,54.0,37.0,59.0,78.0,59.0,10.0,21.0,2.0,55.0,20.0,38.0,33.0,14.0,32.0,32.0,68.0,70.0,24.0,44.0,39.0,81.0,19.0,69.0,42.0,8.0,8.0,28.0,66.0,66.0,47.0,78.0,65.0,78.0,68.0,78.0,65.0,70.0,59.0,31.0,32.0,5.0,55.0,61.0,48.0,1.16,50.0,63.0,67.0,43.0,59.0,47.0,50.0,51.0,44.0,39.0,24.0,62.0,61.0,78.0,15.0,23.0,79.0,57.0,70.0,9.0,55.0,82.0,19.0,41.0,79.0,23.0,77.0,78.0,24.0,81.0,46.0,29.0,59.0,41.0,17.0,8.0,23.0,45.0,67.0,78.0,18.0,35.0,54.0,71.0,24.0,60.0,75.0,48.0,62.0,20.0,69.0,60.0,12.0,28.0,55.0,70.0,51.0,16.0,56.0,52.0,59.0,9.0,34.0,47.0,46.0,49.0,10.0,76.0,82.0,3.0,76.0,16.0,44.0,17.0,73.0,31.0,17.0,18.0,73.0,8.0,42.0,40.0,79.0,53.0,58.0,48.0,17.0,23.0,9.0,81.0,16.0,21.0,29.0,8.0,39.0,37.0,64.0,9.0,17.0,8.0,62.0,73.0,48.0,17.0,10.0,74.0,62.0,5.0,43.0,39.0,37.0,15.0,36.0,34.0,75.0,53.0,61.0,45.0,17.0,17.0,19.0,54.0,51.0,44.0,82.0,49.0,34.0,63.0,79.0,81.0,14.0,31.0,57.0,32.0,66.0,22.0,1.32,20.0,41.0,48.0,49.0,73.0,19.0,51.0,1.08,31.0,4.0,1.8,44.0,4.0,55.0,34.0,30.0,7.0,75.0,14.0,61.0,55.0,14.0,36.0,57.0,20.0,32.0,43.0,43.0,1.08,49.0,53.0,18.0,13.0,5.0,37.0,49.0,45.0,50.0,12.0,12.0,5.0,39.0,41.0,41.0,47.0,57.0,16.0,3.0,65.0,80.0,58.0,74.0,62.0,33.0,21.0,17.0,49.0,24.0,56.0,26.0,54.0,42.0,34.0,56.0,39.0,77.0,12.0,65.0,7.0,25.0,31.0,14.0,5.0,60.0,53.0,55.0,69.0,39.0,0.32,34.0,80.0,20.0,45.0,41.0,54.0,23.0,75.0,36.0,75.0,72.0,47.0,15.0,40.0,71.0,38.0,10.0,11.0,0.72,9.0,53.0,28.0,81.0,1.32,16.0,24.0,62.0,62.0,59.0,19.0,51.0,38.0,26.0,13.0,4.0,55.0,44.0,31.0,58.0,17.0,23.0,51.0,46.0,81.0,38.0,50.0,34.0,60.0,50.0,49.0,2.0,47.0,34.0,22.0,11.0,54.0,60.0,3.0,46.0,30.0,63.0,50.0,65.0,78.0,36.0,18.0,44.0,4.0,60.0,19.0,15.0,20.0,76.0,31.0,39.0,58.0,64.0,79.0,11.0,4.0,43.0,44.0,37.0,34.0,59.0,40.0,8.0,24.0,18.0,20.0,70.0,68.0,17.0,17.0,21.0,38.0,59.0,79.0,50.0,72.0,54.0,44.0,48.0,29.0,44.0,61.0,58.0,81.0,29.0,5.0,35.0,40.0,37.0,33.0,35.0,38.0,26.0,10.0,72.0,21.0,20.0,1.24,26.0,79.0,78.0,56.0,46.0,55.0,41.0,30.0,53.0,32.0,38.0,33.0,44.0,44.0,51.0,40.0,41.0,5.0,42.0,6.0,46.0,47.0,25.0,40.0,49.0,21.0,61.0,78.0,41.0,82.0,39.0,70.0,31.0,37.0,21.0,80.0,21.0,5.0,81.0,35.0,24.0,52.0,70.0,34.0,17.0,8.0,1.72,29.0,55.0,44.0,19.0,67.0,72.0,51.0,63.0,64.0,0.72,26.0,59.0,76.0,45.0,13.0,1.08,57.0,68.0,9.0,40.0,82.0,45.0,57.0,18.0,13.0,80.0,81.0,35.0,51.0,44.0],\"type\":\"histogram\",\"xaxis\":\"x\",\"yaxis\":\"y\",\"opacity\":0.7},{\"name\":\"stroke\",\"x\":[67.0,61.0,80.0,49.0,79.0,81.0,74.0,69.0,59.0,78.0,81.0,61.0,54.0,78.0,79.0,50.0,64.0,75.0,60.0,57.0,71.0,52.0,79.0,82.0,71.0,80.0,65.0,58.0,69.0,59.0,57.0,42.0,82.0,80.0,48.0,82.0,74.0,72.0,58.0,49.0,78.0,54.0,82.0,63.0,60.0,76.0,75.0,58.0,81.0,39.0,76.0,78.0,79.0,77.0,63.0,63.0,82.0,78.0,73.0,54.0,56.0,80.0,67.0,45.0,75.0,78.0,70.0,76.0,59.0,80.0,76.0,67.0,66.0,63.0,52.0,80.0,80.0,79.0,51.0,43.0,59.0,66.0,79.0,68.0,58.0,54.0,61.0,70.0,47.0,74.0,79.0,81.0,57.0,80.0,45.0,78.0,70.0,58.0,57.0,69.0,64.0,77.0,74.0,81.0,57.0,58.0,50.0,54.0,79.0,53.0,79.0,80.0,76.0,45.0,68.0,71.0,61.0,74.0,38.0,77.0,58.0,53.0,80.0,56.0,72.0,72.0,78.0,80.0,82.0,75.0,73.0,78.0,69.0,38.0,68.0,71.0,76.0,76.0,76.0,75.0,82.0,59.0,74.0,69.0,72.0,66.0,65.0,78.0,57.0,70.0,79.0,68.0,80.0,68.0,55.0,77.0,50.0,57.0,71.0,81.0,76.0,71.0,51.0,78.0,70.0,78.0,56.0,79.0,79.0,81.0,64.0,79.0,60.0,80.0,78.0,72.0,80.0,78.0,80.0,81.0,46.0,59.0,32.0,77.0,61.0,63.0,63.0,82.0,82.0,61.0,65.0,51.0,59.0,68.0,72.0,59.0,70.0,69.0,79.0,74.0,74.0,80.0,77.0,78.0,54.0,78.0,81.0,78.0,78.0,63.0,39.0,51.0,63.0,48.0,81.0,79.0,78.0,55.0,76.0,73.0,81.0,79.0,63.0,81.0,49.0,57.0,81.0,74.0,39.0,80.0,81.0,79.0,73.0,77.0,78.0,68.0,57.0,77.0,51.0,60.0,66.0,57.0,68.0,68.0,57.0,51.0,75.0,71.0,78.0],\"type\":\"histogram\",\"xaxis\":\"x\",\"yaxis\":\"y\",\"opacity\":0.7},{\"name\":\"No stroke\",\"y\":[3.0,58.0,8.0,70.0,14.0,47.0,52.0,75.0,32.0,74.0,79.0,79.0,37.0,37.0,40.0,35.0,20.0,42.0,44.0,79.0,65.0,57.0,49.0,71.0,59.0,25.0,67.0,38.0,54.0,70.0,27.0,47.0,58.0,3.0,58.0,14.0,32.0,23.0,55.0,17.0,59.0,13.0,4.0,16.0,67.0,22.0,45.0,66.0,58.0,69.0,58.0,53.0,78.0,44.0,66.0,27.0,43.0,13.0,51.0,30.0,46.0,43.0,79.0,27.0,38.0,78.0,57.0,61.0,37.0,48.0,29.0,22.0,11.0,22.0,53.0,27.0,76.0,57.0,8.0,21.0,18.0,78.0,78.0,33.0,52.0,51.0,11.0,48.0,82.0,54.0,49.0,24.0,37.0,34.0,64.0,66.0,23.0,68.0,55.0,25.0,48.0,79.0,47.0,20.0,60.0,32.0,66.0,43.0,36.0,52.0,29.0,76.0,39.0,76.0,0.64,34.0,72.0,43.0,57.0,44.0,4.0,44.0,18.0,41.0,23.0,53.0,56.0,0.88,25.0,14.0,53.0,4.0,39.0,53.0,5.0,4.0,37.0,70.0,24.0,55.0,70.0,34.0,26.0,39.0,38.0,20.0,17.0,60.0,75.0,31.0,58.0,5.0,13.0,22.0,52.0,61.0,78.0,57.0,21.0,22.0,80.0,7.0,64.0,64.0,38.0,12.0,33.0,3.0,37.0,22.0,24.0,75.0,12.0,63.0,52.0,68.0,5.0,56.0,43.0,40.0,53.0,52.0,31.0,63.0,69.0,64.0,64.0,62.0,2.0,53.0,65.0,22.0,26.0,53.0,20.0,63.0,13.0,21.0,65.0,65.0,42.0,72.0,13.0,29.0,59.0,42.0,13.0,75.0,33.0,43.0,11.0,7.0,16.0,44.0,78.0,25.0,69.0,61.0,43.0,38.0,68.0,26.0,18.0,43.0,43.0,32.0,81.0,25.0,61.0,66.0,54.0,11.0,53.0,78.0,9.0,48.0,31.0,20.0,21.0,42.0,35.0,53.0,60.0,74.0,23.0,55.0,71.0,5.0,14.0,15.0,66.0,56.0,60.0,57.0,29.0,76.0,52.0,42.0,71.0,64.0,39.0,46.0,51.0,31.0,22.0,41.0,28.0,44.0,68.0,49.0,10.0,31.0,67.0,40.0,70.0,38.0,5.0,54.0,30.0,23.0,31.0,72.0,23.0,25.0,51.0,20.0,12.0,57.0,65.0,16.0,43.0,30.0,29.0,54.0,57.0,42.0,18.0,9.0,26.0,40.0,77.0,15.0,76.0,52.0,55.0,5.0,55.0,36.0,46.0,5.0,39.0,12.0,67.0,1.8,72.0,0.32,64.0,27.0,25.0,81.0,32.0,57.0,52.0,54.0,36.0,18.0,45.0,29.0,51.0,23.0,54.0,54.0,18.0,26.0,72.0,5.0,65.0,42.0,47.0,24.0,57.0,51.0,48.0,56.0,30.0,63.0,46.0,53.0,1.08,15.0,59.0,24.0,53.0,39.0,23.0,31.0,5.0,44.0,1.8,40.0,7.0,56.0,42.0,48.0,82.0,52.0,42.0,73.0,55.0,50.0,43.0,33.0,80.0,33.0,74.0,65.0,40.0,52.0,66.0,20.0,51.0,60.0,59.0,58.0,42.0,28.0,57.0,66.0,56.0,48.0,37.0,27.0,15.0,61.0,80.0,43.0,53.0,70.0,58.0,49.0,65.0,54.0,74.0,56.0,79.0,71.0,28.0,9.0,4.0,36.0,78.0,52.0,80.0,28.0,38.0,56.0,75.0,76.0,10.0,48.0,40.0,82.0,61.0,17.0,58.0,12.0,53.0,26.0,48.0,25.0,27.0,31.0,16.0,20.0,2.0,1.8,28.0,32.0,35.0,52.0,55.0,42.0,52.0,18.0,13.0,45.0,29.0,12.0,37.0,30.0,44.0,79.0,38.0,45.0,66.0,19.0,49.0,66.0,47.0,59.0,23.0,79.0,37.0,78.0,70.0,34.0,28.0,29.0,13.0,22.0,56.0,81.0,28.0,9.0,50.0,70.0,30.0,51.0,24.0,17.0,43.0,9.0,50.0,49.0,6.0,30.0,73.0,20.0,42.0,79.0,55.0,27.0,71.0,9.0,23.0,71.0,56.0,31.0,64.0,46.0,55.0,2.0,58.0,78.0,1.16,35.0,64.0,18.0,19.0,47.0,54.0,39.0,37.0,17.0,20.0,31.0,56.0,31.0,82.0,33.0,42.0,20.0,22.0,61.0,31.0,31.0,17.0,30.0,69.0,63.0,19.0,7.0,51.0,38.0,2.0,58.0,69.0,64.0,31.0,59.0,54.0,24.0,19.0,17.0,29.0,42.0,31.0,29.0,23.0,25.0,14.0,66.0,77.0,79.0,52.0,41.0,31.0,39.0,51.0,40.0,48.0,55.0,41.0,39.0,41.0,5.0,38.0,40.0,12.0,20.0,53.0,21.0,70.0,61.0,70.0,38.0,59.0,36.0,31.0,65.0,61.0,2.0,52.0,33.0,5.0,32.0,54.0,51.0,39.0,40.0,19.0,9.0,53.0,23.0,19.0,1.0,48.0,71.0,44.0,53.0,70.0,1.4,49.0,17.0,40.0,46.0,32.0,2.0,40.0,19.0,43.0,46.0,71.0,31.0,41.0,65.0,52.0,20.0,77.0,51.0,37.0,49.0,62.0,17.0,28.0,80.0,45.0,37.0,3.0,26.0,71.0,58.0,59.0,74.0,17.0,62.0,37.0,19.0,59.0,59.0,62.0,80.0,54.0,27.0,4.0,81.0,41.0,27.0,51.0,59.0,51.0,71.0,48.0,49.0,35.0,25.0,31.0,68.0,39.0,32.0,39.0,63.0,69.0,29.0,1.72,58.0,32.0,63.0,57.0,77.0,8.0,21.0,16.0,8.0,71.0,74.0,7.0,19.0,64.0,23.0,75.0,80.0,40.0,24.0,74.0,52.0,54.0,23.0,19.0,23.0,13.0,51.0,60.0,79.0,75.0,69.0,57.0,47.0,33.0,51.0,47.0,15.0,1.0,20.0,6.0,50.0,31.0,15.0,3.0,30.0,17.0,24.0,5.0,33.0,30.0,66.0,40.0,27.0,21.0,55.0,19.0,75.0,71.0,16.0,49.0,10.0,37.0,59.0,7.0,61.0,34.0,9.0,46.0,0.88,50.0,19.0,21.0,2.0,37.0,20.0,50.0,61.0,48.0,82.0,64.0,50.0,1.4,0.24,55.0,29.0,4.0,70.0,35.0,80.0,54.0,39.0,26.0,6.0,41.0,42.0,9.0,55.0,71.0,14.0,77.0,50.0,49.0,51.0,79.0,63.0,66.0,20.0,37.0,22.0,60.0,39.0,53.0,55.0,63.0,57.0,82.0,56.0,41.0,8.0,34.0,75.0,57.0,72.0,21.0,51.0,15.0,24.0,30.0,82.0,62.0,79.0,19.0,45.0,5.0,57.0,31.0,61.0,27.0,61.0,53.0,76.0,57.0,9.0,34.0,51.0,61.0,19.0,50.0,80.0,13.0,55.0,67.0,30.0,67.0,82.0,5.0,81.0,48.0,66.0,38.0,8.0,47.0,27.0,53.0,27.0,36.0,50.0,32.0,58.0,73.0,62.0,50.0,51.0,19.0,30.0,45.0,30.0,28.0,70.0,0.32,23.0,18.0,41.0,52.0,77.0,34.0,67.0,1.64,23.0,59.0,62.0,47.0,71.0,22.0,33.0,27.0,44.0,18.0,47.0,66.0,42.0,13.0,56.0,69.0,65.0,53.0,36.0,69.0,19.0,3.0,15.0,59.0,61.0,28.0,52.0,33.0,80.0,47.0,2.0,48.0,1.56,26.0,62.0,1.72,38.0,28.0,67.0,57.0,40.0,10.0,55.0,7.0,56.0,37.0,69.0,45.0,28.0,52.0,46.0,45.0,21.0,4.0,45.0,71.0,46.0,3.0,79.0,71.0,74.0,52.0,49.0,32.0,62.0,78.0,48.0,18.0,80.0,34.0,40.0,59.0,11.0,35.0,29.0,23.0,59.0,44.0,62.0,32.0,2.0,73.0,79.0,2.0,43.0,43.0,62.0,73.0,31.0,42.0,20.0,55.0,3.0,23.0,33.0,14.0,79.0,64.0,76.0,46.0,80.0,21.0,33.0,32.0,0.72,49.0,41.0,37.0,58.0,79.0,23.0,78.0,51.0,41.0,68.0,30.0,1.88,32.0,20.0,20.0,10.0,8.0,65.0,65.0,46.0,53.0,79.0,43.0,56.0,3.0,32.0,41.0,53.0,35.0,67.0,33.0,21.0,26.0,69.0,73.0,15.0,3.0,1.24,80.0,2.0,50.0,30.0,15.0,71.0,4.0,2.0,11.0,45.0,22.0,63.0,50.0,25.0,49.0,39.0,43.0,67.0,48.0,38.0,14.0,63.0,37.0,20.0,60.0,13.0,34.0,22.0,46.0,53.0,28.0,62.0,6.0,11.0,66.0,80.0,8.0,53.0,63.0,31.0,43.0,79.0,8.0,38.0,80.0,49.0,50.0,13.0,46.0,73.0,60.0,44.0,79.0,5.0,51.0,71.0,5.0,65.0,81.0,46.0,44.0,54.0,25.0,49.0,80.0,22.0,61.0,3.0,50.0,45.0,55.0,21.0,0.8,50.0,73.0,58.0,30.0,55.0,57.0,80.0,77.0,29.0,46.0,40.0,29.0,37.0,35.0,54.0,56.0,26.0,75.0,44.0,63.0,17.0,46.0,47.0,50.0,49.0,76.0,47.0,47.0,49.0,71.0,65.0,40.0,82.0,64.0,72.0,50.0,40.0,74.0,30.0,68.0,6.0,4.0,60.0,59.0,72.0,62.0,13.0,72.0,1.08,35.0,54.0,40.0,3.0,2.0,41.0,61.0,58.0,17.0,64.0,32.0,42.0,39.0,10.0,78.0,68.0,24.0,59.0,45.0,12.0,37.0,43.0,12.0,13.0,74.0,2.0,59.0,21.0,55.0,14.0,53.0,75.0,37.0,49.0,55.0,57.0,45.0,46.0,12.0,12.0,77.0,6.0,76.0,52.0,62.0,82.0,69.0,78.0,37.0,50.0,41.0,54.0,43.0,37.0,9.0,11.0,56.0,5.0,17.0,6.0,25.0,57.0,18.0,2.0,76.0,1.0,54.0,45.0,54.0,67.0,53.0,47.0,44.0,65.0,40.0,3.0,81.0,24.0,9.0,52.0,63.0,78.0,22.0,2.0,79.0,49.0,74.0,62.0,16.0,62.0,27.0,50.0,49.0,24.0,21.0,17.0,22.0,13.0,21.0,51.0,8.0,48.0,16.0,18.0,7.0,68.0,49.0,80.0,31.0,25.0,39.0,35.0,71.0,71.0,40.0,41.0,2.0,3.0,53.0,1.88,60.0,5.0,30.0,49.0,68.0,23.0,2.0,24.0,41.0,63.0,64.0,38.0,1.24,38.0,43.0,27.0,61.0,42.0,46.0,67.0,34.0,51.0,77.0,30.0,81.0,12.0,18.0,35.0,82.0,53.0,75.0,32.0,27.0,56.0,71.0,78.0,44.0,62.0,27.0,42.0,66.0,25.0,82.0,49.0,77.0,59.0,54.0,38.0,55.0,13.0,45.0,54.0,30.0,51.0,47.0,25.0,61.0,55.0,23.0,71.0,59.0,4.0,65.0,50.0,42.0,51.0,66.0,22.0,5.0,19.0,47.0,12.0,53.0,26.0,62.0,81.0,63.0,25.0,8.0,76.0,44.0,65.0,54.0,24.0,65.0,12.0,33.0,74.0,18.0,77.0,48.0,52.0,23.0,25.0,44.0,78.0,37.0,32.0,67.0,41.0,2.0,75.0,17.0,13.0,25.0,57.0,31.0,61.0,46.0,47.0,15.0,47.0,68.0,0.4,40.0,62.0,45.0,47.0,35.0,51.0,60.0,59.0,1.24,18.0,81.0,15.0,73.0,0.08,53.0,45.0,70.0,56.0,7.0,66.0,53.0,20.0,15.0,51.0,34.0,33.0,53.0,69.0,28.0,81.0,20.0,1.48,2.0,77.0,38.0,23.0,67.0,59.0,41.0,76.0,21.0,41.0,54.0,29.0,25.0,48.0,6.0,21.0,32.0,57.0,64.0,70.0,44.0,60.0,56.0,53.0,59.0,53.0,63.0,42.0,63.0,52.0,62.0,68.0,36.0,3.0,40.0,8.0,58.0,45.0,65.0,28.0,40.0,65.0,58.0,44.0,54.0,79.0,62.0,37.0,66.0,63.0,27.0,6.0,30.0,15.0,50.0,32.0,33.0,62.0,82.0,71.0,20.0,44.0,57.0,50.0,50.0,44.0,47.0,35.0,8.0,3.0,29.0,36.0,19.0,41.0,23.0,14.0,35.0,45.0,52.0,19.0,21.0,8.0,35.0,33.0,53.0,59.0,34.0,31.0,43.0,61.0,57.0,11.0,36.0,16.0,60.0,13.0,69.0,69.0,22.0,63.0,45.0,58.0,61.0,30.0,78.0,68.0,16.0,38.0,39.0,51.0,37.0,16.0,39.0,24.0,51.0,50.0,27.0,73.0,65.0,76.0,66.0,53.0,65.0,48.0,31.0,1.72,45.0,56.0,62.0,35.0,16.0,31.0,5.0,26.0,10.0,22.0,82.0,50.0,47.0,31.0,22.0,12.0,63.0,78.0,4.0,76.0,32.0,81.0,39.0,59.0,2.0,37.0,78.0,75.0,34.0,48.0,13.0,54.0,13.0,24.0,76.0,1.0,57.0,46.0,26.0,56.0,34.0,25.0,60.0,22.0,35.0,48.0,38.0,12.0,22.0,0.64,13.0,78.0,23.0,35.0,78.0,50.0,61.0,60.0,43.0,60.0,51.0,21.0,16.0,25.0,36.0,8.0,48.0,14.0,60.0,61.0,60.0,56.0,9.0,45.0,14.0,37.0,52.0,30.0,60.0,47.0,82.0,64.0,12.0,79.0,77.0,25.0,26.0,14.0,42.0,37.0,8.0,78.0,18.0,78.0,55.0,68.0,47.0,47.0,51.0,43.0,78.0,63.0,45.0,53.0,12.0,56.0,29.0,10.0,55.0,49.0,23.0,53.0,56.0,56.0,61.0,45.0,80.0,47.0,3.0,63.0,68.0,76.0,62.0,30.0,44.0,47.0,25.0,31.0,71.0,32.0,72.0,44.0,63.0,37.0,54.0,20.0,56.0,25.0,19.0,62.0,27.0,5.0,20.0,21.0,44.0,39.0,38.0,77.0,26.0,51.0,39.0,5.0,59.0,67.0,45.0,43.0,80.0,42.0,8.0,68.0,5.0,57.0,44.0,16.0,60.0,58.0,43.0,50.0,1.48,5.0,9.0,67.0,21.0,36.0,70.0,57.0,52.0,28.0,41.0,81.0,33.0,31.0,42.0,10.0,34.0,70.0,33.0,58.0,25.0,1.4,47.0,14.0,82.0,52.0,72.0,52.0,61.0,15.0,1.56,6.0,3.0,18.0,53.0,58.0,31.0,29.0,5.0,40.0,75.0,52.0,39.0,40.0,78.0,39.0,17.0,45.0,0.56,13.0,26.0,42.0,44.0,3.0,42.0,25.0,41.0,51.0,20.0,25.0,18.0,37.0,51.0,2.0,38.0,64.0,60.0,22.0,71.0,32.0,32.0,63.0,0.24,54.0,25.0,80.0,31.0,53.0,35.0,31.0,60.0,0.56,21.0,78.0,59.0,0.64,10.0,60.0,11.0,48.0,50.0,69.0,20.0,22.0,55.0,57.0,29.0,32.0,54.0,37.0,58.0,41.0,72.0,0.48,32.0,54.0,79.0,56.0,45.0,6.0,45.0,60.0,65.0,57.0,58.0,8.0,18.0,49.0,2.0,52.0,63.0,57.0,50.0,12.0,35.0,35.0,64.0,42.0,62.0,3.0,43.0,52.0,64.0,59.0,81.0,15.0,50.0,73.0,19.0,30.0,40.0,47.0,66.0,47.0,41.0,63.0,12.0,1.32,46.0,8.0,74.0,74.0,4.0,26.0,63.0,48.0,24.0,47.0,70.0,41.0,42.0,57.0,51.0,15.0,11.0,27.0,53.0,52.0,68.0,65.0,23.0,43.0,55.0,52.0,21.0,78.0,35.0,49.0,50.0,27.0,52.0,22.0,19.0,77.0,57.0,13.0,14.0,29.0,49.0,1.24,21.0,36.0,42.0,56.0,46.0,79.0,25.0,67.0,37.0,44.0,36.0,17.0,50.0,53.0,39.0,71.0,18.0,55.0,52.0,27.0,24.0,72.0,41.0,29.0,26.0,23.0,43.0,43.0,49.0,13.0,26.0,10.0,39.0,41.0,25.0,10.0,54.0,7.0,53.0,55.0,6.0,72.0,42.0,50.0,55.0,47.0,3.0,49.0,12.0,28.0,40.0,55.0,9.0,77.0,18.0,73.0,67.0,58.0,2.0,38.0,5.0,34.0,78.0,57.0,17.0,71.0,19.0,56.0,64.0,13.0,40.0,80.0,62.0,79.0,9.0,77.0,26.0,1.72,16.0,40.0,46.0,45.0,59.0,31.0,69.0,73.0,56.0,80.0,60.0,40.0,30.0,66.0,78.0,37.0,41.0,34.0,18.0,69.0,67.0,28.0,3.0,57.0,34.0,50.0,55.0,2.0,27.0,57.0,73.0,52.0,65.0,48.0,54.0,8.0,45.0,48.0,77.0,34.0,33.0,39.0,39.0,40.0,46.0,1.0,5.0,14.0,49.0,45.0,13.0,76.0,14.0,20.0,9.0,78.0,49.0,55.0,43.0,16.0,58.0,67.0,71.0,8.0,18.0,47.0,59.0,28.0,20.0,67.0,71.0,56.0,44.0,6.0,78.0,32.0,40.0,63.0,51.0,22.0,82.0,17.0,34.0,42.0,32.0,73.0,47.0,34.0,64.0,52.0,49.0,55.0,64.0,23.0,18.0,65.0,12.0,61.0,66.0,59.0,47.0,47.0,71.0,62.0,28.0,7.0,68.0,37.0,75.0,5.0,1.08,34.0,49.0,8.0,50.0,2.0,1.16,76.0,18.0,82.0,67.0,27.0,57.0,51.0,68.0,56.0,77.0,52.0,18.0,63.0,31.0,37.0,64.0,47.0,1.8,42.0,37.0,69.0,13.0,73.0,48.0,78.0,21.0,54.0,43.0,19.0,82.0,80.0,69.0,21.0,46.0,14.0,6.0,3.0,47.0,34.0,41.0,67.0,5.0,20.0,63.0,73.0,62.0,0.88,50.0,71.0,30.0,80.0,64.0,7.0,36.0,79.0,35.0,28.0,72.0,12.0,25.0,27.0,62.0,58.0,30.0,56.0,28.0,47.0,16.0,29.0,26.0,26.0,55.0,29.0,29.0,33.0,19.0,10.0,3.0,60.0,16.0,35.0,41.0,19.0,79.0,41.0,1.64,51.0,33.0,33.0,48.0,45.0,61.0,31.0,60.0,51.0,53.0,52.0,42.0,56.0,14.0,40.0,58.0,52.0,30.0,47.0,34.0,82.0,31.0,58.0,47.0,65.0,13.0,37.0,9.0,7.0,37.0,62.0,14.0,77.0,36.0,3.0,78.0,49.0,44.0,10.0,8.0,60.0,56.0,73.0,65.0,34.0,13.0,80.0,46.0,80.0,65.0,24.0,33.0,11.0,57.0,19.0,82.0,39.0,14.0,60.0,3.0,57.0,79.0,65.0,67.0,60.0,36.0,36.0,26.0,71.0,78.0,77.0,74.0,50.0,9.0,1.64,54.0,8.0,36.0,38.0,34.0,7.0,5.0,14.0,0.88,30.0,39.0,17.0,14.0,52.0,78.0,2.0,32.0,0.88,50.0,48.0,66.0,78.0,46.0,54.0,81.0,15.0,77.0,59.0,48.0,76.0,49.0,44.0,39.0,34.0,50.0,62.0,38.0,43.0,28.0,58.0,28.0,18.0,62.0,31.0,55.0,54.0,73.0,26.0,73.0,38.0,75.0,81.0,20.0,12.0,78.0,42.0,71.0,16.0,4.0,79.0,60.0,45.0,23.0,21.0,67.0,10.0,24.0,50.0,79.0,14.0,13.0,71.0,66.0,32.0,46.0,48.0,45.0,55.0,31.0,25.0,73.0,14.0,56.0,60.0,27.0,28.0,46.0,11.0,63.0,59.0,57.0,35.0,54.0,7.0,48.0,69.0,59.0,72.0,49.0,73.0,24.0,26.0,27.0,78.0,77.0,59.0,0.32,39.0,35.0,54.0,75.0,80.0,35.0,22.0,39.0,6.0,62.0,13.0,56.0,53.0,5.0,44.0,13.0,59.0,35.0,52.0,76.0,51.0,79.0,69.0,78.0,60.0,10.0,42.0,21.0,56.0,59.0,69.0,25.0,63.0,25.0,58.0,28.0,46.0,53.0,37.0,12.0,14.0,60.0,42.0,65.0,80.0,32.0,53.0,50.0,23.0,45.0,0.8,49.0,70.0,82.0,23.0,79.0,74.0,78.0,50.0,34.0,47.0,52.0,67.0,62.0,18.0,75.0,42.0,29.0,52.0,18.0,67.0,66.0,5.0,18.0,52.0,44.0,46.0,36.0,61.0,7.0,15.0,61.0,20.0,2.0,47.0,25.0,66.0,2.0,63.0,53.0,33.0,23.0,23.0,81.0,55.0,69.0,58.0,70.0,48.0,15.0,31.0,2.0,80.0,69.0,52.0,80.0,54.0,2.0,39.0,38.0,76.0,45.0,1.24,77.0,46.0,50.0,52.0,73.0,41.0,40.0,59.0,48.0,42.0,26.0,39.0,34.0,54.0,57.0,1.56,50.0,64.0,44.0,38.0,32.0,17.0,81.0,15.0,5.0,70.0,52.0,67.0,17.0,61.0,31.0,58.0,12.0,30.0,65.0,23.0,14.0,27.0,53.0,58.0,9.0,59.0,46.0,41.0,55.0,43.0,5.0,15.0,36.0,36.0,47.0,18.0,19.0,65.0,17.0,54.0,46.0,59.0,48.0,38.0,18.0,56.0,3.0,41.0,67.0,60.0,47.0,24.0,43.0,17.0,45.0,24.0,79.0,79.0,27.0,72.0,64.0,34.0,50.0,58.0,26.0,50.0,80.0,2.0,46.0,29.0,6.0,32.0,16.0,44.0,23.0,48.0,34.0,78.0,42.0,14.0,40.0,10.0,39.0,42.0,47.0,14.0,45.0,58.0,73.0,62.0,62.0,51.0,0.8,57.0,8.0,69.0,16.0,56.0,41.0,1.24,42.0,57.0,20.0,8.0,43.0,62.0,42.0,50.0,63.0,80.0,13.0,20.0,71.0,50.0,76.0,41.0,76.0,78.0,5.0,29.0,43.0,49.0,70.0,24.0,41.0,20.0,34.0,32.0,27.0,44.0,20.0,52.0,57.0,29.0,16.0,35.0,5.0,63.0,59.0,63.0,52.0,50.0,43.0,27.0,30.0,8.0,75.0,14.0,23.0,6.0,37.0,38.0,3.0,26.0,58.0,57.0,58.0,76.0,68.0,79.0,34.0,75.0,11.0,71.0,40.0,24.0,0.64,82.0,32.0,81.0,33.0,79.0,62.0,39.0,60.0,48.0,24.0,70.0,17.0,56.0,3.0,65.0,72.0,10.0,29.0,44.0,46.0,33.0,63.0,0.24,55.0,56.0,50.0,78.0,63.0,31.0,65.0,51.0,60.0,69.0,23.0,46.0,16.0,26.0,44.0,56.0,23.0,38.0,18.0,63.0,23.0,32.0,8.0,77.0,41.0,34.0,25.0,35.0,15.0,1.64,4.0,33.0,28.0,37.0,50.0,76.0,72.0,16.0,44.0,46.0,46.0,73.0,29.0,19.0,27.0,36.0,61.0,9.0,25.0,68.0,26.0,17.0,75.0,34.0,53.0,18.0,48.0,5.0,79.0,16.0,32.0,70.0,55.0,70.0,51.0,39.0,79.0,80.0,34.0,59.0,54.0,22.0,21.0,4.0,26.0,62.0,33.0,51.0,75.0,42.0,82.0,61.0,62.0,59.0,31.0,12.0,76.0,71.0,15.0,44.0,30.0,47.0,47.0,60.0,62.0,47.0,78.0,35.0,71.0,57.0,12.0,26.0,33.0,60.0,35.0,10.0,50.0,44.0,73.0,41.0,7.0,45.0,60.0,49.0,45.0,55.0,54.0,39.0,76.0,28.0,70.0,28.0,79.0,30.0,26.0,57.0,16.0,40.0,77.0,67.0,36.0,40.0,2.0,52.0,78.0,22.0,33.0,40.0,20.0,19.0,25.0,23.0,28.0,6.0,37.0,10.0,34.0,60.0,22.0,62.0,52.0,61.0,10.0,36.0,29.0,69.0,62.0,62.0,79.0,13.0,38.0,49.0,41.0,56.0,8.0,24.0,61.0,40.0,22.0,80.0,60.0,57.0,55.0,39.0,51.0,47.0,77.0,32.0,45.0,49.0,13.0,74.0,72.0,57.0,51.0,55.0,73.0,12.0,6.0,76.0,38.0,50.0,75.0,1.16,32.0,12.0,32.0,13.0,1.32,63.0,29.0,53.0,49.0,81.0,66.0,42.0,61.0,52.0,8.0,82.0,43.0,4.0,58.0,45.0,62.0,42.0,72.0,9.0,31.0,20.0,22.0,23.0,57.0,52.0,64.0,26.0,54.0,32.0,66.0,13.0,77.0,18.0,11.0,16.0,73.0,44.0,36.0,10.0,54.0,42.0,52.0,32.0,43.0,28.0,79.0,11.0,75.0,55.0,78.0,48.0,73.0,56.0,54.0,55.0,65.0,69.0,29.0,64.0,16.0,75.0,17.0,42.0,78.0,24.0,68.0,50.0,52.0,82.0,56.0,56.0,18.0,33.0,57.0,30.0,52.0,3.0,39.0,44.0,33.0,24.0,24.0,54.0,72.0,37.0,36.0,22.0,68.0,24.0,35.0,32.0,52.0,21.0,82.0,33.0,62.0,57.0,14.0,60.0,63.0,50.0,12.0,80.0,74.0,46.0,66.0,26.0,70.0,62.0,15.0,67.0,63.0,42.0,49.0,78.0,31.0,67.0,52.0,61.0,41.0,73.0,64.0,65.0,81.0,47.0,40.0,46.0,2.0,56.0,54.0,26.0,45.0,57.0,78.0,2.0,76.0,51.0,54.0,36.0,57.0,25.0,7.0,76.0,45.0,66.0,45.0,79.0,25.0,53.0,35.0,78.0,32.0,0.56,26.0,34.0,65.0,15.0,17.0,71.0,42.0,30.0,75.0,9.0,47.0,75.0,61.0,61.0,27.0,55.0,2.0,51.0,45.0,36.0,46.0,48.0,79.0,50.0,79.0,32.0,36.0,27.0,22.0,5.0,9.0,31.0,26.0,43.0,33.0,34.0,66.0,44.0,56.0,67.0,18.0,55.0,61.0,0.08,48.0,44.0,68.0,52.0,15.0,2.0,60.0,37.0,5.0,25.0,52.0,79.0,61.0,36.0,34.0,2.0,43.0,1.48,49.0,2.0,82.0,81.0,81.0,1.08,60.0,1.88,58.0,8.0,9.0,34.0,23.0,74.0,72.0,47.0,56.0,5.0,27.0,38.0,13.0,41.0,50.0,41.0,6.0,62.0,4.0,59.0,63.0,9.0,41.0,72.0,45.0,80.0,19.0,37.0,58.0,77.0,38.0,49.0,20.0,23.0,55.0,16.0,81.0,23.0,82.0,48.0,56.0,61.0,43.0,39.0,22.0,41.0,37.0,65.0,8.0,51.0,63.0,48.0,17.0,53.0,75.0,51.0,51.0,41.0,75.0,57.0,33.0,72.0,52.0,11.0,28.0,78.0,82.0,74.0,31.0,53.0,0.24,67.0,17.0,29.0,56.0,15.0,29.0,79.0,82.0,17.0,8.0,23.0,36.0,47.0,24.0,60.0,63.0,44.0,38.0,26.0,18.0,18.0,13.0,13.0,47.0,80.0,24.0,72.0,5.0,51.0,82.0,5.0,66.0,53.0,15.0,53.0,78.0,62.0,41.0,49.0,41.0,78.0,14.0,1.48,71.0,32.0,16.0,68.0,0.56,59.0,32.0,58.0,40.0,41.0,21.0,1.88,55.0,67.0,49.0,42.0,54.0,25.0,62.0,75.0,72.0,14.0,38.0,59.0,23.0,63.0,82.0,34.0,8.0,28.0,49.0,24.0,17.0,69.0,58.0,50.0,5.0,34.0,64.0,47.0,61.0,14.0,57.0,53.0,67.0,57.0,38.0,13.0,37.0,39.0,13.0,57.0,11.0,68.0,79.0,24.0,44.0,46.0,66.0,61.0,16.0,37.0,43.0,27.0,44.0,14.0,81.0,52.0,54.0,77.0,27.0,35.0,30.0,48.0,15.0,26.0,38.0,29.0,49.0,55.0,52.0,49.0,21.0,24.0,18.0,52.0,70.0,51.0,58.0,46.0,79.0,11.0,61.0,51.0,21.0,71.0,13.0,16.0,61.0,49.0,65.0,40.0,44.0,11.0,20.0,24.0,44.0,5.0,41.0,23.0,7.0,74.0,61.0,80.0,35.0,43.0,25.0,72.0,45.0,9.0,33.0,53.0,67.0,59.0,1.32,27.0,41.0,64.0,55.0,40.0,33.0,33.0,39.0,74.0,38.0,53.0,22.0,5.0,24.0,27.0,41.0,20.0,71.0,65.0,38.0,25.0,53.0,50.0,1.24,55.0,38.0,72.0,43.0,30.0,69.0,61.0,34.0,43.0,62.0,48.0,37.0,64.0,51.0,69.0,75.0,27.0,49.0,82.0,36.0,1.88,45.0,64.0,32.0,15.0,1.64,34.0,17.0,76.0,61.0,30.0,18.0,48.0,0.16,4.0,38.0,27.0,50.0,19.0,8.0,78.0,0.8,53.0,73.0,34.0,58.0,62.0,78.0,51.0,78.0,40.0,35.0,82.0,46.0,51.0,53.0,55.0,43.0,81.0,12.0,20.0,53.0,1.32,22.0,75.0,66.0,7.0,26.0,14.0,32.0,6.0,42.0,4.0,75.0,80.0,52.0,11.0,14.0,74.0,58.0,80.0,31.0,28.0,25.0,71.0,51.0,15.0,45.0,53.0,69.0,42.0,4.0,64.0,5.0,44.0,78.0,16.0,69.0,80.0,7.0,2.0,80.0,69.0,58.0,75.0,60.0,75.0,10.0,38.0,28.0,3.0,31.0,59.0,31.0,45.0,58.0,57.0,31.0,43.0,40.0,1.08,34.0,55.0,39.0,42.0,44.0,69.0,16.0,8.0,1.48,1.88,69.0,13.0,53.0,16.0,64.0,7.0,41.0,65.0,61.0,63.0,1.8,54.0,14.0,45.0,51.0,8.0,52.0,39.0,13.0,69.0,71.0,73.0,54.0,10.0,26.0,41.0,71.0,46.0,15.0,29.0,8.0,21.0,56.0,14.0,78.0,36.0,57.0,79.0,26.0,22.0,72.0,54.0,8.0,62.0,28.0,50.0,7.0,33.0,55.0,25.0,25.0,37.0,58.0,45.0,60.0,66.0,80.0,38.0,11.0,63.0,19.0,17.0,19.0,40.0,49.0,69.0,46.0,78.0,63.0,3.0,1.8,18.0,46.0,8.0,53.0,38.0,74.0,24.0,78.0,60.0,12.0,32.0,5.0,40.0,19.0,28.0,61.0,44.0,50.0,50.0,18.0,1.64,37.0,5.0,39.0,65.0,26.0,42.0,34.0,45.0,43.0,40.0,35.0,2.0,61.0,64.0,32.0,23.0,51.0,52.0,75.0,40.0,39.0,6.0,32.0,55.0,23.0,52.0,58.0,17.0,3.0,23.0,56.0,45.0,14.0,45.0,57.0,35.0,8.0,42.0,8.0,62.0,43.0,8.0,40.0,2.0,27.0,47.0,53.0,62.0,50.0,26.0,19.0,0.32,45.0,45.0,54.0,64.0,2.0,66.0,73.0,31.0,1.88,58.0,12.0,60.0,32.0,23.0,26.0,36.0,3.0,21.0,67.0,35.0,26.0,47.0,81.0,1.64,52.0,28.0,45.0,20.0,1.56,65.0,45.0,77.0,37.0,50.0,0.56,30.0,31.0,4.0,65.0,68.0,63.0,46.0,54.0,66.0,29.0,78.0,56.0,57.0,2.0,49.0,31.0,47.0,37.0,79.0,65.0,61.0,66.0,24.0,66.0,64.0,38.0,7.0,63.0,71.0,18.0,65.0,57.0,62.0,1.8,35.0,50.0,73.0,23.0,32.0,38.0,50.0,39.0,7.0,15.0,67.0,8.0,32.0,5.0,56.0,49.0,75.0,11.0,61.0,76.0,34.0,20.0,79.0,24.0,39.0,55.0,16.0,36.0,38.0,20.0,38.0,52.0,49.0,80.0,75.0,13.0,54.0,28.0,61.0,0.16,59.0,12.0,38.0,15.0,31.0,52.0,61.0,50.0,41.0,20.0,67.0,45.0,73.0,52.0,51.0,56.0,49.0,10.0,51.0,57.0,76.0,28.0,57.0,39.0,41.0,72.0,45.0,33.0,62.0,27.0,31.0,24.0,1.88,28.0,24.0,30.0,38.0,1.64,0.72,57.0,27.0,30.0,42.0,36.0,44.0,59.0,61.0,18.0,44.0,16.0,13.0,9.0,0.16,81.0,38.0,58.0,5.0,64.0,38.0,56.0,58.0,9.0,34.0,79.0,62.0,60.0,42.0,59.0,54.0,59.0,15.0,14.0,5.0,17.0,13.0,48.0,37.0,69.0,74.0,54.0,64.0,26.0,55.0,74.0,0.48,41.0,68.0,9.0,36.0,17.0,24.0,69.0,38.0,69.0,32.0,25.0,2.0,79.0,28.0,16.0,31.0,66.0,57.0,61.0,74.0,70.0,8.0,49.0,30.0,51.0,10.0,34.0,40.0,3.0,45.0,4.0,52.0,68.0,8.0,82.0,36.0,42.0,27.0,55.0,31.0,82.0,57.0,78.0,55.0,51.0,80.0,17.0,61.0,62.0,14.0,62.0,56.0,41.0,59.0,29.0,39.0,66.0,35.0,36.0,35.0,26.0,31.0,56.0,36.0,41.0,50.0,42.0,79.0,57.0,68.0,25.0,69.0,42.0,37.0,2.0,78.0,36.0,10.0,39.0,4.0,48.0,72.0,63.0,28.0,80.0,49.0,57.0,59.0,43.0,47.0,54.0,57.0,56.0,66.0,18.0,81.0,30.0,8.0,55.0,79.0,49.0,53.0,26.0,14.0,25.0,20.0,18.0,38.0,72.0,52.0,82.0,71.0,46.0,33.0,37.0,54.0,5.0,45.0,14.0,5.0,35.0,20.0,51.0,40.0,79.0,61.0,33.0,27.0,28.0,67.0,35.0,78.0,20.0,43.0,27.0,45.0,11.0,31.0,30.0,27.0,34.0,19.0,3.0,53.0,81.0,44.0,59.0,43.0,32.0,5.0,31.0,47.0,12.0,40.0,49.0,38.0,15.0,81.0,48.0,24.0,47.0,13.0,16.0,64.0,11.0,55.0,38.0,37.0,34.0,52.0,50.0,37.0,55.0,2.0,68.0,27.0,17.0,53.0,5.0,3.0,20.0,19.0,31.0,63.0,49.0,72.0,50.0,41.0,40.0,17.0,3.0,33.0,12.0,23.0,31.0,65.0,43.0,22.0,7.0,81.0,10.0,18.0,5.0,24.0,45.0,46.0,64.0,25.0,12.0,81.0,65.0,40.0,81.0,36.0,32.0,31.0,55.0,39.0,17.0,31.0,36.0,5.0,29.0,2.0,62.0,45.0,18.0,29.0,52.0,59.0,69.0,71.0,3.0,33.0,43.0,39.0,60.0,54.0,61.0,0.24,11.0,75.0,64.0,78.0,14.0,66.0,48.0,44.0,30.0,1.48,61.0,54.0,22.0,47.0,67.0,53.0,45.0,65.0,39.0,57.0,45.0,28.0,30.0,31.0,70.0,17.0,44.0,65.0,6.0,15.0,80.0,54.0,79.0,60.0,12.0,36.0,54.0,63.0,2.0,28.0,38.0,37.0,80.0,43.0,60.0,66.0,45.0,29.0,4.0,48.0,68.0,57.0,29.0,30.0,47.0,73.0,66.0,39.0,66.0,52.0,34.0,79.0,39.0,61.0,26.0,37.0,66.0,16.0,51.0,15.0,1.72,60.0,66.0,75.0,40.0,52.0,13.0,44.0,37.0,2.0,48.0,81.0,76.0,58.0,11.0,9.0,54.0,37.0,16.0,11.0,32.0,26.0,21.0,45.0,40.0,41.0,71.0,16.0,7.0,27.0,22.0,79.0,38.0,64.0,4.0,23.0,35.0,66.0,34.0,19.0,73.0,70.0,45.0,34.0,81.0,0.72,13.0,57.0,38.0,21.0,38.0,41.0,26.0,48.0,18.0,66.0,27.0,18.0,20.0,11.0,7.0,54.0,43.0,61.0,31.0,40.0,71.0,57.0,13.0,21.0,63.0,7.0,78.0,66.0,41.0,11.0,55.0,42.0,51.0,79.0,28.0,73.0,42.0,37.0,78.0,74.0,59.0,78.0,82.0,71.0,19.0,18.0,53.0,62.0,3.0,49.0,51.0,53.0,10.0,54.0,40.0,3.0,12.0,56.0,43.0,28.0,28.0,56.0,14.0,63.0,29.0,48.0,47.0,63.0,40.0,40.0,55.0,43.0,59.0,78.0,27.0,49.0,14.0,17.0,42.0,36.0,19.0,55.0,8.0,56.0,54.0,15.0,43.0,52.0,62.0,54.0,60.0,7.0,3.0,39.0,60.0,60.0,46.0,26.0,12.0,16.0,2.0,82.0,32.0,62.0,75.0,81.0,37.0,28.0,25.0,44.0,11.0,54.0,52.0,43.0,56.0,37.0,60.0,4.0,51.0,82.0,56.0,60.0,35.0,32.0,45.0,10.0,68.0,51.0,8.0,63.0,4.0,33.0,56.0,49.0,30.0,16.0,1.8,54.0,49.0,17.0,11.0,51.0,74.0,42.0,69.0,22.0,25.0,17.0,64.0,50.0,52.0,65.0,37.0,31.0,52.0,56.0,43.0,11.0,2.0,16.0,23.0,40.0,15.0,48.0,33.0,46.0,53.0,68.0,60.0,57.0,51.0,0.4,76.0,46.0,23.0,9.0,53.0,4.0,62.0,37.0,82.0,33.0,3.0,14.0,16.0,40.0,18.0,29.0,56.0,33.0,2.0,36.0,30.0,31.0,16.0,58.0,19.0,47.0,59.0,40.0,26.0,17.0,30.0,19.0,78.0,55.0,59.0,57.0,33.0,35.0,32.0,55.0,28.0,25.0,45.0,34.0,33.0,65.0,62.0,36.0,31.0,54.0,53.0,44.0,77.0,67.0,48.0,42.0,72.0,49.0,1.32,45.0,63.0,33.0,32.0,0.48,63.0,70.0,57.0,8.0,54.0,37.0,59.0,78.0,59.0,10.0,21.0,2.0,55.0,20.0,38.0,33.0,14.0,32.0,32.0,68.0,70.0,24.0,44.0,39.0,81.0,19.0,69.0,42.0,8.0,8.0,28.0,66.0,66.0,47.0,78.0,65.0,78.0,68.0,78.0,65.0,70.0,59.0,31.0,32.0,5.0,55.0,61.0,48.0,1.16,50.0,63.0,67.0,43.0,59.0,47.0,50.0,51.0,44.0,39.0,24.0,62.0,61.0,78.0,15.0,23.0,79.0,57.0,70.0,9.0,55.0,82.0,19.0,41.0,79.0,23.0,77.0,78.0,24.0,81.0,46.0,29.0,59.0,41.0,17.0,8.0,23.0,45.0,67.0,78.0,18.0,35.0,54.0,71.0,24.0,60.0,75.0,48.0,62.0,20.0,69.0,60.0,12.0,28.0,55.0,70.0,51.0,16.0,56.0,52.0,59.0,9.0,34.0,47.0,46.0,49.0,10.0,76.0,82.0,3.0,76.0,16.0,44.0,17.0,73.0,31.0,17.0,18.0,73.0,8.0,42.0,40.0,79.0,53.0,58.0,48.0,17.0,23.0,9.0,81.0,16.0,21.0,29.0,8.0,39.0,37.0,64.0,9.0,17.0,8.0,62.0,73.0,48.0,17.0,10.0,74.0,62.0,5.0,43.0,39.0,37.0,15.0,36.0,34.0,75.0,53.0,61.0,45.0,17.0,17.0,19.0,54.0,51.0,44.0,82.0,49.0,34.0,63.0,79.0,81.0,14.0,31.0,57.0,32.0,66.0,22.0,1.32,20.0,41.0,48.0,49.0,73.0,19.0,51.0,1.08,31.0,4.0,1.8,44.0,4.0,55.0,34.0,30.0,7.0,75.0,14.0,61.0,55.0,14.0,36.0,57.0,20.0,32.0,43.0,43.0,1.08,49.0,53.0,18.0,13.0,5.0,37.0,49.0,45.0,50.0,12.0,12.0,5.0,39.0,41.0,41.0,47.0,57.0,16.0,3.0,65.0,80.0,58.0,74.0,62.0,33.0,21.0,17.0,49.0,24.0,56.0,26.0,54.0,42.0,34.0,56.0,39.0,77.0,12.0,65.0,7.0,25.0,31.0,14.0,5.0,60.0,53.0,55.0,69.0,39.0,0.32,34.0,80.0,20.0,45.0,41.0,54.0,23.0,75.0,36.0,75.0,72.0,47.0,15.0,40.0,71.0,38.0,10.0,11.0,0.72,9.0,53.0,28.0,81.0,1.32,16.0,24.0,62.0,62.0,59.0,19.0,51.0,38.0,26.0,13.0,4.0,55.0,44.0,31.0,58.0,17.0,23.0,51.0,46.0,81.0,38.0,50.0,34.0,60.0,50.0,49.0,2.0,47.0,34.0,22.0,11.0,54.0,60.0,3.0,46.0,30.0,63.0,50.0,65.0,78.0,36.0,18.0,44.0,4.0,60.0,19.0,15.0,20.0,76.0,31.0,39.0,58.0,64.0,79.0,11.0,4.0,43.0,44.0,37.0,34.0,59.0,40.0,8.0,24.0,18.0,20.0,70.0,68.0,17.0,17.0,21.0,38.0,59.0,79.0,50.0,72.0,54.0,44.0,48.0,29.0,44.0,61.0,58.0,81.0,29.0,5.0,35.0,40.0,37.0,33.0,35.0,38.0,26.0,10.0,72.0,21.0,20.0,1.24,26.0,79.0,78.0,56.0,46.0,55.0,41.0,30.0,53.0,32.0,38.0,33.0,44.0,44.0,51.0,40.0,41.0,5.0,42.0,6.0,46.0,47.0,25.0,40.0,49.0,21.0,61.0,78.0,41.0,82.0,39.0,70.0,31.0,37.0,21.0,80.0,21.0,5.0,81.0,35.0,24.0,52.0,70.0,34.0,17.0,8.0,1.72,29.0,55.0,44.0,19.0,67.0,72.0,51.0,63.0,64.0,0.72,26.0,59.0,76.0,45.0,13.0,1.08,57.0,68.0,9.0,40.0,82.0,45.0,57.0,18.0,13.0,80.0,81.0,35.0,51.0,44.0],\"type\":\"box\",\"xaxis\":\"x2\",\"yaxis\":\"y2\"},{\"name\":\"stroke\",\"y\":[67.0,61.0,80.0,49.0,79.0,81.0,74.0,69.0,59.0,78.0,81.0,61.0,54.0,78.0,79.0,50.0,64.0,75.0,60.0,57.0,71.0,52.0,79.0,82.0,71.0,80.0,65.0,58.0,69.0,59.0,57.0,42.0,82.0,80.0,48.0,82.0,74.0,72.0,58.0,49.0,78.0,54.0,82.0,63.0,60.0,76.0,75.0,58.0,81.0,39.0,76.0,78.0,79.0,77.0,63.0,63.0,82.0,78.0,73.0,54.0,56.0,80.0,67.0,45.0,75.0,78.0,70.0,76.0,59.0,80.0,76.0,67.0,66.0,63.0,52.0,80.0,80.0,79.0,51.0,43.0,59.0,66.0,79.0,68.0,58.0,54.0,61.0,70.0,47.0,74.0,79.0,81.0,57.0,80.0,45.0,78.0,70.0,58.0,57.0,69.0,64.0,77.0,74.0,81.0,57.0,58.0,50.0,54.0,79.0,53.0,79.0,80.0,76.0,45.0,68.0,71.0,61.0,74.0,38.0,77.0,58.0,53.0,80.0,56.0,72.0,72.0,78.0,80.0,82.0,75.0,73.0,78.0,69.0,38.0,68.0,71.0,76.0,76.0,76.0,75.0,82.0,59.0,74.0,69.0,72.0,66.0,65.0,78.0,57.0,70.0,79.0,68.0,80.0,68.0,55.0,77.0,50.0,57.0,71.0,81.0,76.0,71.0,51.0,78.0,70.0,78.0,56.0,79.0,79.0,81.0,64.0,79.0,60.0,80.0,78.0,72.0,80.0,78.0,80.0,81.0,46.0,59.0,32.0,77.0,61.0,63.0,63.0,82.0,82.0,61.0,65.0,51.0,59.0,68.0,72.0,59.0,70.0,69.0,79.0,74.0,74.0,80.0,77.0,78.0,54.0,78.0,81.0,78.0,78.0,63.0,39.0,51.0,63.0,48.0,81.0,79.0,78.0,55.0,76.0,73.0,81.0,79.0,63.0,81.0,49.0,57.0,81.0,74.0,39.0,80.0,81.0,79.0,73.0,77.0,78.0,68.0,57.0,77.0,51.0,60.0,66.0,57.0,68.0,68.0,57.0,51.0,75.0,71.0,78.0],\"type\":\"box\",\"xaxis\":\"x2\",\"yaxis\":\"y2\"}],                        {\"template\":{\"data\":{\"bar\":[{\"error_x\":{\"color\":\"#2a3f5f\"},\"error_y\":{\"color\":\"#2a3f5f\"},\"marker\":{\"line\":{\"color\":\"#E5ECF6\",\"width\":0.5},\"pattern\":{\"fillmode\":\"overlay\",\"size\":10,\"solidity\":0.2}},\"type\":\"bar\"}],\"barpolar\":[{\"marker\":{\"line\":{\"color\":\"#E5ECF6\",\"width\":0.5},\"pattern\":{\"fillmode\":\"overlay\",\"size\":10,\"solidity\":0.2}},\"type\":\"barpolar\"}],\"carpet\":[{\"aaxis\":{\"endlinecolor\":\"#2a3f5f\",\"gridcolor\":\"white\",\"linecolor\":\"white\",\"minorgridcolor\":\"white\",\"startlinecolor\":\"#2a3f5f\"},\"baxis\":{\"endlinecolor\":\"#2a3f5f\",\"gridcolor\":\"white\",\"linecolor\":\"white\",\"minorgridcolor\":\"white\",\"startlinecolor\":\"#2a3f5f\"},\"type\":\"carpet\"}],\"choropleth\":[{\"colorbar\":{\"outlinewidth\":0,\"ticks\":\"\"},\"type\":\"choropleth\"}],\"contour\":[{\"colorbar\":{\"outlinewidth\":0,\"ticks\":\"\"},\"colorscale\":[[0.0,\"#0d0887\"],[0.1111111111111111,\"#46039f\"],[0.2222222222222222,\"#7201a8\"],[0.3333333333333333,\"#9c179e\"],[0.4444444444444444,\"#bd3786\"],[0.5555555555555556,\"#d8576b\"],[0.6666666666666666,\"#ed7953\"],[0.7777777777777778,\"#fb9f3a\"],[0.8888888888888888,\"#fdca26\"],[1.0,\"#f0f921\"]],\"type\":\"contour\"}],\"contourcarpet\":[{\"colorbar\":{\"outlinewidth\":0,\"ticks\":\"\"},\"type\":\"contourcarpet\"}],\"heatmap\":[{\"colorbar\":{\"outlinewidth\":0,\"ticks\":\"\"},\"colorscale\":[[0.0,\"#0d0887\"],[0.1111111111111111,\"#46039f\"],[0.2222222222222222,\"#7201a8\"],[0.3333333333333333,\"#9c179e\"],[0.4444444444444444,\"#bd3786\"],[0.5555555555555556,\"#d8576b\"],[0.6666666666666666,\"#ed7953\"],[0.7777777777777778,\"#fb9f3a\"],[0.8888888888888888,\"#fdca26\"],[1.0,\"#f0f921\"]],\"type\":\"heatmap\"}],\"heatmapgl\":[{\"colorbar\":{\"outlinewidth\":0,\"ticks\":\"\"},\"colorscale\":[[0.0,\"#0d0887\"],[0.1111111111111111,\"#46039f\"],[0.2222222222222222,\"#7201a8\"],[0.3333333333333333,\"#9c179e\"],[0.4444444444444444,\"#bd3786\"],[0.5555555555555556,\"#d8576b\"],[0.6666666666666666,\"#ed7953\"],[0.7777777777777778,\"#fb9f3a\"],[0.8888888888888888,\"#fdca26\"],[1.0,\"#f0f921\"]],\"type\":\"heatmapgl\"}],\"histogram\":[{\"marker\":{\"pattern\":{\"fillmode\":\"overlay\",\"size\":10,\"solidity\":0.2}},\"type\":\"histogram\"}],\"histogram2d\":[{\"colorbar\":{\"outlinewidth\":0,\"ticks\":\"\"},\"colorscale\":[[0.0,\"#0d0887\"],[0.1111111111111111,\"#46039f\"],[0.2222222222222222,\"#7201a8\"],[0.3333333333333333,\"#9c179e\"],[0.4444444444444444,\"#bd3786\"],[0.5555555555555556,\"#d8576b\"],[0.6666666666666666,\"#ed7953\"],[0.7777777777777778,\"#fb9f3a\"],[0.8888888888888888,\"#fdca26\"],[1.0,\"#f0f921\"]],\"type\":\"histogram2d\"}],\"histogram2dcontour\":[{\"colorbar\":{\"outlinewidth\":0,\"ticks\":\"\"},\"colorscale\":[[0.0,\"#0d0887\"],[0.1111111111111111,\"#46039f\"],[0.2222222222222222,\"#7201a8\"],[0.3333333333333333,\"#9c179e\"],[0.4444444444444444,\"#bd3786\"],[0.5555555555555556,\"#d8576b\"],[0.6666666666666666,\"#ed7953\"],[0.7777777777777778,\"#fb9f3a\"],[0.8888888888888888,\"#fdca26\"],[1.0,\"#f0f921\"]],\"type\":\"histogram2dcontour\"}],\"mesh3d\":[{\"colorbar\":{\"outlinewidth\":0,\"ticks\":\"\"},\"type\":\"mesh3d\"}],\"parcoords\":[{\"line\":{\"colorbar\":{\"outlinewidth\":0,\"ticks\":\"\"}},\"type\":\"parcoords\"}],\"pie\":[{\"automargin\":true,\"type\":\"pie\"}],\"scatter\":[{\"marker\":{\"colorbar\":{\"outlinewidth\":0,\"ticks\":\"\"}},\"type\":\"scatter\"}],\"scatter3d\":[{\"line\":{\"colorbar\":{\"outlinewidth\":0,\"ticks\":\"\"}},\"marker\":{\"colorbar\":{\"outlinewidth\":0,\"ticks\":\"\"}},\"type\":\"scatter3d\"}],\"scattercarpet\":[{\"marker\":{\"colorbar\":{\"outlinewidth\":0,\"ticks\":\"\"}},\"type\":\"scattercarpet\"}],\"scattergeo\":[{\"marker\":{\"colorbar\":{\"outlinewidth\":0,\"ticks\":\"\"}},\"type\":\"scattergeo\"}],\"scattergl\":[{\"marker\":{\"colorbar\":{\"outlinewidth\":0,\"ticks\":\"\"}},\"type\":\"scattergl\"}],\"scattermapbox\":[{\"marker\":{\"colorbar\":{\"outlinewidth\":0,\"ticks\":\"\"}},\"type\":\"scattermapbox\"}],\"scatterpolar\":[{\"marker\":{\"colorbar\":{\"outlinewidth\":0,\"ticks\":\"\"}},\"type\":\"scatterpolar\"}],\"scatterpolargl\":[{\"marker\":{\"colorbar\":{\"outlinewidth\":0,\"ticks\":\"\"}},\"type\":\"scatterpolargl\"}],\"scatterternary\":[{\"marker\":{\"colorbar\":{\"outlinewidth\":0,\"ticks\":\"\"}},\"type\":\"scatterternary\"}],\"surface\":[{\"colorbar\":{\"outlinewidth\":0,\"ticks\":\"\"},\"colorscale\":[[0.0,\"#0d0887\"],[0.1111111111111111,\"#46039f\"],[0.2222222222222222,\"#7201a8\"],[0.3333333333333333,\"#9c179e\"],[0.4444444444444444,\"#bd3786\"],[0.5555555555555556,\"#d8576b\"],[0.6666666666666666,\"#ed7953\"],[0.7777777777777778,\"#fb9f3a\"],[0.8888888888888888,\"#fdca26\"],[1.0,\"#f0f921\"]],\"type\":\"surface\"}],\"table\":[{\"cells\":{\"fill\":{\"color\":\"#EBF0F8\"},\"line\":{\"color\":\"white\"}},\"header\":{\"fill\":{\"color\":\"#C8D4E3\"},\"line\":{\"color\":\"white\"}},\"type\":\"table\"}]},\"layout\":{\"annotationdefaults\":{\"arrowcolor\":\"#2a3f5f\",\"arrowhead\":0,\"arrowwidth\":1},\"autotypenumbers\":\"strict\",\"coloraxis\":{\"colorbar\":{\"outlinewidth\":0,\"ticks\":\"\"}},\"colorscale\":{\"diverging\":[[0,\"#8e0152\"],[0.1,\"#c51b7d\"],[0.2,\"#de77ae\"],[0.3,\"#f1b6da\"],[0.4,\"#fde0ef\"],[0.5,\"#f7f7f7\"],[0.6,\"#e6f5d0\"],[0.7,\"#b8e186\"],[0.8,\"#7fbc41\"],[0.9,\"#4d9221\"],[1,\"#276419\"]],\"sequential\":[[0.0,\"#0d0887\"],[0.1111111111111111,\"#46039f\"],[0.2222222222222222,\"#7201a8\"],[0.3333333333333333,\"#9c179e\"],[0.4444444444444444,\"#bd3786\"],[0.5555555555555556,\"#d8576b\"],[0.6666666666666666,\"#ed7953\"],[0.7777777777777778,\"#fb9f3a\"],[0.8888888888888888,\"#fdca26\"],[1.0,\"#f0f921\"]],\"sequentialminus\":[[0.0,\"#0d0887\"],[0.1111111111111111,\"#46039f\"],[0.2222222222222222,\"#7201a8\"],[0.3333333333333333,\"#9c179e\"],[0.4444444444444444,\"#bd3786\"],[0.5555555555555556,\"#d8576b\"],[0.6666666666666666,\"#ed7953\"],[0.7777777777777778,\"#fb9f3a\"],[0.8888888888888888,\"#fdca26\"],[1.0,\"#f0f921\"]]},\"colorway\":[\"#636efa\",\"#EF553B\",\"#00cc96\",\"#ab63fa\",\"#FFA15A\",\"#19d3f3\",\"#FF6692\",\"#B6E880\",\"#FF97FF\",\"#FECB52\"],\"font\":{\"color\":\"#2a3f5f\"},\"geo\":{\"bgcolor\":\"white\",\"lakecolor\":\"white\",\"landcolor\":\"#E5ECF6\",\"showlakes\":true,\"showland\":true,\"subunitcolor\":\"white\"},\"hoverlabel\":{\"align\":\"left\"},\"hovermode\":\"closest\",\"mapbox\":{\"style\":\"light\"},\"paper_bgcolor\":\"white\",\"plot_bgcolor\":\"#E5ECF6\",\"polar\":{\"angularaxis\":{\"gridcolor\":\"white\",\"linecolor\":\"white\",\"ticks\":\"\"},\"bgcolor\":\"#E5ECF6\",\"radialaxis\":{\"gridcolor\":\"white\",\"linecolor\":\"white\",\"ticks\":\"\"}},\"scene\":{\"xaxis\":{\"backgroundcolor\":\"#E5ECF6\",\"gridcolor\":\"white\",\"gridwidth\":2,\"linecolor\":\"white\",\"showbackground\":true,\"ticks\":\"\",\"zerolinecolor\":\"white\"},\"yaxis\":{\"backgroundcolor\":\"#E5ECF6\",\"gridcolor\":\"white\",\"gridwidth\":2,\"linecolor\":\"white\",\"showbackground\":true,\"ticks\":\"\",\"zerolinecolor\":\"white\"},\"zaxis\":{\"backgroundcolor\":\"#E5ECF6\",\"gridcolor\":\"white\",\"gridwidth\":2,\"linecolor\":\"white\",\"showbackground\":true,\"ticks\":\"\",\"zerolinecolor\":\"white\"}},\"shapedefaults\":{\"line\":{\"color\":\"#2a3f5f\"}},\"ternary\":{\"aaxis\":{\"gridcolor\":\"white\",\"linecolor\":\"white\",\"ticks\":\"\"},\"baxis\":{\"gridcolor\":\"white\",\"linecolor\":\"white\",\"ticks\":\"\"},\"bgcolor\":\"#E5ECF6\",\"caxis\":{\"gridcolor\":\"white\",\"linecolor\":\"white\",\"ticks\":\"\"}},\"title\":{\"x\":0.05},\"xaxis\":{\"automargin\":true,\"gridcolor\":\"white\",\"linecolor\":\"white\",\"ticks\":\"\",\"title\":{\"standoff\":15},\"zerolinecolor\":\"white\",\"zerolinewidth\":2},\"yaxis\":{\"automargin\":true,\"gridcolor\":\"white\",\"linecolor\":\"white\",\"ticks\":\"\",\"title\":{\"standoff\":15},\"zerolinecolor\":\"white\",\"zerolinewidth\":2}}},\"xaxis\":{\"anchor\":\"y\",\"domain\":[0.0,0.45]},\"yaxis\":{\"anchor\":\"x\",\"domain\":[0.0,1.0]},\"xaxis2\":{\"anchor\":\"y2\",\"domain\":[0.55,1.0]},\"yaxis2\":{\"anchor\":\"x2\",\"domain\":[0.0,1.0]},\"barmode\":\"overlay\",\"title\":{\"text\":\"Histogram and Boxplot with classes for age\"}},                        {\"responsive\": true}                    ).then(function(){\n",
              "                            \n",
              "var gd = document.getElementById('788d0eef-22d2-4dd1-ae4d-6665c014d525');\n",
              "var x = new MutationObserver(function (mutations, observer) {{\n",
              "        var display = window.getComputedStyle(gd).display;\n",
              "        if (!display || display === 'none') {{\n",
              "            console.log([gd, 'removed!']);\n",
              "            Plotly.purge(gd);\n",
              "            observer.disconnect();\n",
              "        }}\n",
              "}});\n",
              "\n",
              "// Listen for the removal of the full notebook cells\n",
              "var notebookContainer = gd.closest('#notebook-container');\n",
              "if (notebookContainer) {{\n",
              "    x.observe(notebookContainer, {childList: true});\n",
              "}}\n",
              "\n",
              "// Listen for the clearing of the current output cell\n",
              "var outputEl = gd.closest('.output');\n",
              "if (outputEl) {{\n",
              "    x.observe(outputEl, {childList: true});\n",
              "}}\n",
              "\n",
              "                        })                };                            </script>        </div>\n",
              "</body>\n",
              "</html>"
            ]
          },
          "metadata": {}
        },
        {
          "output_type": "stream",
          "name": "stdout",
          "text": [
            "<class 'pandas.core.frame.DataFrame'>\n",
            "Int64Index: 5109 entries, 249 to 248\n",
            "Data columns (total 18 columns):\n",
            " #   Column                   Non-Null Count  Dtype  \n",
            "---  ------                   --------------  -----  \n",
            " 0   id                       5109 non-null   int64  \n",
            " 1   gender                   5109 non-null   object \n",
            " 2   age                      5109 non-null   float64\n",
            " 3   hypertension             5109 non-null   int64  \n",
            " 4   heart_disease            5109 non-null   int64  \n",
            " 5   ever_married             5109 non-null   object \n",
            " 6   work_type                5109 non-null   object \n",
            " 7   Residence_type           5109 non-null   object \n",
            " 8   avg_glucose_level        5109 non-null   float64\n",
            " 9   bmi                      4908 non-null   float64\n",
            " 10  smoking_status           5109 non-null   object \n",
            " 11  stroke                   5109 non-null   int64  \n",
            " 12  bmi_no_nan               5109 non-null   float64\n",
            " 13  bmi_no_outliers          5109 non-null   float64\n",
            " 14  log_bmi_no_outliers      5109 non-null   float64\n",
            " 15  bmi_categorical          5109 non-null   object \n",
            " 16  bmi_categorical_encoded  5109 non-null   float64\n",
            " 17  is_female                5109 non-null   int64  \n",
            "dtypes: float64(7), int64(5), object(6)\n",
            "memory usage: 758.4+ KB\n"
          ]
        }
      ]
    },
    {
      "cell_type": "markdown",
      "source": [
        "### ever_married\n",
        "- zakodowanie zmiennej"
      ],
      "metadata": {
        "id": "cQVveF2necxC"
      }
    },
    {
      "cell_type": "code",
      "source": [
        "df_clear.loc[df_clear.ever_married == 'Yes', 'is_married'] = 1\n",
        "df_clear.loc[df_clear.ever_married == 'No', 'is_married'] = 0\n",
        "df_clear.is_married = df_clear.is_married.astype('int')\n",
        "\n",
        "df_clear.info()"
      ],
      "metadata": {
        "id": "dl7CQA7MegGK",
        "colab": {
          "base_uri": "https://localhost:8080/"
        },
        "outputId": "b14be6ea-6180-4bcf-ddc1-7fc0bb773532"
      },
      "execution_count": null,
      "outputs": [
        {
          "output_type": "stream",
          "name": "stdout",
          "text": [
            "<class 'pandas.core.frame.DataFrame'>\n",
            "Int64Index: 5109 entries, 249 to 248\n",
            "Data columns (total 19 columns):\n",
            " #   Column                   Non-Null Count  Dtype  \n",
            "---  ------                   --------------  -----  \n",
            " 0   id                       5109 non-null   int64  \n",
            " 1   gender                   5109 non-null   object \n",
            " 2   age                      5109 non-null   float64\n",
            " 3   hypertension             5109 non-null   int64  \n",
            " 4   heart_disease            5109 non-null   int64  \n",
            " 5   ever_married             5109 non-null   object \n",
            " 6   work_type                5109 non-null   object \n",
            " 7   Residence_type           5109 non-null   object \n",
            " 8   avg_glucose_level        5109 non-null   float64\n",
            " 9   bmi                      4908 non-null   float64\n",
            " 10  smoking_status           5109 non-null   object \n",
            " 11  stroke                   5109 non-null   int64  \n",
            " 12  bmi_no_nan               5109 non-null   float64\n",
            " 13  bmi_no_outliers          5109 non-null   float64\n",
            " 14  log_bmi_no_outliers      5109 non-null   float64\n",
            " 15  bmi_categorical          5109 non-null   object \n",
            " 16  bmi_categorical_encoded  5109 non-null   float64\n",
            " 17  is_female                5109 non-null   int64  \n",
            " 18  is_married               5109 non-null   int64  \n",
            "dtypes: float64(7), int64(6), object(6)\n",
            "memory usage: 798.3+ KB\n"
          ]
        }
      ]
    },
    {
      "cell_type": "markdown",
      "source": [
        "### work_type\n",
        "- zakodowanie zmiennej"
      ],
      "metadata": {
        "id": "TEhw0SJte7sW"
      }
    },
    {
      "cell_type": "code",
      "source": [
        "le = preprocessing.LabelEncoder()\n",
        "le.fit(df_clear.work_type)\n",
        "df_clear['work_type_encoded'] = le.transform(df_clear.work_type)\n",
        "df_clear.info()"
      ],
      "metadata": {
        "id": "0fD66H1Re-MD",
        "colab": {
          "base_uri": "https://localhost:8080/"
        },
        "outputId": "4b6d3b93-f23b-44ea-c493-1b319f63c641"
      },
      "execution_count": null,
      "outputs": [
        {
          "output_type": "stream",
          "name": "stdout",
          "text": [
            "<class 'pandas.core.frame.DataFrame'>\n",
            "Int64Index: 5109 entries, 249 to 248\n",
            "Data columns (total 20 columns):\n",
            " #   Column                   Non-Null Count  Dtype  \n",
            "---  ------                   --------------  -----  \n",
            " 0   id                       5109 non-null   int64  \n",
            " 1   gender                   5109 non-null   object \n",
            " 2   age                      5109 non-null   float64\n",
            " 3   hypertension             5109 non-null   int64  \n",
            " 4   heart_disease            5109 non-null   int64  \n",
            " 5   ever_married             5109 non-null   object \n",
            " 6   work_type                5109 non-null   object \n",
            " 7   Residence_type           5109 non-null   object \n",
            " 8   avg_glucose_level        5109 non-null   float64\n",
            " 9   bmi                      4908 non-null   float64\n",
            " 10  smoking_status           5109 non-null   object \n",
            " 11  stroke                   5109 non-null   int64  \n",
            " 12  bmi_no_nan               5109 non-null   float64\n",
            " 13  bmi_no_outliers          5109 non-null   float64\n",
            " 14  log_bmi_no_outliers      5109 non-null   float64\n",
            " 15  bmi_categorical          5109 non-null   object \n",
            " 16  bmi_categorical_encoded  5109 non-null   float64\n",
            " 17  is_female                5109 non-null   int64  \n",
            " 18  is_married               5109 non-null   int64  \n",
            " 19  work_type_encoded        5109 non-null   int64  \n",
            "dtypes: float64(7), int64(7), object(6)\n",
            "memory usage: 838.2+ KB\n"
          ]
        }
      ]
    },
    {
      "cell_type": "markdown",
      "source": [
        "### Residence_type\n",
        "- zakodowanie zmiennej"
      ],
      "metadata": {
        "id": "jOhq3R3LgGGT"
      }
    },
    {
      "cell_type": "code",
      "source": [
        "df_clear.loc[df_clear.Residence_type == 'Rural', 'is_rural'] = 1\n",
        "df_clear.loc[df_clear.Residence_type == 'Urban', 'is_rural'] = 0 \n",
        "df_clear.is_rural = df_clear.is_rural.astype('int')\n",
        "\n",
        "df_clear.info()"
      ],
      "metadata": {
        "id": "B5qBntOUeu_X",
        "colab": {
          "base_uri": "https://localhost:8080/"
        },
        "outputId": "0bff15b4-57a7-4e6d-d31c-8bc244221b79"
      },
      "execution_count": null,
      "outputs": [
        {
          "output_type": "stream",
          "name": "stdout",
          "text": [
            "<class 'pandas.core.frame.DataFrame'>\n",
            "Int64Index: 5109 entries, 249 to 248\n",
            "Data columns (total 21 columns):\n",
            " #   Column                   Non-Null Count  Dtype  \n",
            "---  ------                   --------------  -----  \n",
            " 0   id                       5109 non-null   int64  \n",
            " 1   gender                   5109 non-null   object \n",
            " 2   age                      5109 non-null   float64\n",
            " 3   hypertension             5109 non-null   int64  \n",
            " 4   heart_disease            5109 non-null   int64  \n",
            " 5   ever_married             5109 non-null   object \n",
            " 6   work_type                5109 non-null   object \n",
            " 7   Residence_type           5109 non-null   object \n",
            " 8   avg_glucose_level        5109 non-null   float64\n",
            " 9   bmi                      4908 non-null   float64\n",
            " 10  smoking_status           5109 non-null   object \n",
            " 11  stroke                   5109 non-null   int64  \n",
            " 12  bmi_no_nan               5109 non-null   float64\n",
            " 13  bmi_no_outliers          5109 non-null   float64\n",
            " 14  log_bmi_no_outliers      5109 non-null   float64\n",
            " 15  bmi_categorical          5109 non-null   object \n",
            " 16  bmi_categorical_encoded  5109 non-null   float64\n",
            " 17  is_female                5109 non-null   int64  \n",
            " 18  is_married               5109 non-null   int64  \n",
            " 19  work_type_encoded        5109 non-null   int64  \n",
            " 20  is_rural                 5109 non-null   int64  \n",
            "dtypes: float64(7), int64(8), object(6)\n",
            "memory usage: 878.1+ KB\n"
          ]
        }
      ]
    },
    {
      "cell_type": "markdown",
      "source": [
        "### avg_glucose_level\n",
        "- stworzenie nowej zmiennej kategorycznej na podstawie istniejącej zmiennej numerycznej oraz zakodowanie jej\n",
        "- dodanie zmiennej numerycznej bez danych odstających poprzez wykrycie ich metodą IQR oraz ograniczenie ich wartości na 0.9 kwantyl oraz 0.1 kwantyl\n",
        "- log-transformacja zmiennej oraz wykrycie ich metodą IQR oraz ograniczenie ich wartości na 0.9 kwantyl oraz 0.1 kwantyl"
      ],
      "metadata": {
        "id": "v41c-_BEhXJ7"
      }
    },
    {
      "cell_type": "code",
      "source": [
        "#nowa zmienna kategoryczna zgodnie ze wskaźnikami BMI\n",
        "df_clear.loc[(df_clear.avg_glucose_level < 140), 'glucose_categorical'] = 'normal'\n",
        "df_clear.loc[(df_clear.avg_glucose_level >= 140) & (df_clear.avg_glucose_level <= 199), 'glucose_categorical'] = 'prediabetes'\n",
        "df_clear.loc[(df_clear.avg_glucose_level > 199), 'glucose_categorical'] = 'diabetes'\n",
        "\n",
        "#kodowanie\n",
        "le_gl = preprocessing.LabelEncoder()\n",
        "le_gl.fit(df_clear.glucose_categorical)\n",
        "df_clear['glucose_categorical_encoded'] = le_gl.transform(df_clear.glucose_categorical)\n",
        "df_clear.info()\n",
        "\n",
        "#zmienna numeryczna bez outlierów\n",
        "df_clear['glucose_no_outliers'] = df_clear.avg_glucose_level\n",
        "df_clear = iqr_outliers(df_clear, 'glucose_no_outliers')\n",
        "\n",
        "#log-transformacja bez outlierów\n",
        "df_clear['log_glucose_no_outliers'] = np.log(df_clear.avg_glucose_level)\n",
        "df_clear = iqr_outliers(df_clear, 'log_glucose_no_outliers')"
      ],
      "metadata": {
        "id": "LVqJVwTuhj0F",
        "colab": {
          "base_uri": "https://localhost:8080/"
        },
        "outputId": "a3aa4c64-eee9-4a06-9bcb-08e4d08db584"
      },
      "execution_count": null,
      "outputs": [
        {
          "output_type": "stream",
          "name": "stdout",
          "text": [
            "<class 'pandas.core.frame.DataFrame'>\n",
            "Int64Index: 5109 entries, 249 to 248\n",
            "Data columns (total 23 columns):\n",
            " #   Column                       Non-Null Count  Dtype  \n",
            "---  ------                       --------------  -----  \n",
            " 0   id                           5109 non-null   int64  \n",
            " 1   gender                       5109 non-null   object \n",
            " 2   age                          5109 non-null   float64\n",
            " 3   hypertension                 5109 non-null   int64  \n",
            " 4   heart_disease                5109 non-null   int64  \n",
            " 5   ever_married                 5109 non-null   object \n",
            " 6   work_type                    5109 non-null   object \n",
            " 7   Residence_type               5109 non-null   object \n",
            " 8   avg_glucose_level            5109 non-null   float64\n",
            " 9   bmi                          4908 non-null   float64\n",
            " 10  smoking_status               5109 non-null   object \n",
            " 11  stroke                       5109 non-null   int64  \n",
            " 12  bmi_no_nan                   5109 non-null   float64\n",
            " 13  bmi_no_outliers              5109 non-null   float64\n",
            " 14  log_bmi_no_outliers          5109 non-null   float64\n",
            " 15  bmi_categorical              5109 non-null   object \n",
            " 16  bmi_categorical_encoded      5109 non-null   float64\n",
            " 17  is_female                    5109 non-null   int64  \n",
            " 18  is_married                   5109 non-null   int64  \n",
            " 19  work_type_encoded            5109 non-null   int64  \n",
            " 20  is_rural                     5109 non-null   int64  \n",
            " 21  glucose_categorical          5109 non-null   object \n",
            " 22  glucose_categorical_encoded  5109 non-null   int64  \n",
            "dtypes: float64(7), int64(9), object(7)\n",
            "memory usage: 957.9+ KB\n"
          ]
        }
      ]
    },
    {
      "cell_type": "code",
      "source": [
        "for col, types in zip(['glucose_categorical', 'glucose_no_outliers', 'log_glucose_no_outliers'], ['class_hist','class_hist_box','class_hist_box']):\n",
        "  plotting(data = df_clear, x=col, type=types)"
      ],
      "metadata": {
        "id": "VqzZEB3TjJkn"
      },
      "execution_count": null,
      "outputs": []
    },
    {
      "cell_type": "markdown",
      "source": [
        "Najbardziej liczna jest grupa osób z prawidłowym kategorią średniego poziomu glukozy we krwi i to tam również najliczniej występują osoby z udarem mózgu (zaliczono tam także I stopień otyłości). \n",
        "\n",
        "W kontekście kategoryzacji zmiennej otrzymano raczej spadek informacji, gdyż została jedna najliczniejsza grupa osób z udarem oraz pozostałe z podobną licznością. Co więcej, jak wspomniano, ciężko jednoznacznie wpisać w kategorie gdyż nie znamy właściwości pomiaru cukru, jak też dodatkowych chorób pacjentów takich jak cukrzyca. \n",
        "\n",
        "Widzimy także, że metoda IQR z imputacją zamiast usunięcia danych dalej zachowała pewne dane odstające. Jednakże przy skorzystaniu z log-transformacji, są to nieliczne wartości mocno zbliżone do wartości górnej. Mając to na uwadze, jak też fakt spadku informacji po kategoryzacji ograniczymy się do tej zmiennej. "
      ],
      "metadata": {
        "id": "E1NGMgl7kDYW"
      }
    },
    {
      "cell_type": "markdown",
      "source": [
        "### smoking_status\n",
        "- stworzenie nowej grupy 'Underage' dla osób niepełnoletnich\n",
        "- zakodowanie zmiennej"
      ],
      "metadata": {
        "id": "YB9jr_m_k1-E"
      }
    },
    {
      "cell_type": "code",
      "source": [
        "df_clear['smoking_status_new'] = df_clear.smoking_status\n",
        "df_clear.loc[df_clear.age <= 18, 'smoking_status_new'] = 'underage'\n",
        "print(\"Grupa 'Unknown' stanowi %.2f procent obserwacji całościowego zbioru\" % (len(df_clear[df_clear.smoking_status_new == 'underage'])/len(df_clear)))\n",
        "plotting(data=df_clear, x='smoking_status_new', type='class_hist')"
      ],
      "metadata": {
        "id": "FldJQ5d0w0PZ",
        "colab": {
          "base_uri": "https://localhost:8080/",
          "height": 577
        },
        "outputId": "876702aa-795c-4758-ab73-82aae86c25bc"
      },
      "execution_count": null,
      "outputs": [
        {
          "output_type": "stream",
          "name": "stdout",
          "text": [
            "Grupa 'Unknown' stanowi 0.18 procent obserwacji całościowego zbioru\n"
          ]
        },
        {
          "output_type": "display_data",
          "data": {
            "text/html": [
              "<html>\n",
              "<head><meta charset=\"utf-8\" /></head>\n",
              "<body>\n",
              "    <div>            <script src=\"https://cdnjs.cloudflare.com/ajax/libs/mathjax/2.7.5/MathJax.js?config=TeX-AMS-MML_SVG\"></script><script type=\"text/javascript\">if (window.MathJax) {MathJax.Hub.Config({SVG: {font: \"STIX-Web\"}});}</script>                <script type=\"text/javascript\">window.PlotlyConfig = {MathJaxConfig: 'local'};</script>\n",
              "        <script src=\"https://cdn.plot.ly/plotly-2.8.3.min.js\"></script>                <div id=\"03747789-4e51-4dcd-ae48-cbed08936782\" class=\"plotly-graph-div\" style=\"height:525px; width:100%;\"></div>            <script type=\"text/javascript\">                                    window.PLOTLYENV=window.PLOTLYENV || {};                                    if (document.getElementById(\"03747789-4e51-4dcd-ae48-cbed08936782\")) {                    Plotly.newPlot(                        \"03747789-4e51-4dcd-ae48-cbed08936782\",                        [{\"name\":\"No stroke\",\"x\":[\"underage\",\"never smoked\",\"underage\",\"formerly smoked\",\"underage\",\"Unknown\",\"formerly smoked\",\"never smoked\",\"smokes\",\"never smoked\",\"Unknown\",\"formerly smoked\",\"never smoked\",\"formerly smoked\",\"never smoked\",\"never smoked\",\"smokes\",\"never smoked\",\"smokes\",\"smokes\",\"Unknown\",\"smokes\",\"smokes\",\"formerly smoked\",\"never smoked\",\"never smoked\",\"smokes\",\"never smoked\",\"never smoked\",\"never smoked\",\"Unknown\",\"Unknown\",\"smokes\",\"underage\",\"Unknown\",\"underage\",\"formerly smoked\",\"never smoked\",\"Unknown\",\"underage\",\"smokes\",\"underage\",\"underage\",\"underage\",\"formerly smoked\",\"Unknown\",\"smokes\",\"never smoked\",\"smokes\",\"never smoked\",\"Unknown\",\"Unknown\",\"formerly smoked\",\"never smoked\",\"smokes\",\"smokes\",\"smokes\",\"underage\",\"Unknown\",\"smokes\",\"formerly smoked\",\"Unknown\",\"Unknown\",\"Unknown\",\"smokes\",\"never smoked\",\"formerly smoked\",\"formerly smoked\",\"never smoked\",\"formerly smoked\",\"never smoked\",\"Unknown\",\"underage\",\"Unknown\",\"Unknown\",\"formerly smoked\",\"formerly smoked\",\"never smoked\",\"underage\",\"smokes\",\"underage\",\"never smoked\",\"formerly smoked\",\"smokes\",\"formerly smoked\",\"Unknown\",\"underage\",\"Unknown\",\"never smoked\",\"never smoked\",\"never smoked\",\"never smoked\",\"formerly smoked\",\"formerly smoked\",\"formerly smoked\",\"never smoked\",\"never smoked\",\"never smoked\",\"formerly smoked\",\"never smoked\",\"smokes\",\"formerly smoked\",\"never smoked\",\"never smoked\",\"never smoked\",\"smokes\",\"never smoked\",\"smokes\",\"never smoked\",\"never smoked\",\"smokes\",\"never smoked\",\"never smoked\",\"formerly smoked\",\"underage\",\"Unknown\",\"formerly smoked\",\"never smoked\",\"never smoked\",\"never smoked\",\"underage\",\"never smoked\",\"underage\",\"never smoked\",\"formerly smoked\",\"smokes\",\"never smoked\",\"underage\",\"Unknown\",\"underage\",\"formerly smoked\",\"underage\",\"never smoked\",\"never smoked\",\"underage\",\"underage\",\"never smoked\",\"never smoked\",\"never smoked\",\"formerly smoked\",\"formerly smoked\",\"never smoked\",\"smokes\",\"never smoked\",\"never smoked\",\"never smoked\",\"underage\",\"never smoked\",\"never smoked\",\"smokes\",\"formerly smoked\",\"underage\",\"underage\",\"Unknown\",\"smokes\",\"Unknown\",\"never smoked\",\"Unknown\",\"never smoked\",\"never smoked\",\"Unknown\",\"underage\",\"never smoked\",\"smokes\",\"Unknown\",\"underage\",\"smokes\",\"underage\",\"never smoked\",\"never smoked\",\"never smoked\",\"Unknown\",\"underage\",\"Unknown\",\"formerly smoked\",\"never smoked\",\"underage\",\"never smoked\",\"smokes\",\"smokes\",\"formerly smoked\",\"never smoked\",\"formerly smoked\",\"smokes\",\"never smoked\",\"never smoked\",\"never smoked\",\"formerly smoked\",\"underage\",\"formerly smoked\",\"never smoked\",\"never smoked\",\"never smoked\",\"Unknown\",\"Unknown\",\"Unknown\",\"underage\",\"Unknown\",\"never smoked\",\"Unknown\",\"never smoked\",\"smokes\",\"underage\",\"never smoked\",\"Unknown\",\"never smoked\",\"underage\",\"formerly smoked\",\"smokes\",\"Unknown\",\"underage\",\"underage\",\"underage\",\"formerly smoked\",\"never smoked\",\"never smoked\",\"smokes\",\"smokes\",\"never smoked\",\"never smoked\",\"Unknown\",\"never smoked\",\"underage\",\"smokes\",\"never smoked\",\"smokes\",\"never smoked\",\"Unknown\",\"Unknown\",\"formerly smoked\",\"smokes\",\"underage\",\"Unknown\",\"Unknown\",\"underage\",\"smokes\",\"never smoked\",\"never smoked\",\"Unknown\",\"formerly smoked\",\"Unknown\",\"Unknown\",\"formerly smoked\",\"Unknown\",\"never smoked\",\"formerly smoked\",\"never smoked\",\"underage\",\"underage\",\"underage\",\"smokes\",\"formerly smoked\",\"formerly smoked\",\"never smoked\",\"Unknown\",\"smokes\",\"smokes\",\"formerly smoked\",\"Unknown\",\"Unknown\",\"never smoked\",\"formerly smoked\",\"smokes\",\"smokes\",\"smokes\",\"smokes\",\"smokes\",\"never smoked\",\"formerly smoked\",\"Unknown\",\"underage\",\"never smoked\",\"never smoked\",\"smokes\",\"never smoked\",\"never smoked\",\"underage\",\"never smoked\",\"never smoked\",\"formerly smoked\",\"Unknown\",\"formerly smoked\",\"never smoked\",\"Unknown\",\"never smoked\",\"Unknown\",\"underage\",\"never smoked\",\"Unknown\",\"underage\",\"Unknown\",\"never smoked\",\"formerly smoked\",\"formerly smoked\",\"Unknown\",\"never smoked\",\"underage\",\"underage\",\"smokes\",\"never smoked\",\"never smoked\",\"underage\",\"formerly smoked\",\"Unknown\",\"never smoked\",\"underage\",\"never smoked\",\"never smoked\",\"Unknown\",\"underage\",\"never smoked\",\"underage\",\"never smoked\",\"underage\",\"never smoked\",\"underage\",\"never smoked\",\"Unknown\",\"formerly smoked\",\"Unknown\",\"never smoked\",\"never smoked\",\"formerly smoked\",\"formerly smoked\",\"smokes\",\"underage\",\"never smoked\",\"smokes\",\"smokes\",\"formerly smoked\",\"never smoked\",\"formerly smoked\",\"underage\",\"Unknown\",\"formerly smoked\",\"underage\",\"formerly smoked\",\"Unknown\",\"never smoked\",\"formerly smoked\",\"smokes\",\"Unknown\",\"smokes\",\"never smoked\",\"never smoked\",\"smokes\",\"smokes\",\"formerly smoked\",\"underage\",\"underage\",\"never smoked\",\"never smoked\",\"never smoked\",\"never smoked\",\"never smoked\",\"smokes\",\"underage\",\"never smoked\",\"underage\",\"smokes\",\"underage\",\"Unknown\",\"never smoked\",\"Unknown\",\"smokes\",\"never smoked\",\"Unknown\",\"never smoked\",\"smokes\",\"formerly smoked\",\"smokes\",\"never smoked\",\"never smoked\",\"never smoked\",\"Unknown\",\"smokes\",\"never smoked\",\"smokes\",\"never smoked\",\"never smoked\",\"smokes\",\"never smoked\",\"never smoked\",\"never smoked\",\"Unknown\",\"Unknown\",\"never smoked\",\"formerly smoked\",\"never smoked\",\"formerly smoked\",\"Unknown\",\"never smoked\",\"underage\",\"formerly smoked\",\"never smoked\",\"never smoked\",\"Unknown\",\"formerly smoked\",\"formerly smoked\",\"smokes\",\"never smoked\",\"never smoked\",\"formerly smoked\",\"formerly smoked\",\"formerly smoked\",\"formerly smoked\",\"never smoked\",\"underage\",\"underage\",\"never smoked\",\"smokes\",\"Unknown\",\"never smoked\",\"Unknown\",\"never smoked\",\"never smoked\",\"never smoked\",\"never smoked\",\"underage\",\"formerly smoked\",\"Unknown\",\"never smoked\",\"never smoked\",\"underage\",\"never smoked\",\"underage\",\"never smoked\",\"formerly smoked\",\"smokes\",\"Unknown\",\"never smoked\",\"never smoked\",\"underage\",\"never smoked\",\"underage\",\"underage\",\"Unknown\",\"formerly smoked\",\"formerly smoked\",\"never smoked\",\"never smoked\",\"never smoked\",\"Unknown\",\"underage\",\"underage\",\"formerly smoked\",\"never smoked\",\"underage\",\"Unknown\",\"smokes\",\"never smoked\",\"never smoked\",\"never smoked\",\"never smoked\",\"smokes\",\"Unknown\",\"smokes\",\"smokes\",\"formerly smoked\",\"formerly smoked\",\"formerly smoked\",\"Unknown\",\"formerly smoked\",\"never smoked\",\"formerly smoked\",\"Unknown\",\"never smoked\",\"smokes\",\"underage\",\"never smoked\",\"formerly smoked\",\"formerly smoked\",\"Unknown\",\"underage\",\"smokes\",\"smokes\",\"smokes\",\"smokes\",\"never smoked\",\"underage\",\"never smoked\",\"underage\",\"never smoked\",\"formerly smoked\",\"underage\",\"smokes\",\"never smoked\",\"never smoked\",\"smokes\",\"Unknown\",\"smokes\",\"never smoked\",\"never smoked\",\"underage\",\"smokes\",\"never smoked\",\"never smoked\",\"smokes\",\"never smoked\",\"never smoked\",\"never smoked\",\"underage\",\"formerly smoked\",\"Unknown\",\"underage\",\"Unknown\",\"Unknown\",\"underage\",\"never smoked\",\"never smoked\",\"formerly smoked\",\"Unknown\",\"never smoked\",\"underage\",\"never smoked\",\"smokes\",\"never smoked\",\"never smoked\",\"Unknown\",\"smokes\",\"smokes\",\"never smoked\",\"never smoked\",\"Unknown\",\"never smoked\",\"formerly smoked\",\"underage\",\"never smoked\",\"formerly smoked\",\"never smoked\",\"never smoked\",\"underage\",\"formerly smoked\",\"never smoked\",\"underage\",\"never smoked\",\"Unknown\",\"formerly smoked\",\"never smoked\",\"never smoked\",\"never smoked\",\"never smoked\",\"Unknown\",\"underage\",\"never smoked\",\"smokes\",\"formerly smoked\",\"never smoked\",\"never smoked\",\"smokes\",\"underage\",\"smokes\",\"never smoked\",\"formerly smoked\",\"formerly smoked\",\"Unknown\",\"Unknown\",\"never smoked\",\"never smoked\",\"Unknown\",\"never smoked\",\"never smoked\",\"Unknown\",\"never smoked\",\"never smoked\",\"underage\",\"smokes\",\"never smoked\",\"underage\",\"formerly smoked\",\"never smoked\",\"Unknown\",\"formerly smoked\",\"formerly smoked\",\"never smoked\",\"never smoked\",\"smokes\",\"never smoked\",\"never smoked\",\"Unknown\",\"never smoked\",\"underage\",\"never smoked\",\"Unknown\",\"underage\",\"smokes\",\"formerly smoked\",\"formerly smoked\",\"never smoked\",\"never smoked\",\"never smoked\",\"underage\",\"never smoked\",\"formerly smoked\",\"never smoked\",\"underage\",\"never smoked\",\"never smoked\",\"never smoked\",\"Unknown\",\"formerly smoked\",\"underage\",\"smokes\",\"underage\",\"never smoked\",\"never smoked\",\"smokes\",\"underage\",\"never smoked\",\"smokes\",\"smokes\",\"smokes\",\"never smoked\",\"smokes\",\"formerly smoked\",\"never smoked\",\"smokes\",\"never smoked\",\"never smoked\",\"Unknown\",\"never smoked\",\"formerly smoked\",\"never smoked\",\"underage\",\"never smoked\",\"never smoked\",\"formerly smoked\",\"never smoked\",\"underage\",\"never smoked\",\"formerly smoked\",\"never smoked\",\"formerly smoked\",\"smokes\",\"underage\",\"formerly smoked\",\"formerly smoked\",\"never smoked\",\"never smoked\",\"never smoked\",\"formerly smoked\",\"smokes\",\"never smoked\",\"never smoked\",\"underage\",\"formerly smoked\",\"Unknown\",\"smokes\",\"never smoked\",\"Unknown\",\"never smoked\",\"never smoked\",\"smokes\",\"Unknown\",\"smokes\",\"formerly smoked\",\"never smoked\",\"formerly smoked\",\"never smoked\",\"smokes\",\"Unknown\",\"Unknown\",\"smokes\",\"formerly smoked\",\"underage\",\"smokes\",\"formerly smoked\",\"formerly smoked\",\"formerly smoked\",\"Unknown\",\"underage\",\"smokes\",\"underage\",\"underage\",\"smokes\",\"never smoked\",\"underage\",\"Unknown\",\"Unknown\",\"smokes\",\"formerly smoked\",\"never smoked\",\"never smoked\",\"never smoked\",\"never smoked\",\"never smoked\",\"never smoked\",\"never smoked\",\"Unknown\",\"never smoked\",\"underage\",\"never smoked\",\"never smoked\",\"never smoked\",\"never smoked\",\"Unknown\",\"never smoked\",\"never smoked\",\"smokes\",\"smokes\",\"never smoked\",\"underage\",\"underage\",\"smokes\",\"underage\",\"never smoked\",\"smokes\",\"underage\",\"underage\",\"smokes\",\"underage\",\"never smoked\",\"underage\",\"Unknown\",\"never smoked\",\"never smoked\",\"formerly smoked\",\"never smoked\",\"never smoked\",\"smokes\",\"never smoked\",\"formerly smoked\",\"never smoked\",\"underage\",\"Unknown\",\"underage\",\"smokes\",\"formerly smoked\",\"underage\",\"never smoked\",\"smokes\",\"underage\",\"never smoked\",\"underage\",\"smokes\",\"never smoked\",\"never smoked\",\"underage\",\"formerly smoked\",\"Unknown\",\"Unknown\",\"formerly smoked\",\"Unknown\",\"formerly smoked\",\"Unknown\",\"never smoked\",\"underage\",\"underage\",\"never smoked\",\"Unknown\",\"underage\",\"never smoked\",\"never smoked\",\"never smoked\",\"never smoked\",\"formerly smoked\",\"smokes\",\"underage\",\"Unknown\",\"Unknown\",\"underage\",\"never smoked\",\"formerly smoked\",\"underage\",\"Unknown\",\"Unknown\",\"smokes\",\"formerly smoked\",\"never smoked\",\"Unknown\",\"never smoked\",\"Unknown\",\"never smoked\",\"never smoked\",\"never smoked\",\"never smoked\",\"Unknown\",\"formerly smoked\",\"smokes\",\"never smoked\",\"never smoked\",\"smokes\",\"never smoked\",\"underage\",\"smokes\",\"smokes\",\"formerly smoked\",\"never smoked\",\"never smoked\",\"never smoked\",\"underage\",\"Unknown\",\"smokes\",\"never smoked\",\"formerly smoked\",\"never smoked\",\"Unknown\",\"Unknown\",\"underage\",\"formerly smoked\",\"never smoked\",\"smokes\",\"never smoked\",\"formerly smoked\",\"never smoked\",\"formerly smoked\",\"never smoked\",\"underage\",\"never smoked\",\"never smoked\",\"formerly smoked\",\"never smoked\",\"formerly smoked\",\"Unknown\",\"underage\",\"Unknown\",\"formerly smoked\",\"never smoked\",\"never smoked\",\"Unknown\",\"underage\",\"never smoked\",\"Unknown\",\"never smoked\",\"never smoked\",\"underage\",\"never smoked\",\"never smoked\",\"formerly smoked\",\"never smoked\",\"smokes\",\"never smoked\",\"Unknown\",\"never smoked\",\"formerly smoked\",\"never smoked\",\"never smoked\",\"Unknown\",\"never smoked\",\"formerly smoked\",\"Unknown\",\"never smoked\",\"Unknown\",\"formerly smoked\",\"underage\",\"smokes\",\"underage\",\"Unknown\",\"formerly smoked\",\"Unknown\",\"Unknown\",\"never smoked\",\"underage\",\"smokes\",\"Unknown\",\"Unknown\",\"never smoked\",\"never smoked\",\"never smoked\",\"Unknown\",\"never smoked\",\"formerly smoked\",\"underage\",\"Unknown\",\"smokes\",\"never smoked\",\"underage\",\"smokes\",\"formerly smoked\",\"smokes\",\"Unknown\",\"never smoked\",\"never smoked\",\"formerly smoked\",\"underage\",\"underage\",\"never smoked\",\"Unknown\",\"never smoked\",\"formerly smoked\",\"never smoked\",\"formerly smoked\",\"never smoked\",\"underage\",\"smokes\",\"underage\",\"Unknown\",\"Unknown\",\"underage\",\"formerly smoked\",\"never smoked\",\"never smoked\",\"Unknown\",\"smokes\",\"underage\",\"never smoked\",\"underage\",\"Unknown\",\"never smoked\",\"formerly smoked\",\"never smoked\",\"never smoked\",\"smokes\",\"never smoked\",\"never smoked\",\"never smoked\",\"underage\",\"smokes\",\"formerly smoked\",\"never smoked\",\"underage\",\"smokes\",\"formerly smoked\",\"Unknown\",\"never smoked\",\"formerly smoked\",\"never smoked\",\"Unknown\",\"Unknown\",\"never smoked\",\"underage\",\"smokes\",\"never smoked\",\"smokes\",\"never smoked\",\"underage\",\"never smoked\",\"formerly smoked\",\"never smoked\",\"formerly smoked\",\"smokes\",\"formerly smoked\",\"formerly smoked\",\"underage\",\"Unknown\",\"never smoked\",\"underage\",\"never smoked\",\"never smoked\",\"never smoked\",\"Unknown\",\"never smoked\",\"never smoked\",\"never smoked\",\"smokes\",\"underage\",\"never smoked\",\"never smoked\",\"underage\",\"formerly smoked\",\"smokes\",\"Unknown\",\"smokes\",\"formerly smoked\",\"formerly smoked\",\"never smoked\",\"smokes\",\"underage\",\"formerly smoked\",\"never smoked\",\"Unknown\",\"Unknown\",\"never smoked\",\"never smoked\",\"Unknown\",\"formerly smoked\",\"smokes\",\"formerly smoked\",\"Unknown\",\"underage\",\"formerly smoked\",\"never smoked\",\"never smoked\",\"underage\",\"underage\",\"smokes\",\"Unknown\",\"formerly smoked\",\"never smoked\",\"never smoked\",\"formerly smoked\",\"never smoked\",\"underage\",\"never smoked\",\"smokes\",\"never smoked\",\"formerly smoked\",\"formerly smoked\",\"never smoked\",\"Unknown\",\"smokes\",\"formerly smoked\",\"formerly smoked\",\"underage\",\"underage\",\"underage\",\"never smoked\",\"underage\",\"smokes\",\"Unknown\",\"underage\",\"never smoked\",\"underage\",\"underage\",\"underage\",\"never smoked\",\"never smoked\",\"never smoked\",\"Unknown\",\"Unknown\",\"never smoked\",\"smokes\",\"smokes\",\"formerly smoked\",\"smokes\",\"never smoked\",\"underage\",\"never smoked\",\"formerly smoked\",\"never smoked\",\"formerly smoked\",\"underage\",\"never smoked\",\"Unknown\",\"never smoked\",\"Unknown\",\"never smoked\",\"never smoked\",\"underage\",\"underage\",\"never smoked\",\"formerly smoked\",\"underage\",\"Unknown\",\"formerly smoked\",\"never smoked\",\"formerly smoked\",\"Unknown\",\"underage\",\"Unknown\",\"never smoked\",\"smokes\",\"never smoked\",\"underage\",\"smokes\",\"never smoked\",\"never smoked\",\"never smoked\",\"never smoked\",\"underage\",\"Unknown\",\"Unknown\",\"underage\",\"never smoked\",\"Unknown\",\"Unknown\",\"never smoked\",\"never smoked\",\"never smoked\",\"formerly smoked\",\"formerly smoked\",\"never smoked\",\"never smoked\",\"underage\",\"smokes\",\"never smoked\",\"never smoked\",\"never smoked\",\"underage\",\"never smoked\",\"never smoked\",\"smokes\",\"formerly smoked\",\"never smoked\",\"never smoked\",\"Unknown\",\"never smoked\",\"formerly smoked\",\"Unknown\",\"Unknown\",\"never smoked\",\"never smoked\",\"formerly smoked\",\"never smoked\",\"formerly smoked\",\"formerly smoked\",\"never smoked\",\"never smoked\",\"Unknown\",\"underage\",\"never smoked\",\"never smoked\",\"never smoked\",\"formerly smoked\",\"formerly smoked\",\"smokes\",\"smokes\",\"never smoked\",\"never smoked\",\"never smoked\",\"smokes\",\"formerly smoked\",\"never smoked\",\"smokes\",\"never smoked\",\"smokes\",\"Unknown\",\"never smoked\",\"never smoked\",\"underage\",\"underage\",\"Unknown\",\"Unknown\",\"formerly smoked\",\"formerly smoked\",\"underage\",\"Unknown\",\"underage\",\"formerly smoked\",\"never smoked\",\"never smoked\",\"underage\",\"underage\",\"Unknown\",\"formerly smoked\",\"Unknown\",\"underage\",\"never smoked\",\"smokes\",\"smokes\",\"never smoked\",\"underage\",\"never smoked\",\"smokes\",\"never smoked\",\"formerly smoked\",\"formerly smoked\",\"underage\",\"never smoked\",\"smokes\",\"underage\",\"underage\",\"Unknown\",\"underage\",\"never smoked\",\"smokes\",\"never smoked\",\"underage\",\"formerly smoked\",\"never smoked\",\"never smoked\",\"smokes\",\"Unknown\",\"Unknown\",\"never smoked\",\"Unknown\",\"underage\",\"underage\",\"smokes\",\"underage\",\"formerly smoked\",\"never smoked\",\"smokes\",\"never smoked\",\"Unknown\",\"Unknown\",\"smokes\",\"never smoked\",\"never smoked\",\"smokes\",\"smokes\",\"Unknown\",\"underage\",\"underage\",\"never smoked\",\"underage\",\"underage\",\"underage\",\"smokes\",\"never smoked\",\"underage\",\"underage\",\"never smoked\",\"underage\",\"formerly smoked\",\"formerly smoked\",\"formerly smoked\",\"formerly smoked\",\"never smoked\",\"never smoked\",\"never smoked\",\"smokes\",\"formerly smoked\",\"underage\",\"smokes\",\"never smoked\",\"underage\",\"never smoked\",\"never smoked\",\"never smoked\",\"never smoked\",\"underage\",\"never smoked\",\"never smoked\",\"never smoked\",\"smokes\",\"underage\",\"never smoked\",\"smokes\",\"never smoked\",\"formerly smoked\",\"formerly smoked\",\"never smoked\",\"underage\",\"never smoked\",\"underage\",\"Unknown\",\"formerly smoked\",\"underage\",\"smokes\",\"underage\",\"underage\",\"underage\",\"never smoked\",\"formerly smoked\",\"never smoked\",\"smokes\",\"never smoked\",\"never smoked\",\"never smoked\",\"never smoked\",\"formerly smoked\",\"formerly smoked\",\"never smoked\",\"underage\",\"underage\",\"formerly smoked\",\"underage\",\"never smoked\",\"underage\",\"Unknown\",\"Unknown\",\"never smoked\",\"never smoked\",\"underage\",\"formerly smoked\",\"never smoked\",\"Unknown\",\"formerly smoked\",\"Unknown\",\"underage\",\"smokes\",\"never smoked\",\"never smoked\",\"formerly smoked\",\"Unknown\",\"formerly smoked\",\"Unknown\",\"Unknown\",\"formerly smoked\",\"Unknown\",\"smokes\",\"smokes\",\"underage\",\"underage\",\"never smoked\",\"never smoked\",\"never smoked\",\"never smoked\",\"smokes\",\"never smoked\",\"formerly smoked\",\"smokes\",\"formerly smoked\",\"never smoked\",\"smokes\",\"Unknown\",\"smokes\",\"Unknown\",\"smokes\",\"Unknown\",\"smokes\",\"never smoked\",\"formerly smoked\",\"never smoked\",\"never smoked\",\"never smoked\",\"underage\",\"smokes\",\"never smoked\",\"smokes\",\"Unknown\",\"smokes\",\"never smoked\",\"never smoked\",\"formerly smoked\",\"smokes\",\"never smoked\",\"Unknown\",\"underage\",\"never smoked\",\"Unknown\",\"never smoked\",\"smokes\",\"smokes\",\"never smoked\",\"underage\",\"never smoked\",\"never smoked\",\"underage\",\"Unknown\",\"never smoked\",\"formerly smoked\",\"never smoked\",\"never smoked\",\"formerly smoked\",\"underage\",\"Unknown\",\"smokes\",\"smokes\",\"Unknown\",\"smokes\",\"formerly smoked\",\"underage\",\"never smoked\",\"formerly smoked\",\"underage\",\"formerly smoked\",\"never smoked\",\"formerly smoked\",\"never smoked\",\"never smoked\",\"never smoked\",\"never smoked\",\"never smoked\",\"never smoked\",\"formerly smoked\",\"smokes\",\"underage\",\"Unknown\",\"underage\",\"underage\",\"never smoked\",\"never smoked\",\"never smoked\",\"never smoked\",\"never smoked\",\"Unknown\",\"underage\",\"never smoked\",\"Unknown\",\"underage\",\"smokes\",\"Unknown\",\"formerly smoked\",\"never smoked\",\"Unknown\",\"smokes\",\"Unknown\",\"smokes\",\"underage\",\"underage\",\"Unknown\",\"underage\",\"formerly smoked\",\"underage\",\"smokes\",\"Unknown\",\"formerly smoked\",\"Unknown\",\"underage\",\"never smoked\",\"Unknown\",\"Unknown\",\"underage\",\"never smoked\",\"formerly smoked\",\"smokes\",\"smokes\",\"formerly smoked\",\"Unknown\",\"formerly smoked\",\"never smoked\",\"underage\",\"underage\",\"smokes\",\"formerly smoked\",\"never smoked\",\"formerly smoked\",\"smokes\",\"formerly smoked\",\"Unknown\",\"never smoked\",\"formerly smoked\",\"never smoked\",\"formerly smoked\",\"never smoked\",\"formerly smoked\",\"underage\",\"never smoked\",\"never smoked\",\"never smoked\",\"smokes\",\"Unknown\",\"smokes\",\"smokes\",\"smokes\",\"formerly smoked\",\"never smoked\",\"Unknown\",\"never smoked\",\"smokes\",\"formerly smoked\",\"never smoked\",\"never smoked\",\"never smoked\",\"never smoked\",\"underage\",\"smokes\",\"underage\",\"Unknown\",\"Unknown\",\"Unknown\",\"formerly smoked\",\"never smoked\",\"formerly smoked\",\"never smoked\",\"smokes\",\"formerly smoked\",\"never smoked\",\"formerly smoked\",\"Unknown\",\"formerly smoked\",\"formerly smoked\",\"formerly smoked\",\"underage\",\"smokes\",\"underage\",\"smokes\",\"never smoked\",\"never smoked\",\"never smoked\",\"smokes\",\"never smoked\",\"Unknown\",\"never smoked\",\"formerly smoked\",\"Unknown\",\"smokes\",\"smokes\",\"formerly smoked\",\"Unknown\",\"underage\",\"underage\",\"never smoked\",\"never smoked\",\"never smoked\",\"formerly smoked\",\"Unknown\",\"underage\",\"Unknown\",\"smokes\",\"never smoked\",\"never smoked\",\"Unknown\",\"underage\",\"Unknown\",\"Unknown\",\"never smoked\",\"formerly smoked\",\"formerly smoked\",\"Unknown\",\"Unknown\",\"never smoked\",\"formerly smoked\",\"underage\",\"smokes\",\"underage\",\"formerly smoked\",\"underage\",\"never smoked\",\"smokes\",\"smokes\",\"formerly smoked\",\"smokes\",\"formerly smoked\",\"formerly smoked\",\"smokes\",\"never smoked\",\"formerly smoked\",\"underage\",\"never smoked\",\"never smoked\",\"never smoked\",\"never smoked\",\"underage\",\"never smoked\",\"smokes\",\"smokes\",\"never smoked\",\"smokes\",\"formerly smoked\",\"formerly smoked\",\"smokes\",\"formerly smoked\",\"never smoked\",\"Unknown\",\"smokes\",\"Unknown\",\"underage\",\"formerly smoked\",\"never smoked\",\"formerly smoked\",\"Unknown\",\"underage\",\"Unknown\",\"underage\",\"smokes\",\"underage\",\"smokes\",\"never smoked\",\"smokes\",\"never smoked\",\"Unknown\",\"Unknown\",\"underage\",\"never smoked\",\"smokes\",\"underage\",\"never smoked\",\"smokes\",\"never smoked\",\"never smoked\",\"never smoked\",\"underage\",\"Unknown\",\"formerly smoked\",\"formerly smoked\",\"never smoked\",\"Unknown\",\"underage\",\"never smoked\",\"underage\",\"formerly smoked\",\"formerly smoked\",\"underage\",\"formerly smoked\",\"Unknown\",\"never smoked\",\"never smoked\",\"Unknown\",\"smokes\",\"never smoked\",\"formerly smoked\",\"never smoked\",\"never smoked\",\"Unknown\",\"underage\",\"smokes\",\"underage\",\"underage\",\"Unknown\",\"Unknown\",\"Unknown\",\"never smoked\",\"Unknown\",\"smokes\",\"Unknown\",\"formerly smoked\",\"smokes\",\"formerly smoked\",\"never smoked\",\"underage\",\"Unknown\",\"never smoked\",\"underage\",\"never smoked\",\"underage\",\"never smoked\",\"formerly smoked\",\"Unknown\",\"never smoked\",\"underage\",\"smokes\",\"underage\",\"smokes\",\"never smoked\",\"smokes\",\"smokes\",\"smokes\",\"Unknown\",\"never smoked\",\"underage\",\"Unknown\",\"formerly smoked\",\"Unknown\",\"Unknown\",\"underage\",\"never smoked\",\"Unknown\",\"underage\",\"never smoked\",\"underage\",\"Unknown\",\"smokes\",\"never smoked\",\"smokes\",\"smokes\",\"never smoked\",\"never smoked\",\"Unknown\",\"formerly smoked\",\"never smoked\",\"smokes\",\"underage\",\"smokes\",\"never smoked\",\"underage\",\"Unknown\",\"Unknown\",\"Unknown\",\"smokes\",\"smokes\",\"smokes\",\"never smoked\",\"Unknown\",\"formerly smoked\",\"never smoked\",\"underage\",\"formerly smoked\",\"never smoked\",\"never smoked\",\"Unknown\",\"smokes\",\"formerly smoked\",\"smokes\",\"smokes\",\"never smoked\",\"formerly smoked\",\"never smoked\",\"formerly smoked\",\"never smoked\",\"formerly smoked\",\"never smoked\",\"never smoked\",\"Unknown\",\"never smoked\",\"smokes\",\"Unknown\",\"never smoked\",\"never smoked\",\"underage\",\"never smoked\",\"never smoked\",\"smokes\",\"Unknown\",\"never smoked\",\"formerly smoked\",\"formerly smoked\",\"never smoked\",\"Unknown\",\"underage\",\"formerly smoked\",\"never smoked\",\"never smoked\",\"never smoked\",\"never smoked\",\"smokes\",\"underage\",\"smokes\",\"underage\",\"formerly smoked\",\"smokes\",\"underage\",\"Unknown\",\"never smoked\",\"formerly smoked\",\"never smoked\",\"underage\",\"underage\",\"underage\",\"never smoked\",\"Unknown\",\"never smoked\",\"Unknown\",\"never smoked\",\"smokes\",\"never smoked\",\"never smoked\",\"never smoked\",\"Unknown\",\"never smoked\",\"never smoked\",\"underage\",\"formerly smoked\",\"never smoked\",\"never smoked\",\"smokes\",\"never smoked\",\"underage\",\"never smoked\",\"underage\",\"Unknown\",\"formerly smoked\",\"never smoked\",\"formerly smoked\",\"never smoked\",\"underage\",\"underage\",\"underage\",\"underage\",\"underage\",\"never smoked\",\"formerly smoked\",\"never smoked\",\"smokes\",\"underage\",\"Unknown\",\"formerly smoked\",\"smokes\",\"formerly smoked\",\"formerly smoked\",\"Unknown\",\"never smoked\",\"underage\",\"Unknown\",\"underage\",\"underage\",\"never smoked\",\"formerly smoked\",\"never smoked\",\"underage\",\"smokes\",\"never smoked\",\"never smoked\",\"Unknown\",\"Unknown\",\"never smoked\",\"underage\",\"Unknown\",\"Unknown\",\"underage\",\"formerly smoked\",\"smokes\",\"Unknown\",\"never smoked\",\"never smoked\",\"Unknown\",\"smokes\",\"formerly smoked\",\"underage\",\"never smoked\",\"formerly smoked\",\"never smoked\",\"Unknown\",\"never smoked\",\"never smoked\",\"smokes\",\"Unknown\",\"underage\",\"never smoked\",\"Unknown\",\"formerly smoked\",\"underage\",\"underage\",\"smokes\",\"underage\",\"never smoked\",\"formerly smoked\",\"smokes\",\"never smoked\",\"smokes\",\"Unknown\",\"Unknown\",\"Unknown\",\"Unknown\",\"formerly smoked\",\"Unknown\",\"Unknown\",\"never smoked\",\"Unknown\",\"underage\",\"Unknown\",\"never smoked\",\"smokes\",\"never smoked\",\"smokes\",\"underage\",\"never smoked\",\"Unknown\",\"smokes\",\"Unknown\",\"smokes\",\"underage\",\"underage\",\"Unknown\",\"underage\",\"Unknown\",\"smokes\",\"never smoked\",\"never smoked\",\"underage\",\"never smoked\",\"smokes\",\"never smoked\",\"never smoked\",\"never smoked\",\"underage\",\"never smoked\",\"never smoked\",\"formerly smoked\",\"never smoked\",\"Unknown\",\"underage\",\"formerly smoked\",\"never smoked\",\"never smoked\",\"Unknown\",\"formerly smoked\",\"never smoked\",\"smokes\",\"smokes\",\"never smoked\",\"formerly smoked\",\"underage\",\"underage\",\"smokes\",\"underage\",\"never smoked\",\"formerly smoked\",\"underage\",\"never smoked\",\"formerly smoked\",\"smokes\",\"smokes\",\"never smoked\",\"formerly smoked\",\"never smoked\",\"smokes\",\"never smoked\",\"never smoked\",\"underage\",\"underage\",\"never smoked\",\"never smoked\",\"Unknown\",\"never smoked\",\"smokes\",\"Unknown\",\"formerly smoked\",\"Unknown\",\"never smoked\",\"Unknown\",\"formerly smoked\",\"formerly smoked\",\"never smoked\",\"formerly smoked\",\"formerly smoked\",\"formerly smoked\",\"smokes\",\"smokes\",\"formerly smoked\",\"formerly smoked\",\"underage\",\"underage\",\"Unknown\",\"never smoked\",\"underage\",\"never smoked\",\"smokes\",\"formerly smoked\",\"smokes\",\"never smoked\",\"smokes\",\"Unknown\",\"Unknown\",\"never smoked\",\"never smoked\",\"smokes\",\"underage\",\"formerly smoked\",\"never smoked\",\"never smoked\",\"formerly smoked\",\"underage\",\"Unknown\",\"smokes\",\"Unknown\",\"Unknown\",\"formerly smoked\",\"formerly smoked\",\"formerly smoked\",\"never smoked\",\"never smoked\",\"Unknown\",\"smokes\",\"never smoked\",\"underage\",\"never smoked\",\"underage\",\"never smoked\",\"Unknown\",\"smokes\",\"underage\",\"Unknown\",\"underage\",\"formerly smoked\",\"never smoked\",\"underage\",\"formerly smoked\",\"never smoked\",\"smokes\",\"never smoked\",\"Unknown\",\"underage\",\"smokes\",\"underage\",\"Unknown\",\"formerly smoked\",\"formerly smoked\",\"underage\",\"Unknown\",\"underage\",\"formerly smoked\",\"smokes\",\"formerly smoked\",\"underage\",\"formerly smoked\",\"underage\",\"formerly smoked\",\"never smoked\",\"never smoked\",\"underage\",\"smokes\",\"Unknown\",\"smokes\",\"formerly smoked\",\"underage\",\"never smoked\",\"never smoked\",\"never smoked\",\"smokes\",\"underage\",\"never smoked\",\"never smoked\",\"underage\",\"underage\",\"formerly smoked\",\"never smoked\",\"smokes\",\"never smoked\",\"smokes\",\"never smoked\",\"never smoked\",\"never smoked\",\"never smoked\",\"smokes\",\"smokes\",\"Unknown\",\"formerly smoked\",\"never smoked\",\"formerly smoked\",\"formerly smoked\",\"Unknown\",\"underage\",\"formerly smoked\",\"Unknown\",\"never smoked\",\"underage\",\"Unknown\",\"never smoked\",\"never smoked\",\"never smoked\",\"underage\",\"Unknown\",\"formerly smoked\",\"formerly smoked\",\"formerly smoked\",\"never smoked\",\"never smoked\",\"smokes\",\"underage\",\"Unknown\",\"never smoked\",\"smokes\",\"never smoked\",\"never smoked\",\"never smoked\",\"never smoked\",\"Unknown\",\"never smoked\",\"underage\",\"underage\",\"underage\",\"smokes\",\"never smoked\",\"underage\",\"never smoked\",\"underage\",\"never smoked\",\"underage\",\"never smoked\",\"never smoked\",\"never smoked\",\"never smoked\",\"underage\",\"formerly smoked\",\"smokes\",\"never smoked\",\"underage\",\"underage\",\"Unknown\",\"formerly smoked\",\"never smoked\",\"smokes\",\"formerly smoked\",\"formerly smoked\",\"Unknown\",\"never smoked\",\"underage\",\"Unknown\",\"never smoked\",\"never smoked\",\"smokes\",\"never smoked\",\"never smoked\",\"never smoked\",\"underage\",\"formerly smoked\",\"formerly smoked\",\"Unknown\",\"formerly smoked\",\"never smoked\",\"never smoked\",\"never smoked\",\"never smoked\",\"smokes\",\"Unknown\",\"never smoked\",\"smokes\",\"underage\",\"never smoked\",\"underage\",\"never smoked\",\"smokes\",\"smokes\",\"never smoked\",\"formerly smoked\",\"smokes\",\"never smoked\",\"Unknown\",\"underage\",\"smokes\",\"formerly smoked\",\"smokes\",\"underage\",\"underage\",\"Unknown\",\"smokes\",\"underage\",\"formerly smoked\",\"underage\",\"underage\",\"never smoked\",\"underage\",\"smokes\",\"Unknown\",\"smokes\",\"smokes\",\"formerly smoked\",\"never smoked\",\"smokes\",\"Unknown\",\"smokes\",\"underage\",\"smokes\",\"Unknown\",\"never smoked\",\"formerly smoked\",\"never smoked\",\"underage\",\"Unknown\",\"formerly smoked\",\"smokes\",\"underage\",\"smokes\",\"formerly smoked\",\"never smoked\",\"never smoked\",\"smokes\",\"never smoked\",\"Unknown\",\"never smoked\",\"Unknown\",\"never smoked\",\"never smoked\",\"formerly smoked\",\"underage\",\"underage\",\"underage\",\"never smoked\",\"never smoked\",\"formerly smoked\",\"formerly smoked\",\"underage\",\"never smoked\",\"smokes\",\"smokes\",\"Unknown\",\"underage\",\"smokes\",\"formerly smoked\",\"Unknown\",\"smokes\",\"smokes\",\"underage\",\"Unknown\",\"Unknown\",\"formerly smoked\",\"Unknown\",\"formerly smoked\",\"underage\",\"smokes\",\"smokes\",\"never smoked\",\"Unknown\",\"never smoked\",\"formerly smoked\",\"Unknown\",\"Unknown\",\"underage\",\"never smoked\",\"never smoked\",\"never smoked\",\"Unknown\",\"smokes\",\"never smoked\",\"formerly smoked\",\"never smoked\",\"underage\",\"underage\",\"Unknown\",\"underage\",\"never smoked\",\"Unknown\",\"Unknown\",\"formerly smoked\",\"smokes\",\"underage\",\"never smoked\",\"never smoked\",\"smokes\",\"Unknown\",\"Unknown\",\"never smoked\",\"smokes\",\"never smoked\",\"Unknown\",\"never smoked\",\"never smoked\",\"Unknown\",\"never smoked\",\"underage\",\"never smoked\",\"smokes\",\"smokes\",\"smokes\",\"smokes\",\"never smoked\",\"Unknown\",\"smokes\",\"formerly smoked\",\"smokes\",\"never smoked\",\"underage\",\"never smoked\",\"underage\",\"underage\",\"never smoked\",\"never smoked\",\"underage\",\"formerly smoked\",\"smokes\",\"underage\",\"smokes\",\"never smoked\",\"never smoked\",\"underage\",\"underage\",\"smokes\",\"smokes\",\"never smoked\",\"smokes\",\"Unknown\",\"underage\",\"never smoked\",\"never smoked\",\"never smoked\",\"never smoked\",\"Unknown\",\"never smoked\",\"underage\",\"never smoked\",\"never smoked\",\"formerly smoked\",\"smokes\",\"underage\",\"smokes\",\"underage\",\"never smoked\",\"never smoked\",\"Unknown\",\"never smoked\",\"never smoked\",\"never smoked\",\"formerly smoked\",\"smokes\",\"Unknown\",\"formerly smoked\",\"Unknown\",\"Unknown\",\"never smoked\",\"underage\",\"underage\",\"formerly smoked\",\"underage\",\"never smoked\",\"never smoked\",\"Unknown\",\"underage\",\"underage\",\"underage\",\"underage\",\"never smoked\",\"Unknown\",\"underage\",\"underage\",\"never smoked\",\"smokes\",\"underage\",\"smokes\",\"underage\",\"never smoked\",\"Unknown\",\"formerly smoked\",\"smokes\",\"Unknown\",\"never smoked\",\"never smoked\",\"underage\",\"Unknown\",\"never smoked\",\"never smoked\",\"never smoked\",\"never smoked\",\"smokes\",\"never smoked\",\"formerly smoked\",\"smokes\",\"Unknown\",\"never smoked\",\"formerly smoked\",\"formerly smoked\",\"smokes\",\"smokes\",\"underage\",\"never smoked\",\"never smoked\",\"smokes\",\"formerly smoked\",\"formerly smoked\",\"formerly smoked\",\"smokes\",\"smokes\",\"Unknown\",\"Unknown\",\"smokes\",\"underage\",\"formerly smoked\",\"never smoked\",\"smokes\",\"underage\",\"underage\",\"Unknown\",\"formerly smoked\",\"never smoked\",\"Unknown\",\"smokes\",\"formerly smoked\",\"underage\",\"never smoked\",\"never smoked\",\"never smoked\",\"underage\",\"underage\",\"smokes\",\"Unknown\",\"never smoked\",\"never smoked\",\"smokes\",\"formerly smoked\",\"formerly smoked\",\"never smoked\",\"formerly smoked\",\"never smoked\",\"underage\",\"Unknown\",\"Unknown\",\"never smoked\",\"smokes\",\"never smoked\",\"underage\",\"never smoked\",\"Unknown\",\"never smoked\",\"never smoked\",\"formerly smoked\",\"underage\",\"formerly smoked\",\"never smoked\",\"Unknown\",\"never smoked\",\"never smoked\",\"formerly smoked\",\"never smoked\",\"Unknown\",\"never smoked\",\"never smoked\",\"never smoked\",\"smokes\",\"underage\",\"never smoked\",\"never smoked\",\"never smoked\",\"never smoked\",\"Unknown\",\"never smoked\",\"Unknown\",\"never smoked\",\"underage\",\"never smoked\",\"underage\",\"Unknown\",\"never smoked\",\"underage\",\"Unknown\",\"underage\",\"Unknown\",\"never smoked\",\"never smoked\",\"never smoked\",\"formerly smoked\",\"formerly smoked\",\"formerly smoked\",\"formerly smoked\",\"formerly smoked\",\"underage\",\"Unknown\",\"formerly smoked\",\"never smoked\",\"never smoked\",\"smokes\",\"Unknown\",\"never smoked\",\"never smoked\",\"formerly smoked\",\"Unknown\",\"smokes\",\"never smoked\",\"Unknown\",\"underage\",\"underage\",\"smokes\",\"formerly smoked\",\"Unknown\",\"formerly smoked\",\"Unknown\",\"smokes\",\"never smoked\",\"smokes\",\"formerly smoked\",\"underage\",\"never smoked\",\"formerly smoked\",\"never smoked\",\"Unknown\",\"formerly smoked\",\"never smoked\",\"formerly smoked\",\"smokes\",\"Unknown\",\"smokes\",\"never smoked\",\"never smoked\",\"Unknown\",\"underage\",\"never smoked\",\"smokes\",\"smokes\",\"smokes\",\"underage\",\"Unknown\",\"never smoked\",\"underage\",\"underage\",\"smokes\",\"Unknown\",\"formerly smoked\",\"never smoked\",\"smokes\",\"underage\",\"underage\",\"Unknown\",\"never smoked\",\"underage\",\"never smoked\",\"smokes\",\"formerly smoked\",\"underage\",\"formerly smoked\",\"never smoked\",\"formerly smoked\",\"Unknown\",\"formerly smoked\",\"formerly smoked\",\"never smoked\",\"formerly smoked\",\"never smoked\",\"Unknown\",\"formerly smoked\",\"underage\",\"never smoked\",\"underage\",\"formerly smoked\",\"Unknown\",\"Unknown\",\"Unknown\",\"smokes\",\"underage\",\"Unknown\",\"smokes\",\"never smoked\",\"smokes\",\"underage\",\"never smoked\",\"Unknown\",\"never smoked\",\"Unknown\",\"never smoked\",\"Unknown\",\"formerly smoked\",\"formerly smoked\",\"never smoked\",\"never smoked\",\"never smoked\",\"smokes\",\"smokes\",\"formerly smoked\",\"never smoked\",\"underage\",\"smokes\",\"never smoked\",\"formerly smoked\",\"formerly smoked\",\"never smoked\",\"underage\",\"never smoked\",\"underage\",\"underage\",\"never smoked\",\"formerly smoked\",\"formerly smoked\",\"underage\",\"formerly smoked\",\"smokes\",\"smokes\",\"underage\",\"formerly smoked\",\"formerly smoked\",\"smokes\",\"underage\",\"smokes\",\"never smoked\",\"never smoked\",\"underage\",\"smokes\",\"formerly smoked\",\"never smoked\",\"never smoked\",\"smokes\",\"underage\",\"underage\",\"never smoked\",\"formerly smoked\",\"never smoked\",\"underage\",\"Unknown\",\"never smoked\",\"underage\",\"smokes\",\"never smoked\",\"formerly smoked\",\"formerly smoked\",\"smokes\",\"underage\",\"Unknown\",\"underage\",\"never smoked\",\"Unknown\",\"Unknown\",\"never smoked\",\"never smoked\",\"formerly smoked\",\"underage\",\"Unknown\",\"never smoked\",\"never smoked\",\"never smoked\",\"formerly smoked\",\"Unknown\",\"formerly smoked\",\"never smoked\",\"formerly smoked\",\"formerly smoked\",\"formerly smoked\",\"Unknown\",\"formerly smoked\",\"underage\",\"formerly smoked\",\"never smoked\",\"underage\",\"smokes\",\"underage\",\"never smoked\",\"never smoked\",\"Unknown\",\"Unknown\",\"formerly smoked\",\"smokes\",\"underage\",\"smokes\",\"underage\",\"Unknown\",\"never smoked\",\"smokes\",\"underage\",\"never smoked\",\"formerly smoked\",\"Unknown\",\"Unknown\",\"never smoked\",\"never smoked\",\"underage\",\"never smoked\",\"underage\",\"Unknown\",\"underage\",\"smokes\",\"never smoked\",\"underage\",\"Unknown\",\"never smoked\",\"smokes\",\"underage\",\"never smoked\",\"formerly smoked\",\"never smoked\",\"formerly smoked\",\"never smoked\",\"smokes\",\"underage\",\"never smoked\",\"Unknown\",\"smokes\",\"Unknown\",\"never smoked\",\"smokes\",\"Unknown\",\"underage\",\"formerly smoked\",\"smokes\",\"formerly smoked\",\"smokes\",\"smokes\",\"smokes\",\"Unknown\",\"never smoked\",\"Unknown\",\"never smoked\",\"never smoked\",\"never smoked\",\"Unknown\",\"never smoked\",\"smokes\",\"underage\",\"smokes\",\"underage\",\"never smoked\",\"formerly smoked\",\"formerly smoked\",\"never smoked\",\"never smoked\",\"Unknown\",\"Unknown\",\"never smoked\",\"underage\",\"smokes\",\"underage\",\"Unknown\",\"underage\",\"never smoked\",\"smokes\",\"underage\",\"never smoked\",\"formerly smoked\",\"never smoked\",\"never smoked\",\"never smoked\",\"Unknown\",\"formerly smoked\",\"smokes\",\"never smoked\",\"underage\",\"Unknown\",\"smokes\",\"Unknown\",\"underage\",\"formerly smoked\",\"Unknown\",\"never smoked\",\"smokes\",\"never smoked\",\"Unknown\",\"smokes\",\"formerly smoked\",\"formerly smoked\",\"formerly smoked\",\"never smoked\",\"underage\",\"Unknown\",\"underage\",\"Unknown\",\"formerly smoked\",\"underage\",\"never smoked\",\"never smoked\",\"never smoked\",\"smokes\",\"never smoked\",\"underage\",\"never smoked\",\"never smoked\",\"formerly smoked\",\"never smoked\",\"Unknown\",\"never smoked\",\"smokes\",\"formerly smoked\",\"never smoked\",\"never smoked\",\"never smoked\",\"smokes\",\"underage\",\"never smoked\",\"never smoked\",\"smokes\",\"formerly smoked\",\"never smoked\",\"underage\",\"smokes\",\"smokes\",\"never smoked\",\"underage\",\"smokes\",\"never smoked\",\"never smoked\",\"Unknown\",\"never smoked\",\"underage\",\"underage\",\"underage\",\"formerly smoked\",\"never smoked\",\"Unknown\",\"never smoked\",\"formerly smoked\",\"never smoked\",\"underage\",\"never smoked\",\"formerly smoked\",\"formerly smoked\",\"formerly smoked\",\"Unknown\",\"Unknown\",\"never smoked\",\"never smoked\",\"never smoked\",\"underage\",\"never smoked\",\"formerly smoked\",\"smokes\",\"underage\",\"smokes\",\"Unknown\",\"smokes\",\"underage\",\"never smoked\",\"underage\",\"never smoked\",\"underage\",\"Unknown\",\"formerly smoked\",\"smokes\",\"formerly smoked\",\"smokes\",\"smokes\",\"Unknown\",\"never smoked\",\"Unknown\",\"never smoked\",\"smokes\",\"Unknown\",\"formerly smoked\",\"underage\",\"smokes\",\"formerly smoked\",\"never smoked\",\"smokes\",\"Unknown\",\"smokes\",\"formerly smoked\",\"smokes\",\"Unknown\",\"never smoked\",\"formerly smoked\",\"underage\",\"never smoked\",\"formerly smoked\",\"underage\",\"never smoked\",\"never smoked\",\"formerly smoked\",\"never smoked\",\"never smoked\",\"formerly smoked\",\"never smoked\",\"formerly smoked\",\"smokes\",\"formerly smoked\",\"formerly smoked\",\"underage\",\"formerly smoked\",\"formerly smoked\",\"never smoked\",\"never smoked\",\"underage\",\"formerly smoked\",\"Unknown\",\"never smoked\",\"never smoked\",\"underage\",\"smokes\",\"formerly smoked\",\"smokes\",\"Unknown\",\"formerly smoked\",\"Unknown\",\"smokes\",\"formerly smoked\",\"Unknown\",\"formerly smoked\",\"Unknown\",\"formerly smoked\",\"smokes\",\"never smoked\",\"smokes\",\"underage\",\"Unknown\",\"never smoked\",\"smokes\",\"formerly smoked\",\"Unknown\",\"underage\",\"formerly smoked\",\"Unknown\",\"Unknown\",\"smokes\",\"Unknown\",\"never smoked\",\"Unknown\",\"never smoked\",\"formerly smoked\",\"never smoked\",\"underage\",\"Unknown\",\"underage\",\"smokes\",\"formerly smoked\",\"never smoked\",\"smokes\",\"formerly smoked\",\"never smoked\",\"underage\",\"never smoked\",\"never smoked\",\"Unknown\",\"never smoked\",\"never smoked\",\"never smoked\",\"underage\",\"Unknown\",\"never smoked\",\"formerly smoked\",\"never smoked\",\"underage\",\"never smoked\",\"Unknown\",\"never smoked\",\"formerly smoked\",\"never smoked\",\"never smoked\",\"never smoked\",\"never smoked\",\"smokes\",\"never smoked\",\"never smoked\",\"smokes\",\"never smoked\",\"never smoked\",\"formerly smoked\",\"underage\",\"never smoked\",\"formerly smoked\",\"Unknown\",\"never smoked\",\"never smoked\",\"never smoked\",\"underage\",\"underage\",\"smokes\",\"never smoked\",\"Unknown\",\"Unknown\",\"underage\",\"smokes\",\"underage\",\"Unknown\",\"underage\",\"underage\",\"formerly smoked\",\"smokes\",\"smokes\",\"never smoked\",\"formerly smoked\",\"Unknown\",\"smokes\",\"smokes\",\"Unknown\",\"underage\",\"never smoked\",\"smokes\",\"underage\",\"formerly smoked\",\"smokes\",\"never smoked\",\"Unknown\",\"never smoked\",\"underage\",\"never smoked\",\"Unknown\",\"never smoked\",\"Unknown\",\"smokes\",\"never smoked\",\"never smoked\",\"never smoked\",\"formerly smoked\",\"formerly smoked\",\"never smoked\",\"underage\",\"never smoked\",\"underage\",\"underage\",\"underage\",\"never smoked\",\"Unknown\",\"smokes\",\"underage\",\"Unknown\",\"formerly smoked\",\"Unknown\",\"smokes\",\"Unknown\",\"never smoked\",\"Unknown\",\"underage\",\"never smoked\",\"never smoked\",\"Unknown\",\"formerly smoked\",\"smokes\",\"never smoked\",\"formerly smoked\",\"Unknown\",\"formerly smoked\",\"formerly smoked\",\"never smoked\",\"never smoked\",\"underage\",\"formerly smoked\",\"underage\",\"Unknown\",\"Unknown\",\"smokes\",\"smokes\",\"Unknown\",\"formerly smoked\",\"formerly smoked\",\"smokes\",\"Unknown\",\"underage\",\"Unknown\",\"never smoked\",\"Unknown\",\"Unknown\",\"underage\",\"smokes\",\"smokes\",\"Unknown\",\"smokes\",\"never smoked\",\"smokes\",\"never smoked\",\"Unknown\",\"formerly smoked\",\"smokes\",\"formerly smoked\",\"smokes\",\"never smoked\",\"never smoked\",\"never smoked\",\"never smoked\",\"never smoked\",\"formerly smoked\",\"Unknown\",\"formerly smoked\",\"underage\",\"Unknown\",\"never smoked\",\"never smoked\",\"underage\",\"formerly smoked\",\"Unknown\",\"formerly smoked\",\"never smoked\",\"smokes\",\"formerly smoked\",\"formerly smoked\",\"underage\",\"formerly smoked\",\"smokes\",\"never smoked\",\"formerly smoked\",\"Unknown\",\"formerly smoked\",\"Unknown\",\"never smoked\",\"Unknown\",\"never smoked\",\"never smoked\",\"never smoked\",\"formerly smoked\",\"Unknown\",\"formerly smoked\",\"never smoked\",\"Unknown\",\"underage\",\"formerly smoked\",\"formerly smoked\",\"never smoked\",\"never smoked\",\"smokes\",\"formerly smoked\",\"underage\",\"formerly smoked\",\"never smoked\",\"formerly smoked\",\"never smoked\",\"never smoked\",\"never smoked\",\"underage\",\"formerly smoked\",\"Unknown\",\"formerly smoked\",\"Unknown\",\"formerly smoked\",\"formerly smoked\",\"formerly smoked\",\"smokes\",\"Unknown\",\"never smoked\",\"underage\",\"Unknown\",\"smokes\",\"smokes\",\"underage\",\"underage\",\"formerly smoked\",\"never smoked\",\"never smoked\",\"Unknown\",\"underage\",\"smokes\",\"formerly smoked\",\"formerly smoked\",\"never smoked\",\"smokes\",\"never smoked\",\"underage\",\"never smoked\",\"smokes\",\"formerly smoked\",\"formerly smoked\",\"smokes\",\"formerly smoked\",\"never smoked\",\"Unknown\",\"never smoked\",\"never smoked\",\"Unknown\",\"Unknown\",\"underage\",\"underage\",\"never smoked\",\"never smoked\",\"smokes\",\"never smoked\",\"formerly smoked\",\"formerly smoked\",\"never smoked\",\"never smoked\",\"never smoked\",\"underage\",\"Unknown\",\"smokes\",\"underage\",\"never smoked\",\"never smoked\",\"never smoked\",\"never smoked\",\"underage\",\"underage\",\"Unknown\",\"Unknown\",\"underage\",\"Unknown\",\"smokes\",\"Unknown\",\"formerly smoked\",\"never smoked\",\"Unknown\",\"underage\",\"smokes\",\"underage\",\"never smoked\",\"underage\",\"formerly smoked\",\"never smoked\",\"never smoked\",\"underage\",\"never smoked\",\"underage\",\"formerly smoked\",\"underage\",\"underage\",\"formerly smoked\",\"formerly smoked\",\"never smoked\",\"smokes\",\"Unknown\",\"never smoked\",\"underage\",\"Unknown\",\"never smoked\",\"underage\",\"Unknown\",\"never smoked\",\"smokes\",\"underage\",\"Unknown\",\"underage\",\"Unknown\",\"smokes\",\"underage\",\"Unknown\",\"formerly smoked\",\"never smoked\",\"never smoked\",\"Unknown\",\"smokes\",\"never smoked\",\"Unknown\",\"formerly smoked\",\"Unknown\",\"never smoked\",\"never smoked\",\"formerly smoked\",\"underage\",\"Unknown\",\"never smoked\",\"formerly smoked\",\"Unknown\",\"Unknown\",\"smokes\",\"formerly smoked\",\"Unknown\",\"never smoked\",\"Unknown\",\"Unknown\",\"formerly smoked\",\"underage\",\"never smoked\",\"formerly smoked\",\"Unknown\",\"underage\",\"never smoked\",\"never smoked\",\"never smoked\",\"never smoked\",\"formerly smoked\",\"never smoked\",\"smokes\",\"smokes\",\"never smoked\",\"smokes\",\"underage\",\"smokes\",\"never smoked\",\"formerly smoked\",\"never smoked\",\"never smoked\",\"never smoked\",\"underage\",\"never smoked\",\"underage\",\"never smoked\",\"smokes\",\"underage\",\"never smoked\",\"smokes\",\"never smoked\",\"underage\",\"underage\",\"never smoked\",\"Unknown\",\"formerly smoked\",\"smokes\",\"never smoked\",\"never smoked\",\"smokes\",\"never smoked\",\"never smoked\",\"underage\",\"underage\",\"underage\",\"underage\",\"formerly smoked\",\"never smoked\",\"Unknown\",\"formerly smoked\",\"underage\",\"never smoked\",\"Unknown\",\"underage\",\"formerly smoked\",\"formerly smoked\",\"underage\",\"Unknown\",\"never smoked\",\"never smoked\",\"Unknown\",\"Unknown\",\"Unknown\",\"never smoked\",\"underage\",\"underage\",\"smokes\",\"never smoked\",\"underage\",\"Unknown\",\"underage\",\"smokes\",\"smokes\",\"never smoked\",\"formerly smoked\",\"never smoked\",\"never smoked\",\"underage\",\"never smoked\",\"never smoked\",\"formerly smoked\",\"never smoked\",\"never smoked\",\"never smoked\",\"Unknown\",\"never smoked\",\"never smoked\",\"underage\",\"Unknown\",\"never smoked\",\"never smoked\",\"never smoked\",\"formerly smoked\",\"never smoked\",\"underage\",\"never smoked\",\"never smoked\",\"smokes\",\"underage\",\"formerly smoked\",\"Unknown\",\"formerly smoked\",\"underage\",\"never smoked\",\"formerly smoked\",\"smokes\",\"smokes\",\"underage\",\"never smoked\",\"formerly smoked\",\"formerly smoked\",\"formerly smoked\",\"Unknown\",\"underage\",\"never smoked\",\"never smoked\",\"underage\",\"smokes\",\"underage\",\"never smoked\",\"formerly smoked\",\"Unknown\",\"Unknown\",\"never smoked\",\"smokes\",\"formerly smoked\",\"underage\",\"smokes\",\"never smoked\",\"never smoked\",\"formerly smoked\",\"underage\",\"Unknown\",\"formerly smoked\",\"formerly smoked\",\"never smoked\",\"never smoked\",\"formerly smoked\",\"never smoked\",\"never smoked\",\"underage\",\"smokes\",\"Unknown\",\"smokes\",\"Unknown\",\"formerly smoked\",\"smokes\",\"Unknown\",\"Unknown\",\"formerly smoked\",\"underage\",\"never smoked\",\"formerly smoked\",\"never smoked\",\"never smoked\",\"smokes\",\"Unknown\",\"underage\",\"never smoked\",\"never smoked\",\"Unknown\",\"never smoked\",\"underage\",\"underage\",\"never smoked\",\"Unknown\",\"never smoked\",\"never smoked\",\"smokes\",\"underage\",\"smokes\",\"never smoked\",\"never smoked\",\"underage\",\"never smoked\",\"never smoked\",\"underage\",\"never smoked\",\"never smoked\",\"smokes\",\"never smoked\",\"never smoked\",\"Unknown\",\"formerly smoked\",\"never smoked\",\"underage\",\"never smoked\",\"formerly smoked\",\"never smoked\",\"never smoked\",\"underage\",\"smokes\",\"Unknown\",\"Unknown\",\"Unknown\",\"never smoked\",\"never smoked\",\"never smoked\",\"smokes\",\"never smoked\",\"never smoked\",\"never smoked\",\"never smoked\",\"underage\",\"formerly smoked\",\"Unknown\",\"formerly smoked\",\"never smoked\",\"never smoked\",\"never smoked\",\"never smoked\",\"Unknown\",\"Unknown\",\"formerly smoked\",\"underage\",\"never smoked\",\"never smoked\",\"formerly smoked\",\"never smoked\",\"never smoked\",\"formerly smoked\",\"never smoked\",\"never smoked\",\"formerly smoked\",\"never smoked\",\"smokes\",\"never smoked\",\"never smoked\",\"never smoked\",\"formerly smoked\",\"formerly smoked\",\"Unknown\",\"never smoked\",\"smokes\",\"smokes\",\"underage\",\"Unknown\",\"formerly smoked\",\"never smoked\",\"underage\",\"underage\",\"Unknown\",\"underage\",\"formerly smoked\",\"smokes\",\"smokes\",\"underage\",\"never smoked\",\"underage\",\"underage\",\"never smoked\",\"never smoked\",\"Unknown\",\"Unknown\",\"underage\",\"formerly smoked\",\"underage\",\"smokes\",\"never smoked\",\"smokes\",\"never smoked\",\"never smoked\",\"Unknown\",\"Unknown\",\"formerly smoked\",\"never smoked\",\"never smoked\",\"formerly smoked\",\"Unknown\",\"never smoked\",\"Unknown\",\"never smoked\",\"formerly smoked\",\"formerly smoked\",\"underage\",\"smokes\",\"never smoked\",\"underage\",\"never smoked\",\"never smoked\",\"never smoked\",\"underage\",\"never smoked\",\"underage\",\"Unknown\",\"underage\",\"never smoked\",\"underage\",\"formerly smoked\",\"never smoked\",\"never smoked\",\"underage\",\"underage\",\"never smoked\",\"Unknown\",\"never smoked\",\"never smoked\",\"never smoked\",\"never smoked\",\"never smoked\",\"never smoked\",\"underage\",\"never smoked\",\"never smoked\",\"formerly smoked\",\"formerly smoked\",\"underage\",\"formerly smoked\",\"underage\",\"smokes\",\"formerly smoked\",\"underage\",\"never smoked\",\"Unknown\",\"underage\",\"underage\",\"Unknown\",\"never smoked\",\"formerly smoked\",\"formerly smoked\",\"never smoked\",\"smokes\",\"underage\",\"smokes\",\"smokes\",\"underage\",\"never smoked\",\"formerly smoked\",\"smokes\",\"never smoked\",\"never smoked\",\"smokes\",\"smokes\",\"never smoked\",\"Unknown\",\"underage\",\"never smoked\",\"formerly smoked\",\"formerly smoked\",\"never smoked\",\"formerly smoked\",\"never smoked\",\"underage\",\"underage\",\"underage\",\"underage\",\"smokes\",\"underage\",\"never smoked\",\"underage\",\"never smoked\",\"underage\",\"Unknown\",\"formerly smoked\",\"Unknown\",\"never smoked\",\"underage\",\"Unknown\",\"underage\",\"Unknown\",\"smokes\",\"underage\",\"smokes\",\"Unknown\",\"underage\",\"never smoked\",\"Unknown\",\"Unknown\",\"formerly smoked\",\"underage\",\"never smoked\",\"Unknown\",\"formerly smoked\",\"smokes\",\"underage\",\"never smoked\",\"underage\",\"never smoked\",\"formerly smoked\",\"underage\",\"Unknown\",\"never smoked\",\"smokes\",\"never smoked\",\"Unknown\",\"never smoked\",\"never smoked\",\"never smoked\",\"underage\",\"never smoked\",\"never smoked\",\"Unknown\",\"underage\",\"never smoked\",\"smokes\",\"Unknown\",\"smokes\",\"smokes\",\"Unknown\",\"smokes\",\"Unknown\",\"formerly smoked\",\"formerly smoked\",\"never smoked\",\"underage\",\"Unknown\",\"Unknown\",\"underage\",\"smokes\",\"never smoked\",\"Unknown\",\"never smoked\",\"never smoked\",\"formerly smoked\",\"never smoked\",\"underage\",\"underage\",\"underage\",\"never smoked\",\"underage\",\"smokes\",\"never smoked\",\"Unknown\",\"never smoked\",\"never smoked\",\"never smoked\",\"underage\",\"Unknown\",\"underage\",\"never smoked\",\"Unknown\",\"never smoked\",\"never smoked\",\"never smoked\",\"smokes\",\"smokes\",\"underage\",\"underage\",\"formerly smoked\",\"underage\",\"Unknown\",\"never smoked\",\"Unknown\",\"Unknown\",\"never smoked\",\"formerly smoked\",\"Unknown\",\"never smoked\",\"smokes\",\"underage\",\"never smoked\",\"smokes\",\"never smoked\",\"formerly smoked\",\"never smoked\",\"smokes\",\"never smoked\",\"never smoked\",\"never smoked\",\"underage\",\"never smoked\",\"never smoked\",\"never smoked\",\"never smoked\",\"never smoked\",\"underage\",\"underage\",\"never smoked\",\"formerly smoked\",\"Unknown\",\"underage\",\"Unknown\",\"never smoked\",\"Unknown\",\"underage\",\"never smoked\",\"underage\",\"never smoked\",\"never smoked\",\"underage\",\"smokes\",\"underage\",\"never smoked\",\"never smoked\",\"smokes\",\"Unknown\",\"smokes\",\"smokes\",\"never smoked\",\"underage\",\"never smoked\",\"Unknown\",\"smokes\",\"formerly smoked\",\"underage\",\"smokes\",\"never smoked\",\"smokes\",\"underage\",\"never smoked\",\"underage\",\"formerly smoked\",\"formerly smoked\",\"smokes\",\"smokes\",\"never smoked\",\"underage\",\"Unknown\",\"Unknown\",\"smokes\",\"Unknown\",\"smokes\",\"formerly smoked\",\"underage\",\"never smoked\",\"smokes\",\"never smoked\",\"smokes\",\"underage\",\"formerly smoked\",\"formerly smoked\",\"Unknown\",\"Unknown\",\"smokes\",\"underage\",\"never smoked\",\"smokes\",\"underage\",\"Unknown\",\"never smoked\",\"never smoked\",\"never smoked\",\"smokes\",\"never smoked\",\"never smoked\",\"formerly smoked\",\"Unknown\",\"Unknown\",\"underage\",\"Unknown\",\"formerly smoked\",\"Unknown\",\"never smoked\",\"smokes\",\"never smoked\",\"formerly smoked\",\"smokes\",\"never smoked\",\"smokes\",\"Unknown\",\"smokes\",\"underage\",\"never smoked\",\"never smoked\",\"underage\",\"smokes\",\"Unknown\",\"Unknown\",\"underage\",\"never smoked\",\"never smoked\",\"formerly smoked\",\"never smoked\",\"formerly smoked\",\"never smoked\",\"Unknown\",\"smokes\",\"underage\",\"underage\",\"never smoked\",\"underage\",\"Unknown\",\"underage\",\"smokes\",\"Unknown\",\"smokes\",\"underage\",\"formerly smoked\",\"never smoked\",\"Unknown\",\"Unknown\",\"never smoked\",\"formerly smoked\",\"formerly smoked\",\"formerly smoked\",\"underage\",\"Unknown\",\"never smoked\",\"smokes\",\"formerly smoked\",\"smokes\",\"never smoked\",\"never smoked\",\"never smoked\",\"underage\",\"smokes\",\"Unknown\",\"Unknown\",\"underage\",\"formerly smoked\",\"underage\",\"smokes\",\"underage\",\"never smoked\",\"never smoked\",\"Unknown\",\"Unknown\",\"formerly smoked\",\"never smoked\",\"never smoked\",\"smokes\",\"Unknown\",\"Unknown\",\"formerly smoked\",\"never smoked\",\"Unknown\",\"underage\",\"Unknown\",\"formerly smoked\",\"Unknown\",\"formerly smoked\",\"never smoked\",\"formerly smoked\",\"formerly smoked\",\"formerly smoked\",\"smokes\",\"never smoked\",\"smokes\",\"never smoked\",\"formerly smoked\",\"never smoked\",\"underage\",\"never smoked\",\"Unknown\",\"Unknown\",\"never smoked\",\"underage\",\"underage\",\"never smoked\",\"smokes\",\"never smoked\",\"never smoked\",\"never smoked\",\"never smoked\",\"never smoked\",\"formerly smoked\",\"underage\",\"smokes\",\"underage\",\"underage\",\"underage\",\"underage\",\"never smoked\",\"formerly smoked\",\"never smoked\",\"underage\",\"formerly smoked\",\"never smoked\",\"smokes\",\"never smoked\",\"underage\",\"never smoked\",\"Unknown\",\"smokes\",\"smokes\",\"smokes\",\"smokes\",\"smokes\",\"never smoked\",\"underage\",\"underage\",\"underage\",\"underage\",\"underage\",\"smokes\",\"never smoked\",\"never smoked\",\"formerly smoked\",\"formerly smoked\",\"never smoked\",\"never smoked\",\"never smoked\",\"formerly smoked\",\"underage\",\"formerly smoked\",\"never smoked\",\"underage\",\"smokes\",\"underage\",\"smokes\",\"never smoked\",\"Unknown\",\"formerly smoked\",\"Unknown\",\"smokes\",\"underage\",\"Unknown\",\"never smoked\",\"underage\",\"smokes\",\"smokes\",\"formerly smoked\",\"formerly smoked\",\"formerly smoked\",\"never smoked\",\"underage\",\"Unknown\",\"never smoked\",\"formerly smoked\",\"underage\",\"formerly smoked\",\"never smoked\",\"underage\",\"Unknown\",\"underage\",\"never smoked\",\"never smoked\",\"underage\",\"Unknown\",\"Unknown\",\"never smoked\",\"Unknown\",\"smokes\",\"never smoked\",\"formerly smoked\",\"never smoked\",\"formerly smoked\",\"formerly smoked\",\"formerly smoked\",\"Unknown\",\"underage\",\"Unknown\",\"never smoked\",\"underage\",\"never smoked\",\"smokes\",\"never smoked\",\"Unknown\",\"Unknown\",\"Unknown\",\"Unknown\",\"never smoked\",\"never smoked\",\"Unknown\",\"smokes\",\"formerly smoked\",\"never smoked\",\"never smoked\",\"never smoked\",\"never smoked\",\"never smoked\",\"never smoked\",\"never smoked\",\"Unknown\",\"never smoked\",\"formerly smoked\",\"Unknown\",\"never smoked\",\"underage\",\"formerly smoked\",\"smokes\",\"underage\",\"Unknown\",\"underage\",\"never smoked\",\"smokes\",\"smokes\",\"smokes\",\"never smoked\",\"never smoked\",\"Unknown\",\"never smoked\",\"never smoked\",\"Unknown\",\"formerly smoked\",\"Unknown\",\"never smoked\",\"never smoked\",\"underage\",\"formerly smoked\",\"formerly smoked\",\"underage\",\"smokes\",\"formerly smoked\",\"Unknown\",\"never smoked\",\"never smoked\",\"underage\",\"never smoked\",\"never smoked\",\"underage\",\"smokes\",\"smokes\",\"Unknown\",\"formerly smoked\",\"smokes\",\"formerly smoked\",\"never smoked\",\"Unknown\",\"smokes\",\"underage\",\"formerly smoked\",\"underage\",\"underage\",\"never smoked\",\"Unknown\",\"never smoked\",\"smokes\",\"never smoked\",\"never smoked\",\"smokes\",\"smokes\",\"never smoked\",\"never smoked\",\"never smoked\",\"never smoked\",\"never smoked\",\"never smoked\",\"never smoked\",\"never smoked\",\"underage\",\"never smoked\",\"smokes\",\"Unknown\",\"smokes\",\"Unknown\",\"underage\",\"smokes\",\"formerly smoked\",\"formerly smoked\",\"Unknown\",\"formerly smoked\",\"Unknown\",\"underage\",\"smokes\",\"Unknown\",\"underage\",\"Unknown\",\"never smoked\",\"never smoked\",\"underage\",\"Unknown\",\"never smoked\",\"smokes\",\"never smoked\",\"underage\",\"underage\",\"never smoked\",\"underage\",\"formerly smoked\",\"never smoked\",\"never smoked\",\"Unknown\",\"Unknown\",\"formerly smoked\",\"Unknown\",\"smokes\",\"underage\",\"smokes\",\"formerly smoked\",\"underage\",\"never smoked\",\"underage\",\"underage\",\"formerly smoked\",\"never smoked\",\"smokes\",\"never smoked\",\"smokes\",\"formerly smoked\",\"smokes\",\"Unknown\",\"never smoked\",\"underage\",\"underage\",\"Unknown\",\"underage\",\"Unknown\",\"formerly smoked\",\"smokes\",\"smokes\",\"never smoked\",\"underage\",\"never smoked\",\"underage\",\"underage\",\"underage\",\"never smoked\",\"Unknown\",\"never smoked\",\"Unknown\",\"never smoked\",\"underage\",\"never smoked\",\"never smoked\",\"Unknown\",\"formerly smoked\",\"never smoked\",\"smokes\",\"never smoked\",\"smokes\",\"formerly smoked\",\"underage\",\"never smoked\",\"never smoked\",\"underage\",\"Unknown\",\"underage\",\"smokes\",\"never smoked\",\"underage\",\"smokes\",\"formerly smoked\",\"formerly smoked\",\"formerly smoked\",\"Unknown\",\"underage\",\"never smoked\",\"Unknown\",\"formerly smoked\",\"never smoked\",\"never smoked\",\"smokes\",\"underage\",\"underage\",\"Unknown\",\"formerly smoked\",\"never smoked\",\"underage\",\"never smoked\",\"never smoked\",\"Unknown\",\"never smoked\",\"underage\",\"never smoked\",\"formerly smoked\",\"Unknown\",\"smokes\",\"formerly smoked\",\"smokes\",\"never smoked\",\"never smoked\",\"never smoked\",\"Unknown\",\"never smoked\",\"formerly smoked\",\"Unknown\",\"formerly smoked\",\"smokes\",\"underage\",\"never smoked\",\"formerly smoked\",\"underage\",\"underage\",\"formerly smoked\",\"formerly smoked\",\"never smoked\",\"smokes\",\"underage\",\"never smoked\",\"smokes\",\"formerly smoked\",\"underage\",\"formerly smoked\",\"smokes\",\"smokes\",\"Unknown\",\"formerly smoked\",\"smokes\",\"never smoked\",\"Unknown\",\"never smoked\",\"underage\",\"never smoked\",\"never smoked\",\"never smoked\",\"never smoked\",\"never smoked\",\"never smoked\",\"smokes\",\"Unknown\",\"never smoked\",\"Unknown\",\"formerly smoked\",\"never smoked\",\"never smoked\",\"smokes\",\"formerly smoked\",\"smokes\",\"Unknown\",\"formerly smoked\",\"underage\",\"smokes\",\"underage\",\"underage\",\"Unknown\",\"formerly smoked\",\"never smoked\",\"smokes\",\"Unknown\",\"underage\",\"Unknown\",\"Unknown\",\"underage\",\"never smoked\",\"never smoked\",\"never smoked\",\"Unknown\",\"underage\",\"underage\",\"never smoked\",\"Unknown\",\"underage\",\"underage\",\"smokes\",\"never smoked\",\"never smoked\",\"never smoked\",\"formerly smoked\",\"Unknown\",\"Unknown\",\"underage\",\"underage\",\"smokes\",\"Unknown\",\"Unknown\",\"smokes\",\"formerly smoked\",\"underage\",\"never smoked\",\"smokes\",\"Unknown\",\"never smoked\",\"Unknown\",\"never smoked\",\"Unknown\",\"never smoked\",\"formerly smoked\",\"never smoked\",\"underage\",\"underage\",\"never smoked\",\"never smoked\",\"Unknown\",\"Unknown\",\"never smoked\",\"never smoked\",\"Unknown\",\"underage\",\"never smoked\",\"Unknown\",\"underage\",\"never smoked\",\"underage\",\"underage\",\"Unknown\",\"never smoked\",\"never smoked\",\"smokes\",\"smokes\",\"formerly smoked\",\"never smoked\",\"underage\",\"never smoked\",\"never smoked\",\"underage\",\"never smoked\",\"never smoked\",\"never smoked\",\"underage\",\"Unknown\",\"formerly smoked\",\"formerly smoked\",\"never smoked\",\"never smoked\",\"never smoked\",\"never smoked\",\"never smoked\",\"formerly smoked\",\"formerly smoked\",\"formerly smoked\",\"smokes\",\"formerly smoked\",\"never smoked\",\"Unknown\",\"underage\",\"never smoked\",\"formerly smoked\",\"underage\",\"never smoked\",\"smokes\",\"never smoked\",\"underage\",\"smokes\",\"never smoked\",\"underage\",\"underage\",\"never smoked\",\"never smoked\",\"smokes\",\"formerly smoked\",\"never smoked\",\"underage\",\"formerly smoked\",\"never smoked\",\"never smoked\",\"smokes\",\"smokes\",\"never smoked\",\"Unknown\",\"smokes\",\"never smoked\",\"never smoked\",\"smokes\",\"never smoked\",\"never smoked\",\"underage\",\"underage\",\"Unknown\",\"Unknown\",\"smokes\",\"Unknown\",\"underage\",\"Unknown\",\"formerly smoked\",\"underage\",\"formerly smoked\",\"formerly smoked\",\"never smoked\",\"never smoked\",\"formerly smoked\",\"underage\",\"underage\",\"never smoked\",\"never smoked\",\"never smoked\",\"never smoked\",\"never smoked\",\"underage\",\"underage\",\"underage\",\"smokes\",\"smokes\",\"formerly smoked\",\"never smoked\",\"never smoked\",\"never smoked\",\"Unknown\",\"smokes\",\"never smoked\",\"underage\",\"never smoked\",\"smokes\",\"never smoked\",\"never smoked\",\"never smoked\",\"Unknown\",\"underage\",\"formerly smoked\",\"never smoked\",\"Unknown\",\"never smoked\",\"smokes\",\"never smoked\",\"never smoked\",\"underage\",\"Unknown\",\"smokes\",\"underage\",\"never smoked\",\"underage\",\"formerly smoked\",\"smokes\",\"never smoked\",\"never smoked\",\"underage\",\"underage\",\"formerly smoked\",\"formerly smoked\",\"underage\",\"underage\",\"never smoked\",\"never smoked\",\"never smoked\",\"formerly smoked\",\"smokes\",\"smokes\",\"underage\",\"smokes\",\"Unknown\",\"formerly smoked\",\"formerly smoked\",\"never smoked\",\"never smoked\",\"Unknown\",\"formerly smoked\",\"Unknown\",\"underage\",\"underage\",\"underage\",\"never smoked\",\"Unknown\",\"underage\",\"never smoked\",\"Unknown\",\"smokes\",\"smokes\",\"never smoked\",\"never smoked\",\"smokes\",\"never smoked\",\"underage\",\"smokes\",\"Unknown\",\"Unknown\",\"underage\",\"never smoked\",\"underage\",\"Unknown\",\"Unknown\",\"never smoked\",\"formerly smoked\",\"underage\",\"underage\",\"underage\",\"Unknown\",\"underage\",\"formerly smoked\",\"never smoked\",\"formerly smoked\",\"underage\",\"never smoked\",\"Unknown\",\"formerly smoked\",\"underage\",\"formerly smoked\",\"never smoked\",\"formerly smoked\",\"formerly smoked\",\"never smoked\",\"smokes\",\"underage\",\"never smoked\",\"never smoked\",\"Unknown\",\"formerly smoked\",\"Unknown\",\"formerly smoked\",\"never smoked\",\"Unknown\",\"never smoked\",\"never smoked\",\"Unknown\",\"never smoked\",\"Unknown\",\"Unknown\",\"smokes\",\"never smoked\",\"never smoked\",\"never smoked\",\"never smoked\",\"Unknown\",\"never smoked\",\"smokes\",\"Unknown\",\"Unknown\",\"never smoked\",\"formerly smoked\",\"formerly smoked\",\"smokes\",\"underage\",\"Unknown\",\"never smoked\",\"never smoked\",\"smokes\",\"underage\",\"Unknown\",\"formerly smoked\",\"never smoked\",\"underage\",\"formerly smoked\",\"Unknown\",\"formerly smoked\",\"formerly smoked\",\"Unknown\",\"underage\",\"smokes\",\"underage\",\"formerly smoked\",\"smokes\",\"never smoked\",\"formerly smoked\",\"underage\",\"Unknown\",\"never smoked\",\"smokes\",\"formerly smoked\",\"formerly smoked\",\"formerly smoked\",\"smokes\",\"never smoked\",\"Unknown\",\"never smoked\",\"formerly smoked\",\"underage\",\"underage\",\"smokes\",\"formerly smoked\",\"never smoked\",\"never smoked\",\"never smoked\",\"formerly smoked\",\"never smoked\",\"never smoked\",\"never smoked\",\"never smoked\",\"never smoked\",\"never smoked\",\"Unknown\",\"smokes\",\"underage\",\"formerly smoked\",\"formerly smoked\",\"never smoked\",\"underage\",\"never smoked\",\"formerly smoked\",\"formerly smoked\",\"formerly smoked\",\"smokes\",\"smokes\",\"never smoked\",\"never smoked\",\"Unknown\",\"never smoked\",\"never smoked\",\"never smoked\",\"formerly smoked\",\"never smoked\",\"underage\",\"never smoked\",\"never smoked\",\"never smoked\",\"Unknown\",\"underage\",\"Unknown\",\"never smoked\",\"never smoked\",\"Unknown\",\"never smoked\",\"Unknown\",\"formerly smoked\",\"never smoked\",\"smokes\",\"never smoked\",\"Unknown\",\"smokes\",\"formerly smoked\",\"smokes\",\"underage\",\"underage\",\"never smoked\",\"never smoked\",\"formerly smoked\",\"never smoked\",\"underage\",\"never smoked\",\"never smoked\",\"formerly smoked\",\"smokes\",\"formerly smoked\",\"formerly smoked\",\"never smoked\",\"Unknown\",\"Unknown\",\"never smoked\",\"smokes\",\"underage\",\"formerly smoked\",\"smokes\",\"smokes\",\"never smoked\",\"underage\",\"smokes\",\"never smoked\",\"Unknown\",\"underage\",\"never smoked\",\"formerly smoked\",\"smokes\",\"never smoked\",\"underage\",\"never smoked\",\"formerly smoked\",\"underage\",\"never smoked\",\"underage\",\"never smoked\",\"underage\",\"never smoked\",\"Unknown\",\"underage\",\"underage\",\"formerly smoked\",\"underage\",\"never smoked\",\"formerly smoked\",\"never smoked\",\"smokes\",\"never smoked\",\"Unknown\",\"underage\",\"smokes\",\"underage\",\"smokes\",\"underage\",\"never smoked\",\"formerly smoked\",\"underage\",\"formerly smoked\",\"smokes\",\"smokes\",\"underage\",\"underage\",\"underage\",\"Unknown\",\"never smoked\",\"never smoked\",\"underage\",\"underage\",\"never smoked\",\"never smoked\",\"underage\",\"never smoked\",\"never smoked\",\"never smoked\",\"underage\",\"smokes\",\"never smoked\",\"formerly smoked\",\"smokes\",\"never smoked\",\"smokes\",\"underage\",\"underage\",\"Unknown\",\"formerly smoked\",\"formerly smoked\",\"formerly smoked\",\"never smoked\",\"Unknown\",\"never smoked\",\"never smoked\",\"never smoked\",\"Unknown\",\"underage\",\"formerly smoked\",\"never smoked\",\"smokes\",\"formerly smoked\",\"smokes\",\"underage\",\"never smoked\",\"smokes\",\"smokes\",\"formerly smoked\",\"Unknown\",\"smokes\",\"Unknown\",\"underage\",\"Unknown\",\"underage\",\"underage\",\"Unknown\",\"underage\",\"never smoked\",\"never smoked\",\"never smoked\",\"underage\",\"formerly smoked\",\"underage\",\"formerly smoked\",\"formerly smoked\",\"underage\",\"smokes\",\"formerly smoked\",\"Unknown\",\"never smoked\",\"smokes\",\"Unknown\",\"underage\",\"smokes\",\"Unknown\",\"underage\",\"underage\",\"underage\",\"smokes\",\"formerly smoked\",\"formerly smoked\",\"never smoked\",\"underage\",\"underage\",\"underage\",\"formerly smoked\",\"never smoked\",\"never smoked\",\"smokes\",\"formerly smoked\",\"underage\",\"underage\",\"smokes\",\"never smoked\",\"never smoked\",\"never smoked\",\"smokes\",\"Unknown\",\"never smoked\",\"underage\",\"formerly smoked\",\"smokes\",\"never smoked\",\"never smoked\",\"smokes\",\"never smoked\",\"never smoked\",\"never smoked\",\"never smoked\",\"never smoked\",\"underage\",\"formerly smoked\",\"underage\",\"never smoked\",\"Unknown\",\"underage\",\"underage\",\"smokes\",\"never smoked\",\"formerly smoked\",\"Unknown\",\"smokes\",\"underage\",\"smokes\",\"formerly smoked\",\"never smoked\",\"never smoked\",\"Unknown\",\"smokes\",\"Unknown\",\"Unknown\",\"never smoked\",\"Unknown\",\"smokes\",\"formerly smoked\",\"underage\",\"smokes\",\"formerly smoked\",\"never smoked\",\"underage\",\"underage\",\"underage\",\"underage\",\"smokes\",\"smokes\",\"never smoked\",\"underage\",\"underage\",\"formerly smoked\",\"smokes\",\"formerly smoked\",\"never smoked\",\"never smoked\",\"never smoked\",\"never smoked\",\"formerly smoked\",\"underage\",\"underage\",\"never smoked\",\"smokes\",\"never smoked\",\"never smoked\",\"underage\",\"never smoked\",\"never smoked\",\"Unknown\",\"never smoked\",\"formerly smoked\",\"never smoked\",\"never smoked\",\"never smoked\",\"never smoked\",\"smokes\",\"underage\",\"Unknown\",\"formerly smoked\",\"never smoked\",\"underage\",\"formerly smoked\",\"never smoked\",\"underage\",\"never smoked\",\"smokes\",\"never smoked\",\"Unknown\",\"smokes\",\"never smoked\",\"Unknown\",\"underage\",\"never smoked\",\"underage\",\"Unknown\",\"never smoked\",\"underage\",\"never smoked\",\"never smoked\",\"smokes\",\"Unknown\",\"smokes\",\"Unknown\",\"formerly smoked\",\"underage\",\"underage\",\"never smoked\",\"never smoked\",\"Unknown\",\"never smoked\",\"Unknown\",\"never smoked\",\"underage\",\"never smoked\",\"underage\",\"never smoked\",\"never smoked\",\"formerly smoked\",\"underage\",\"underage\",\"never smoked\",\"formerly smoked\",\"formerly smoked\",\"never smoked\",\"formerly smoked\",\"formerly smoked\",\"smokes\",\"smokes\",\"never smoked\",\"formerly smoked\",\"smokes\",\"never smoked\",\"Unknown\",\"formerly smoked\",\"never smoked\",\"underage\",\"never smoked\",\"Unknown\",\"never smoked\",\"never smoked\",\"Unknown\",\"smokes\",\"never smoked\",\"underage\",\"never smoked\",\"never smoked\",\"never smoked\",\"underage\",\"formerly smoked\",\"formerly smoked\",\"formerly smoked\",\"never smoked\",\"never smoked\",\"Unknown\",\"formerly smoked\",\"Unknown\",\"smokes\",\"formerly smoked\",\"Unknown\",\"never smoked\",\"never smoked\",\"Unknown\",\"formerly smoked\",\"smokes\",\"never smoked\",\"underage\",\"never smoked\",\"underage\",\"never smoked\",\"never smoked\",\"smokes\",\"formerly smoked\",\"never smoked\",\"never smoked\",\"Unknown\",\"formerly smoked\",\"never smoked\",\"never smoked\",\"Unknown\",\"Unknown\",\"never smoked\",\"never smoked\",\"never smoked\",\"formerly smoked\",\"never smoked\",\"underage\",\"Unknown\",\"smokes\",\"never smoked\",\"smokes\",\"Unknown\",\"never smoked\",\"underage\",\"underage\",\"underage\",\"never smoked\",\"formerly smoked\",\"smokes\",\"Unknown\",\"smokes\",\"formerly smoked\",\"Unknown\",\"formerly smoked\",\"Unknown\",\"underage\",\"smokes\",\"never smoked\",\"never smoked\",\"smokes\",\"underage\",\"underage\",\"never smoked\",\"Unknown\",\"underage\",\"smokes\",\"never smoked\",\"Unknown\",\"never smoked\",\"underage\",\"underage\",\"never smoked\",\"never smoked\",\"never smoked\",\"formerly smoked\",\"Unknown\"],\"type\":\"histogram\",\"opacity\":0.75},{\"name\":\"stroke\",\"x\":[\"formerly smoked\",\"never smoked\",\"never smoked\",\"smokes\",\"never smoked\",\"formerly smoked\",\"never smoked\",\"never smoked\",\"Unknown\",\"Unknown\",\"never smoked\",\"smokes\",\"smokes\",\"Unknown\",\"never smoked\",\"never smoked\",\"smokes\",\"smokes\",\"never smoked\",\"Unknown\",\"smokes\",\"never smoked\",\"never smoked\",\"Unknown\",\"formerly smoked\",\"never smoked\",\"formerly smoked\",\"Unknown\",\"smokes\",\"formerly smoked\",\"smokes\",\"Unknown\",\"never smoked\",\"formerly smoked\",\"never smoked\",\"formerly smoked\",\"formerly smoked\",\"formerly smoked\",\"Unknown\",\"never smoked\",\"formerly smoked\",\"never smoked\",\"smokes\",\"formerly smoked\",\"smokes\",\"never smoked\",\"Unknown\",\"formerly smoked\",\"never smoked\",\"smokes\",\"Unknown\",\"formerly smoked\",\"never smoked\",\"never smoked\",\"never smoked\",\"formerly smoked\",\"never smoked\",\"formerly smoked\",\"never smoked\",\"never smoked\",\"formerly smoked\",\"never smoked\",\"smokes\",\"formerly smoked\",\"Unknown\",\"never smoked\",\"never smoked\",\"Unknown\",\"formerly smoked\",\"never smoked\",\"formerly smoked\",\"formerly smoked\",\"formerly smoked\",\"never smoked\",\"never smoked\",\"formerly smoked\",\"never smoked\",\"formerly smoked\",\"never smoked\",\"Unknown\",\"Unknown\",\"Unknown\",\"never smoked\",\"never smoked\",\"Unknown\",\"smokes\",\"smokes\",\"formerly smoked\",\"formerly smoked\",\"Unknown\",\"never smoked\",\"never smoked\",\"never smoked\",\"Unknown\",\"never smoked\",\"never smoked\",\"formerly smoked\",\"smokes\",\"formerly smoked\",\"never smoked\",\"Unknown\",\"never smoked\",\"formerly smoked\",\"Unknown\",\"Unknown\",\"smokes\",\"formerly smoked\",\"smokes\",\"never smoked\",\"never smoked\",\"formerly smoked\",\"smokes\",\"formerly smoked\",\"never smoked\",\"Unknown\",\"never smoked\",\"smokes\",\"smokes\",\"formerly smoked\",\"never smoked\",\"formerly smoked\",\"Unknown\",\"smokes\",\"never smoked\",\"Unknown\",\"never smoked\",\"formerly smoked\",\"Unknown\",\"formerly smoked\",\"Unknown\",\"never smoked\",\"never smoked\",\"never smoked\",\"formerly smoked\",\"never smoked\",\"never smoked\",\"formerly smoked\",\"Unknown\",\"formerly smoked\",\"Unknown\",\"never smoked\",\"smokes\",\"never smoked\",\"never smoked\",\"never smoked\",\"formerly smoked\",\"formerly smoked\",\"never smoked\",\"never smoked\",\"never smoked\",\"Unknown\",\"formerly smoked\",\"never smoked\",\"smokes\",\"never smoked\",\"never smoked\",\"smokes\",\"smokes\",\"formerly smoked\",\"never smoked\",\"formerly smoked\",\"smokes\",\"Unknown\",\"never smoked\",\"formerly smoked\",\"formerly smoked\",\"Unknown\",\"never smoked\",\"formerly smoked\",\"never smoked\",\"formerly smoked\",\"never smoked\",\"smokes\",\"formerly smoked\",\"formerly smoked\",\"never smoked\",\"never smoked\",\"formerly smoked\",\"Unknown\",\"Unknown\",\"never smoked\",\"formerly smoked\",\"smokes\",\"Unknown\",\"smokes\",\"formerly smoked\",\"formerly smoked\",\"formerly smoked\",\"formerly smoked\",\"Unknown\",\"formerly smoked\",\"formerly smoked\",\"smokes\",\"smokes\",\"smokes\",\"formerly smoked\",\"formerly smoked\",\"Unknown\",\"formerly smoked\",\"never smoked\",\"Unknown\",\"formerly smoked\",\"never smoked\",\"never smoked\",\"smokes\",\"formerly smoked\",\"never smoked\",\"never smoked\",\"Unknown\",\"Unknown\",\"never smoked\",\"formerly smoked\",\"never smoked\",\"never smoked\",\"never smoked\",\"smokes\",\"never smoked\",\"smokes\",\"smokes\",\"never smoked\",\"smokes\",\"never smoked\",\"formerly smoked\",\"smokes\",\"smokes\",\"Unknown\",\"never smoked\",\"never smoked\",\"smokes\",\"never smoked\",\"never smoked\",\"smokes\",\"never smoked\",\"formerly smoked\",\"Unknown\",\"Unknown\",\"Unknown\",\"formerly smoked\",\"never smoked\",\"smokes\",\"formerly smoked\",\"formerly smoked\",\"never smoked\",\"formerly smoked\",\"Unknown\",\"Unknown\",\"formerly smoked\",\"Unknown\",\"Unknown\"],\"type\":\"histogram\",\"opacity\":0.75}],                        {\"template\":{\"data\":{\"bar\":[{\"error_x\":{\"color\":\"#2a3f5f\"},\"error_y\":{\"color\":\"#2a3f5f\"},\"marker\":{\"line\":{\"color\":\"#E5ECF6\",\"width\":0.5},\"pattern\":{\"fillmode\":\"overlay\",\"size\":10,\"solidity\":0.2}},\"type\":\"bar\"}],\"barpolar\":[{\"marker\":{\"line\":{\"color\":\"#E5ECF6\",\"width\":0.5},\"pattern\":{\"fillmode\":\"overlay\",\"size\":10,\"solidity\":0.2}},\"type\":\"barpolar\"}],\"carpet\":[{\"aaxis\":{\"endlinecolor\":\"#2a3f5f\",\"gridcolor\":\"white\",\"linecolor\":\"white\",\"minorgridcolor\":\"white\",\"startlinecolor\":\"#2a3f5f\"},\"baxis\":{\"endlinecolor\":\"#2a3f5f\",\"gridcolor\":\"white\",\"linecolor\":\"white\",\"minorgridcolor\":\"white\",\"startlinecolor\":\"#2a3f5f\"},\"type\":\"carpet\"}],\"choropleth\":[{\"colorbar\":{\"outlinewidth\":0,\"ticks\":\"\"},\"type\":\"choropleth\"}],\"contour\":[{\"colorbar\":{\"outlinewidth\":0,\"ticks\":\"\"},\"colorscale\":[[0.0,\"#0d0887\"],[0.1111111111111111,\"#46039f\"],[0.2222222222222222,\"#7201a8\"],[0.3333333333333333,\"#9c179e\"],[0.4444444444444444,\"#bd3786\"],[0.5555555555555556,\"#d8576b\"],[0.6666666666666666,\"#ed7953\"],[0.7777777777777778,\"#fb9f3a\"],[0.8888888888888888,\"#fdca26\"],[1.0,\"#f0f921\"]],\"type\":\"contour\"}],\"contourcarpet\":[{\"colorbar\":{\"outlinewidth\":0,\"ticks\":\"\"},\"type\":\"contourcarpet\"}],\"heatmap\":[{\"colorbar\":{\"outlinewidth\":0,\"ticks\":\"\"},\"colorscale\":[[0.0,\"#0d0887\"],[0.1111111111111111,\"#46039f\"],[0.2222222222222222,\"#7201a8\"],[0.3333333333333333,\"#9c179e\"],[0.4444444444444444,\"#bd3786\"],[0.5555555555555556,\"#d8576b\"],[0.6666666666666666,\"#ed7953\"],[0.7777777777777778,\"#fb9f3a\"],[0.8888888888888888,\"#fdca26\"],[1.0,\"#f0f921\"]],\"type\":\"heatmap\"}],\"heatmapgl\":[{\"colorbar\":{\"outlinewidth\":0,\"ticks\":\"\"},\"colorscale\":[[0.0,\"#0d0887\"],[0.1111111111111111,\"#46039f\"],[0.2222222222222222,\"#7201a8\"],[0.3333333333333333,\"#9c179e\"],[0.4444444444444444,\"#bd3786\"],[0.5555555555555556,\"#d8576b\"],[0.6666666666666666,\"#ed7953\"],[0.7777777777777778,\"#fb9f3a\"],[0.8888888888888888,\"#fdca26\"],[1.0,\"#f0f921\"]],\"type\":\"heatmapgl\"}],\"histogram\":[{\"marker\":{\"pattern\":{\"fillmode\":\"overlay\",\"size\":10,\"solidity\":0.2}},\"type\":\"histogram\"}],\"histogram2d\":[{\"colorbar\":{\"outlinewidth\":0,\"ticks\":\"\"},\"colorscale\":[[0.0,\"#0d0887\"],[0.1111111111111111,\"#46039f\"],[0.2222222222222222,\"#7201a8\"],[0.3333333333333333,\"#9c179e\"],[0.4444444444444444,\"#bd3786\"],[0.5555555555555556,\"#d8576b\"],[0.6666666666666666,\"#ed7953\"],[0.7777777777777778,\"#fb9f3a\"],[0.8888888888888888,\"#fdca26\"],[1.0,\"#f0f921\"]],\"type\":\"histogram2d\"}],\"histogram2dcontour\":[{\"colorbar\":{\"outlinewidth\":0,\"ticks\":\"\"},\"colorscale\":[[0.0,\"#0d0887\"],[0.1111111111111111,\"#46039f\"],[0.2222222222222222,\"#7201a8\"],[0.3333333333333333,\"#9c179e\"],[0.4444444444444444,\"#bd3786\"],[0.5555555555555556,\"#d8576b\"],[0.6666666666666666,\"#ed7953\"],[0.7777777777777778,\"#fb9f3a\"],[0.8888888888888888,\"#fdca26\"],[1.0,\"#f0f921\"]],\"type\":\"histogram2dcontour\"}],\"mesh3d\":[{\"colorbar\":{\"outlinewidth\":0,\"ticks\":\"\"},\"type\":\"mesh3d\"}],\"parcoords\":[{\"line\":{\"colorbar\":{\"outlinewidth\":0,\"ticks\":\"\"}},\"type\":\"parcoords\"}],\"pie\":[{\"automargin\":true,\"type\":\"pie\"}],\"scatter\":[{\"marker\":{\"colorbar\":{\"outlinewidth\":0,\"ticks\":\"\"}},\"type\":\"scatter\"}],\"scatter3d\":[{\"line\":{\"colorbar\":{\"outlinewidth\":0,\"ticks\":\"\"}},\"marker\":{\"colorbar\":{\"outlinewidth\":0,\"ticks\":\"\"}},\"type\":\"scatter3d\"}],\"scattercarpet\":[{\"marker\":{\"colorbar\":{\"outlinewidth\":0,\"ticks\":\"\"}},\"type\":\"scattercarpet\"}],\"scattergeo\":[{\"marker\":{\"colorbar\":{\"outlinewidth\":0,\"ticks\":\"\"}},\"type\":\"scattergeo\"}],\"scattergl\":[{\"marker\":{\"colorbar\":{\"outlinewidth\":0,\"ticks\":\"\"}},\"type\":\"scattergl\"}],\"scattermapbox\":[{\"marker\":{\"colorbar\":{\"outlinewidth\":0,\"ticks\":\"\"}},\"type\":\"scattermapbox\"}],\"scatterpolar\":[{\"marker\":{\"colorbar\":{\"outlinewidth\":0,\"ticks\":\"\"}},\"type\":\"scatterpolar\"}],\"scatterpolargl\":[{\"marker\":{\"colorbar\":{\"outlinewidth\":0,\"ticks\":\"\"}},\"type\":\"scatterpolargl\"}],\"scatterternary\":[{\"marker\":{\"colorbar\":{\"outlinewidth\":0,\"ticks\":\"\"}},\"type\":\"scatterternary\"}],\"surface\":[{\"colorbar\":{\"outlinewidth\":0,\"ticks\":\"\"},\"colorscale\":[[0.0,\"#0d0887\"],[0.1111111111111111,\"#46039f\"],[0.2222222222222222,\"#7201a8\"],[0.3333333333333333,\"#9c179e\"],[0.4444444444444444,\"#bd3786\"],[0.5555555555555556,\"#d8576b\"],[0.6666666666666666,\"#ed7953\"],[0.7777777777777778,\"#fb9f3a\"],[0.8888888888888888,\"#fdca26\"],[1.0,\"#f0f921\"]],\"type\":\"surface\"}],\"table\":[{\"cells\":{\"fill\":{\"color\":\"#EBF0F8\"},\"line\":{\"color\":\"white\"}},\"header\":{\"fill\":{\"color\":\"#C8D4E3\"},\"line\":{\"color\":\"white\"}},\"type\":\"table\"}]},\"layout\":{\"annotationdefaults\":{\"arrowcolor\":\"#2a3f5f\",\"arrowhead\":0,\"arrowwidth\":1},\"autotypenumbers\":\"strict\",\"coloraxis\":{\"colorbar\":{\"outlinewidth\":0,\"ticks\":\"\"}},\"colorscale\":{\"diverging\":[[0,\"#8e0152\"],[0.1,\"#c51b7d\"],[0.2,\"#de77ae\"],[0.3,\"#f1b6da\"],[0.4,\"#fde0ef\"],[0.5,\"#f7f7f7\"],[0.6,\"#e6f5d0\"],[0.7,\"#b8e186\"],[0.8,\"#7fbc41\"],[0.9,\"#4d9221\"],[1,\"#276419\"]],\"sequential\":[[0.0,\"#0d0887\"],[0.1111111111111111,\"#46039f\"],[0.2222222222222222,\"#7201a8\"],[0.3333333333333333,\"#9c179e\"],[0.4444444444444444,\"#bd3786\"],[0.5555555555555556,\"#d8576b\"],[0.6666666666666666,\"#ed7953\"],[0.7777777777777778,\"#fb9f3a\"],[0.8888888888888888,\"#fdca26\"],[1.0,\"#f0f921\"]],\"sequentialminus\":[[0.0,\"#0d0887\"],[0.1111111111111111,\"#46039f\"],[0.2222222222222222,\"#7201a8\"],[0.3333333333333333,\"#9c179e\"],[0.4444444444444444,\"#bd3786\"],[0.5555555555555556,\"#d8576b\"],[0.6666666666666666,\"#ed7953\"],[0.7777777777777778,\"#fb9f3a\"],[0.8888888888888888,\"#fdca26\"],[1.0,\"#f0f921\"]]},\"colorway\":[\"#636efa\",\"#EF553B\",\"#00cc96\",\"#ab63fa\",\"#FFA15A\",\"#19d3f3\",\"#FF6692\",\"#B6E880\",\"#FF97FF\",\"#FECB52\"],\"font\":{\"color\":\"#2a3f5f\"},\"geo\":{\"bgcolor\":\"white\",\"lakecolor\":\"white\",\"landcolor\":\"#E5ECF6\",\"showlakes\":true,\"showland\":true,\"subunitcolor\":\"white\"},\"hoverlabel\":{\"align\":\"left\"},\"hovermode\":\"closest\",\"mapbox\":{\"style\":\"light\"},\"paper_bgcolor\":\"white\",\"plot_bgcolor\":\"#E5ECF6\",\"polar\":{\"angularaxis\":{\"gridcolor\":\"white\",\"linecolor\":\"white\",\"ticks\":\"\"},\"bgcolor\":\"#E5ECF6\",\"radialaxis\":{\"gridcolor\":\"white\",\"linecolor\":\"white\",\"ticks\":\"\"}},\"scene\":{\"xaxis\":{\"backgroundcolor\":\"#E5ECF6\",\"gridcolor\":\"white\",\"gridwidth\":2,\"linecolor\":\"white\",\"showbackground\":true,\"ticks\":\"\",\"zerolinecolor\":\"white\"},\"yaxis\":{\"backgroundcolor\":\"#E5ECF6\",\"gridcolor\":\"white\",\"gridwidth\":2,\"linecolor\":\"white\",\"showbackground\":true,\"ticks\":\"\",\"zerolinecolor\":\"white\"},\"zaxis\":{\"backgroundcolor\":\"#E5ECF6\",\"gridcolor\":\"white\",\"gridwidth\":2,\"linecolor\":\"white\",\"showbackground\":true,\"ticks\":\"\",\"zerolinecolor\":\"white\"}},\"shapedefaults\":{\"line\":{\"color\":\"#2a3f5f\"}},\"ternary\":{\"aaxis\":{\"gridcolor\":\"white\",\"linecolor\":\"white\",\"ticks\":\"\"},\"baxis\":{\"gridcolor\":\"white\",\"linecolor\":\"white\",\"ticks\":\"\"},\"bgcolor\":\"#E5ECF6\",\"caxis\":{\"gridcolor\":\"white\",\"linecolor\":\"white\",\"ticks\":\"\"}},\"title\":{\"x\":0.05},\"xaxis\":{\"automargin\":true,\"gridcolor\":\"white\",\"linecolor\":\"white\",\"ticks\":\"\",\"title\":{\"standoff\":15},\"zerolinecolor\":\"white\",\"zerolinewidth\":2},\"yaxis\":{\"automargin\":true,\"gridcolor\":\"white\",\"linecolor\":\"white\",\"ticks\":\"\",\"title\":{\"standoff\":15},\"zerolinecolor\":\"white\",\"zerolinewidth\":2}}},\"barmode\":\"overlay\"},                        {\"responsive\": true}                    ).then(function(){\n",
              "                            \n",
              "var gd = document.getElementById('03747789-4e51-4dcd-ae48-cbed08936782');\n",
              "var x = new MutationObserver(function (mutations, observer) {{\n",
              "        var display = window.getComputedStyle(gd).display;\n",
              "        if (!display || display === 'none') {{\n",
              "            console.log([gd, 'removed!']);\n",
              "            Plotly.purge(gd);\n",
              "            observer.disconnect();\n",
              "        }}\n",
              "}});\n",
              "\n",
              "// Listen for the removal of the full notebook cells\n",
              "var notebookContainer = gd.closest('#notebook-container');\n",
              "if (notebookContainer) {{\n",
              "    x.observe(notebookContainer, {childList: true});\n",
              "}}\n",
              "\n",
              "// Listen for the clearing of the current output cell\n",
              "var outputEl = gd.closest('.output');\n",
              "if (outputEl) {{\n",
              "    x.observe(outputEl, {childList: true});\n",
              "}}\n",
              "\n",
              "                        })                };                            </script>        </div>\n",
              "</body>\n",
              "</html>"
            ]
          },
          "metadata": {}
        },
        {
          "output_type": "execute_result",
          "data": {
            "text/plain": [
              "0"
            ]
          },
          "metadata": {},
          "execution_count": 18
        }
      ]
    },
    {
      "cell_type": "markdown",
      "source": [
        "W dalszym ciągu grupa Unknown jest dość liczna, ale wydobyliśmy za to bardziej zróżnicowany podział i pozostawimy to w ten sposób. "
      ],
      "metadata": {
        "id": "FnaiMoe1yaAF"
      }
    },
    {
      "cell_type": "code",
      "source": [
        "le_ss = preprocessing.LabelEncoder()\n",
        "le_ss.fit(df_clear.smoking_status_new)\n",
        "df_clear['smoking_status_encoded'] = le_ss.transform(df_clear.smoking_status_new)\n",
        "df_clear.info()"
      ],
      "metadata": {
        "id": "0lYN6Wh4k1iL",
        "colab": {
          "base_uri": "https://localhost:8080/"
        },
        "outputId": "e4a04ae4-79eb-45da-acde-1f0135c206db"
      },
      "execution_count": null,
      "outputs": [
        {
          "output_type": "stream",
          "name": "stdout",
          "text": [
            "<class 'pandas.core.frame.DataFrame'>\n",
            "Int64Index: 5109 entries, 249 to 248\n",
            "Data columns (total 27 columns):\n",
            " #   Column                       Non-Null Count  Dtype  \n",
            "---  ------                       --------------  -----  \n",
            " 0   id                           5109 non-null   int64  \n",
            " 1   gender                       5109 non-null   object \n",
            " 2   age                          5109 non-null   float64\n",
            " 3   hypertension                 5109 non-null   int64  \n",
            " 4   heart_disease                5109 non-null   int64  \n",
            " 5   ever_married                 5109 non-null   object \n",
            " 6   work_type                    5109 non-null   object \n",
            " 7   Residence_type               5109 non-null   object \n",
            " 8   avg_glucose_level            5109 non-null   float64\n",
            " 9   bmi                          4908 non-null   float64\n",
            " 10  smoking_status               5109 non-null   object \n",
            " 11  stroke                       5109 non-null   int64  \n",
            " 12  bmi_no_nan                   5109 non-null   float64\n",
            " 13  bmi_no_outliers              5109 non-null   float64\n",
            " 14  log_bmi_no_outliers          5109 non-null   float64\n",
            " 15  bmi_categorical              5109 non-null   object \n",
            " 16  bmi_categorical_encoded      5109 non-null   float64\n",
            " 17  is_female                    5109 non-null   int64  \n",
            " 18  is_married                   5109 non-null   int64  \n",
            " 19  work_type_encoded            5109 non-null   int64  \n",
            " 20  is_rural                     5109 non-null   int64  \n",
            " 21  glucose_categorical          5109 non-null   object \n",
            " 22  glucose_categorical_encoded  5109 non-null   int64  \n",
            " 23  glucose_no_outliers          5109 non-null   float64\n",
            " 24  log_glucose_no_outliers      5109 non-null   float64\n",
            " 25  smoking_status_new           5109 non-null   object \n",
            " 26  smoking_status_encoded       5109 non-null   int64  \n",
            "dtypes: float64(9), int64(10), object(8)\n",
            "memory usage: 1.1+ MB\n"
          ]
        }
      ]
    },
    {
      "cell_type": "markdown",
      "source": [
        "### Analiza korelacji"
      ],
      "metadata": {
        "id": "5wXADPvh7QSG"
      }
    },
    {
      "cell_type": "code",
      "source": [
        "plotting(data=df_clear.loc[:,~df_clear.columns.isin(['id'])], x='none', type='heatmap')"
      ],
      "metadata": {
        "id": "15KQXjjA7SYv"
      },
      "execution_count": null,
      "outputs": []
    },
    {
      "cell_type": "markdown",
      "source": [
        "Widoczna jest słaba korelacja między zmiennymi oraz między zmiennymi, a zmienną celu. Największe wartości widoczne są przy tych samych zmiennych, ale po przeprowadzeniu transformacji lub kodowania co jest rezultatem oczywistym. Jedyne zmienne, które są skorelowane na jakimś możliwie znaczącym poziomie to zmienna 'age', 'work_type', 'smoking_status', 'bmi', 'is_married' jednak wartości te w ogólności nie są zbyt wysokie i nie występuje tutaj problem współliniowości. Ciężko także na tej podstawie dokonać selekcji zmiennych, więc raczej skorzystamy w późniejszym etapie z regularyzacji LASSO."
      ],
      "metadata": {
        "id": "oK1PP0e-85Qo"
      }
    },
    {
      "cell_type": "markdown",
      "source": [
        "### Polynomial features \n",
        "\n",
        "Bardzo często wejściowe zmienne są interaktywne ze sobą w sposób nieliniowy. Takie interkacje mogą zostać później wykryte i wykorzystane przez model przy etapie selekcji zmiennych. Co więcej, podniesienie niektórych zmiennych do pewnej potęgi może pomóc w wyodrębnieniu istotnych relacji między tą zmienną, a zmienną celu. Przeważnie wystarczy podniesienie do stopnia drugiego (ewentualnie trzeciego), gdyż wielomiany stopnia czwartego i wyższego są nadmiernie elastyczne, mają nieregularne kształty i mogą prowadzić do overfittingu. My wykorzystamy cechy wielomianowe stopnia drugiego. "
      ],
      "metadata": {
        "id": "Xhg6xXxA00_J"
      }
    },
    {
      "cell_type": "code",
      "source": [
        "#get PolynomialFeatures transfomer\n",
        "poly = preprocessing.PolynomialFeatures(2)\n",
        "\n",
        "#select only apriori chosen variables\n",
        "X_poly = df_clear.select_dtypes(['int','float'])\n",
        "X_poly = X_poly.loc[:,~X_poly.columns.isin(['id', 'bmi_no_nan','bmi','avg_glucose_level','glucose_no_outliers', 'log_bmi_no_outliers', 'bmi_no_outliers','glucose_categorical_encoded'])]\n",
        "print(\"Ramka wejściowa\")\n",
        "X_poly.info()\n",
        "\n",
        "print(\"\\nRamka wyjściowa po PolyFeatures transformacji\")\n",
        "df_poly = pd.DataFrame(poly.fit_transform(X_poly), columns = poly.get_feature_names_out(X_poly.columns))\n",
        "df_poly.info()"
      ],
      "metadata": {
        "colab": {
          "base_uri": "https://localhost:8080/"
        },
        "id": "IR5DlQhG2fv1",
        "outputId": "42257029-5e9c-42b0-b736-cf1dca8fa358"
      },
      "execution_count": null,
      "outputs": [
        {
          "output_type": "stream",
          "name": "stdout",
          "text": [
            "Ramka wejściowa\n",
            "<class 'pandas.core.frame.DataFrame'>\n",
            "Int64Index: 5109 entries, 249 to 248\n",
            "Data columns (total 11 columns):\n",
            " #   Column                   Non-Null Count  Dtype  \n",
            "---  ------                   --------------  -----  \n",
            " 0   age                      5109 non-null   float64\n",
            " 1   hypertension             5109 non-null   int64  \n",
            " 2   heart_disease            5109 non-null   int64  \n",
            " 3   stroke                   5109 non-null   int64  \n",
            " 4   bmi_categorical_encoded  5109 non-null   float64\n",
            " 5   is_female                5109 non-null   int64  \n",
            " 6   is_married               5109 non-null   int64  \n",
            " 7   work_type_encoded        5109 non-null   int64  \n",
            " 8   is_rural                 5109 non-null   int64  \n",
            " 9   log_glucose_no_outliers  5109 non-null   float64\n",
            " 10  smoking_status_encoded   5109 non-null   int64  \n",
            "dtypes: float64(3), int64(8)\n",
            "memory usage: 479.0 KB\n",
            "\n",
            "Ramka wyjściowa po PolyFeatures transformacji\n",
            "<class 'pandas.core.frame.DataFrame'>\n",
            "RangeIndex: 5109 entries, 0 to 5108\n",
            "Data columns (total 78 columns):\n",
            " #   Column                                           Non-Null Count  Dtype  \n",
            "---  ------                                           --------------  -----  \n",
            " 0   1                                                5109 non-null   float64\n",
            " 1   age                                              5109 non-null   float64\n",
            " 2   hypertension                                     5109 non-null   float64\n",
            " 3   heart_disease                                    5109 non-null   float64\n",
            " 4   stroke                                           5109 non-null   float64\n",
            " 5   bmi_categorical_encoded                          5109 non-null   float64\n",
            " 6   is_female                                        5109 non-null   float64\n",
            " 7   is_married                                       5109 non-null   float64\n",
            " 8   work_type_encoded                                5109 non-null   float64\n",
            " 9   is_rural                                         5109 non-null   float64\n",
            " 10  log_glucose_no_outliers                          5109 non-null   float64\n",
            " 11  smoking_status_encoded                           5109 non-null   float64\n",
            " 12  age^2                                            5109 non-null   float64\n",
            " 13  age hypertension                                 5109 non-null   float64\n",
            " 14  age heart_disease                                5109 non-null   float64\n",
            " 15  age stroke                                       5109 non-null   float64\n",
            " 16  age bmi_categorical_encoded                      5109 non-null   float64\n",
            " 17  age is_female                                    5109 non-null   float64\n",
            " 18  age is_married                                   5109 non-null   float64\n",
            " 19  age work_type_encoded                            5109 non-null   float64\n",
            " 20  age is_rural                                     5109 non-null   float64\n",
            " 21  age log_glucose_no_outliers                      5109 non-null   float64\n",
            " 22  age smoking_status_encoded                       5109 non-null   float64\n",
            " 23  hypertension^2                                   5109 non-null   float64\n",
            " 24  hypertension heart_disease                       5109 non-null   float64\n",
            " 25  hypertension stroke                              5109 non-null   float64\n",
            " 26  hypertension bmi_categorical_encoded             5109 non-null   float64\n",
            " 27  hypertension is_female                           5109 non-null   float64\n",
            " 28  hypertension is_married                          5109 non-null   float64\n",
            " 29  hypertension work_type_encoded                   5109 non-null   float64\n",
            " 30  hypertension is_rural                            5109 non-null   float64\n",
            " 31  hypertension log_glucose_no_outliers             5109 non-null   float64\n",
            " 32  hypertension smoking_status_encoded              5109 non-null   float64\n",
            " 33  heart_disease^2                                  5109 non-null   float64\n",
            " 34  heart_disease stroke                             5109 non-null   float64\n",
            " 35  heart_disease bmi_categorical_encoded            5109 non-null   float64\n",
            " 36  heart_disease is_female                          5109 non-null   float64\n",
            " 37  heart_disease is_married                         5109 non-null   float64\n",
            " 38  heart_disease work_type_encoded                  5109 non-null   float64\n",
            " 39  heart_disease is_rural                           5109 non-null   float64\n",
            " 40  heart_disease log_glucose_no_outliers            5109 non-null   float64\n",
            " 41  heart_disease smoking_status_encoded             5109 non-null   float64\n",
            " 42  stroke^2                                         5109 non-null   float64\n",
            " 43  stroke bmi_categorical_encoded                   5109 non-null   float64\n",
            " 44  stroke is_female                                 5109 non-null   float64\n",
            " 45  stroke is_married                                5109 non-null   float64\n",
            " 46  stroke work_type_encoded                         5109 non-null   float64\n",
            " 47  stroke is_rural                                  5109 non-null   float64\n",
            " 48  stroke log_glucose_no_outliers                   5109 non-null   float64\n",
            " 49  stroke smoking_status_encoded                    5109 non-null   float64\n",
            " 50  bmi_categorical_encoded^2                        5109 non-null   float64\n",
            " 51  bmi_categorical_encoded is_female                5109 non-null   float64\n",
            " 52  bmi_categorical_encoded is_married               5109 non-null   float64\n",
            " 53  bmi_categorical_encoded work_type_encoded        5109 non-null   float64\n",
            " 54  bmi_categorical_encoded is_rural                 5109 non-null   float64\n",
            " 55  bmi_categorical_encoded log_glucose_no_outliers  5109 non-null   float64\n",
            " 56  bmi_categorical_encoded smoking_status_encoded   5109 non-null   float64\n",
            " 57  is_female^2                                      5109 non-null   float64\n",
            " 58  is_female is_married                             5109 non-null   float64\n",
            " 59  is_female work_type_encoded                      5109 non-null   float64\n",
            " 60  is_female is_rural                               5109 non-null   float64\n",
            " 61  is_female log_glucose_no_outliers                5109 non-null   float64\n",
            " 62  is_female smoking_status_encoded                 5109 non-null   float64\n",
            " 63  is_married^2                                     5109 non-null   float64\n",
            " 64  is_married work_type_encoded                     5109 non-null   float64\n",
            " 65  is_married is_rural                              5109 non-null   float64\n",
            " 66  is_married log_glucose_no_outliers               5109 non-null   float64\n",
            " 67  is_married smoking_status_encoded                5109 non-null   float64\n",
            " 68  work_type_encoded^2                              5109 non-null   float64\n",
            " 69  work_type_encoded is_rural                       5109 non-null   float64\n",
            " 70  work_type_encoded log_glucose_no_outliers        5109 non-null   float64\n",
            " 71  work_type_encoded smoking_status_encoded         5109 non-null   float64\n",
            " 72  is_rural^2                                       5109 non-null   float64\n",
            " 73  is_rural log_glucose_no_outliers                 5109 non-null   float64\n",
            " 74  is_rural smoking_status_encoded                  5109 non-null   float64\n",
            " 75  log_glucose_no_outliers^2                        5109 non-null   float64\n",
            " 76  log_glucose_no_outliers smoking_status_encoded   5109 non-null   float64\n",
            " 77  smoking_status_encoded^2                         5109 non-null   float64\n",
            "dtypes: float64(78)\n",
            "memory usage: 3.0 MB\n"
          ]
        }
      ]
    },
    {
      "cell_type": "markdown",
      "source": [
        "Jak widzimy uzyskaliśmy wszystkie możliwe kombinacje zmiennych wielomianowych 2-giego stopnia. Wykluczymy jednak na start zmienne, których z pewnością nie wykorzystamy takie jak bias: '1' oraz zmienne binarne podniesione do kwadratu, jak też zmienne z interakcją 'stroke' w celu uniknięcia tzw. **data leakage**."
      ],
      "metadata": {
        "id": "cZQ1XR6QSwMN"
      }
    },
    {
      "cell_type": "code",
      "source": [
        "col_drop = list(df_poly.filter(regex='stroke'))[1:] + ['1','hypertension^2','heart_disease^2','is_female^2','is_married^2','is_rural^2']\n",
        "df_poly = df_poly[df_poly.columns.drop(col_drop)]\n",
        "\n",
        "cat_features = ['bmi_categorical_encoded', 'smoking_status_encoded', 'is_rural','is_married', 'is_female', 'hypertension', 'heart_disease', 'work_type_encoded']\n",
        "\n",
        "col_filter = set(list(df_poly.filter(regex='age')) + list(df_poly.filter(regex='log_glucose_no_outliers')) + cat_features + ['stroke'])\n",
        "df_poly = df_poly[col_filter]\n",
        "df_poly.info()"
      ],
      "metadata": {
        "colab": {
          "base_uri": "https://localhost:8080/"
        },
        "id": "RFsFHSgQRSfH",
        "outputId": "65437180-b4b3-4444-f59b-90c71bb280d5"
      },
      "execution_count": null,
      "outputs": [
        {
          "output_type": "stream",
          "name": "stdout",
          "text": [
            "<class 'pandas.core.frame.DataFrame'>\n",
            "RangeIndex: 5109 entries, 0 to 5108\n",
            "Data columns (total 30 columns):\n",
            " #   Column                                           Non-Null Count  Dtype  \n",
            "---  ------                                           --------------  -----  \n",
            " 0   age is_married                                   5109 non-null   float64\n",
            " 1   hypertension log_glucose_no_outliers             5109 non-null   float64\n",
            " 2   is_married                                       5109 non-null   float64\n",
            " 3   work_type_encoded log_glucose_no_outliers        5109 non-null   float64\n",
            " 4   age heart_disease                                5109 non-null   float64\n",
            " 5   heart_disease                                    5109 non-null   float64\n",
            " 6   bmi_categorical_encoded                          5109 non-null   float64\n",
            " 7   is_female log_glucose_no_outliers                5109 non-null   float64\n",
            " 8   age log_glucose_no_outliers                      5109 non-null   float64\n",
            " 9   is_rural                                         5109 non-null   float64\n",
            " 10  age smoking_status_encoded                       5109 non-null   float64\n",
            " 11  age work_type_encoded                            5109 non-null   float64\n",
            " 12  age                                              5109 non-null   float64\n",
            " 13  log_glucose_no_outliers                          5109 non-null   float64\n",
            " 14  age^2                                            5109 non-null   float64\n",
            " 15  bmi_categorical_encoded log_glucose_no_outliers  5109 non-null   float64\n",
            " 16  is_married log_glucose_no_outliers               5109 non-null   float64\n",
            " 17  age is_female                                    5109 non-null   float64\n",
            " 18  is_rural log_glucose_no_outliers                 5109 non-null   float64\n",
            " 19  heart_disease log_glucose_no_outliers            5109 non-null   float64\n",
            " 20  is_female                                        5109 non-null   float64\n",
            " 21  work_type_encoded                                5109 non-null   float64\n",
            " 22  hypertension                                     5109 non-null   float64\n",
            " 23  age bmi_categorical_encoded                      5109 non-null   float64\n",
            " 24  smoking_status_encoded                           5109 non-null   float64\n",
            " 25  age is_rural                                     5109 non-null   float64\n",
            " 26  log_glucose_no_outliers^2                        5109 non-null   float64\n",
            " 27  stroke                                           5109 non-null   float64\n",
            " 28  log_glucose_no_outliers smoking_status_encoded   5109 non-null   float64\n",
            " 29  age hypertension                                 5109 non-null   float64\n",
            "dtypes: float64(30)\n",
            "memory usage: 1.2 MB\n"
          ]
        }
      ]
    },
    {
      "cell_type": "markdown",
      "source": [
        "### stroke\n",
        "- zbalansowanie zbioru danych przy użyciu algorytmów SMOTE, ADASYN, SMOTE+TOMEK, SMOTE ENN. Przy wykonywaniu balansowania nie będziemy dążyć do uzyskania proporcji 50/50 z racji, iż sztucznie generowane próbki nie odzwierciedlają w prawidłowy sposób rzeczywistości i możemy nieco ją zakrzywić ucząc algorytm występowania w 50% przypadków klasy z udarem. Zamiast tego zaczniemy od proporcji 60/40, które dalej w ogólności postrzegane są za klasy zbalansowane biorąc pod uwagę rozważany problem. Pozwoli to zachować ułamek rzeczywistości wskazujący na rzadsze występowanie owej klasy. W późniejszych etapach ewentualnie powrócimy do najlepszej techniki balansowania i spróbujemy innych proporcji klas. \n",
        "\n",
        "Ważne jest, aby balansować dane tylko na zbiorze treningowym, gdyż w ogólności zbiór testowy jest zbiorem, który ma odzwierciedlać realne dane - a te zbalansowane nie są. "
      ],
      "metadata": {
        "id": "JoCABCfXlD-r"
      }
    },
    {
      "cell_type": "code",
      "source": [
        "#wyciagniecie macierzy zmiennych X oraz wektora zmiennej celu Y\n",
        "X = df_poly.loc[:,~df_poly.columns.isin(['stroke'])]\n",
        "Y = df_poly.stroke\n",
        "\n",
        "#train-test split, aby balansować tylko na zbiorze treningowym\n",
        "X_train, X_test, y_train, y_test = train_test_split(X, Y, test_size=0.33, random_state=123)\n",
        "\n",
        "#for visualization\n",
        "X_train['index'] = X_train.reset_index().index"
      ],
      "metadata": {
        "id": "yOE5fGkjB0uK"
      },
      "execution_count": null,
      "outputs": []
    },
    {
      "cell_type": "code",
      "source": [
        "df_imbalanced = X_train.copy()\n",
        "df_imbalanced['stroke'] = y_train"
      ],
      "metadata": {
        "id": "XI_8xZR-Cv14"
      },
      "execution_count": null,
      "outputs": []
    },
    {
      "cell_type": "code",
      "source": [
        "#plot ukazujacy problem niezbalansowanych danych - klasa pacjentow z udarem jest prawie niewidoczna\n",
        "plotting(data = df_imbalanced,x='index', y='age', type='scatter')"
      ],
      "metadata": {
        "id": "uWr19ClN80XJ"
      },
      "execution_count": null,
      "outputs": []
    },
    {
      "cell_type": "markdown",
      "source": [
        "#### SMOTE\n",
        "\n",
        "SMOTE wykorzystuje podejście algorytmiczne KNN tj. dla każdej obserwacji **$x$** wybiera $k$ najbliższych sąsiadów i wybiera losowo jednego **$x'$** z nich. Następnie różnica między koordynatami **$x$** oraz **$x'$** jest obliczana i przemnożona losowo przez liczby z przedziału $(0,1)$. Tak stworzona z różnic obserwacja **$x''$** jest dodana do zbioru. Geometrycznie odwzorowuje to stworzenie nowej obserwacji na podstawie przesunięcia obserwacji bieżącej do jednego z sąsiadów."
      ],
      "metadata": {
        "id": "Tjhd31vfpKKi"
      }
    },
    {
      "cell_type": "code",
      "source": [
        "# SMOTE\n",
        "df_smote, X_smote, y_smote = balance_data(X=X_train, y=y_train, cat_features = cat_features, algorithm = 'SMOTE', strategy=1, k_neighbors = 7)\n",
        "#plotting(data = df_smote, x='index', y='age', type='scatter')"
      ],
      "metadata": {
        "id": "Q8rjZeIS-Dgr",
        "colab": {
          "base_uri": "https://localhost:8080/"
        },
        "outputId": "60a79e0d-22a9-4be3-ba39-74d3e476dfe0"
      },
      "execution_count": null,
      "outputs": [
        {
          "output_type": "stream",
          "name": "stdout",
          "text": [
            "Liczba wszystkich obserwacji:  6530\n",
            "\n",
            "Liczba obserwacji z klasy mniejszościowej:  3265\n",
            "\n",
            "Procent klasy mniejszościowej do całości po zbalansowaniu:  0.5\n"
          ]
        }
      ]
    },
    {
      "cell_type": "markdown",
      "source": [
        "#### ADASYN\n",
        "ADASYN jest generalizacją algorytmu SMOTE, który ma za zadanie dokonać oversamplingu klasy mniejszościowej poprzez wygenerowanie sztucznych obserwacji. Ale różnica polega na tym, że bierze się pod uwagę rozkład gęstości $r_i$, który decyduje o liczbie syntetycznych instancji generowanych dla trudnych do nauczenia próbek. To główna różnica w porównaniu do SMOTE. Procedura jest następująca:\n",
        "1. Ze zbioru danych dobierana jest całkowita liczba obserwacji z klasy większościowej $N^-$ oraz mniejszościowej $N^+$. Następnie ustawiany jest apriori threshold i jeżeli jest większy od wartości $d=N^+ / N^-$ to algorytm jest inicjowany. Całkowita liczba próbek do wygenerowania jest równa $G = (N^- - N^+)\\times \\beta$, gdzie $\\beta = (N^+ / N^-)$. \n",
        "2. Dla każdej obserwacji mniejszościowej $x_i$ poszukiwane jest K-najbliższych sąsiadów w metryce Euklidesowej. Każda obserwacja $x_i$ powinna mieć inne otoczenie sąsiadów. Ustawiana jest wartość jest $r_i = \\Delta i/k$, gdzie $\\Delta i$ to ilość obserwacji z klasy większościowej w danym otoczeniu KNN, a $k$ to całkowita liczba sąsiadów. Następnie proporcja ta zostaje znormalizowana $r_x = r_i/\\sum{r_i}$, gdzie $\\sum{r_x} = 1$.  \n",
        "3. Ostatecznie kalkulowana jest liczba sztucznych obserwacji do wygenerowania dla otoczenia $x_i$, która wynosi $g_i = r_x \\times G$. Finalnie dla każdego otoczenia generowane są sztuczne próbki $s_i$ przykładowo przy pomocy $s_i = x_i + (x_{zi} - x_i)\\lambda$, gdzie $x_{zi}$ jest kolejną obserwacją mniejszościową w otoczeniu, a $\\lambda$ jest losową liczbą z przedziału $(0,1)$."
      ],
      "metadata": {
        "id": "FQ4yMiitvtbT"
      }
    },
    {
      "cell_type": "code",
      "source": [
        "# ADASYN\n",
        "df_ada, X_ada, y_ada = balance_data(X=X_train, y=y_train, cat_features = cat_features, algorithm='ADASYN', strategy = 1, n_neighbors = 7)\n",
        "#plotting(data = df_ada,x='index', y='age', type='scatter')"
      ],
      "metadata": {
        "id": "qSoQSth7-DT_",
        "colab": {
          "base_uri": "https://localhost:8080/"
        },
        "outputId": "2fc59ebf-a656-4e70-b486-7d5ad16959f8"
      },
      "execution_count": null,
      "outputs": [
        {
          "output_type": "stream",
          "name": "stdout",
          "text": [
            "Liczba wszystkich obserwacji:  6530\n",
            "\n",
            "Liczba obserwacji z klasy mniejszościowej:  3265\n",
            "\n",
            "Procent klasy mniejszościowej do całości po zbalansowaniu:  0.5\n"
          ]
        }
      ]
    },
    {
      "cell_type": "markdown",
      "source": [
        "#### SMOTE Tomek\n",
        "SMOTE + Tomek jest techniką hybrydową, która łączy technikę oversamplingu algorytmu SMOTE z techniką undersamplingu algorytmu Tomek. Po zastosowaniu SMOTE'a istnieje możliwość nakładania się klastrów klas co może skutkować w overfittingu. Wówczas użyty zostaje dodatkowo algorytm Tomek, który polega na sparowaniu ze sobą próbek z różnych klas, a następnie obserwacji z klasy większościowej zostają usunięte w celu (niekiedy z obydwu) wyraźniejszej separacji klas. "
      ],
      "metadata": {
        "id": "41F3XUlmu4Ww"
      }
    },
    {
      "cell_type": "code",
      "source": [
        "# SMOTE Tomek\n",
        "df_smtom, X_smtom, y_smtom = balance_data(X=X_train, y=y_train, cat_features = cat_features, algorithm='SMOTETOMEK', strategy = 1, k_neighbors=7)\n",
        "#plotting(data = df_smtom, x='index', y='age', type='scatter')"
      ],
      "metadata": {
        "id": "EXm_f_IpF1md",
        "colab": {
          "base_uri": "https://localhost:8080/"
        },
        "outputId": "1438e0d2-0dcc-47c5-c36f-cd80d5fc01d4"
      },
      "execution_count": null,
      "outputs": [
        {
          "output_type": "stream",
          "name": "stdout",
          "text": [
            "Liczba wszystkich obserwacji:  6456\n",
            "\n",
            "Liczba obserwacji z klasy mniejszościowej:  3228\n",
            "\n",
            "Procent klasy mniejszościowej do całości po zbalansowaniu:  0.5\n"
          ]
        }
      ]
    },
    {
      "cell_type": "markdown",
      "source": [
        "#### SMOTE ENN\n",
        "SMOTE + ENN jest techniką hybrydową, która polega na dodatkowym usunięciu pewnej liczby obserwacji z przestrzeni cech. Gdy zbiór zostanie poddany oversamplingu przez SMOTE to następnie zostaje zastosowana technika ENN, która jest techniką undersamplingu. ENN (Edited Nearest Neighbor) polega na odnalezieniu najbliższych K-sąsiadów każdej z obserwacji. Następnie sprawdza czy klasa większościowa tych sąsiadów jest zgodna z klasą danej obserwacji, jeśli nie to zarówno obserwacja jak i sąsiedzi zostają usunięci. Dzięki takiemu podejściu oddzielenie klas od siebie jest wyraźniejsze, aniżeli w pozostałych przypadkach. "
      ],
      "metadata": {
        "id": "mWDDMPF0tdsI"
      }
    },
    {
      "cell_type": "code",
      "source": [
        "# SMOTE ENN\n",
        "df_smenn, X_smenn, y_smenn = balance_data(X=X_train, y=y_train, cat_features = cat_features, algorithm='SMOTEENN', strategy = 1)\n",
        "#plotting(data = df_smenn, x='index', y='age',type='scatter')"
      ],
      "metadata": {
        "id": "CTLfmidPF1bo",
        "colab": {
          "base_uri": "https://localhost:8080/"
        },
        "outputId": "be6fb957-45ab-4ad6-8202-ac2458ef2b06"
      },
      "execution_count": null,
      "outputs": [
        {
          "output_type": "stream",
          "name": "stdout",
          "text": [
            "Liczba wszystkich obserwacji:  6353\n",
            "\n",
            "Liczba obserwacji z klasy mniejszościowej:  3088\n",
            "\n",
            "Procent klasy mniejszościowej do całości po zbalansowaniu:  0.48606957342987567\n"
          ]
        }
      ]
    },
    {
      "cell_type": "markdown",
      "source": [
        "Widzimy, że każdy z algorytmów balansuje w specyficzny dla siebie sposób generuje sztuczne obserwacje dla klasy mniejszościowej. W algorytmie SMOTE ENN widać dodatkowo zmalenie liczby obserwacji za sprawą wyraźnej techniki undersamplingu. Przeprowadzimy trenowanie modeli na każdym ze zbiorze dla każdego z modeli, aby mieć szerszy widok na rezultaty. Co więcej dla każdego z nich przeprowadzimy także regularyzację LASSO. "
      ],
      "metadata": {
        "id": "ooJsaVUIicct"
      }
    },
    {
      "cell_type": "markdown",
      "source": [
        "# Metryki\n",
        "\n",
        "W ogólności dla oceny rozwiązań problemów klasyfikacyjnych korzysta się z macierzy pomyłek.\n",
        "![image.png](data:image/png;base64,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)\n",
        "\n",
        "Zestawia ona rzeczywiste wartości klas z wartościami klas zamodelowanymi. W przypadku binarnym można to przedstawić w postaci TP czyli przypadki zaklasyfikowane prawidłowo do klasy prawdziwej, TN czyli przypadki zaklasyfikowane prawidłowo do klasy fałszywej, FP czyli przypadki zaklasyfikowane nieprawidłowo do klasy prawdziwej oraz FN czyli przypadki zaklasyfikowane nieprawidłowo do klasy fałszywej. \n",
        "Wartości FP są tzw. błędem I typu, czyli zaklasyfikowaniem czegoś jako prawdziwe, gdy w rzeczywistości takie nie jest. Z kolei wartości FN są błędem II typu, czyli zaklasyfikowaniem czegoś jako nieprawdziwe, gdy w rzeczywistości prawdziwe jest. \n",
        "\n",
        "Z takiego zestawienia najpopularniejsze są metryki:\n",
        "- $Accuracy = \\frac{(TP+TN)}{(TP+FP+TN+FN)}$ czyli proporcja poprawnych wyników spośród wszystkich możliwych\n",
        "- $Precision = \\frac{TP}{(TP+FP)}$ czyli precyzja modelu czyli ile z zaklasyfikowanych do klasy prawdziwej rzeczywiście do niej należy\n",
        "- $Recall = \\frac{TP}{(TP+FN)}$ czyli proporcja poprawnych wyników z klasy prawdziwej do wszystkich możliwych do uzyskania\n",
        "- $F_1 = 2\\cdot \\frac{precision \\cdot recall}{precision + recall}$ czyli średnia harmoniczna pomiędzy metrykami Precision i Recall\n",
        "\n",
        "W naszym przypadku chcemy się skupić na minimalizacji błędu II typu kosztem błędu typu I. Wynika to z faktu, iż w przypadku popełnienia błędu I typu czyli nieprawdziwej predykcji udaru mózgu mogą zostać wykonane niepotrzebne badania oraz poniesione środki finansowe, natomiast w przypadek błędu II typu niesie poważne konsekwencje zdrowotne a w najgorszym przypadku śmierć. \n",
        "\n",
        "Nie wystarczy jednak minimalizacja FN, ponieważ w takim przypadku każdy kolejny pacjent byłby klasyfikowany jako osoba z udarem mózgu. Potrzebne jest pewne wyważenie między FP, a FN dlatego kierować się będziemy metrykami Precision - czyli ile osób zaklasyfikowanych z udarem rzeczywiście ma udar (wysoka wartość precyzji implikuje niską wartość FP) oraz Recall (wysoka wartość recall implikuje niską wartość FN), jak też ich średnią harmoniczną $F_1$. \n",
        "\n",
        "Podsumowując, dla klasy pacjentów z udarem bardziej istotna jest metryka Recall, która informuje nas jaka jest proporcja osób zaklasyfikowanych z udarem do wszystkich osób, które zaklasyfikowane być powinny. Oczekujemy wysoką wartość, gdyż oznaczać to będzie że prawidłowo wyszukujemy osoby z udarem. \n",
        "\n",
        "Dla pacjentów bez udaru bardziej patrzeć będziemy na metrykę Precision, która z kolei mówi nam ile zaklasyfikowanych jako osoby bez udaru rzeczywiście udaru nie mają. Wysoka wartość będzie oznaczać, że precyzyjnie wyszukujemy osoby bez udaru. \n",
        "\n"
      ],
      "metadata": {
        "id": "TLXj50KF3JTp"
      }
    },
    {
      "cell_type": "markdown",
      "source": [
        "# Modelowanie"
      ],
      "metadata": {
        "id": "6iUzSJ9z9-u5"
      }
    },
    {
      "cell_type": "markdown",
      "source": [
        "W naszym zestawie danych występuje wiele zmiennych po wprowadzeniu polynomial features. O ile w trakcie preprocessingu danych nie usunęliśmy ich zbyt wiele i wciąż liczba zmiennych jest o wiele mniejsza od liczby obserwacji to wciąż nadmierna ich ilość prowadzić może do zjawiska overfittingu, wpływać na wyjaśnialność, czy też wprowadzać niepotrzebny szum do modelu. \n",
        "\n",
        "Dlatego też chcemy tą liczbę zredukować poprzez wybranie naijstotniejszych zmiennych (chociaż możliwe są inne sposoby jak redukcja wymiarowości przykładowo poprzez PCA). \n",
        "\n",
        "Dla każdego z modeli dokonamy inną selekcję cech, gdyż w naturalny sposób różnią się one algorytmiką działania i inne czynniki mogą wpływać na istotność zmiennych w danym modelu. \n",
        "\n",
        "Wytrenujemy 3 modele:\n",
        "\n",
        "1. Regresje logistyczną jako model podstawowy z racji na łatwą interpretowalność. Dodatkowo wykorzystamy regularyzację LASSO do ograniczenia liczby cech. Ta regularyzacja dostawia dodatkowy człon w zagadnieniu minimalizacji na współczynniki występujące przy każdej z cech w metryce L1 przez co pozwala na wyzerowanie współczynników niektórych predyktorów. Tutaj także dokonamy standaryzacji zmiennych z uwagi na regularyzację LASSO, która wymaga zmienne na podobnej skali. Z kolei dla zmiennych kategorycznych zastosujemy OHE.\n",
        "\n",
        "2. SVM czyli maszyne wektorów nośnych. Tutaj cechy wybierzemy korzystając z transformatora SFS, który wybiera cechy sekwencyjnie wstecz rozpoczynając od pełnej dostępnej puli predyktorów. Jest podobny do RFE, jednak nie wymaga aby model udostępniał informacje na temat istotności poszczególnych zmiennych a będzie to potrzebne w przypadku zastosowania innego jądra jak liniowe czyli np. jądra RBF, które z reguły posiada większą zdolność predykcyjną z racji na tworzenie nieliniowych granic decyzyjnych. Podobnie jak w przypadku regresji liniowej, dane zostanę zestandaryzowane gdyż ułatwia to znalezienie algorytmowi SVM optymalnej hiperpłaszczyzny jako granicy decyzyjnej. Z kolei dla zmiennych kategorycznych zastosujemy OHE. \n",
        "\n",
        "3. RandomForest czyli lasy losowe cechujące się wysoką mocą predykcji. Cechy zostaną dobrane bazując na RFE czyli rekursywnej selekecji cech. Podobnie jak przy SFS rozważane są coraz to mniejsze zbiory predyktorów ograniczane na podstawie istotności cech w modelu. Lasy losowe przy klasyfikacji nie wymagają przeskalowania danych iż podziały odbywają się ze względu na jednorodność liści przy wykorzystaniu pewnego ze współczynników (np. Giniego). Natomiast kodowanie zmiennych kategorycznych techniką OHE zwiększyłoby (w naszym przypadku drastycznie) liczbę zmiennych co jest niewskazane dla modeli drzewiastych z uwagi na tendencję do overfittingu. \n"
      ],
      "metadata": {
        "id": "9fhcrwtp-Dp3"
      }
    },
    {
      "cell_type": "markdown",
      "source": [
        "### Logistic Regression"
      ],
      "metadata": {
        "id": "nGQFW0kSHClx"
      }
    },
    {
      "cell_type": "code",
      "source": [
        "report = pd.DataFrame()\n",
        "lr_base = LogisticRegressionWithThreshold(penalty='l1', solver='saga',max_iter=10000, random_state = 123)\n",
        "for X, y, name in zip([X_smote, X_ada, X_smtom, X_smenn],[y_smote, y_ada, y_smtom, y_smenn], ['SMOTE', 'ADASYN', 'SMOTE+TOMEK','SMOTE+ENN']):\n",
        "  print('\\n'+name +'\\n')\n",
        "  columns_to_standardize = list(set(list(X.filter(regex='age')) + list(X.filter(regex='log_glucose_no_outliers'))))\n",
        "\n",
        "  results = fit_pred_score(X, y, X_test, y_test, lr_base, dataset_name = name, model_name = 'Base LR', scaler = True, ohe=True, columns_to_standardize = columns_to_standardize, cat_features = cat_features, visualize_test = True, visualize_train = True)\n",
        "  \n",
        "  report = pd.concat([report, results])\n",
        "  report.reset_index(inplace=True, drop=True)\n",
        "\n",
        "report.sort_values(by=['model_name','metric','dataset_name'])"
      ],
      "metadata": {
        "colab": {
          "base_uri": "https://localhost:8080/",
          "height": 1000
        },
        "id": "PWzHlcSJzWxd",
        "outputId": "56a178df-407c-4c5d-f1c4-5d55a2e12cc9"
      },
      "execution_count": null,
      "outputs": [
        {
          "output_type": "stream",
          "name": "stdout",
          "text": [
            "\n",
            "SMOTE\n",
            "\n"
          ]
        },
        {
          "output_type": "stream",
          "name": "stderr",
          "text": [
            "/usr/local/lib/python3.7/dist-packages/sklearn/base.py:451: UserWarning:\n",
            "\n",
            "X does not have valid feature names, but LogisticRegressionWithThreshold was fitted with feature names\n",
            "\n"
          ]
        },
        {
          "output_type": "display_data",
          "data": {
            "text/plain": [
              "<Figure size 432x288 with 2 Axes>"
            ],
            "image/png": "[encoded data removed]"
          },
          "metadata": {
            "needs_background": "light"
          }
        },
        {
          "output_type": "stream",
          "name": "stderr",
          "text": [
            "/usr/local/lib/python3.7/dist-packages/sklearn/base.py:451: UserWarning:\n",
            "\n",
            "X does not have valid feature names, but LogisticRegressionWithThreshold was fitted with feature names\n",
            "\n"
          ]
        },
        {
          "output_type": "display_data",
          "data": {
            "text/plain": [
              "<Figure size 432x288 with 2 Axes>"
            ],
            "image/png": "[encoded data removed]"
          },
          "metadata": {
            "needs_background": "light"
          }
        },
        {
          "output_type": "stream",
          "name": "stdout",
          "text": [
            "\n",
            "ADASYN\n",
            "\n"
          ]
        },
        {
          "output_type": "stream",
          "name": "stderr",
          "text": [
            "/usr/local/lib/python3.7/dist-packages/sklearn/base.py:451: UserWarning:\n",
            "\n",
            "X does not have valid feature names, but LogisticRegressionWithThreshold was fitted with feature names\n",
            "\n"
          ]
        },
        {
          "output_type": "display_data",
          "data": {
            "text/plain": [
              "<Figure size 432x288 with 2 Axes>"
            ],
            "image/png": "[encoded data removed]"
          },
          "metadata": {
            "needs_background": "light"
          }
        },
        {
          "output_type": "stream",
          "name": "stderr",
          "text": [
            "/usr/local/lib/python3.7/dist-packages/sklearn/base.py:451: UserWarning:\n",
            "\n",
            "X does not have valid feature names, but LogisticRegressionWithThreshold was fitted with feature names\n",
            "\n"
          ]
        },
        {
          "output_type": "display_data",
          "data": {
            "text/plain": [
              "<Figure size 432x288 with 2 Axes>"
            ],
            "image/png": "[encoded data removed]"
          },
          "metadata": {
            "needs_background": "light"
          }
        },
        {
          "output_type": "stream",
          "name": "stdout",
          "text": [
            "\n",
            "SMOTE+TOMEK\n",
            "\n"
          ]
        },
        {
          "output_type": "stream",
          "name": "stderr",
          "text": [
            "/usr/local/lib/python3.7/dist-packages/sklearn/base.py:451: UserWarning:\n",
            "\n",
            "X does not have valid feature names, but LogisticRegressionWithThreshold was fitted with feature names\n",
            "\n"
          ]
        },
        {
          "output_type": "display_data",
          "data": {
            "text/plain": [
              "<Figure size 432x288 with 2 Axes>"
            ],
            "image/png": "[encoded data removed]"
          },
          "metadata": {
            "needs_background": "light"
          }
        },
        {
          "output_type": "stream",
          "name": "stderr",
          "text": [
            "/usr/local/lib/python3.7/dist-packages/sklearn/base.py:451: UserWarning:\n",
            "\n",
            "X does not have valid feature names, but LogisticRegressionWithThreshold was fitted with feature names\n",
            "\n"
          ]
        },
        {
          "output_type": "display_data",
          "data": {
            "text/plain": [
              "<Figure size 432x288 with 2 Axes>"
            ],
            "image/png": "[encoded data removed]"
          },
          "metadata": {
            "needs_background": "light"
          }
        },
        {
          "output_type": "stream",
          "name": "stdout",
          "text": [
            "\n",
            "SMOTE+ENN\n",
            "\n"
          ]
        },
        {
          "output_type": "stream",
          "name": "stderr",
          "text": [
            "/usr/local/lib/python3.7/dist-packages/sklearn/base.py:451: UserWarning:\n",
            "\n",
            "X does not have valid feature names, but LogisticRegressionWithThreshold was fitted with feature names\n",
            "\n"
          ]
        },
        {
          "output_type": "display_data",
          "data": {
            "text/plain": [
              "<Figure size 432x288 with 2 Axes>"
            ],
            "image/png": "[encoded data removed]"
          },
          "metadata": {
            "needs_background": "light"
          }
        },
        {
          "output_type": "stream",
          "name": "stderr",
          "text": [
            "/usr/local/lib/python3.7/dist-packages/sklearn/base.py:451: UserWarning:\n",
            "\n",
            "X does not have valid feature names, but LogisticRegressionWithThreshold was fitted with feature names\n",
            "\n"
          ]
        },
        {
          "output_type": "display_data",
          "data": {
            "text/plain": [
              "<Figure size 432x288 with 2 Axes>"
            ],
            "image/png": "[encoded data removed]"
          },
          "metadata": {
            "needs_background": "light"
          }
        },
        {
          "output_type": "execute_result",
          "data": {
            "text/plain": [
              "      No stroke     Stroke  accuracy    macro avg  weighted avg     metric  \\\n",
              "6      0.831282   0.236066  0.723606     0.533674      0.799156   f1-score   \n",
              "2      0.904110   0.242744  0.829775     0.573427      0.868413   f1-score   \n",
              "14     0.884629   0.252772  0.800119     0.568700      0.850525   f1-score   \n",
              "10     0.904412   0.247368  0.830368     0.575890      0.868949   f1-score   \n",
              "4      0.983719   0.138728  0.723606     0.561224      0.938111  precision   \n",
              "0      0.967811   0.159722  0.829775     0.563767      0.924195  precision   \n",
              "12     0.974359   0.158333  0.800119     0.566346      0.930315  precision   \n",
              "8      0.968504   0.162630  0.830368     0.565567      0.925008  precision   \n",
              "5      0.719749   0.791209  0.723606     0.755479      0.723606     recall   \n",
              "1      0.848276   0.505495  0.829775     0.676885      0.829775     recall   \n",
              "13     0.810031   0.626374  0.800119     0.718202      0.800119     recall   \n",
              "9      0.848276   0.516484  0.830368     0.682380      0.830368     recall   \n",
              "7   1595.000000  91.000000  0.723606  1686.000000   1686.000000    support   \n",
              "3   1595.000000  91.000000  0.829775  1686.000000   1686.000000    support   \n",
              "15  1595.000000  91.000000  0.800119  1686.000000   1686.000000    support   \n",
              "11  1595.000000  91.000000  0.830368  1686.000000   1686.000000    support   \n",
              "\n",
              "   dataset_name model_name  \n",
              "6        ADASYN    Base LR  \n",
              "2         SMOTE    Base LR  \n",
              "14    SMOTE+ENN    Base LR  \n",
              "10  SMOTE+TOMEK    Base LR  \n",
              "4        ADASYN    Base LR  \n",
              "0         SMOTE    Base LR  \n",
              "12    SMOTE+ENN    Base LR  \n",
              "8   SMOTE+TOMEK    Base LR  \n",
              "5        ADASYN    Base LR  \n",
              "1         SMOTE    Base LR  \n",
              "13    SMOTE+ENN    Base LR  \n",
              "9   SMOTE+TOMEK    Base LR  \n",
              "7        ADASYN    Base LR  \n",
              "3         SMOTE    Base LR  \n",
              "15    SMOTE+ENN    Base LR  \n",
              "11  SMOTE+TOMEK    Base LR  "
            ],
            "text/html": [
              "\n",
              "  <div id=\"df-01c1d0cb-e13f-4332-aab3-ecd7ed62a091\">\n",
              "    <div class=\"colab-df-container\">\n",
              "      <div>\n",
              "<style scoped>\n",
              "    .dataframe tbody tr th:only-of-type {\n",
              "        vertical-align: middle;\n",
              "    }\n",
              "\n",
              "    .dataframe tbody tr th {\n",
              "        vertical-align: top;\n",
              "    }\n",
              "\n",
              "    .dataframe thead th {\n",
              "        text-align: right;\n",
              "    }\n",
              "</style>\n",
              "<table border=\"1\" class=\"dataframe\">\n",
              "  <thead>\n",
              "    <tr style=\"text-align: right;\">\n",
              "      <th></th>\n",
              "      <th>No stroke</th>\n",
              "      <th>Stroke</th>\n",
              "      <th>accuracy</th>\n",
              "      <th>macro avg</th>\n",
              "      <th>weighted avg</th>\n",
              "      <th>metric</th>\n",
              "      <th>dataset_name</th>\n",
              "      <th>model_name</th>\n",
              "    </tr>\n",
              "  </thead>\n",
              "  <tbody>\n",
              "    <tr>\n",
              "      <th>6</th>\n",
              "      <td>0.831282</td>\n",
              "      <td>0.236066</td>\n",
              "      <td>0.723606</td>\n",
              "      <td>0.533674</td>\n",
              "      <td>0.799156</td>\n",
              "      <td>f1-score</td>\n",
              "      <td>ADASYN</td>\n",
              "      <td>Base LR</td>\n",
              "    </tr>\n",
              "    <tr>\n",
              "      <th>2</th>\n",
              "      <td>0.904110</td>\n",
              "      <td>0.242744</td>\n",
              "      <td>0.829775</td>\n",
              "      <td>0.573427</td>\n",
              "      <td>0.868413</td>\n",
              "      <td>f1-score</td>\n",
              "      <td>SMOTE</td>\n",
              "      <td>Base LR</td>\n",
              "    </tr>\n",
              "    <tr>\n",
              "      <th>14</th>\n",
              "      <td>0.884629</td>\n",
              "      <td>0.252772</td>\n",
              "      <td>0.800119</td>\n",
              "      <td>0.568700</td>\n",
              "      <td>0.850525</td>\n",
              "      <td>f1-score</td>\n",
              "      <td>SMOTE+ENN</td>\n",
              "      <td>Base LR</td>\n",
              "    </tr>\n",
              "    <tr>\n",
              "      <th>10</th>\n",
              "      <td>0.904412</td>\n",
              "      <td>0.247368</td>\n",
              "      <td>0.830368</td>\n",
              "      <td>0.575890</td>\n",
              "      <td>0.868949</td>\n",
              "      <td>f1-score</td>\n",
              "      <td>SMOTE+TOMEK</td>\n",
              "      <td>Base LR</td>\n",
              "    </tr>\n",
              "    <tr>\n",
              "      <th>4</th>\n",
              "      <td>0.983719</td>\n",
              "      <td>0.138728</td>\n",
              "      <td>0.723606</td>\n",
              "      <td>0.561224</td>\n",
              "      <td>0.938111</td>\n",
              "      <td>precision</td>\n",
              "      <td>ADASYN</td>\n",
              "      <td>Base LR</td>\n",
              "    </tr>\n",
              "    <tr>\n",
              "      <th>0</th>\n",
              "      <td>0.967811</td>\n",
              "      <td>0.159722</td>\n",
              "      <td>0.829775</td>\n",
              "      <td>0.563767</td>\n",
              "      <td>0.924195</td>\n",
              "      <td>precision</td>\n",
              "      <td>SMOTE</td>\n",
              "      <td>Base LR</td>\n",
              "    </tr>\n",
              "    <tr>\n",
              "      <th>12</th>\n",
              "      <td>0.974359</td>\n",
              "      <td>0.158333</td>\n",
              "      <td>0.800119</td>\n",
              "      <td>0.566346</td>\n",
              "      <td>0.930315</td>\n",
              "      <td>precision</td>\n",
              "      <td>SMOTE+ENN</td>\n",
              "      <td>Base LR</td>\n",
              "    </tr>\n",
              "    <tr>\n",
              "      <th>8</th>\n",
              "      <td>0.968504</td>\n",
              "      <td>0.162630</td>\n",
              "      <td>0.830368</td>\n",
              "      <td>0.565567</td>\n",
              "      <td>0.925008</td>\n",
              "      <td>precision</td>\n",
              "      <td>SMOTE+TOMEK</td>\n",
              "      <td>Base LR</td>\n",
              "    </tr>\n",
              "    <tr>\n",
              "      <th>5</th>\n",
              "      <td>0.719749</td>\n",
              "      <td>0.791209</td>\n",
              "      <td>0.723606</td>\n",
              "      <td>0.755479</td>\n",
              "      <td>0.723606</td>\n",
              "      <td>recall</td>\n",
              "      <td>ADASYN</td>\n",
              "      <td>Base LR</td>\n",
              "    </tr>\n",
              "    <tr>\n",
              "      <th>1</th>\n",
              "      <td>0.848276</td>\n",
              "      <td>0.505495</td>\n",
              "      <td>0.829775</td>\n",
              "      <td>0.676885</td>\n",
              "      <td>0.829775</td>\n",
              "      <td>recall</td>\n",
              "      <td>SMOTE</td>\n",
              "      <td>Base LR</td>\n",
              "    </tr>\n",
              "    <tr>\n",
              "      <th>13</th>\n",
              "      <td>0.810031</td>\n",
              "      <td>0.626374</td>\n",
              "      <td>0.800119</td>\n",
              "      <td>0.718202</td>\n",
              "      <td>0.800119</td>\n",
              "      <td>recall</td>\n",
              "      <td>SMOTE+ENN</td>\n",
              "      <td>Base LR</td>\n",
              "    </tr>\n",
              "    <tr>\n",
              "      <th>9</th>\n",
              "      <td>0.848276</td>\n",
              "      <td>0.516484</td>\n",
              "      <td>0.830368</td>\n",
              "      <td>0.682380</td>\n",
              "      <td>0.830368</td>\n",
              "      <td>recall</td>\n",
              "      <td>SMOTE+TOMEK</td>\n",
              "      <td>Base LR</td>\n",
              "    </tr>\n",
              "    <tr>\n",
              "      <th>7</th>\n",
              "      <td>1595.000000</td>\n",
              "      <td>91.000000</td>\n",
              "      <td>0.723606</td>\n",
              "      <td>1686.000000</td>\n",
              "      <td>1686.000000</td>\n",
              "      <td>support</td>\n",
              "      <td>ADASYN</td>\n",
              "      <td>Base LR</td>\n",
              "    </tr>\n",
              "    <tr>\n",
              "      <th>3</th>\n",
              "      <td>1595.000000</td>\n",
              "      <td>91.000000</td>\n",
              "      <td>0.829775</td>\n",
              "      <td>1686.000000</td>\n",
              "      <td>1686.000000</td>\n",
              "      <td>support</td>\n",
              "      <td>SMOTE</td>\n",
              "      <td>Base LR</td>\n",
              "    </tr>\n",
              "    <tr>\n",
              "      <th>15</th>\n",
              "      <td>1595.000000</td>\n",
              "      <td>91.000000</td>\n",
              "      <td>0.800119</td>\n",
              "      <td>1686.000000</td>\n",
              "      <td>1686.000000</td>\n",
              "      <td>support</td>\n",
              "      <td>SMOTE+ENN</td>\n",
              "      <td>Base LR</td>\n",
              "    </tr>\n",
              "    <tr>\n",
              "      <th>11</th>\n",
              "      <td>1595.000000</td>\n",
              "      <td>91.000000</td>\n",
              "      <td>0.830368</td>\n",
              "      <td>1686.000000</td>\n",
              "      <td>1686.000000</td>\n",
              "      <td>support</td>\n",
              "      <td>SMOTE+TOMEK</td>\n",
              "      <td>Base LR</td>\n",
              "    </tr>\n",
              "  </tbody>\n",
              "</table>\n",
              "</div>\n",
              "      <button class=\"colab-df-convert\" onclick=\"convertToInteractive('df-01c1d0cb-e13f-4332-aab3-ecd7ed62a091')\"\n",
              "              title=\"Convert this dataframe to an interactive table.\"\n",
              "              style=\"display:none;\">\n",
              "        \n",
              "  <svg xmlns=\"http://www.w3.org/2000/svg\" height=\"24px\"viewBox=\"0 0 24 24\"\n",
              "       width=\"24px\">\n",
              "    <path d=\"M0 0h24v24H0V0z\" fill=\"none\"/>\n",
              "    <path d=\"M18.56 5.44l.94 2.06.94-2.06 2.06-.94-2.06-.94-.94-2.06-.94 2.06-2.06.94zm-11 1L8.5 8.5l.94-2.06 2.06-.94-2.06-.94L8.5 2.5l-.94 2.06-2.06.94zm10 10l.94 2.06.94-2.06 2.06-.94-2.06-.94-.94-2.06-.94 2.06-2.06.94z\"/><path d=\"M17.41 7.96l-1.37-1.37c-.4-.4-.92-.59-1.43-.59-.52 0-1.04.2-1.43.59L10.3 9.45l-7.72 7.72c-.78.78-.78 2.05 0 2.83L4 21.41c.39.39.9.59 1.41.59.51 0 1.02-.2 1.41-.59l7.78-7.78 2.81-2.81c.8-.78.8-2.07 0-2.86zM5.41 20L4 18.59l7.72-7.72 1.47 1.35L5.41 20z\"/>\n",
              "  </svg>\n",
              "      </button>\n",
              "      \n",
              "  <style>\n",
              "    .colab-df-container {\n",
              "      display:flex;\n",
              "      flex-wrap:wrap;\n",
              "      gap: 12px;\n",
              "    }\n",
              "\n",
              "    .colab-df-convert {\n",
              "      background-color: #E8F0FE;\n",
              "      border: none;\n",
              "      border-radius: 50%;\n",
              "      cursor: pointer;\n",
              "      display: none;\n",
              "      fill: #1967D2;\n",
              "      height: 32px;\n",
              "      padding: 0 0 0 0;\n",
              "      width: 32px;\n",
              "    }\n",
              "\n",
              "    .colab-df-convert:hover {\n",
              "      background-color: #E2EBFA;\n",
              "      box-shadow: 0px 1px 2px rgba(60, 64, 67, 0.3), 0px 1px 3px 1px rgba(60, 64, 67, 0.15);\n",
              "      fill: #174EA6;\n",
              "    }\n",
              "\n",
              "    [theme=dark] .colab-df-convert {\n",
              "      background-color: #3B4455;\n",
              "      fill: #D2E3FC;\n",
              "    }\n",
              "\n",
              "    [theme=dark] .colab-df-convert:hover {\n",
              "      background-color: #434B5C;\n",
              "      box-shadow: 0px 1px 3px 1px rgba(0, 0, 0, 0.15);\n",
              "      filter: drop-shadow(0px 1px 2px rgba(0, 0, 0, 0.3));\n",
              "      fill: #FFFFFF;\n",
              "    }\n",
              "  </style>\n",
              "\n",
              "      <script>\n",
              "        const buttonEl =\n",
              "          document.querySelector('#df-01c1d0cb-e13f-4332-aab3-ecd7ed62a091 button.colab-df-convert');\n",
              "        buttonEl.style.display =\n",
              "          google.colab.kernel.accessAllowed ? 'block' : 'none';\n",
              "\n",
              "        async function convertToInteractive(key) {\n",
              "          const element = document.querySelector('#df-01c1d0cb-e13f-4332-aab3-ecd7ed62a091');\n",
              "          const dataTable =\n",
              "            await google.colab.kernel.invokeFunction('convertToInteractive',\n",
              "                                                     [key], {});\n",
              "          if (!dataTable) return;\n",
              "\n",
              "          const docLinkHtml = 'Like what you see? Visit the ' +\n",
              "            '<a target=\"_blank\" href=https://colab.research.google.com/notebooks/data_table.ipynb>data table notebook</a>'\n",
              "            + ' to learn more about interactive tables.';\n",
              "          element.innerHTML = '';\n",
              "          dataTable['output_type'] = 'display_data';\n",
              "          await google.colab.output.renderOutput(dataTable, element);\n",
              "          const docLink = document.createElement('div');\n",
              "          docLink.innerHTML = docLinkHtml;\n",
              "          element.appendChild(docLink);\n",
              "        }\n",
              "      </script>\n",
              "    </div>\n",
              "  </div>\n",
              "  "
            ]
          },
          "metadata": {},
          "execution_count": 33
        }
      ]
    },
    {
      "cell_type": "code",
      "source": [
        "plot_datasets_scores = transform_report_to_plot(report[report.model_name=='Base LR'], x='dataset_name')\n",
        "plotting(data = plot_datasets_scores, x='', y='value', cl='metric', type='lineplot')"
      ],
      "metadata": {
        "colab": {
          "base_uri": "https://localhost:8080/",
          "height": 559
        },
        "id": "QAQQYKa2zc6s",
        "outputId": "d1f0e552-b1b6-42a7-dfd1-ad491d37408e"
      },
      "execution_count": null,
      "outputs": [
        {
          "output_type": "display_data",
          "data": {
            "text/html": [
              "<html>\n",
              "<head><meta charset=\"utf-8\" /></head>\n",
              "<body>\n",
              "    <div>            <script src=\"https://cdnjs.cloudflare.com/ajax/libs/mathjax/2.7.5/MathJax.js?config=TeX-AMS-MML_SVG\"></script><script type=\"text/javascript\">if (window.MathJax) {MathJax.Hub.Config({SVG: {font: \"STIX-Web\"}});}</script>                <script type=\"text/javascript\">window.PlotlyConfig = {MathJaxConfig: 'local'};</script>\n",
              "        <script src=\"https://cdn.plot.ly/plotly-2.8.3.min.js\"></script>                <div id=\"d6cf2ebe-c1ea-4a3a-a687-856ae7cdc343\" class=\"plotly-graph-div\" style=\"height:525px; width:100%;\"></div>            <script type=\"text/javascript\">                                    window.PLOTLYENV=window.PLOTLYENV || {};                                    if (document.getElementById(\"d6cf2ebe-c1ea-4a3a-a687-856ae7cdc343\")) {                    Plotly.newPlot(                        \"d6cf2ebe-c1ea-4a3a-a687-856ae7cdc343\",                        [{\"hovertemplate\":\"metric=f1-score<br>=%{x}<br>value=%{y}<extra></extra>\",\"legendgroup\":\"f1-score\",\"line\":{\"color\":\"#636efa\",\"dash\":\"solid\"},\"marker\":{\"symbol\":\"circle\"},\"mode\":\"lines\",\"name\":\"f1-score\",\"orientation\":\"v\",\"showlegend\":true,\"x\":[\"SMOTE\",\"ADASYN\",\"SMOTE+TOMEK\",\"SMOTE+ENN\"],\"xaxis\":\"x\",\"y\":[0.573426826182817,0.5336736268562814,0.575890092879257,0.5687000852455383],\"yaxis\":\"y\",\"type\":\"scatter\"},{\"hovertemplate\":\"metric=precision<br>=%{x}<br>value=%{y}<extra></extra>\",\"legendgroup\":\"precision\",\"line\":{\"color\":\"#EF553B\",\"dash\":\"solid\"},\"marker\":{\"symbol\":\"circle\"},\"mode\":\"lines\",\"name\":\"precision\",\"orientation\":\"v\",\"showlegend\":true,\"x\":[\"SMOTE\",\"ADASYN\",\"SMOTE+TOMEK\",\"SMOTE+ENN\"],\"xaxis\":\"x\",\"y\":[0.9678111587982833,0.9837189374464439,0.968503937007874,0.9743589743589743],\"yaxis\":\"y\",\"type\":\"scatter\"},{\"hovertemplate\":\"metric=recall<br>=%{x}<br>value=%{y}<extra></extra>\",\"legendgroup\":\"recall\",\"line\":{\"color\":\"#00cc96\",\"dash\":\"solid\"},\"marker\":{\"symbol\":\"circle\"},\"mode\":\"lines\",\"name\":\"recall\",\"orientation\":\"v\",\"showlegend\":true,\"x\":[\"SMOTE\",\"ADASYN\",\"SMOTE+TOMEK\",\"SMOTE+ENN\"],\"xaxis\":\"x\",\"y\":[0.5054945054945055,0.7912087912087912,0.5164835164835165,0.6263736263736264],\"yaxis\":\"y\",\"type\":\"scatter\"}],                        {\"template\":{\"data\":{\"bar\":[{\"error_x\":{\"color\":\"#2a3f5f\"},\"error_y\":{\"color\":\"#2a3f5f\"},\"marker\":{\"line\":{\"color\":\"#E5ECF6\",\"width\":0.5},\"pattern\":{\"fillmode\":\"overlay\",\"size\":10,\"solidity\":0.2}},\"type\":\"bar\"}],\"barpolar\":[{\"marker\":{\"line\":{\"color\":\"#E5ECF6\",\"width\":0.5},\"pattern\":{\"fillmode\":\"overlay\",\"size\":10,\"solidity\":0.2}},\"type\":\"barpolar\"}],\"carpet\":[{\"aaxis\":{\"endlinecolor\":\"#2a3f5f\",\"gridcolor\":\"white\",\"linecolor\":\"white\",\"minorgridcolor\":\"white\",\"startlinecolor\":\"#2a3f5f\"},\"baxis\":{\"endlinecolor\":\"#2a3f5f\",\"gridcolor\":\"white\",\"linecolor\":\"white\",\"minorgridcolor\":\"white\",\"startlinecolor\":\"#2a3f5f\"},\"type\":\"carpet\"}],\"choropleth\":[{\"colorbar\":{\"outlinewidth\":0,\"ticks\":\"\"},\"type\":\"choropleth\"}],\"contour\":[{\"colorbar\":{\"outlinewidth\":0,\"ticks\":\"\"},\"colorscale\":[[0.0,\"#0d0887\"],[0.1111111111111111,\"#46039f\"],[0.2222222222222222,\"#7201a8\"],[0.3333333333333333,\"#9c179e\"],[0.4444444444444444,\"#bd3786\"],[0.5555555555555556,\"#d8576b\"],[0.6666666666666666,\"#ed7953\"],[0.7777777777777778,\"#fb9f3a\"],[0.8888888888888888,\"#fdca26\"],[1.0,\"#f0f921\"]],\"type\":\"contour\"}],\"contourcarpet\":[{\"colorbar\":{\"outlinewidth\":0,\"ticks\":\"\"},\"type\":\"contourcarpet\"}],\"heatmap\":[{\"colorbar\":{\"outlinewidth\":0,\"ticks\":\"\"},\"colorscale\":[[0.0,\"#0d0887\"],[0.1111111111111111,\"#46039f\"],[0.2222222222222222,\"#7201a8\"],[0.3333333333333333,\"#9c179e\"],[0.4444444444444444,\"#bd3786\"],[0.5555555555555556,\"#d8576b\"],[0.6666666666666666,\"#ed7953\"],[0.7777777777777778,\"#fb9f3a\"],[0.8888888888888888,\"#fdca26\"],[1.0,\"#f0f921\"]],\"type\":\"heatmap\"}],\"heatmapgl\":[{\"colorbar\":{\"outlinewidth\":0,\"ticks\":\"\"},\"colorscale\":[[0.0,\"#0d0887\"],[0.1111111111111111,\"#46039f\"],[0.2222222222222222,\"#7201a8\"],[0.3333333333333333,\"#9c179e\"],[0.4444444444444444,\"#bd3786\"],[0.5555555555555556,\"#d8576b\"],[0.6666666666666666,\"#ed7953\"],[0.7777777777777778,\"#fb9f3a\"],[0.8888888888888888,\"#fdca26\"],[1.0,\"#f0f921\"]],\"type\":\"heatmapgl\"}],\"histogram\":[{\"marker\":{\"pattern\":{\"fillmode\":\"overlay\",\"size\":10,\"solidity\":0.2}},\"type\":\"histogram\"}],\"histogram2d\":[{\"colorbar\":{\"outlinewidth\":0,\"ticks\":\"\"},\"colorscale\":[[0.0,\"#0d0887\"],[0.1111111111111111,\"#46039f\"],[0.2222222222222222,\"#7201a8\"],[0.3333333333333333,\"#9c179e\"],[0.4444444444444444,\"#bd3786\"],[0.5555555555555556,\"#d8576b\"],[0.6666666666666666,\"#ed7953\"],[0.7777777777777778,\"#fb9f3a\"],[0.8888888888888888,\"#fdca26\"],[1.0,\"#f0f921\"]],\"type\":\"histogram2d\"}],\"histogram2dcontour\":[{\"colorbar\":{\"outlinewidth\":0,\"ticks\":\"\"},\"colorscale\":[[0.0,\"#0d0887\"],[0.1111111111111111,\"#46039f\"],[0.2222222222222222,\"#7201a8\"],[0.3333333333333333,\"#9c179e\"],[0.4444444444444444,\"#bd3786\"],[0.5555555555555556,\"#d8576b\"],[0.6666666666666666,\"#ed7953\"],[0.7777777777777778,\"#fb9f3a\"],[0.8888888888888888,\"#fdca26\"],[1.0,\"#f0f921\"]],\"type\":\"histogram2dcontour\"}],\"mesh3d\":[{\"colorbar\":{\"outlinewidth\":0,\"ticks\":\"\"},\"type\":\"mesh3d\"}],\"parcoords\":[{\"line\":{\"colorbar\":{\"outlinewidth\":0,\"ticks\":\"\"}},\"type\":\"parcoords\"}],\"pie\":[{\"automargin\":true,\"type\":\"pie\"}],\"scatter\":[{\"marker\":{\"colorbar\":{\"outlinewidth\":0,\"ticks\":\"\"}},\"type\":\"scatter\"}],\"scatter3d\":[{\"line\":{\"colorbar\":{\"outlinewidth\":0,\"ticks\":\"\"}},\"marker\":{\"colorbar\":{\"outlinewidth\":0,\"ticks\":\"\"}},\"type\":\"scatter3d\"}],\"scattercarpet\":[{\"marker\":{\"colorbar\":{\"outlinewidth\":0,\"ticks\":\"\"}},\"type\":\"scattercarpet\"}],\"scattergeo\":[{\"marker\":{\"colorbar\":{\"outlinewidth\":0,\"ticks\":\"\"}},\"type\":\"scattergeo\"}],\"scattergl\":[{\"marker\":{\"colorbar\":{\"outlinewidth\":0,\"ticks\":\"\"}},\"type\":\"scattergl\"}],\"scattermapbox\":[{\"marker\":{\"colorbar\":{\"outlinewidth\":0,\"ticks\":\"\"}},\"type\":\"scattermapbox\"}],\"scatterpolar\":[{\"marker\":{\"colorbar\":{\"outlinewidth\":0,\"ticks\":\"\"}},\"type\":\"scatterpolar\"}],\"scatterpolargl\":[{\"marker\":{\"colorbar\":{\"outlinewidth\":0,\"ticks\":\"\"}},\"type\":\"scatterpolargl\"}],\"scatterternary\":[{\"marker\":{\"colorbar\":{\"outlinewidth\":0,\"ticks\":\"\"}},\"type\":\"scatterternary\"}],\"surface\":[{\"colorbar\":{\"outlinewidth\":0,\"ticks\":\"\"},\"colorscale\":[[0.0,\"#0d0887\"],[0.1111111111111111,\"#46039f\"],[0.2222222222222222,\"#7201a8\"],[0.3333333333333333,\"#9c179e\"],[0.4444444444444444,\"#bd3786\"],[0.5555555555555556,\"#d8576b\"],[0.6666666666666666,\"#ed7953\"],[0.7777777777777778,\"#fb9f3a\"],[0.8888888888888888,\"#fdca26\"],[1.0,\"#f0f921\"]],\"type\":\"surface\"}],\"table\":[{\"cells\":{\"fill\":{\"color\":\"#EBF0F8\"},\"line\":{\"color\":\"white\"}},\"header\":{\"fill\":{\"color\":\"#C8D4E3\"},\"line\":{\"color\":\"white\"}},\"type\":\"table\"}]},\"layout\":{\"annotationdefaults\":{\"arrowcolor\":\"#2a3f5f\",\"arrowhead\":0,\"arrowwidth\":1},\"autotypenumbers\":\"strict\",\"coloraxis\":{\"colorbar\":{\"outlinewidth\":0,\"ticks\":\"\"}},\"colorscale\":{\"diverging\":[[0,\"#8e0152\"],[0.1,\"#c51b7d\"],[0.2,\"#de77ae\"],[0.3,\"#f1b6da\"],[0.4,\"#fde0ef\"],[0.5,\"#f7f7f7\"],[0.6,\"#e6f5d0\"],[0.7,\"#b8e186\"],[0.8,\"#7fbc41\"],[0.9,\"#4d9221\"],[1,\"#276419\"]],\"sequential\":[[0.0,\"#0d0887\"],[0.1111111111111111,\"#46039f\"],[0.2222222222222222,\"#7201a8\"],[0.3333333333333333,\"#9c179e\"],[0.4444444444444444,\"#bd3786\"],[0.5555555555555556,\"#d8576b\"],[0.6666666666666666,\"#ed7953\"],[0.7777777777777778,\"#fb9f3a\"],[0.8888888888888888,\"#fdca26\"],[1.0,\"#f0f921\"]],\"sequentialminus\":[[0.0,\"#0d0887\"],[0.1111111111111111,\"#46039f\"],[0.2222222222222222,\"#7201a8\"],[0.3333333333333333,\"#9c179e\"],[0.4444444444444444,\"#bd3786\"],[0.5555555555555556,\"#d8576b\"],[0.6666666666666666,\"#ed7953\"],[0.7777777777777778,\"#fb9f3a\"],[0.8888888888888888,\"#fdca26\"],[1.0,\"#f0f921\"]]},\"colorway\":[\"#636efa\",\"#EF553B\",\"#00cc96\",\"#ab63fa\",\"#FFA15A\",\"#19d3f3\",\"#FF6692\",\"#B6E880\",\"#FF97FF\",\"#FECB52\"],\"font\":{\"color\":\"#2a3f5f\"},\"geo\":{\"bgcolor\":\"white\",\"lakecolor\":\"white\",\"landcolor\":\"#E5ECF6\",\"showlakes\":true,\"showland\":true,\"subunitcolor\":\"white\"},\"hoverlabel\":{\"align\":\"left\"},\"hovermode\":\"closest\",\"mapbox\":{\"style\":\"light\"},\"paper_bgcolor\":\"white\",\"plot_bgcolor\":\"#E5ECF6\",\"polar\":{\"angularaxis\":{\"gridcolor\":\"white\",\"linecolor\":\"white\",\"ticks\":\"\"},\"bgcolor\":\"#E5ECF6\",\"radialaxis\":{\"gridcolor\":\"white\",\"linecolor\":\"white\",\"ticks\":\"\"}},\"scene\":{\"xaxis\":{\"backgroundcolor\":\"#E5ECF6\",\"gridcolor\":\"white\",\"gridwidth\":2,\"linecolor\":\"white\",\"showbackground\":true,\"ticks\":\"\",\"zerolinecolor\":\"white\"},\"yaxis\":{\"backgroundcolor\":\"#E5ECF6\",\"gridcolor\":\"white\",\"gridwidth\":2,\"linecolor\":\"white\",\"showbackground\":true,\"ticks\":\"\",\"zerolinecolor\":\"white\"},\"zaxis\":{\"backgroundcolor\":\"#E5ECF6\",\"gridcolor\":\"white\",\"gridwidth\":2,\"linecolor\":\"white\",\"showbackground\":true,\"ticks\":\"\",\"zerolinecolor\":\"white\"}},\"shapedefaults\":{\"line\":{\"color\":\"#2a3f5f\"}},\"ternary\":{\"aaxis\":{\"gridcolor\":\"white\",\"linecolor\":\"white\",\"ticks\":\"\"},\"baxis\":{\"gridcolor\":\"white\",\"linecolor\":\"white\",\"ticks\":\"\"},\"bgcolor\":\"#E5ECF6\",\"caxis\":{\"gridcolor\":\"white\",\"linecolor\":\"white\",\"ticks\":\"\"}},\"title\":{\"x\":0.05},\"xaxis\":{\"automargin\":true,\"gridcolor\":\"white\",\"linecolor\":\"white\",\"ticks\":\"\",\"title\":{\"standoff\":15},\"zerolinecolor\":\"white\",\"zerolinewidth\":2},\"yaxis\":{\"automargin\":true,\"gridcolor\":\"white\",\"linecolor\":\"white\",\"ticks\":\"\",\"title\":{\"standoff\":15},\"zerolinecolor\":\"white\",\"zerolinewidth\":2}}},\"xaxis\":{\"anchor\":\"y\",\"domain\":[0.0,1.0],\"title\":{\"text\":\"\"}},\"yaxis\":{\"anchor\":\"x\",\"domain\":[0.0,1.0],\"title\":{\"text\":\"value\"}},\"legend\":{\"title\":{\"text\":\"metric\"},\"tracegroupgap\":0},\"margin\":{\"t\":60}},                        {\"responsive\": true}                    ).then(function(){\n",
              "                            \n",
              "var gd = document.getElementById('d6cf2ebe-c1ea-4a3a-a687-856ae7cdc343');\n",
              "var x = new MutationObserver(function (mutations, observer) {{\n",
              "        var display = window.getComputedStyle(gd).display;\n",
              "        if (!display || display === 'none') {{\n",
              "            console.log([gd, 'removed!']);\n",
              "            Plotly.purge(gd);\n",
              "            observer.disconnect();\n",
              "        }}\n",
              "}});\n",
              "\n",
              "// Listen for the removal of the full notebook cells\n",
              "var notebookContainer = gd.closest('#notebook-container');\n",
              "if (notebookContainer) {{\n",
              "    x.observe(notebookContainer, {childList: true});\n",
              "}}\n",
              "\n",
              "// Listen for the clearing of the current output cell\n",
              "var outputEl = gd.closest('.output');\n",
              "if (outputEl) {{\n",
              "    x.observe(outputEl, {childList: true});\n",
              "}}\n",
              "\n",
              "                        })                };                            </script>        </div>\n",
              "</body>\n",
              "</html>"
            ]
          },
          "metadata": {}
        },
        {
          "output_type": "execute_result",
          "data": {
            "text/plain": [
              "0"
            ]
          },
          "metadata": {},
          "execution_count": 60
        }
      ]
    },
    {
      "cell_type": "markdown",
      "source": [
        "Dla ogólnego spojrzenia spoglądamy na metrykę 'macro-avg' jako, że nie uwzględnia proporcji klas (pod kątem liczby wystąpień), a chcemy aby klasa 'Stroke' była tak samo ważna w ocenie modelu. \n",
        "\n",
        "Tak też dla:\n",
        "- metryki $F_1$ najlepszą średnią wartość uzyskał SMOTE+TOMEK\n",
        "- metryki Precision najlepszą wartość dla klasy bez udaru uzyskał ADASYN, a w uśrednieniu SMOTE+ENN\n",
        "- metryki Recall najlepszą wartość dla klasy z udarem uzyskał ADASYN, a w uśrednieniu także ADASYN.\n",
        "\n",
        "W ogólności widać, że model sprawuje się całkiem dobrze. Co prawda jest mocny spadek metryki $F_1$ oraz Precision dla klasy z udarem, ale wynika to z racji, że zbiór testowy dalej pozostaje niezbalansowany, gdzie rodzaj balansowania danych ma znaczenie i w tym przypadku lepiej radzą sobie techniki hybrydowe. Dalszą analizę modelu regresji logistycznej przeprowadzimy dla zbioru ADASYN z racji, że osiąga najlepsze wartości Precision i Recall względem klas oraz ma zbliżoną uśrednioną wartość dla wyniku $F_1$. Spróbujemy sprawdzić jeszcze różne wartości thresholdu prawdopodobieństwa $p$ oraz parametru stopnia regularyzacji C. "
      ],
      "metadata": {
        "id": "JaGmkt9Elpri"
      }
    },
    {
      "cell_type": "code",
      "source": [
        "X = X_ada.copy()\n",
        "y = y_ada.copy()\n",
        "dataset_name = 'ADASYN'\n",
        "columns_to_standardize = list(set(list(X.filter(regex='age')) + list(X.filter(regex='log_glucose_no_outliers'))))"
      ],
      "metadata": {
        "id": "PVzFn7qRt-S8"
      },
      "execution_count": null,
      "outputs": []
    },
    {
      "cell_type": "code",
      "source": [
        "for p in [0.1, 0.2, 0.3, 0.4, 0.5, 0.6, 0.7, 0.8, 0.9]:\n",
        "  print('\\nWartość p='+str(p)+'\\n')\n",
        "  model_name = 'LR with p='+str(p)\n",
        "  lr = LogisticRegressionWithThreshold(penalty='l1', solver='saga',max_iter=10000, random_state = 123)\n",
        "  results = fit_pred_score(X, y, X_test, y_test, lr, dataset_name = dataset_name, model_name = model_name, scaler = True, ohe=True, columns_to_standardize = columns_to_standardize, cat_features = cat_features, visualize_test = True, visualize_train = True, threshold = p)\n",
        "  \n",
        "  report = pd.concat([report, results])\n",
        "  report.reset_index(inplace=True, drop=True)\n",
        "\n",
        "report.sort_values(by=['model_name','metric','dataset_name'])"
      ],
      "metadata": {
        "colab": {
          "base_uri": "https://localhost:8080/",
          "height": 1000
        },
        "id": "OpF2W2snt-QO",
        "outputId": "aee07906-2da8-4814-9ab5-f86bc6645de2"
      },
      "execution_count": null,
      "outputs": [
        {
          "output_type": "stream",
          "name": "stdout",
          "text": [
            "\n",
            "Wartość p=0.1\n",
            "\n"
          ]
        },
        {
          "output_type": "stream",
          "name": "stderr",
          "text": [
            "/usr/local/lib/python3.7/dist-packages/sklearn/base.py:451: UserWarning:\n",
            "\n",
            "X does not have valid feature names, but LogisticRegressionWithThreshold was fitted with feature names\n",
            "\n"
          ]
        },
        {
          "output_type": "display_data",
          "data": {
            "text/plain": [
              "<Figure size 432x288 with 2 Axes>"
            ],
            "image/png": "[encoded data removed]"
          },
          "metadata": {
            "needs_background": "light"
          }
        },
        {
          "output_type": "stream",
          "name": "stderr",
          "text": [
            "/usr/local/lib/python3.7/dist-packages/sklearn/base.py:451: UserWarning:\n",
            "\n",
            "X does not have valid feature names, but LogisticRegressionWithThreshold was fitted with feature names\n",
            "\n"
          ]
        },
        {
          "output_type": "display_data",
          "data": {
            "text/plain": [
              "<Figure size 432x288 with 2 Axes>"
            ],
            "image/png": "[encoded data removed]"
          },
          "metadata": {
            "needs_background": "light"
          }
        },
        {
          "output_type": "stream",
          "name": "stdout",
          "text": [
            "\n",
            "Wartość p=0.2\n",
            "\n"
          ]
        },
        {
          "output_type": "stream",
          "name": "stderr",
          "text": [
            "/usr/local/lib/python3.7/dist-packages/sklearn/base.py:451: UserWarning:\n",
            "\n",
            "X does not have valid feature names, but LogisticRegressionWithThreshold was fitted with feature names\n",
            "\n"
          ]
        },
        {
          "output_type": "display_data",
          "data": {
            "text/plain": [
              "<Figure size 432x288 with 2 Axes>"
            ],
            "image/png": "[encoded data removed]"
          },
          "metadata": {
            "needs_background": "light"
          }
        },
        {
          "output_type": "stream",
          "name": "stderr",
          "text": [
            "/usr/local/lib/python3.7/dist-packages/sklearn/base.py:451: UserWarning:\n",
            "\n",
            "X does not have valid feature names, but LogisticRegressionWithThreshold was fitted with feature names\n",
            "\n"
          ]
        },
        {
          "output_type": "display_data",
          "data": {
            "text/plain": [
              "<Figure size 432x288 with 2 Axes>"
            ],
            "image/png": "[encoded data removed]"
          },
          "metadata": {
            "needs_background": "light"
          }
        },
        {
          "output_type": "stream",
          "name": "stdout",
          "text": [
            "\n",
            "Wartość p=0.3\n",
            "\n"
          ]
        },
        {
          "output_type": "stream",
          "name": "stderr",
          "text": [
            "/usr/local/lib/python3.7/dist-packages/sklearn/base.py:451: UserWarning:\n",
            "\n",
            "X does not have valid feature names, but LogisticRegressionWithThreshold was fitted with feature names\n",
            "\n"
          ]
        },
        {
          "output_type": "display_data",
          "data": {
            "text/plain": [
              "<Figure size 432x288 with 2 Axes>"
            ],
            "image/png": "[encoded data removed]"
          },
          "metadata": {
            "needs_background": "light"
          }
        },
        {
          "output_type": "stream",
          "name": "stderr",
          "text": [
            "/usr/local/lib/python3.7/dist-packages/sklearn/base.py:451: UserWarning:\n",
            "\n",
            "X does not have valid feature names, but LogisticRegressionWithThreshold was fitted with feature names\n",
            "\n"
          ]
        },
        {
          "output_type": "display_data",
          "data": {
            "text/plain": [
              "<Figure size 432x288 with 2 Axes>"
            ],
            "image/png": "[encoded data removed]"
          },
          "metadata": {
            "needs_background": "light"
          }
        },
        {
          "output_type": "stream",
          "name": "stdout",
          "text": [
            "\n",
            "Wartość p=0.4\n",
            "\n"
          ]
        },
        {
          "output_type": "stream",
          "name": "stderr",
          "text": [
            "/usr/local/lib/python3.7/dist-packages/sklearn/base.py:451: UserWarning:\n",
            "\n",
            "X does not have valid feature names, but LogisticRegressionWithThreshold was fitted with feature names\n",
            "\n"
          ]
        },
        {
          "output_type": "display_data",
          "data": {
            "text/plain": [
              "<Figure size 432x288 with 2 Axes>"
            ],
            "image/png": "[encoded data removed]"
          },
          "metadata": {
            "needs_background": "light"
          }
        },
        {
          "output_type": "stream",
          "name": "stderr",
          "text": [
            "/usr/local/lib/python3.7/dist-packages/sklearn/base.py:451: UserWarning:\n",
            "\n",
            "X does not have valid feature names, but LogisticRegressionWithThreshold was fitted with feature names\n",
            "\n"
          ]
        },
        {
          "output_type": "display_data",
          "data": {
            "text/plain": [
              "<Figure size 432x288 with 2 Axes>"
            ],
            "image/png": "[encoded data removed]"
          },
          "metadata": {
            "needs_background": "light"
          }
        },
        {
          "output_type": "stream",
          "name": "stdout",
          "text": [
            "\n",
            "Wartość p=0.5\n",
            "\n"
          ]
        },
        {
          "output_type": "stream",
          "name": "stderr",
          "text": [
            "/usr/local/lib/python3.7/dist-packages/sklearn/base.py:451: UserWarning:\n",
            "\n",
            "X does not have valid feature names, but LogisticRegressionWithThreshold was fitted with feature names\n",
            "\n"
          ]
        },
        {
          "output_type": "display_data",
          "data": {
            "text/plain": [
              "<Figure size 432x288 with 2 Axes>"
            ],
            "image/png": "[encoded data removed]"
          },
          "metadata": {
            "needs_background": "light"
          }
        },
        {
          "output_type": "stream",
          "name": "stderr",
          "text": [
            "/usr/local/lib/python3.7/dist-packages/sklearn/base.py:451: UserWarning:\n",
            "\n",
            "X does not have valid feature names, but LogisticRegressionWithThreshold was fitted with feature names\n",
            "\n"
          ]
        },
        {
          "output_type": "display_data",
          "data": {
            "text/plain": [
              "<Figure size 432x288 with 2 Axes>"
            ],
            "image/png": "[encoded data removed]"
          },
          "metadata": {
            "needs_background": "light"
          }
        },
        {
          "output_type": "stream",
          "name": "stdout",
          "text": [
            "\n",
            "Wartość p=0.6\n",
            "\n"
          ]
        },
        {
          "output_type": "stream",
          "name": "stderr",
          "text": [
            "/usr/local/lib/python3.7/dist-packages/sklearn/base.py:451: UserWarning:\n",
            "\n",
            "X does not have valid feature names, but LogisticRegressionWithThreshold was fitted with feature names\n",
            "\n"
          ]
        },
        {
          "output_type": "display_data",
          "data": {
            "text/plain": [
              "<Figure size 432x288 with 2 Axes>"
            ],
            "image/png": "[encoded data removed]"
          },
          "metadata": {
            "needs_background": "light"
          }
        },
        {
          "output_type": "stream",
          "name": "stderr",
          "text": [
            "/usr/local/lib/python3.7/dist-packages/sklearn/base.py:451: UserWarning:\n",
            "\n",
            "X does not have valid feature names, but LogisticRegressionWithThreshold was fitted with feature names\n",
            "\n"
          ]
        },
        {
          "output_type": "display_data",
          "data": {
            "text/plain": [
              "<Figure size 432x288 with 2 Axes>"
            ],
            "image/png": "[encoded data removed]"
          },
          "metadata": {
            "needs_background": "light"
          }
        },
        {
          "output_type": "stream",
          "name": "stdout",
          "text": [
            "\n",
            "Wartość p=0.7\n",
            "\n"
          ]
        },
        {
          "output_type": "stream",
          "name": "stderr",
          "text": [
            "/usr/local/lib/python3.7/dist-packages/sklearn/base.py:451: UserWarning:\n",
            "\n",
            "X does not have valid feature names, but LogisticRegressionWithThreshold was fitted with feature names\n",
            "\n"
          ]
        },
        {
          "output_type": "display_data",
          "data": {
            "text/plain": [
              "<Figure size 432x288 with 2 Axes>"
            ],
            "image/png": "[encoded data removed]"
          },
          "metadata": {
            "needs_background": "light"
          }
        },
        {
          "output_type": "stream",
          "name": "stderr",
          "text": [
            "/usr/local/lib/python3.7/dist-packages/sklearn/base.py:451: UserWarning:\n",
            "\n",
            "X does not have valid feature names, but LogisticRegressionWithThreshold was fitted with feature names\n",
            "\n"
          ]
        },
        {
          "output_type": "display_data",
          "data": {
            "text/plain": [
              "<Figure size 432x288 with 2 Axes>"
            ],
            "image/png": "[encoded data removed]"
          },
          "metadata": {
            "needs_background": "light"
          }
        },
        {
          "output_type": "stream",
          "name": "stdout",
          "text": [
            "\n",
            "Wartość p=0.8\n",
            "\n"
          ]
        },
        {
          "output_type": "stream",
          "name": "stderr",
          "text": [
            "/usr/local/lib/python3.7/dist-packages/sklearn/base.py:451: UserWarning:\n",
            "\n",
            "X does not have valid feature names, but LogisticRegressionWithThreshold was fitted with feature names\n",
            "\n"
          ]
        },
        {
          "output_type": "display_data",
          "data": {
            "text/plain": [
              "<Figure size 432x288 with 2 Axes>"
            ],
            "image/png": "[encoded data removed]"
          },
          "metadata": {
            "needs_background": "light"
          }
        },
        {
          "output_type": "stream",
          "name": "stderr",
          "text": [
            "/usr/local/lib/python3.7/dist-packages/sklearn/base.py:451: UserWarning:\n",
            "\n",
            "X does not have valid feature names, but LogisticRegressionWithThreshold was fitted with feature names\n",
            "\n"
          ]
        },
        {
          "output_type": "display_data",
          "data": {
            "text/plain": [
              "<Figure size 432x288 with 2 Axes>"
            ],
            "image/png": "[encoded data removed]"
          },
          "metadata": {
            "needs_background": "light"
          }
        },
        {
          "output_type": "stream",
          "name": "stdout",
          "text": [
            "\n",
            "Wartość p=0.9\n",
            "\n"
          ]
        },
        {
          "output_type": "stream",
          "name": "stderr",
          "text": [
            "/usr/local/lib/python3.7/dist-packages/sklearn/base.py:451: UserWarning:\n",
            "\n",
            "X does not have valid feature names, but LogisticRegressionWithThreshold was fitted with feature names\n",
            "\n"
          ]
        },
        {
          "output_type": "display_data",
          "data": {
            "text/plain": [
              "<Figure size 432x288 with 2 Axes>"
            ],
            "image/png": "[encoded data removed]"
          },
          "metadata": {
            "needs_background": "light"
          }
        },
        {
          "output_type": "stream",
          "name": "stderr",
          "text": [
            "/usr/local/lib/python3.7/dist-packages/sklearn/base.py:451: UserWarning:\n",
            "\n",
            "X does not have valid feature names, but LogisticRegressionWithThreshold was fitted with feature names\n",
            "\n"
          ]
        },
        {
          "output_type": "display_data",
          "data": {
            "text/plain": [
              "<Figure size 432x288 with 2 Axes>"
            ],
            "image/png": "[encoded data removed]"
          },
          "metadata": {
            "needs_background": "light"
          }
        },
        {
          "output_type": "execute_result",
          "data": {
            "text/plain": [
              "      No stroke     Stroke  accuracy    macro avg  weighted avg     metric  \\\n",
              "6      0.831282   0.236066  0.723606     0.533674      0.799156   f1-score   \n",
              "2      0.904110   0.242744  0.829775     0.573427      0.868413   f1-score   \n",
              "14     0.884629   0.252772  0.800119     0.568700      0.850525   f1-score   \n",
              "10     0.904412   0.247368  0.830368     0.575890      0.868949   f1-score   \n",
              "4      0.983719   0.138728  0.723606     0.561224      0.938111  precision   \n",
              "0      0.967811   0.159722  0.829775     0.563767      0.924195  precision   \n",
              "12     0.974359   0.158333  0.800119     0.566346      0.930315  precision   \n",
              "8      0.968504   0.162630  0.830368     0.565567      0.925008  precision   \n",
              "5      0.719749   0.791209  0.723606     0.755479      0.723606     recall   \n",
              "1      0.848276   0.505495  0.829775     0.676885      0.829775     recall   \n",
              "13     0.810031   0.626374  0.800119     0.718202      0.800119     recall   \n",
              "9      0.848276   0.516484  0.830368     0.682380      0.830368     recall   \n",
              "7   1595.000000  91.000000  0.723606  1686.000000   1686.000000    support   \n",
              "3   1595.000000  91.000000  0.829775  1686.000000   1686.000000    support   \n",
              "15  1595.000000  91.000000  0.800119  1686.000000   1686.000000    support   \n",
              "11  1595.000000  91.000000  0.830368  1686.000000   1686.000000    support   \n",
              "18     0.630677   0.169557  0.488731     0.400117      0.605788   f1-score   \n",
              "16     0.995940   0.092925  0.488731     0.544433      0.947201  precision   \n",
              "17     0.461442   0.967033  0.488731     0.714237      0.488731     recall   \n",
              "19  1595.000000  91.000000  0.488731  1686.000000   1686.000000    support   \n",
              "22     0.728067   0.196952  0.593713     0.462509      0.699400   f1-score   \n",
              "20     0.992424   0.110236  0.593713     0.551330      0.944809  precision   \n",
              "21     0.574922   0.923077  0.593713     0.748999      0.593713     recall   \n",
              "23  1595.000000  91.000000  0.593713  1686.000000   1686.000000    support   \n",
              "26     0.793556   0.216216  0.673191     0.504886      0.762394   f1-score   \n",
              "24     0.986034   0.124183  0.673191     0.555108      0.939516  precision   \n",
              "25     0.663950   0.835165  0.673191     0.749557      0.673191     recall   \n",
              "27  1595.000000  91.000000  0.673191  1686.000000   1686.000000    support   \n",
              "30     0.845412   0.241681  0.743179     0.543547      0.812827   f1-score   \n",
              "28     0.981758   0.143750  0.743179     0.562754      0.936527  precision   \n",
              "29     0.742320   0.758242  0.743179     0.750281      0.743179     recall   \n",
              "31  1595.000000  91.000000  0.743179  1686.000000   1686.000000    support   \n",
              "34     0.884629   0.252772  0.800119     0.568700      0.850525   f1-score   \n",
              "32     0.974359   0.158333  0.800119     0.566346      0.930315  precision   \n",
              "33     0.810031   0.626374  0.800119     0.718202      0.800119     recall   \n",
              "35  1595.000000  91.000000  0.800119  1686.000000   1686.000000    support   \n",
              "38     0.911745   0.256983  0.842230     0.584364      0.876405   f1-score   \n",
              "36     0.968288   0.172285  0.842230     0.570286      0.925324  precision   \n",
              "37     0.861442   0.505495  0.842230     0.683468      0.842230     recall   \n",
              "39  1595.000000  91.000000  0.842230  1686.000000   1686.000000    support   \n",
              "42     0.938383   0.250000  0.886121     0.594191      0.901228   f1-score   \n",
              "40     0.961210   0.193939  0.886121     0.577575      0.919797  precision   \n",
              "41     0.916614   0.351648  0.886121     0.634131      0.886121     recall   \n",
              "43  1595.000000  91.000000  0.886121  1686.000000   1686.000000    support   \n",
              "46     0.958425   0.231214  0.921115     0.594819      0.919174   f1-score   \n",
              "44     0.955736   0.243902  0.921115     0.599819      0.917315  precision   \n",
              "45     0.961129   0.219780  0.921115     0.590454      0.921115     recall   \n",
              "47  1595.000000  91.000000  0.921115  1686.000000   1686.000000    support   \n",
              "50     0.971568   0.079208  0.944840     0.525388      0.923404   f1-score   \n",
              "48     0.948091   0.400000  0.944840     0.674045      0.918508  precision   \n",
              "49     0.996238   0.043956  0.944840     0.520097      0.944840     recall   \n",
              "51  1595.000000  91.000000  0.944840  1686.000000   1686.000000    support   \n",
              "\n",
              "   dataset_name     model_name  \n",
              "6        ADASYN        Base LR  \n",
              "2         SMOTE        Base LR  \n",
              "14    SMOTE+ENN        Base LR  \n",
              "10  SMOTE+TOMEK        Base LR  \n",
              "4        ADASYN        Base LR  \n",
              "0         SMOTE        Base LR  \n",
              "12    SMOTE+ENN        Base LR  \n",
              "8   SMOTE+TOMEK        Base LR  \n",
              "5        ADASYN        Base LR  \n",
              "1         SMOTE        Base LR  \n",
              "13    SMOTE+ENN        Base LR  \n",
              "9   SMOTE+TOMEK        Base LR  \n",
              "7        ADASYN        Base LR  \n",
              "3         SMOTE        Base LR  \n",
              "15    SMOTE+ENN        Base LR  \n",
              "11  SMOTE+TOMEK        Base LR  \n",
              "18       ADASYN  LR with p=0.1  \n",
              "16       ADASYN  LR with p=0.1  \n",
              "17       ADASYN  LR with p=0.1  \n",
              "19       ADASYN  LR with p=0.1  \n",
              "22       ADASYN  LR with p=0.2  \n",
              "20       ADASYN  LR with p=0.2  \n",
              "21       ADASYN  LR with p=0.2  \n",
              "23       ADASYN  LR with p=0.2  \n",
              "26       ADASYN  LR with p=0.3  \n",
              "24       ADASYN  LR with p=0.3  \n",
              "25       ADASYN  LR with p=0.3  \n",
              "27       ADASYN  LR with p=0.3  \n",
              "30       ADASYN  LR with p=0.4  \n",
              "28       ADASYN  LR with p=0.4  \n",
              "29       ADASYN  LR with p=0.4  \n",
              "31       ADASYN  LR with p=0.4  \n",
              "34       ADASYN  LR with p=0.5  \n",
              "32       ADASYN  LR with p=0.5  \n",
              "33       ADASYN  LR with p=0.5  \n",
              "35       ADASYN  LR with p=0.5  \n",
              "38       ADASYN  LR with p=0.6  \n",
              "36       ADASYN  LR with p=0.6  \n",
              "37       ADASYN  LR with p=0.6  \n",
              "39       ADASYN  LR with p=0.6  \n",
              "42       ADASYN  LR with p=0.7  \n",
              "40       ADASYN  LR with p=0.7  \n",
              "41       ADASYN  LR with p=0.7  \n",
              "43       ADASYN  LR with p=0.7  \n",
              "46       ADASYN  LR with p=0.8  \n",
              "44       ADASYN  LR with p=0.8  \n",
              "45       ADASYN  LR with p=0.8  \n",
              "47       ADASYN  LR with p=0.8  \n",
              "50       ADASYN  LR with p=0.9  \n",
              "48       ADASYN  LR with p=0.9  \n",
              "49       ADASYN  LR with p=0.9  \n",
              "51       ADASYN  LR with p=0.9  "
            ],
            "text/html": [
              "\n",
              "  <div id=\"df-e96539d1-e7ee-4185-9e7d-b154cd683735\">\n",
              "    <div class=\"colab-df-container\">\n",
              "      <div>\n",
              "<style scoped>\n",
              "    .dataframe tbody tr th:only-of-type {\n",
              "        vertical-align: middle;\n",
              "    }\n",
              "\n",
              "    .dataframe tbody tr th {\n",
              "        vertical-align: top;\n",
              "    }\n",
              "\n",
              "    .dataframe thead th {\n",
              "        text-align: right;\n",
              "    }\n",
              "</style>\n",
              "<table border=\"1\" class=\"dataframe\">\n",
              "  <thead>\n",
              "    <tr style=\"text-align: right;\">\n",
              "      <th></th>\n",
              "      <th>No stroke</th>\n",
              "      <th>Stroke</th>\n",
              "      <th>accuracy</th>\n",
              "      <th>macro avg</th>\n",
              "      <th>weighted avg</th>\n",
              "      <th>metric</th>\n",
              "      <th>dataset_name</th>\n",
              "      <th>model_name</th>\n",
              "    </tr>\n",
              "  </thead>\n",
              "  <tbody>\n",
              "    <tr>\n",
              "      <th>6</th>\n",
              "      <td>0.831282</td>\n",
              "      <td>0.236066</td>\n",
              "      <td>0.723606</td>\n",
              "      <td>0.533674</td>\n",
              "      <td>0.799156</td>\n",
              "      <td>f1-score</td>\n",
              "      <td>ADASYN</td>\n",
              "      <td>Base LR</td>\n",
              "    </tr>\n",
              "    <tr>\n",
              "      <th>2</th>\n",
              "      <td>0.904110</td>\n",
              "      <td>0.242744</td>\n",
              "      <td>0.829775</td>\n",
              "      <td>0.573427</td>\n",
              "      <td>0.868413</td>\n",
              "      <td>f1-score</td>\n",
              "      <td>SMOTE</td>\n",
              "      <td>Base LR</td>\n",
              "    </tr>\n",
              "    <tr>\n",
              "      <th>14</th>\n",
              "      <td>0.884629</td>\n",
              "      <td>0.252772</td>\n",
              "      <td>0.800119</td>\n",
              "      <td>0.568700</td>\n",
              "      <td>0.850525</td>\n",
              "      <td>f1-score</td>\n",
              "      <td>SMOTE+ENN</td>\n",
              "      <td>Base LR</td>\n",
              "    </tr>\n",
              "    <tr>\n",
              "      <th>10</th>\n",
              "      <td>0.904412</td>\n",
              "      <td>0.247368</td>\n",
              "      <td>0.830368</td>\n",
              "      <td>0.575890</td>\n",
              "      <td>0.868949</td>\n",
              "      <td>f1-score</td>\n",
              "      <td>SMOTE+TOMEK</td>\n",
              "      <td>Base LR</td>\n",
              "    </tr>\n",
              "    <tr>\n",
              "      <th>4</th>\n",
              "      <td>0.983719</td>\n",
              "      <td>0.138728</td>\n",
              "      <td>0.723606</td>\n",
              "      <td>0.561224</td>\n",
              "      <td>0.938111</td>\n",
              "      <td>precision</td>\n",
              "      <td>ADASYN</td>\n",
              "      <td>Base LR</td>\n",
              "    </tr>\n",
              "    <tr>\n",
              "      <th>0</th>\n",
              "      <td>0.967811</td>\n",
              "      <td>0.159722</td>\n",
              "      <td>0.829775</td>\n",
              "      <td>0.563767</td>\n",
              "      <td>0.924195</td>\n",
              "      <td>precision</td>\n",
              "      <td>SMOTE</td>\n",
              "      <td>Base LR</td>\n",
              "    </tr>\n",
              "    <tr>\n",
              "      <th>12</th>\n",
              "      <td>0.974359</td>\n",
              "      <td>0.158333</td>\n",
              "      <td>0.800119</td>\n",
              "      <td>0.566346</td>\n",
              "      <td>0.930315</td>\n",
              "      <td>precision</td>\n",
              "      <td>SMOTE+ENN</td>\n",
              "      <td>Base LR</td>\n",
              "    </tr>\n",
              "    <tr>\n",
              "      <th>8</th>\n",
              "      <td>0.968504</td>\n",
              "      <td>0.162630</td>\n",
              "      <td>0.830368</td>\n",
              "      <td>0.565567</td>\n",
              "      <td>0.925008</td>\n",
              "      <td>precision</td>\n",
              "      <td>SMOTE+TOMEK</td>\n",
              "      <td>Base LR</td>\n",
              "    </tr>\n",
              "    <tr>\n",
              "      <th>5</th>\n",
              "      <td>0.719749</td>\n",
              "      <td>0.791209</td>\n",
              "      <td>0.723606</td>\n",
              "      <td>0.755479</td>\n",
              "      <td>0.723606</td>\n",
              "      <td>recall</td>\n",
              "      <td>ADASYN</td>\n",
              "      <td>Base LR</td>\n",
              "    </tr>\n",
              "    <tr>\n",
              "      <th>1</th>\n",
              "      <td>0.848276</td>\n",
              "      <td>0.505495</td>\n",
              "      <td>0.829775</td>\n",
              "      <td>0.676885</td>\n",
              "      <td>0.829775</td>\n",
              "      <td>recall</td>\n",
              "      <td>SMOTE</td>\n",
              "      <td>Base LR</td>\n",
              "    </tr>\n",
              "    <tr>\n",
              "      <th>13</th>\n",
              "      <td>0.810031</td>\n",
              "      <td>0.626374</td>\n",
              "      <td>0.800119</td>\n",
              "      <td>0.718202</td>\n",
              "      <td>0.800119</td>\n",
              "      <td>recall</td>\n",
              "      <td>SMOTE+ENN</td>\n",
              "      <td>Base LR</td>\n",
              "    </tr>\n",
              "    <tr>\n",
              "      <th>9</th>\n",
              "      <td>0.848276</td>\n",
              "      <td>0.516484</td>\n",
              "      <td>0.830368</td>\n",
              "      <td>0.682380</td>\n",
              "      <td>0.830368</td>\n",
              "      <td>recall</td>\n",
              "      <td>SMOTE+TOMEK</td>\n",
              "      <td>Base LR</td>\n",
              "    </tr>\n",
              "    <tr>\n",
              "      <th>7</th>\n",
              "      <td>1595.000000</td>\n",
              "      <td>91.000000</td>\n",
              "      <td>0.723606</td>\n",
              "      <td>1686.000000</td>\n",
              "      <td>1686.000000</td>\n",
              "      <td>support</td>\n",
              "      <td>ADASYN</td>\n",
              "      <td>Base LR</td>\n",
              "    </tr>\n",
              "    <tr>\n",
              "      <th>3</th>\n",
              "      <td>1595.000000</td>\n",
              "      <td>91.000000</td>\n",
              "      <td>0.829775</td>\n",
              "      <td>1686.000000</td>\n",
              "      <td>1686.000000</td>\n",
              "      <td>support</td>\n",
              "      <td>SMOTE</td>\n",
              "      <td>Base LR</td>\n",
              "    </tr>\n",
              "    <tr>\n",
              "      <th>15</th>\n",
              "      <td>1595.000000</td>\n",
              "      <td>91.000000</td>\n",
              "      <td>0.800119</td>\n",
              "      <td>1686.000000</td>\n",
              "      <td>1686.000000</td>\n",
              "      <td>support</td>\n",
              "      <td>SMOTE+ENN</td>\n",
              "      <td>Base LR</td>\n",
              "    </tr>\n",
              "    <tr>\n",
              "      <th>11</th>\n",
              "      <td>1595.000000</td>\n",
              "      <td>91.000000</td>\n",
              "      <td>0.830368</td>\n",
              "      <td>1686.000000</td>\n",
              "      <td>1686.000000</td>\n",
              "      <td>support</td>\n",
              "      <td>SMOTE+TOMEK</td>\n",
              "      <td>Base LR</td>\n",
              "    </tr>\n",
              "    <tr>\n",
              "      <th>18</th>\n",
              "      <td>0.630677</td>\n",
              "      <td>0.169557</td>\n",
              "      <td>0.488731</td>\n",
              "      <td>0.400117</td>\n",
              "      <td>0.605788</td>\n",
              "      <td>f1-score</td>\n",
              "      <td>ADASYN</td>\n",
              "      <td>LR with p=0.1</td>\n",
              "    </tr>\n",
              "    <tr>\n",
              "      <th>16</th>\n",
              "      <td>0.995940</td>\n",
              "      <td>0.092925</td>\n",
              "      <td>0.488731</td>\n",
              "      <td>0.544433</td>\n",
              "      <td>0.947201</td>\n",
              "      <td>precision</td>\n",
              "      <td>ADASYN</td>\n",
              "      <td>LR with p=0.1</td>\n",
              "    </tr>\n",
              "    <tr>\n",
              "      <th>17</th>\n",
              "      <td>0.461442</td>\n",
              "      <td>0.967033</td>\n",
              "      <td>0.488731</td>\n",
              "      <td>0.714237</td>\n",
              "      <td>0.488731</td>\n",
              "      <td>recall</td>\n",
              "      <td>ADASYN</td>\n",
              "      <td>LR with p=0.1</td>\n",
              "    </tr>\n",
              "    <tr>\n",
              "      <th>19</th>\n",
              "      <td>1595.000000</td>\n",
              "      <td>91.000000</td>\n",
              "      <td>0.488731</td>\n",
              "      <td>1686.000000</td>\n",
              "      <td>1686.000000</td>\n",
              "      <td>support</td>\n",
              "      <td>ADASYN</td>\n",
              "      <td>LR with p=0.1</td>\n",
              "    </tr>\n",
              "    <tr>\n",
              "      <th>22</th>\n",
              "      <td>0.728067</td>\n",
              "      <td>0.196952</td>\n",
              "      <td>0.593713</td>\n",
              "      <td>0.462509</td>\n",
              "      <td>0.699400</td>\n",
              "      <td>f1-score</td>\n",
              "      <td>ADASYN</td>\n",
              "      <td>LR with p=0.2</td>\n",
              "    </tr>\n",
              "    <tr>\n",
              "      <th>20</th>\n",
              "      <td>0.992424</td>\n",
              "      <td>0.110236</td>\n",
              "      <td>0.593713</td>\n",
              "      <td>0.551330</td>\n",
              "      <td>0.944809</td>\n",
              "      <td>precision</td>\n",
              "      <td>ADASYN</td>\n",
              "      <td>LR with p=0.2</td>\n",
              "    </tr>\n",
              "    <tr>\n",
              "      <th>21</th>\n",
              "      <td>0.574922</td>\n",
              "      <td>0.923077</td>\n",
              "      <td>0.593713</td>\n",
              "      <td>0.748999</td>\n",
              "      <td>0.593713</td>\n",
              "      <td>recall</td>\n",
              "      <td>ADASYN</td>\n",
              "      <td>LR with p=0.2</td>\n",
              "    </tr>\n",
              "    <tr>\n",
              "      <th>23</th>\n",
              "      <td>1595.000000</td>\n",
              "      <td>91.000000</td>\n",
              "      <td>0.593713</td>\n",
              "      <td>1686.000000</td>\n",
              "      <td>1686.000000</td>\n",
              "      <td>support</td>\n",
              "      <td>ADASYN</td>\n",
              "      <td>LR with p=0.2</td>\n",
              "    </tr>\n",
              "    <tr>\n",
              "      <th>26</th>\n",
              "      <td>0.793556</td>\n",
              "      <td>0.216216</td>\n",
              "      <td>0.673191</td>\n",
              "      <td>0.504886</td>\n",
              "      <td>0.762394</td>\n",
              "      <td>f1-score</td>\n",
              "      <td>ADASYN</td>\n",
              "      <td>LR with p=0.3</td>\n",
              "    </tr>\n",
              "    <tr>\n",
              "      <th>24</th>\n",
              "      <td>0.986034</td>\n",
              "      <td>0.124183</td>\n",
              "      <td>0.673191</td>\n",
              "      <td>0.555108</td>\n",
              "      <td>0.939516</td>\n",
              "      <td>precision</td>\n",
              "      <td>ADASYN</td>\n",
              "      <td>LR with p=0.3</td>\n",
              "    </tr>\n",
              "    <tr>\n",
              "      <th>25</th>\n",
              "      <td>0.663950</td>\n",
              "      <td>0.835165</td>\n",
              "      <td>0.673191</td>\n",
              "      <td>0.749557</td>\n",
              "      <td>0.673191</td>\n",
              "      <td>recall</td>\n",
              "      <td>ADASYN</td>\n",
              "      <td>LR with p=0.3</td>\n",
              "    </tr>\n",
              "    <tr>\n",
              "      <th>27</th>\n",
              "      <td>1595.000000</td>\n",
              "      <td>91.000000</td>\n",
              "      <td>0.673191</td>\n",
              "      <td>1686.000000</td>\n",
              "      <td>1686.000000</td>\n",
              "      <td>support</td>\n",
              "      <td>ADASYN</td>\n",
              "      <td>LR with p=0.3</td>\n",
              "    </tr>\n",
              "    <tr>\n",
              "      <th>30</th>\n",
              "      <td>0.845412</td>\n",
              "      <td>0.241681</td>\n",
              "      <td>0.743179</td>\n",
              "      <td>0.543547</td>\n",
              "      <td>0.812827</td>\n",
              "      <td>f1-score</td>\n",
              "      <td>ADASYN</td>\n",
              "      <td>LR with p=0.4</td>\n",
              "    </tr>\n",
              "    <tr>\n",
              "      <th>28</th>\n",
              "      <td>0.981758</td>\n",
              "      <td>0.143750</td>\n",
              "      <td>0.743179</td>\n",
              "      <td>0.562754</td>\n",
              "      <td>0.936527</td>\n",
              "      <td>precision</td>\n",
              "      <td>ADASYN</td>\n",
              "      <td>LR with p=0.4</td>\n",
              "    </tr>\n",
              "    <tr>\n",
              "      <th>29</th>\n",
              "      <td>0.742320</td>\n",
              "      <td>0.758242</td>\n",
              "      <td>0.743179</td>\n",
              "      <td>0.750281</td>\n",
              "      <td>0.743179</td>\n",
              "      <td>recall</td>\n",
              "      <td>ADASYN</td>\n",
              "      <td>LR with p=0.4</td>\n",
              "    </tr>\n",
              "    <tr>\n",
              "      <th>31</th>\n",
              "      <td>1595.000000</td>\n",
              "      <td>91.000000</td>\n",
              "      <td>0.743179</td>\n",
              "      <td>1686.000000</td>\n",
              "      <td>1686.000000</td>\n",
              "      <td>support</td>\n",
              "      <td>ADASYN</td>\n",
              "      <td>LR with p=0.4</td>\n",
              "    </tr>\n",
              "    <tr>\n",
              "      <th>34</th>\n",
              "      <td>0.884629</td>\n",
              "      <td>0.252772</td>\n",
              "      <td>0.800119</td>\n",
              "      <td>0.568700</td>\n",
              "      <td>0.850525</td>\n",
              "      <td>f1-score</td>\n",
              "      <td>ADASYN</td>\n",
              "      <td>LR with p=0.5</td>\n",
              "    </tr>\n",
              "    <tr>\n",
              "      <th>32</th>\n",
              "      <td>0.974359</td>\n",
              "      <td>0.158333</td>\n",
              "      <td>0.800119</td>\n",
              "      <td>0.566346</td>\n",
              "      <td>0.930315</td>\n",
              "      <td>precision</td>\n",
              "      <td>ADASYN</td>\n",
              "      <td>LR with p=0.5</td>\n",
              "    </tr>\n",
              "    <tr>\n",
              "      <th>33</th>\n",
              "      <td>0.810031</td>\n",
              "      <td>0.626374</td>\n",
              "      <td>0.800119</td>\n",
              "      <td>0.718202</td>\n",
              "      <td>0.800119</td>\n",
              "      <td>recall</td>\n",
              "      <td>ADASYN</td>\n",
              "      <td>LR with p=0.5</td>\n",
              "    </tr>\n",
              "    <tr>\n",
              "      <th>35</th>\n",
              "      <td>1595.000000</td>\n",
              "      <td>91.000000</td>\n",
              "      <td>0.800119</td>\n",
              "      <td>1686.000000</td>\n",
              "      <td>1686.000000</td>\n",
              "      <td>support</td>\n",
              "      <td>ADASYN</td>\n",
              "      <td>LR with p=0.5</td>\n",
              "    </tr>\n",
              "    <tr>\n",
              "      <th>38</th>\n",
              "      <td>0.911745</td>\n",
              "      <td>0.256983</td>\n",
              "      <td>0.842230</td>\n",
              "      <td>0.584364</td>\n",
              "      <td>0.876405</td>\n",
              "      <td>f1-score</td>\n",
              "      <td>ADASYN</td>\n",
              "      <td>LR with p=0.6</td>\n",
              "    </tr>\n",
              "    <tr>\n",
              "      <th>36</th>\n",
              "      <td>0.968288</td>\n",
              "      <td>0.172285</td>\n",
              "      <td>0.842230</td>\n",
              "      <td>0.570286</td>\n",
              "      <td>0.925324</td>\n",
              "      <td>precision</td>\n",
              "      <td>ADASYN</td>\n",
              "      <td>LR with p=0.6</td>\n",
              "    </tr>\n",
              "    <tr>\n",
              "      <th>37</th>\n",
              "      <td>0.861442</td>\n",
              "      <td>0.505495</td>\n",
              "      <td>0.842230</td>\n",
              "      <td>0.683468</td>\n",
              "      <td>0.842230</td>\n",
              "      <td>recall</td>\n",
              "      <td>ADASYN</td>\n",
              "      <td>LR with p=0.6</td>\n",
              "    </tr>\n",
              "    <tr>\n",
              "      <th>39</th>\n",
              "      <td>1595.000000</td>\n",
              "      <td>91.000000</td>\n",
              "      <td>0.842230</td>\n",
              "      <td>1686.000000</td>\n",
              "      <td>1686.000000</td>\n",
              "      <td>support</td>\n",
              "      <td>ADASYN</td>\n",
              "      <td>LR with p=0.6</td>\n",
              "    </tr>\n",
              "    <tr>\n",
              "      <th>42</th>\n",
              "      <td>0.938383</td>\n",
              "      <td>0.250000</td>\n",
              "      <td>0.886121</td>\n",
              "      <td>0.594191</td>\n",
              "      <td>0.901228</td>\n",
              "      <td>f1-score</td>\n",
              "      <td>ADASYN</td>\n",
              "      <td>LR with p=0.7</td>\n",
              "    </tr>\n",
              "    <tr>\n",
              "      <th>40</th>\n",
              "      <td>0.961210</td>\n",
              "      <td>0.193939</td>\n",
              "      <td>0.886121</td>\n",
              "      <td>0.577575</td>\n",
              "      <td>0.919797</td>\n",
              "      <td>precision</td>\n",
              "      <td>ADASYN</td>\n",
              "      <td>LR with p=0.7</td>\n",
              "    </tr>\n",
              "    <tr>\n",
              "      <th>41</th>\n",
              "      <td>0.916614</td>\n",
              "      <td>0.351648</td>\n",
              "      <td>0.886121</td>\n",
              "      <td>0.634131</td>\n",
              "      <td>0.886121</td>\n",
              "      <td>recall</td>\n",
              "      <td>ADASYN</td>\n",
              "      <td>LR with p=0.7</td>\n",
              "    </tr>\n",
              "    <tr>\n",
              "      <th>43</th>\n",
              "      <td>1595.000000</td>\n",
              "      <td>91.000000</td>\n",
              "      <td>0.886121</td>\n",
              "      <td>1686.000000</td>\n",
              "      <td>1686.000000</td>\n",
              "      <td>support</td>\n",
              "      <td>ADASYN</td>\n",
              "      <td>LR with p=0.7</td>\n",
              "    </tr>\n",
              "    <tr>\n",
              "      <th>46</th>\n",
              "      <td>0.958425</td>\n",
              "      <td>0.231214</td>\n",
              "      <td>0.921115</td>\n",
              "      <td>0.594819</td>\n",
              "      <td>0.919174</td>\n",
              "      <td>f1-score</td>\n",
              "      <td>ADASYN</td>\n",
              "      <td>LR with p=0.8</td>\n",
              "    </tr>\n",
              "    <tr>\n",
              "      <th>44</th>\n",
              "      <td>0.955736</td>\n",
              "      <td>0.243902</td>\n",
              "      <td>0.921115</td>\n",
              "      <td>0.599819</td>\n",
              "      <td>0.917315</td>\n",
              "      <td>precision</td>\n",
              "      <td>ADASYN</td>\n",
              "      <td>LR with p=0.8</td>\n",
              "    </tr>\n",
              "    <tr>\n",
              "      <th>45</th>\n",
              "      <td>0.961129</td>\n",
              "      <td>0.219780</td>\n",
              "      <td>0.921115</td>\n",
              "      <td>0.590454</td>\n",
              "      <td>0.921115</td>\n",
              "      <td>recall</td>\n",
              "      <td>ADASYN</td>\n",
              "      <td>LR with p=0.8</td>\n",
              "    </tr>\n",
              "    <tr>\n",
              "      <th>47</th>\n",
              "      <td>1595.000000</td>\n",
              "      <td>91.000000</td>\n",
              "      <td>0.921115</td>\n",
              "      <td>1686.000000</td>\n",
              "      <td>1686.000000</td>\n",
              "      <td>support</td>\n",
              "      <td>ADASYN</td>\n",
              "      <td>LR with p=0.8</td>\n",
              "    </tr>\n",
              "    <tr>\n",
              "      <th>50</th>\n",
              "      <td>0.971568</td>\n",
              "      <td>0.079208</td>\n",
              "      <td>0.944840</td>\n",
              "      <td>0.525388</td>\n",
              "      <td>0.923404</td>\n",
              "      <td>f1-score</td>\n",
              "      <td>ADASYN</td>\n",
              "      <td>LR with p=0.9</td>\n",
              "    </tr>\n",
              "    <tr>\n",
              "      <th>48</th>\n",
              "      <td>0.948091</td>\n",
              "      <td>0.400000</td>\n",
              "      <td>0.944840</td>\n",
              "      <td>0.674045</td>\n",
              "      <td>0.918508</td>\n",
              "      <td>precision</td>\n",
              "      <td>ADASYN</td>\n",
              "      <td>LR with p=0.9</td>\n",
              "    </tr>\n",
              "    <tr>\n",
              "      <th>49</th>\n",
              "      <td>0.996238</td>\n",
              "      <td>0.043956</td>\n",
              "      <td>0.944840</td>\n",
              "      <td>0.520097</td>\n",
              "      <td>0.944840</td>\n",
              "      <td>recall</td>\n",
              "      <td>ADASYN</td>\n",
              "      <td>LR with p=0.9</td>\n",
              "    </tr>\n",
              "    <tr>\n",
              "      <th>51</th>\n",
              "      <td>1595.000000</td>\n",
              "      <td>91.000000</td>\n",
              "      <td>0.944840</td>\n",
              "      <td>1686.000000</td>\n",
              "      <td>1686.000000</td>\n",
              "      <td>support</td>\n",
              "      <td>ADASYN</td>\n",
              "      <td>LR with p=0.9</td>\n",
              "    </tr>\n",
              "  </tbody>\n",
              "</table>\n",
              "</div>\n",
              "      <button class=\"colab-df-convert\" onclick=\"convertToInteractive('df-e96539d1-e7ee-4185-9e7d-b154cd683735')\"\n",
              "              title=\"Convert this dataframe to an interactive table.\"\n",
              "              style=\"display:none;\">\n",
              "        \n",
              "  <svg xmlns=\"http://www.w3.org/2000/svg\" height=\"24px\"viewBox=\"0 0 24 24\"\n",
              "       width=\"24px\">\n",
              "    <path d=\"M0 0h24v24H0V0z\" fill=\"none\"/>\n",
              "    <path d=\"M18.56 5.44l.94 2.06.94-2.06 2.06-.94-2.06-.94-.94-2.06-.94 2.06-2.06.94zm-11 1L8.5 8.5l.94-2.06 2.06-.94-2.06-.94L8.5 2.5l-.94 2.06-2.06.94zm10 10l.94 2.06.94-2.06 2.06-.94-2.06-.94-.94-2.06-.94 2.06-2.06.94z\"/><path d=\"M17.41 7.96l-1.37-1.37c-.4-.4-.92-.59-1.43-.59-.52 0-1.04.2-1.43.59L10.3 9.45l-7.72 7.72c-.78.78-.78 2.05 0 2.83L4 21.41c.39.39.9.59 1.41.59.51 0 1.02-.2 1.41-.59l7.78-7.78 2.81-2.81c.8-.78.8-2.07 0-2.86zM5.41 20L4 18.59l7.72-7.72 1.47 1.35L5.41 20z\"/>\n",
              "  </svg>\n",
              "      </button>\n",
              "      \n",
              "  <style>\n",
              "    .colab-df-container {\n",
              "      display:flex;\n",
              "      flex-wrap:wrap;\n",
              "      gap: 12px;\n",
              "    }\n",
              "\n",
              "    .colab-df-convert {\n",
              "      background-color: #E8F0FE;\n",
              "      border: none;\n",
              "      border-radius: 50%;\n",
              "      cursor: pointer;\n",
              "      display: none;\n",
              "      fill: #1967D2;\n",
              "      height: 32px;\n",
              "      padding: 0 0 0 0;\n",
              "      width: 32px;\n",
              "    }\n",
              "\n",
              "    .colab-df-convert:hover {\n",
              "      background-color: #E2EBFA;\n",
              "      box-shadow: 0px 1px 2px rgba(60, 64, 67, 0.3), 0px 1px 3px 1px rgba(60, 64, 67, 0.15);\n",
              "      fill: #174EA6;\n",
              "    }\n",
              "\n",
              "    [theme=dark] .colab-df-convert {\n",
              "      background-color: #3B4455;\n",
              "      fill: #D2E3FC;\n",
              "    }\n",
              "\n",
              "    [theme=dark] .colab-df-convert:hover {\n",
              "      background-color: #434B5C;\n",
              "      box-shadow: 0px 1px 3px 1px rgba(0, 0, 0, 0.15);\n",
              "      filter: drop-shadow(0px 1px 2px rgba(0, 0, 0, 0.3));\n",
              "      fill: #FFFFFF;\n",
              "    }\n",
              "  </style>\n",
              "\n",
              "      <script>\n",
              "        const buttonEl =\n",
              "          document.querySelector('#df-e96539d1-e7ee-4185-9e7d-b154cd683735 button.colab-df-convert');\n",
              "        buttonEl.style.display =\n",
              "          google.colab.kernel.accessAllowed ? 'block' : 'none';\n",
              "\n",
              "        async function convertToInteractive(key) {\n",
              "          const element = document.querySelector('#df-e96539d1-e7ee-4185-9e7d-b154cd683735');\n",
              "          const dataTable =\n",
              "            await google.colab.kernel.invokeFunction('convertToInteractive',\n",
              "                                                     [key], {});\n",
              "          if (!dataTable) return;\n",
              "\n",
              "          const docLinkHtml = 'Like what you see? Visit the ' +\n",
              "            '<a target=\"_blank\" href=https://colab.research.google.com/notebooks/data_table.ipynb>data table notebook</a>'\n",
              "            + ' to learn more about interactive tables.';\n",
              "          element.innerHTML = '';\n",
              "          dataTable['output_type'] = 'display_data';\n",
              "          await google.colab.output.renderOutput(dataTable, element);\n",
              "          const docLink = document.createElement('div');\n",
              "          docLink.innerHTML = docLinkHtml;\n",
              "          element.appendChild(docLink);\n",
              "        }\n",
              "      </script>\n",
              "    </div>\n",
              "  </div>\n",
              "  "
            ]
          },
          "metadata": {},
          "execution_count": 34
        }
      ]
    },
    {
      "cell_type": "code",
      "source": [
        "plot_datasets_scores = transform_report_to_plot(report[report.model_name!='Base LR'], x='model_name')\n",
        "plotting(data = plot_datasets_scores, x='', y='value', cl='metric', type='lineplot')"
      ],
      "metadata": {
        "colab": {
          "base_uri": "https://localhost:8080/",
          "height": 559
        },
        "id": "CBO43uXtt-IZ",
        "outputId": "628fdb21-15fe-4bea-909e-f32a6fa8944d"
      },
      "execution_count": 72,
      "outputs": [
        {
          "output_type": "display_data",
          "data": {
            "text/html": [
              "<html>\n",
              "<head><meta charset=\"utf-8\" /></head>\n",
              "<body>\n",
              "    <div>            <script src=\"https://cdnjs.cloudflare.com/ajax/libs/mathjax/2.7.5/MathJax.js?config=TeX-AMS-MML_SVG\"></script><script type=\"text/javascript\">if (window.MathJax) {MathJax.Hub.Config({SVG: {font: \"STIX-Web\"}});}</script>                <script type=\"text/javascript\">window.PlotlyConfig = {MathJaxConfig: 'local'};</script>\n",
              "        <script src=\"https://cdn.plot.ly/plotly-2.8.3.min.js\"></script>                <div id=\"ace3d7c2-c72e-4fc1-91b9-888c15694755\" class=\"plotly-graph-div\" style=\"height:525px; width:100%;\"></div>            <script type=\"text/javascript\">                                    window.PLOTLYENV=window.PLOTLYENV || {};                                    if (document.getElementById(\"ace3d7c2-c72e-4fc1-91b9-888c15694755\")) {                    Plotly.newPlot(                        \"ace3d7c2-c72e-4fc1-91b9-888c15694755\",                        [{\"hovertemplate\":\"metric=f1-score<br>=%{x}<br>value=%{y}<extra></extra>\",\"legendgroup\":\"f1-score\",\"line\":{\"color\":\"#636efa\",\"dash\":\"solid\"},\"marker\":{\"symbol\":\"circle\"},\"mode\":\"lines\",\"name\":\"f1-score\",\"orientation\":\"v\",\"showlegend\":true,\"x\":[\"LR with p=0.1\",\"LR with p=0.2\",\"LR with p=0.3\",\"LR with p=0.4\",\"LR with p=0.5\",\"LR with p=0.6\",\"LR with p=0.7\",\"LR with p=0.8\",\"LR with p=0.9\"],\"xaxis\":\"x\",\"y\":[0.40011689476004375,0.46250931374077525,0.5048859275161262,0.5435468068384384,0.5687000852455383,0.5843642146704577,0.594191270860077,0.5948191902455067,0.5253881242603013],\"yaxis\":\"y\",\"type\":\"scatter\"},{\"hovertemplate\":\"metric=Precision (Stroke)<br>=%{x}<br>value=%{y}<extra></extra>\",\"legendgroup\":\"Precision (Stroke)\",\"line\":{\"color\":\"#EF553B\",\"dash\":\"solid\"},\"marker\":{\"symbol\":\"circle\"},\"mode\":\"lines\",\"name\":\"Precision (Stroke)\",\"orientation\":\"v\",\"showlegend\":true,\"x\":[\"LR with p=0.1\",\"LR with p=0.2\",\"LR with p=0.3\",\"LR with p=0.4\",\"LR with p=0.5\",\"LR with p=0.6\",\"LR with p=0.7\",\"LR with p=0.8\",\"LR with p=0.9\"],\"xaxis\":\"x\",\"y\":[0.09292502639915523,0.11023622047244094,0.12418300653594772,0.14375,0.15833333333333333,0.17228464419475656,0.19393939393939394,0.24390243902439024,0.4],\"yaxis\":\"y\",\"type\":\"scatter\"},{\"hovertemplate\":\"metric=Recall (Stroke)<br>=%{x}<br>value=%{y}<extra></extra>\",\"legendgroup\":\"Recall (Stroke)\",\"line\":{\"color\":\"#00cc96\",\"dash\":\"solid\"},\"marker\":{\"symbol\":\"circle\"},\"mode\":\"lines\",\"name\":\"Recall (Stroke)\",\"orientation\":\"v\",\"showlegend\":true,\"x\":[\"LR with p=0.1\",\"LR with p=0.2\",\"LR with p=0.3\",\"LR with p=0.4\",\"LR with p=0.5\",\"LR with p=0.6\",\"LR with p=0.7\",\"LR with p=0.8\",\"LR with p=0.9\"],\"xaxis\":\"x\",\"y\":[0.967032967032967,0.9230769230769231,0.8351648351648352,0.7582417582417582,0.6263736263736264,0.5054945054945055,0.3516483516483517,0.21978021978021978,0.04395604395604396],\"yaxis\":\"y\",\"type\":\"scatter\"},{\"hovertemplate\":\"metric=Precision (No stroke)<br>=%{x}<br>value=%{y}<extra></extra>\",\"legendgroup\":\"Precision (No stroke)\",\"line\":{\"color\":\"#ab63fa\",\"dash\":\"solid\"},\"marker\":{\"symbol\":\"circle\"},\"mode\":\"lines\",\"name\":\"Precision (No stroke)\",\"orientation\":\"v\",\"showlegend\":true,\"x\":[\"LR with p=0.1\",\"LR with p=0.2\",\"LR with p=0.3\",\"LR with p=0.4\",\"LR with p=0.5\",\"LR with p=0.6\",\"LR with p=0.7\",\"LR with p=0.8\",\"LR with p=0.9\"],\"xaxis\":\"x\",\"y\":[0.9959404600811907,0.9924242424242424,0.9860335195530726,0.9817578772802653,0.9743589743589743,0.9682875264270613,0.9612097304404996,0.9557356608478803,0.948090692124105],\"yaxis\":\"y\",\"type\":\"scatter\"},{\"hovertemplate\":\"metric=Recall (No stroke)<br>=%{x}<br>value=%{y}<extra></extra>\",\"legendgroup\":\"Recall (No stroke)\",\"line\":{\"color\":\"#FFA15A\",\"dash\":\"solid\"},\"marker\":{\"symbol\":\"circle\"},\"mode\":\"lines\",\"name\":\"Recall (No stroke)\",\"orientation\":\"v\",\"showlegend\":true,\"x\":[\"LR with p=0.1\",\"LR with p=0.2\",\"LR with p=0.3\",\"LR with p=0.4\",\"LR with p=0.5\",\"LR with p=0.6\",\"LR with p=0.7\",\"LR with p=0.8\",\"LR with p=0.9\"],\"xaxis\":\"x\",\"y\":[0.4614420062695925,0.5749216300940438,0.6639498432601881,0.742319749216301,0.8100313479623824,0.8614420062695924,0.9166144200626959,0.961128526645768,0.9962382445141066],\"yaxis\":\"y\",\"type\":\"scatter\"}],                        {\"template\":{\"data\":{\"bar\":[{\"error_x\":{\"color\":\"#2a3f5f\"},\"error_y\":{\"color\":\"#2a3f5f\"},\"marker\":{\"line\":{\"color\":\"#E5ECF6\",\"width\":0.5},\"pattern\":{\"fillmode\":\"overlay\",\"size\":10,\"solidity\":0.2}},\"type\":\"bar\"}],\"barpolar\":[{\"marker\":{\"line\":{\"color\":\"#E5ECF6\",\"width\":0.5},\"pattern\":{\"fillmode\":\"overlay\",\"size\":10,\"solidity\":0.2}},\"type\":\"barpolar\"}],\"carpet\":[{\"aaxis\":{\"endlinecolor\":\"#2a3f5f\",\"gridcolor\":\"white\",\"linecolor\":\"white\",\"minorgridcolor\":\"white\",\"startlinecolor\":\"#2a3f5f\"},\"baxis\":{\"endlinecolor\":\"#2a3f5f\",\"gridcolor\":\"white\",\"linecolor\":\"white\",\"minorgridcolor\":\"white\",\"startlinecolor\":\"#2a3f5f\"},\"type\":\"carpet\"}],\"choropleth\":[{\"colorbar\":{\"outlinewidth\":0,\"ticks\":\"\"},\"type\":\"choropleth\"}],\"contour\":[{\"colorbar\":{\"outlinewidth\":0,\"ticks\":\"\"},\"colorscale\":[[0.0,\"#0d0887\"],[0.1111111111111111,\"#46039f\"],[0.2222222222222222,\"#7201a8\"],[0.3333333333333333,\"#9c179e\"],[0.4444444444444444,\"#bd3786\"],[0.5555555555555556,\"#d8576b\"],[0.6666666666666666,\"#ed7953\"],[0.7777777777777778,\"#fb9f3a\"],[0.8888888888888888,\"#fdca26\"],[1.0,\"#f0f921\"]],\"type\":\"contour\"}],\"contourcarpet\":[{\"colorbar\":{\"outlinewidth\":0,\"ticks\":\"\"},\"type\":\"contourcarpet\"}],\"heatmap\":[{\"colorbar\":{\"outlinewidth\":0,\"ticks\":\"\"},\"colorscale\":[[0.0,\"#0d0887\"],[0.1111111111111111,\"#46039f\"],[0.2222222222222222,\"#7201a8\"],[0.3333333333333333,\"#9c179e\"],[0.4444444444444444,\"#bd3786\"],[0.5555555555555556,\"#d8576b\"],[0.6666666666666666,\"#ed7953\"],[0.7777777777777778,\"#fb9f3a\"],[0.8888888888888888,\"#fdca26\"],[1.0,\"#f0f921\"]],\"type\":\"heatmap\"}],\"heatmapgl\":[{\"colorbar\":{\"outlinewidth\":0,\"ticks\":\"\"},\"colorscale\":[[0.0,\"#0d0887\"],[0.1111111111111111,\"#46039f\"],[0.2222222222222222,\"#7201a8\"],[0.3333333333333333,\"#9c179e\"],[0.4444444444444444,\"#bd3786\"],[0.5555555555555556,\"#d8576b\"],[0.6666666666666666,\"#ed7953\"],[0.7777777777777778,\"#fb9f3a\"],[0.8888888888888888,\"#fdca26\"],[1.0,\"#f0f921\"]],\"type\":\"heatmapgl\"}],\"histogram\":[{\"marker\":{\"pattern\":{\"fillmode\":\"overlay\",\"size\":10,\"solidity\":0.2}},\"type\":\"histogram\"}],\"histogram2d\":[{\"colorbar\":{\"outlinewidth\":0,\"ticks\":\"\"},\"colorscale\":[[0.0,\"#0d0887\"],[0.1111111111111111,\"#46039f\"],[0.2222222222222222,\"#7201a8\"],[0.3333333333333333,\"#9c179e\"],[0.4444444444444444,\"#bd3786\"],[0.5555555555555556,\"#d8576b\"],[0.6666666666666666,\"#ed7953\"],[0.7777777777777778,\"#fb9f3a\"],[0.8888888888888888,\"#fdca26\"],[1.0,\"#f0f921\"]],\"type\":\"histogram2d\"}],\"histogram2dcontour\":[{\"colorbar\":{\"outlinewidth\":0,\"ticks\":\"\"},\"colorscale\":[[0.0,\"#0d0887\"],[0.1111111111111111,\"#46039f\"],[0.2222222222222222,\"#7201a8\"],[0.3333333333333333,\"#9c179e\"],[0.4444444444444444,\"#bd3786\"],[0.5555555555555556,\"#d8576b\"],[0.6666666666666666,\"#ed7953\"],[0.7777777777777778,\"#fb9f3a\"],[0.8888888888888888,\"#fdca26\"],[1.0,\"#f0f921\"]],\"type\":\"histogram2dcontour\"}],\"mesh3d\":[{\"colorbar\":{\"outlinewidth\":0,\"ticks\":\"\"},\"type\":\"mesh3d\"}],\"parcoords\":[{\"line\":{\"colorbar\":{\"outlinewidth\":0,\"ticks\":\"\"}},\"type\":\"parcoords\"}],\"pie\":[{\"automargin\":true,\"type\":\"pie\"}],\"scatter\":[{\"marker\":{\"colorbar\":{\"outlinewidth\":0,\"ticks\":\"\"}},\"type\":\"scatter\"}],\"scatter3d\":[{\"line\":{\"colorbar\":{\"outlinewidth\":0,\"ticks\":\"\"}},\"marker\":{\"colorbar\":{\"outlinewidth\":0,\"ticks\":\"\"}},\"type\":\"scatter3d\"}],\"scattercarpet\":[{\"marker\":{\"colorbar\":{\"outlinewidth\":0,\"ticks\":\"\"}},\"type\":\"scattercarpet\"}],\"scattergeo\":[{\"marker\":{\"colorbar\":{\"outlinewidth\":0,\"ticks\":\"\"}},\"type\":\"scattergeo\"}],\"scattergl\":[{\"marker\":{\"colorbar\":{\"outlinewidth\":0,\"ticks\":\"\"}},\"type\":\"scattergl\"}],\"scattermapbox\":[{\"marker\":{\"colorbar\":{\"outlinewidth\":0,\"ticks\":\"\"}},\"type\":\"scattermapbox\"}],\"scatterpolar\":[{\"marker\":{\"colorbar\":{\"outlinewidth\":0,\"ticks\":\"\"}},\"type\":\"scatterpolar\"}],\"scatterpolargl\":[{\"marker\":{\"colorbar\":{\"outlinewidth\":0,\"ticks\":\"\"}},\"type\":\"scatterpolargl\"}],\"scatterternary\":[{\"marker\":{\"colorbar\":{\"outlinewidth\":0,\"ticks\":\"\"}},\"type\":\"scatterternary\"}],\"surface\":[{\"colorbar\":{\"outlinewidth\":0,\"ticks\":\"\"},\"colorscale\":[[0.0,\"#0d0887\"],[0.1111111111111111,\"#46039f\"],[0.2222222222222222,\"#7201a8\"],[0.3333333333333333,\"#9c179e\"],[0.4444444444444444,\"#bd3786\"],[0.5555555555555556,\"#d8576b\"],[0.6666666666666666,\"#ed7953\"],[0.7777777777777778,\"#fb9f3a\"],[0.8888888888888888,\"#fdca26\"],[1.0,\"#f0f921\"]],\"type\":\"surface\"}],\"table\":[{\"cells\":{\"fill\":{\"color\":\"#EBF0F8\"},\"line\":{\"color\":\"white\"}},\"header\":{\"fill\":{\"color\":\"#C8D4E3\"},\"line\":{\"color\":\"white\"}},\"type\":\"table\"}]},\"layout\":{\"annotationdefaults\":{\"arrowcolor\":\"#2a3f5f\",\"arrowhead\":0,\"arrowwidth\":1},\"autotypenumbers\":\"strict\",\"coloraxis\":{\"colorbar\":{\"outlinewidth\":0,\"ticks\":\"\"}},\"colorscale\":{\"diverging\":[[0,\"#8e0152\"],[0.1,\"#c51b7d\"],[0.2,\"#de77ae\"],[0.3,\"#f1b6da\"],[0.4,\"#fde0ef\"],[0.5,\"#f7f7f7\"],[0.6,\"#e6f5d0\"],[0.7,\"#b8e186\"],[0.8,\"#7fbc41\"],[0.9,\"#4d9221\"],[1,\"#276419\"]],\"sequential\":[[0.0,\"#0d0887\"],[0.1111111111111111,\"#46039f\"],[0.2222222222222222,\"#7201a8\"],[0.3333333333333333,\"#9c179e\"],[0.4444444444444444,\"#bd3786\"],[0.5555555555555556,\"#d8576b\"],[0.6666666666666666,\"#ed7953\"],[0.7777777777777778,\"#fb9f3a\"],[0.8888888888888888,\"#fdca26\"],[1.0,\"#f0f921\"]],\"sequentialminus\":[[0.0,\"#0d0887\"],[0.1111111111111111,\"#46039f\"],[0.2222222222222222,\"#7201a8\"],[0.3333333333333333,\"#9c179e\"],[0.4444444444444444,\"#bd3786\"],[0.5555555555555556,\"#d8576b\"],[0.6666666666666666,\"#ed7953\"],[0.7777777777777778,\"#fb9f3a\"],[0.8888888888888888,\"#fdca26\"],[1.0,\"#f0f921\"]]},\"colorway\":[\"#636efa\",\"#EF553B\",\"#00cc96\",\"#ab63fa\",\"#FFA15A\",\"#19d3f3\",\"#FF6692\",\"#B6E880\",\"#FF97FF\",\"#FECB52\"],\"font\":{\"color\":\"#2a3f5f\"},\"geo\":{\"bgcolor\":\"white\",\"lakecolor\":\"white\",\"landcolor\":\"#E5ECF6\",\"showlakes\":true,\"showland\":true,\"subunitcolor\":\"white\"},\"hoverlabel\":{\"align\":\"left\"},\"hovermode\":\"closest\",\"mapbox\":{\"style\":\"light\"},\"paper_bgcolor\":\"white\",\"plot_bgcolor\":\"#E5ECF6\",\"polar\":{\"angularaxis\":{\"gridcolor\":\"white\",\"linecolor\":\"white\",\"ticks\":\"\"},\"bgcolor\":\"#E5ECF6\",\"radialaxis\":{\"gridcolor\":\"white\",\"linecolor\":\"white\",\"ticks\":\"\"}},\"scene\":{\"xaxis\":{\"backgroundcolor\":\"#E5ECF6\",\"gridcolor\":\"white\",\"gridwidth\":2,\"linecolor\":\"white\",\"showbackground\":true,\"ticks\":\"\",\"zerolinecolor\":\"white\"},\"yaxis\":{\"backgroundcolor\":\"#E5ECF6\",\"gridcolor\":\"white\",\"gridwidth\":2,\"linecolor\":\"white\",\"showbackground\":true,\"ticks\":\"\",\"zerolinecolor\":\"white\"},\"zaxis\":{\"backgroundcolor\":\"#E5ECF6\",\"gridcolor\":\"white\",\"gridwidth\":2,\"linecolor\":\"white\",\"showbackground\":true,\"ticks\":\"\",\"zerolinecolor\":\"white\"}},\"shapedefaults\":{\"line\":{\"color\":\"#2a3f5f\"}},\"ternary\":{\"aaxis\":{\"gridcolor\":\"white\",\"linecolor\":\"white\",\"ticks\":\"\"},\"baxis\":{\"gridcolor\":\"white\",\"linecolor\":\"white\",\"ticks\":\"\"},\"bgcolor\":\"#E5ECF6\",\"caxis\":{\"gridcolor\":\"white\",\"linecolor\":\"white\",\"ticks\":\"\"}},\"title\":{\"x\":0.05},\"xaxis\":{\"automargin\":true,\"gridcolor\":\"white\",\"linecolor\":\"white\",\"ticks\":\"\",\"title\":{\"standoff\":15},\"zerolinecolor\":\"white\",\"zerolinewidth\":2},\"yaxis\":{\"automargin\":true,\"gridcolor\":\"white\",\"linecolor\":\"white\",\"ticks\":\"\",\"title\":{\"standoff\":15},\"zerolinecolor\":\"white\",\"zerolinewidth\":2}}},\"xaxis\":{\"anchor\":\"y\",\"domain\":[0.0,1.0],\"title\":{\"text\":\"\"}},\"yaxis\":{\"anchor\":\"x\",\"domain\":[0.0,1.0],\"title\":{\"text\":\"value\"}},\"legend\":{\"title\":{\"text\":\"metric\"},\"tracegroupgap\":0},\"margin\":{\"t\":60}},                        {\"responsive\": true}                    ).then(function(){\n",
              "                            \n",
              "var gd = document.getElementById('ace3d7c2-c72e-4fc1-91b9-888c15694755');\n",
              "var x = new MutationObserver(function (mutations, observer) {{\n",
              "        var display = window.getComputedStyle(gd).display;\n",
              "        if (!display || display === 'none') {{\n",
              "            console.log([gd, 'removed!']);\n",
              "            Plotly.purge(gd);\n",
              "            observer.disconnect();\n",
              "        }}\n",
              "}});\n",
              "\n",
              "// Listen for the removal of the full notebook cells\n",
              "var notebookContainer = gd.closest('#notebook-container');\n",
              "if (notebookContainer) {{\n",
              "    x.observe(notebookContainer, {childList: true});\n",
              "}}\n",
              "\n",
              "// Listen for the clearing of the current output cell\n",
              "var outputEl = gd.closest('.output');\n",
              "if (outputEl) {{\n",
              "    x.observe(outputEl, {childList: true});\n",
              "}}\n",
              "\n",
              "                        })                };                            </script>        </div>\n",
              "</body>\n",
              "</html>"
            ]
          },
          "metadata": {}
        },
        {
          "output_type": "execute_result",
          "data": {
            "text/plain": [
              "0"
            ]
          },
          "metadata": {},
          "execution_count": 72
        }
      ]
    },
    {
      "cell_type": "markdown",
      "source": [
        "Wnioski dla:\n",
        "- wartości Precision:\n",
        "  -  dla klasy bez udaru jest równa prawie 1 i maleje nieznacznie ze wzrostem wartości $p$. Jest to spowodowane częstym przypisaniem osób do klasy z udarem poprzez niską wartość prawdopodobieństwa, a więc ograniczenie liczby fałszywie pozytywnych dla klasy bez udaru.\n",
        "  - dla klasy z udarem jest wartość niska i rosnąca wraz ze wzrostem parametru $p$. Zbiór jest niezbalansowany i przy niskim prawdopodobieństwie często będziemy klasyfikować nieprawdziwie ludzi bez udaru jako osoby z udarem.\n",
        "\n",
        "- wartości Recall:\n",
        "  - dla klasy bez udaru znacznie rośnie wraz ze wzrostem thresholdu $p$. Wynika to faktu, że im wyższy wartość $p$ tym częściej przypisujemy osoby do klasy bez udaru i minimalizujemy tym samym wartość fałszywie negatywnych dla tej klasy.  \n",
        "  - dla klasy z udarem również zaczyna się od wartości bliskiej 1 (podobnie jak Precyzja), ale maleje znacząco ze wzrostem wartości $p$. Jest to naturalna konsekwencja, że wraz ze wzrostem tego parametru maleje ilość przypisań do klasy z udarem (musi być wykazane wysokie prawdopodobieństwo przynależności), a więc wzrasta ilość pacjentów \"pominiętych\" przy przypisaniu do klasy z udarem.  \n",
        "\n",
        "- wartości $F_1$:\n",
        "  - jest to średnia harmoniczna obu metryk (z równą ważnością obu klas) i widać jej wzrost wraz ze wzrostem parametru. \n",
        "\n",
        "Jak wspomnieliśmy na początku, chcemy maksymalizować wartość Precyzji dla klasy bez udaru (0) oraz Recall dla klasy z udarem (1). Dodatkowo wysokie wartości Precyzji dla klasy (1) oraz Recall dla klasy (0) będą atutem.\n",
        "\n",
        "W wartości $p=0.4$ możemy zaobserwować przecięcie metryk Recall dla każdej z klas. Punkt ten wydaje się być optymalny dla naszego zagadnienia, gdyż dla klasy (0) wartość precyzji i recall jest relatywnie wysoka, a dla klasy (1) następuje niewielki spadek względem Recall. Jest to też zgodne z \"wyczuciem dziedzinowym\" tj. chcemy być bardziej uważni na możliwość wystąpienia udaru i raczej wystarczy nam już niewielkie prawdopodobieństwo wystąpienia, aby zaklasyfikować pacjenta. Co prawda wzrasta ryzyko nieprawidziwej klasyfikacji, ale w najgorszym przypadku zostaną poniesione niepotrzebne koszty (z takiej racji nie może być to też wartość zbyt niska, gdyż prawie każdego od razu będziemy klasyfikować jako osobę z udarem). Z drugiej strony zbyt wysoka wartość wymaganego prawdopodobieństwa może narazić zdrowie, a nawet życie ludzkie (widać to chociażby po drastycznym spadku Recall dla klasy 1 co oznacza, że mocno wzrosła liczba osób zaklasyfikowanych jako bez udaru, gdzie w rzeczywistości on wystąpił). \n",
        "\n",
        "Ostatecznie wybierzemy wartość $p=0.4$. "
      ],
      "metadata": {
        "id": "liNcYF4r_T9R"
      }
    },
    {
      "cell_type": "markdown",
      "source": [
        "# TO DO:\n",
        "1. Dostroić threshold p i parametr C dla regresji logistycznej\n",
        "2. Trenowanie regresji logistycznej jako modelu baselinowego dla 4 setów i dobór odpowiedniego odcięcia $p$, jak też najlepszego zbioru.\n",
        "3. Wytrenowanie kolejnych modeli w celu porównania z baselinem (regresja logistyczna) w tym\n",
        "  - drzewa losowe\n",
        "  - SVM\n",
        "4. Jeśli starczy czasu to powtórzenie 3 dla każdego ze zbiorów zbalansowanych\n",
        "5. Ostateczna prezentacja rezultatów, ROC, zestawienie, finalny wybór."
      ],
      "metadata": {
        "id": "6ll-ADeRi-ds"
      }
    },
    {
      "cell_type": "code",
      "source": [
        "transform_report_to_plot(report[report.model_name!='Base LR'], x='model_name')"
      ],
      "metadata": {
        "id": "At39yEdDi-LW",
        "colab": {
          "base_uri": "https://localhost:8080/",
          "height": 614
        },
        "outputId": "37505f1a-24b6-4e1b-eb78-a374198b9f9f"
      },
      "execution_count": null,
      "outputs": [
        {
          "output_type": "execute_result",
          "data": {
            "text/plain": [
              "       value    metric               \n",
              "18  0.400117  f1-score  LR with p=0.1\n",
              "22  0.462509  f1-score  LR with p=0.2\n",
              "26  0.504886  f1-score  LR with p=0.3\n",
              "30  0.543547  f1-score  LR with p=0.4\n",
              "34  0.568700  f1-score  LR with p=0.5\n",
              "38  0.584364  f1-score  LR with p=0.6\n",
              "42  0.594191  f1-score  LR with p=0.7\n",
              "46  0.594819  f1-score  LR with p=0.8\n",
              "50  0.525388  f1-score  LR with p=0.9\n",
              "17  0.967033    recall  LR with p=0.1\n",
              "21  0.923077    recall  LR with p=0.2\n",
              "25  0.835165    recall  LR with p=0.3\n",
              "29  0.758242    recall  LR with p=0.4\n",
              "33  0.626374    recall  LR with p=0.5\n",
              "37  0.505495    recall  LR with p=0.6\n",
              "41  0.351648    recall  LR with p=0.7\n",
              "45  0.219780    recall  LR with p=0.8\n",
              "49  0.043956    recall  LR with p=0.9"
            ],
            "text/html": [
              "\n",
              "  <div id=\"df-3280656d-41c4-4d29-9055-c514af67561e\">\n",
              "    <div class=\"colab-df-container\">\n",
              "      <div>\n",
              "<style scoped>\n",
              "    .dataframe tbody tr th:only-of-type {\n",
              "        vertical-align: middle;\n",
              "    }\n",
              "\n",
              "    .dataframe tbody tr th {\n",
              "        vertical-align: top;\n",
              "    }\n",
              "\n",
              "    .dataframe thead th {\n",
              "        text-align: right;\n",
              "    }\n",
              "</style>\n",
              "<table border=\"1\" class=\"dataframe\">\n",
              "  <thead>\n",
              "    <tr style=\"text-align: right;\">\n",
              "      <th></th>\n",
              "      <th>value</th>\n",
              "      <th>metric</th>\n",
              "      <th></th>\n",
              "    </tr>\n",
              "  </thead>\n",
              "  <tbody>\n",
              "    <tr>\n",
              "      <th>18</th>\n",
              "      <td>0.400117</td>\n",
              "      <td>f1-score</td>\n",
              "      <td>LR with p=0.1</td>\n",
              "    </tr>\n",
              "    <tr>\n",
              "      <th>22</th>\n",
              "      <td>0.462509</td>\n",
              "      <td>f1-score</td>\n",
              "      <td>LR with p=0.2</td>\n",
              "    </tr>\n",
              "    <tr>\n",
              "      <th>26</th>\n",
              "      <td>0.504886</td>\n",
              "      <td>f1-score</td>\n",
              "      <td>LR with p=0.3</td>\n",
              "    </tr>\n",
              "    <tr>\n",
              "      <th>30</th>\n",
              "      <td>0.543547</td>\n",
              "      <td>f1-score</td>\n",
              "      <td>LR with p=0.4</td>\n",
              "    </tr>\n",
              "    <tr>\n",
              "      <th>34</th>\n",
              "      <td>0.568700</td>\n",
              "      <td>f1-score</td>\n",
              "      <td>LR with p=0.5</td>\n",
              "    </tr>\n",
              "    <tr>\n",
              "      <th>38</th>\n",
              "      <td>0.584364</td>\n",
              "      <td>f1-score</td>\n",
              "      <td>LR with p=0.6</td>\n",
              "    </tr>\n",
              "    <tr>\n",
              "      <th>42</th>\n",
              "      <td>0.594191</td>\n",
              "      <td>f1-score</td>\n",
              "      <td>LR with p=0.7</td>\n",
              "    </tr>\n",
              "    <tr>\n",
              "      <th>46</th>\n",
              "      <td>0.594819</td>\n",
              "      <td>f1-score</td>\n",
              "      <td>LR with p=0.8</td>\n",
              "    </tr>\n",
              "    <tr>\n",
              "      <th>50</th>\n",
              "      <td>0.525388</td>\n",
              "      <td>f1-score</td>\n",
              "      <td>LR with p=0.9</td>\n",
              "    </tr>\n",
              "    <tr>\n",
              "      <th>17</th>\n",
              "      <td>0.967033</td>\n",
              "      <td>recall</td>\n",
              "      <td>LR with p=0.1</td>\n",
              "    </tr>\n",
              "    <tr>\n",
              "      <th>21</th>\n",
              "      <td>0.923077</td>\n",
              "      <td>recall</td>\n",
              "      <td>LR with p=0.2</td>\n",
              "    </tr>\n",
              "    <tr>\n",
              "      <th>25</th>\n",
              "      <td>0.835165</td>\n",
              "      <td>recall</td>\n",
              "      <td>LR with p=0.3</td>\n",
              "    </tr>\n",
              "    <tr>\n",
              "      <th>29</th>\n",
              "      <td>0.758242</td>\n",
              "      <td>recall</td>\n",
              "      <td>LR with p=0.4</td>\n",
              "    </tr>\n",
              "    <tr>\n",
              "      <th>33</th>\n",
              "      <td>0.626374</td>\n",
              "      <td>recall</td>\n",
              "      <td>LR with p=0.5</td>\n",
              "    </tr>\n",
              "    <tr>\n",
              "      <th>37</th>\n",
              "      <td>0.505495</td>\n",
              "      <td>recall</td>\n",
              "      <td>LR with p=0.6</td>\n",
              "    </tr>\n",
              "    <tr>\n",
              "      <th>41</th>\n",
              "      <td>0.351648</td>\n",
              "      <td>recall</td>\n",
              "      <td>LR with p=0.7</td>\n",
              "    </tr>\n",
              "    <tr>\n",
              "      <th>45</th>\n",
              "      <td>0.219780</td>\n",
              "      <td>recall</td>\n",
              "      <td>LR with p=0.8</td>\n",
              "    </tr>\n",
              "    <tr>\n",
              "      <th>49</th>\n",
              "      <td>0.043956</td>\n",
              "      <td>recall</td>\n",
              "      <td>LR with p=0.9</td>\n",
              "    </tr>\n",
              "  </tbody>\n",
              "</table>\n",
              "</div>\n",
              "      <button class=\"colab-df-convert\" onclick=\"convertToInteractive('df-3280656d-41c4-4d29-9055-c514af67561e')\"\n",
              "              title=\"Convert this dataframe to an interactive table.\"\n",
              "              style=\"display:none;\">\n",
              "        \n",
              "  <svg xmlns=\"http://www.w3.org/2000/svg\" height=\"24px\"viewBox=\"0 0 24 24\"\n",
              "       width=\"24px\">\n",
              "    <path d=\"M0 0h24v24H0V0z\" fill=\"none\"/>\n",
              "    <path d=\"M18.56 5.44l.94 2.06.94-2.06 2.06-.94-2.06-.94-.94-2.06-.94 2.06-2.06.94zm-11 1L8.5 8.5l.94-2.06 2.06-.94-2.06-.94L8.5 2.5l-.94 2.06-2.06.94zm10 10l.94 2.06.94-2.06 2.06-.94-2.06-.94-.94-2.06-.94 2.06-2.06.94z\"/><path d=\"M17.41 7.96l-1.37-1.37c-.4-.4-.92-.59-1.43-.59-.52 0-1.04.2-1.43.59L10.3 9.45l-7.72 7.72c-.78.78-.78 2.05 0 2.83L4 21.41c.39.39.9.59 1.41.59.51 0 1.02-.2 1.41-.59l7.78-7.78 2.81-2.81c.8-.78.8-2.07 0-2.86zM5.41 20L4 18.59l7.72-7.72 1.47 1.35L5.41 20z\"/>\n",
              "  </svg>\n",
              "      </button>\n",
              "      \n",
              "  <style>\n",
              "    .colab-df-container {\n",
              "      display:flex;\n",
              "      flex-wrap:wrap;\n",
              "      gap: 12px;\n",
              "    }\n",
              "\n",
              "    .colab-df-convert {\n",
              "      background-color: #E8F0FE;\n",
              "      border: none;\n",
              "      border-radius: 50%;\n",
              "      cursor: pointer;\n",
              "      display: none;\n",
              "      fill: #1967D2;\n",
              "      height: 32px;\n",
              "      padding: 0 0 0 0;\n",
              "      width: 32px;\n",
              "    }\n",
              "\n",
              "    .colab-df-convert:hover {\n",
              "      background-color: #E2EBFA;\n",
              "      box-shadow: 0px 1px 2px rgba(60, 64, 67, 0.3), 0px 1px 3px 1px rgba(60, 64, 67, 0.15);\n",
              "      fill: #174EA6;\n",
              "    }\n",
              "\n",
              "    [theme=dark] .colab-df-convert {\n",
              "      background-color: #3B4455;\n",
              "      fill: #D2E3FC;\n",
              "    }\n",
              "\n",
              "    [theme=dark] .colab-df-convert:hover {\n",
              "      background-color: #434B5C;\n",
              "      box-shadow: 0px 1px 3px 1px rgba(0, 0, 0, 0.15);\n",
              "      filter: drop-shadow(0px 1px 2px rgba(0, 0, 0, 0.3));\n",
              "      fill: #FFFFFF;\n",
              "    }\n",
              "  </style>\n",
              "\n",
              "      <script>\n",
              "        const buttonEl =\n",
              "          document.querySelector('#df-3280656d-41c4-4d29-9055-c514af67561e button.colab-df-convert');\n",
              "        buttonEl.style.display =\n",
              "          google.colab.kernel.accessAllowed ? 'block' : 'none';\n",
              "\n",
              "        async function convertToInteractive(key) {\n",
              "          const element = document.querySelector('#df-3280656d-41c4-4d29-9055-c514af67561e');\n",
              "          const dataTable =\n",
              "            await google.colab.kernel.invokeFunction('convertToInteractive',\n",
              "                                                     [key], {});\n",
              "          if (!dataTable) return;\n",
              "\n",
              "          const docLinkHtml = 'Like what you see? Visit the ' +\n",
              "            '<a target=\"_blank\" href=https://colab.research.google.com/notebooks/data_table.ipynb>data table notebook</a>'\n",
              "            + ' to learn more about interactive tables.';\n",
              "          element.innerHTML = '';\n",
              "          dataTable['output_type'] = 'display_data';\n",
              "          await google.colab.output.renderOutput(dataTable, element);\n",
              "          const docLink = document.createElement('div');\n",
              "          docLink.innerHTML = docLinkHtml;\n",
              "          element.appendChild(docLink);\n",
              "        }\n",
              "      </script>\n",
              "    </div>\n",
              "  </div>\n",
              "  "
            ]
          },
          "metadata": {},
          "execution_count": 62
        }
      ]
    },
    {
      "cell_type": "code",
      "source": [
        "report[report.model_name!='Base LR']"
      ],
      "metadata": {
        "id": "3qfrW1Vpi-Jy",
        "colab": {
          "base_uri": "https://localhost:8080/",
          "height": 1000
        },
        "outputId": "3530b02e-8a6f-4c41-9642-a7c47897ba8d"
      },
      "execution_count": null,
      "outputs": [
        {
          "output_type": "execute_result",
          "data": {
            "text/plain": [
              "      No stroke     Stroke  accuracy    macro avg  weighted avg     metric  \\\n",
              "16     0.995940   0.092925  0.488731     0.544433      0.947201  precision   \n",
              "17     0.461442   0.967033  0.488731     0.714237      0.488731     recall   \n",
              "18     0.630677   0.169557  0.488731     0.400117      0.605788   f1-score   \n",
              "19  1595.000000  91.000000  0.488731  1686.000000   1686.000000    support   \n",
              "20     0.992424   0.110236  0.593713     0.551330      0.944809  precision   \n",
              "21     0.574922   0.923077  0.593713     0.748999      0.593713     recall   \n",
              "22     0.728067   0.196952  0.593713     0.462509      0.699400   f1-score   \n",
              "23  1595.000000  91.000000  0.593713  1686.000000   1686.000000    support   \n",
              "24     0.986034   0.124183  0.673191     0.555108      0.939516  precision   \n",
              "25     0.663950   0.835165  0.673191     0.749557      0.673191     recall   \n",
              "26     0.793556   0.216216  0.673191     0.504886      0.762394   f1-score   \n",
              "27  1595.000000  91.000000  0.673191  1686.000000   1686.000000    support   \n",
              "28     0.981758   0.143750  0.743179     0.562754      0.936527  precision   \n",
              "29     0.742320   0.758242  0.743179     0.750281      0.743179     recall   \n",
              "30     0.845412   0.241681  0.743179     0.543547      0.812827   f1-score   \n",
              "31  1595.000000  91.000000  0.743179  1686.000000   1686.000000    support   \n",
              "32     0.974359   0.158333  0.800119     0.566346      0.930315  precision   \n",
              "33     0.810031   0.626374  0.800119     0.718202      0.800119     recall   \n",
              "34     0.884629   0.252772  0.800119     0.568700      0.850525   f1-score   \n",
              "35  1595.000000  91.000000  0.800119  1686.000000   1686.000000    support   \n",
              "36     0.968288   0.172285  0.842230     0.570286      0.925324  precision   \n",
              "37     0.861442   0.505495  0.842230     0.683468      0.842230     recall   \n",
              "38     0.911745   0.256983  0.842230     0.584364      0.876405   f1-score   \n",
              "39  1595.000000  91.000000  0.842230  1686.000000   1686.000000    support   \n",
              "40     0.961210   0.193939  0.886121     0.577575      0.919797  precision   \n",
              "41     0.916614   0.351648  0.886121     0.634131      0.886121     recall   \n",
              "42     0.938383   0.250000  0.886121     0.594191      0.901228   f1-score   \n",
              "43  1595.000000  91.000000  0.886121  1686.000000   1686.000000    support   \n",
              "44     0.955736   0.243902  0.921115     0.599819      0.917315  precision   \n",
              "45     0.961129   0.219780  0.921115     0.590454      0.921115     recall   \n",
              "46     0.958425   0.231214  0.921115     0.594819      0.919174   f1-score   \n",
              "47  1595.000000  91.000000  0.921115  1686.000000   1686.000000    support   \n",
              "48     0.948091   0.400000  0.944840     0.674045      0.918508  precision   \n",
              "49     0.996238   0.043956  0.944840     0.520097      0.944840     recall   \n",
              "50     0.971568   0.079208  0.944840     0.525388      0.923404   f1-score   \n",
              "51  1595.000000  91.000000  0.944840  1686.000000   1686.000000    support   \n",
              "\n",
              "   dataset_name     model_name  \n",
              "16       ADASYN  LR with p=0.1  \n",
              "17       ADASYN  LR with p=0.1  \n",
              "18       ADASYN  LR with p=0.1  \n",
              "19       ADASYN  LR with p=0.1  \n",
              "20       ADASYN  LR with p=0.2  \n",
              "21       ADASYN  LR with p=0.2  \n",
              "22       ADASYN  LR with p=0.2  \n",
              "23       ADASYN  LR with p=0.2  \n",
              "24       ADASYN  LR with p=0.3  \n",
              "25       ADASYN  LR with p=0.3  \n",
              "26       ADASYN  LR with p=0.3  \n",
              "27       ADASYN  LR with p=0.3  \n",
              "28       ADASYN  LR with p=0.4  \n",
              "29       ADASYN  LR with p=0.4  \n",
              "30       ADASYN  LR with p=0.4  \n",
              "31       ADASYN  LR with p=0.4  \n",
              "32       ADASYN  LR with p=0.5  \n",
              "33       ADASYN  LR with p=0.5  \n",
              "34       ADASYN  LR with p=0.5  \n",
              "35       ADASYN  LR with p=0.5  \n",
              "36       ADASYN  LR with p=0.6  \n",
              "37       ADASYN  LR with p=0.6  \n",
              "38       ADASYN  LR with p=0.6  \n",
              "39       ADASYN  LR with p=0.6  \n",
              "40       ADASYN  LR with p=0.7  \n",
              "41       ADASYN  LR with p=0.7  \n",
              "42       ADASYN  LR with p=0.7  \n",
              "43       ADASYN  LR with p=0.7  \n",
              "44       ADASYN  LR with p=0.8  \n",
              "45       ADASYN  LR with p=0.8  \n",
              "46       ADASYN  LR with p=0.8  \n",
              "47       ADASYN  LR with p=0.8  \n",
              "48       ADASYN  LR with p=0.9  \n",
              "49       ADASYN  LR with p=0.9  \n",
              "50       ADASYN  LR with p=0.9  \n",
              "51       ADASYN  LR with p=0.9  "
            ],
            "text/html": [
              "\n",
              "  <div id=\"df-80d613ae-1414-4016-96e0-7a459023de59\">\n",
              "    <div class=\"colab-df-container\">\n",
              "      <div>\n",
              "<style scoped>\n",
              "    .dataframe tbody tr th:only-of-type {\n",
              "        vertical-align: middle;\n",
              "    }\n",
              "\n",
              "    .dataframe tbody tr th {\n",
              "        vertical-align: top;\n",
              "    }\n",
              "\n",
              "    .dataframe thead th {\n",
              "        text-align: right;\n",
              "    }\n",
              "</style>\n",
              "<table border=\"1\" class=\"dataframe\">\n",
              "  <thead>\n",
              "    <tr style=\"text-align: right;\">\n",
              "      <th></th>\n",
              "      <th>No stroke</th>\n",
              "      <th>Stroke</th>\n",
              "      <th>accuracy</th>\n",
              "      <th>macro avg</th>\n",
              "      <th>weighted avg</th>\n",
              "      <th>metric</th>\n",
              "      <th>dataset_name</th>\n",
              "      <th>model_name</th>\n",
              "    </tr>\n",
              "  </thead>\n",
              "  <tbody>\n",
              "    <tr>\n",
              "      <th>16</th>\n",
              "      <td>0.995940</td>\n",
              "      <td>0.092925</td>\n",
              "      <td>0.488731</td>\n",
              "      <td>0.544433</td>\n",
              "      <td>0.947201</td>\n",
              "      <td>precision</td>\n",
              "      <td>ADASYN</td>\n",
              "      <td>LR with p=0.1</td>\n",
              "    </tr>\n",
              "    <tr>\n",
              "      <th>17</th>\n",
              "      <td>0.461442</td>\n",
              "      <td>0.967033</td>\n",
              "      <td>0.488731</td>\n",
              "      <td>0.714237</td>\n",
              "      <td>0.488731</td>\n",
              "      <td>recall</td>\n",
              "      <td>ADASYN</td>\n",
              "      <td>LR with p=0.1</td>\n",
              "    </tr>\n",
              "    <tr>\n",
              "      <th>18</th>\n",
              "      <td>0.630677</td>\n",
              "      <td>0.169557</td>\n",
              "      <td>0.488731</td>\n",
              "      <td>0.400117</td>\n",
              "      <td>0.605788</td>\n",
              "      <td>f1-score</td>\n",
              "      <td>ADASYN</td>\n",
              "      <td>LR with p=0.1</td>\n",
              "    </tr>\n",
              "    <tr>\n",
              "      <th>19</th>\n",
              "      <td>1595.000000</td>\n",
              "      <td>91.000000</td>\n",
              "      <td>0.488731</td>\n",
              "      <td>1686.000000</td>\n",
              "      <td>1686.000000</td>\n",
              "      <td>support</td>\n",
              "      <td>ADASYN</td>\n",
              "      <td>LR with p=0.1</td>\n",
              "    </tr>\n",
              "    <tr>\n",
              "      <th>20</th>\n",
              "      <td>0.992424</td>\n",
              "      <td>0.110236</td>\n",
              "      <td>0.593713</td>\n",
              "      <td>0.551330</td>\n",
              "      <td>0.944809</td>\n",
              "      <td>precision</td>\n",
              "      <td>ADASYN</td>\n",
              "      <td>LR with p=0.2</td>\n",
              "    </tr>\n",
              "    <tr>\n",
              "      <th>21</th>\n",
              "      <td>0.574922</td>\n",
              "      <td>0.923077</td>\n",
              "      <td>0.593713</td>\n",
              "      <td>0.748999</td>\n",
              "      <td>0.593713</td>\n",
              "      <td>recall</td>\n",
              "      <td>ADASYN</td>\n",
              "      <td>LR with p=0.2</td>\n",
              "    </tr>\n",
              "    <tr>\n",
              "      <th>22</th>\n",
              "      <td>0.728067</td>\n",
              "      <td>0.196952</td>\n",
              "      <td>0.593713</td>\n",
              "      <td>0.462509</td>\n",
              "      <td>0.699400</td>\n",
              "      <td>f1-score</td>\n",
              "      <td>ADASYN</td>\n",
              "      <td>LR with p=0.2</td>\n",
              "    </tr>\n",
              "    <tr>\n",
              "      <th>23</th>\n",
              "      <td>1595.000000</td>\n",
              "      <td>91.000000</td>\n",
              "      <td>0.593713</td>\n",
              "      <td>1686.000000</td>\n",
              "      <td>1686.000000</td>\n",
              "      <td>support</td>\n",
              "      <td>ADASYN</td>\n",
              "      <td>LR with p=0.2</td>\n",
              "    </tr>\n",
              "    <tr>\n",
              "      <th>24</th>\n",
              "      <td>0.986034</td>\n",
              "      <td>0.124183</td>\n",
              "      <td>0.673191</td>\n",
              "      <td>0.555108</td>\n",
              "      <td>0.939516</td>\n",
              "      <td>precision</td>\n",
              "      <td>ADASYN</td>\n",
              "      <td>LR with p=0.3</td>\n",
              "    </tr>\n",
              "    <tr>\n",
              "      <th>25</th>\n",
              "      <td>0.663950</td>\n",
              "      <td>0.835165</td>\n",
              "      <td>0.673191</td>\n",
              "      <td>0.749557</td>\n",
              "      <td>0.673191</td>\n",
              "      <td>recall</td>\n",
              "      <td>ADASYN</td>\n",
              "      <td>LR with p=0.3</td>\n",
              "    </tr>\n",
              "    <tr>\n",
              "      <th>26</th>\n",
              "      <td>0.793556</td>\n",
              "      <td>0.216216</td>\n",
              "      <td>0.673191</td>\n",
              "      <td>0.504886</td>\n",
              "      <td>0.762394</td>\n",
              "      <td>f1-score</td>\n",
              "      <td>ADASYN</td>\n",
              "      <td>LR with p=0.3</td>\n",
              "    </tr>\n",
              "    <tr>\n",
              "      <th>27</th>\n",
              "      <td>1595.000000</td>\n",
              "      <td>91.000000</td>\n",
              "      <td>0.673191</td>\n",
              "      <td>1686.000000</td>\n",
              "      <td>1686.000000</td>\n",
              "      <td>support</td>\n",
              "      <td>ADASYN</td>\n",
              "      <td>LR with p=0.3</td>\n",
              "    </tr>\n",
              "    <tr>\n",
              "      <th>28</th>\n",
              "      <td>0.981758</td>\n",
              "      <td>0.143750</td>\n",
              "      <td>0.743179</td>\n",
              "      <td>0.562754</td>\n",
              "      <td>0.936527</td>\n",
              "      <td>precision</td>\n",
              "      <td>ADASYN</td>\n",
              "      <td>LR with p=0.4</td>\n",
              "    </tr>\n",
              "    <tr>\n",
              "      <th>29</th>\n",
              "      <td>0.742320</td>\n",
              "      <td>0.758242</td>\n",
              "      <td>0.743179</td>\n",
              "      <td>0.750281</td>\n",
              "      <td>0.743179</td>\n",
              "      <td>recall</td>\n",
              "      <td>ADASYN</td>\n",
              "      <td>LR with p=0.4</td>\n",
              "    </tr>\n",
              "    <tr>\n",
              "      <th>30</th>\n",
              "      <td>0.845412</td>\n",
              "      <td>0.241681</td>\n",
              "      <td>0.743179</td>\n",
              "      <td>0.543547</td>\n",
              "      <td>0.812827</td>\n",
              "      <td>f1-score</td>\n",
              "      <td>ADASYN</td>\n",
              "      <td>LR with p=0.4</td>\n",
              "    </tr>\n",
              "    <tr>\n",
              "      <th>31</th>\n",
              "      <td>1595.000000</td>\n",
              "      <td>91.000000</td>\n",
              "      <td>0.743179</td>\n",
              "      <td>1686.000000</td>\n",
              "      <td>1686.000000</td>\n",
              "      <td>support</td>\n",
              "      <td>ADASYN</td>\n",
              "      <td>LR with p=0.4</td>\n",
              "    </tr>\n",
              "    <tr>\n",
              "      <th>32</th>\n",
              "      <td>0.974359</td>\n",
              "      <td>0.158333</td>\n",
              "      <td>0.800119</td>\n",
              "      <td>0.566346</td>\n",
              "      <td>0.930315</td>\n",
              "      <td>precision</td>\n",
              "      <td>ADASYN</td>\n",
              "      <td>LR with p=0.5</td>\n",
              "    </tr>\n",
              "    <tr>\n",
              "      <th>33</th>\n",
              "      <td>0.810031</td>\n",
              "      <td>0.626374</td>\n",
              "      <td>0.800119</td>\n",
              "      <td>0.718202</td>\n",
              "      <td>0.800119</td>\n",
              "      <td>recall</td>\n",
              "      <td>ADASYN</td>\n",
              "      <td>LR with p=0.5</td>\n",
              "    </tr>\n",
              "    <tr>\n",
              "      <th>34</th>\n",
              "      <td>0.884629</td>\n",
              "      <td>0.252772</td>\n",
              "      <td>0.800119</td>\n",
              "      <td>0.568700</td>\n",
              "      <td>0.850525</td>\n",
              "      <td>f1-score</td>\n",
              "      <td>ADASYN</td>\n",
              "      <td>LR with p=0.5</td>\n",
              "    </tr>\n",
              "    <tr>\n",
              "      <th>35</th>\n",
              "      <td>1595.000000</td>\n",
              "      <td>91.000000</td>\n",
              "      <td>0.800119</td>\n",
              "      <td>1686.000000</td>\n",
              "      <td>1686.000000</td>\n",
              "      <td>support</td>\n",
              "      <td>ADASYN</td>\n",
              "      <td>LR with p=0.5</td>\n",
              "    </tr>\n",
              "    <tr>\n",
              "      <th>36</th>\n",
              "      <td>0.968288</td>\n",
              "      <td>0.172285</td>\n",
              "      <td>0.842230</td>\n",
              "      <td>0.570286</td>\n",
              "      <td>0.925324</td>\n",
              "      <td>precision</td>\n",
              "      <td>ADASYN</td>\n",
              "      <td>LR with p=0.6</td>\n",
              "    </tr>\n",
              "    <tr>\n",
              "      <th>37</th>\n",
              "      <td>0.861442</td>\n",
              "      <td>0.505495</td>\n",
              "      <td>0.842230</td>\n",
              "      <td>0.683468</td>\n",
              "      <td>0.842230</td>\n",
              "      <td>recall</td>\n",
              "      <td>ADASYN</td>\n",
              "      <td>LR with p=0.6</td>\n",
              "    </tr>\n",
              "    <tr>\n",
              "      <th>38</th>\n",
              "      <td>0.911745</td>\n",
              "      <td>0.256983</td>\n",
              "      <td>0.842230</td>\n",
              "      <td>0.584364</td>\n",
              "      <td>0.876405</td>\n",
              "      <td>f1-score</td>\n",
              "      <td>ADASYN</td>\n",
              "      <td>LR with p=0.6</td>\n",
              "    </tr>\n",
              "    <tr>\n",
              "      <th>39</th>\n",
              "      <td>1595.000000</td>\n",
              "      <td>91.000000</td>\n",
              "      <td>0.842230</td>\n",
              "      <td>1686.000000</td>\n",
              "      <td>1686.000000</td>\n",
              "      <td>support</td>\n",
              "      <td>ADASYN</td>\n",
              "      <td>LR with p=0.6</td>\n",
              "    </tr>\n",
              "    <tr>\n",
              "      <th>40</th>\n",
              "      <td>0.961210</td>\n",
              "      <td>0.193939</td>\n",
              "      <td>0.886121</td>\n",
              "      <td>0.577575</td>\n",
              "      <td>0.919797</td>\n",
              "      <td>precision</td>\n",
              "      <td>ADASYN</td>\n",
              "      <td>LR with p=0.7</td>\n",
              "    </tr>\n",
              "    <tr>\n",
              "      <th>41</th>\n",
              "      <td>0.916614</td>\n",
              "      <td>0.351648</td>\n",
              "      <td>0.886121</td>\n",
              "      <td>0.634131</td>\n",
              "      <td>0.886121</td>\n",
              "      <td>recall</td>\n",
              "      <td>ADASYN</td>\n",
              "      <td>LR with p=0.7</td>\n",
              "    </tr>\n",
              "    <tr>\n",
              "      <th>42</th>\n",
              "      <td>0.938383</td>\n",
              "      <td>0.250000</td>\n",
              "      <td>0.886121</td>\n",
              "      <td>0.594191</td>\n",
              "      <td>0.901228</td>\n",
              "      <td>f1-score</td>\n",
              "      <td>ADASYN</td>\n",
              "      <td>LR with p=0.7</td>\n",
              "    </tr>\n",
              "    <tr>\n",
              "      <th>43</th>\n",
              "      <td>1595.000000</td>\n",
              "      <td>91.000000</td>\n",
              "      <td>0.886121</td>\n",
              "      <td>1686.000000</td>\n",
              "      <td>1686.000000</td>\n",
              "      <td>support</td>\n",
              "      <td>ADASYN</td>\n",
              "      <td>LR with p=0.7</td>\n",
              "    </tr>\n",
              "    <tr>\n",
              "      <th>44</th>\n",
              "      <td>0.955736</td>\n",
              "      <td>0.243902</td>\n",
              "      <td>0.921115</td>\n",
              "      <td>0.599819</td>\n",
              "      <td>0.917315</td>\n",
              "      <td>precision</td>\n",
              "      <td>ADASYN</td>\n",
              "      <td>LR with p=0.8</td>\n",
              "    </tr>\n",
              "    <tr>\n",
              "      <th>45</th>\n",
              "      <td>0.961129</td>\n",
              "      <td>0.219780</td>\n",
              "      <td>0.921115</td>\n",
              "      <td>0.590454</td>\n",
              "      <td>0.921115</td>\n",
              "      <td>recall</td>\n",
              "      <td>ADASYN</td>\n",
              "      <td>LR with p=0.8</td>\n",
              "    </tr>\n",
              "    <tr>\n",
              "      <th>46</th>\n",
              "      <td>0.958425</td>\n",
              "      <td>0.231214</td>\n",
              "      <td>0.921115</td>\n",
              "      <td>0.594819</td>\n",
              "      <td>0.919174</td>\n",
              "      <td>f1-score</td>\n",
              "      <td>ADASYN</td>\n",
              "      <td>LR with p=0.8</td>\n",
              "    </tr>\n",
              "    <tr>\n",
              "      <th>47</th>\n",
              "      <td>1595.000000</td>\n",
              "      <td>91.000000</td>\n",
              "      <td>0.921115</td>\n",
              "      <td>1686.000000</td>\n",
              "      <td>1686.000000</td>\n",
              "      <td>support</td>\n",
              "      <td>ADASYN</td>\n",
              "      <td>LR with p=0.8</td>\n",
              "    </tr>\n",
              "    <tr>\n",
              "      <th>48</th>\n",
              "      <td>0.948091</td>\n",
              "      <td>0.400000</td>\n",
              "      <td>0.944840</td>\n",
              "      <td>0.674045</td>\n",
              "      <td>0.918508</td>\n",
              "      <td>precision</td>\n",
              "      <td>ADASYN</td>\n",
              "      <td>LR with p=0.9</td>\n",
              "    </tr>\n",
              "    <tr>\n",
              "      <th>49</th>\n",
              "      <td>0.996238</td>\n",
              "      <td>0.043956</td>\n",
              "      <td>0.944840</td>\n",
              "      <td>0.520097</td>\n",
              "      <td>0.944840</td>\n",
              "      <td>recall</td>\n",
              "      <td>ADASYN</td>\n",
              "      <td>LR with p=0.9</td>\n",
              "    </tr>\n",
              "    <tr>\n",
              "      <th>50</th>\n",
              "      <td>0.971568</td>\n",
              "      <td>0.079208</td>\n",
              "      <td>0.944840</td>\n",
              "      <td>0.525388</td>\n",
              "      <td>0.923404</td>\n",
              "      <td>f1-score</td>\n",
              "      <td>ADASYN</td>\n",
              "      <td>LR with p=0.9</td>\n",
              "    </tr>\n",
              "    <tr>\n",
              "      <th>51</th>\n",
              "      <td>1595.000000</td>\n",
              "      <td>91.000000</td>\n",
              "      <td>0.944840</td>\n",
              "      <td>1686.000000</td>\n",
              "      <td>1686.000000</td>\n",
              "      <td>support</td>\n",
              "      <td>ADASYN</td>\n",
              "      <td>LR with p=0.9</td>\n",
              "    </tr>\n",
              "  </tbody>\n",
              "</table>\n",
              "</div>\n",
              "      <button class=\"colab-df-convert\" onclick=\"convertToInteractive('df-80d613ae-1414-4016-96e0-7a459023de59')\"\n",
              "              title=\"Convert this dataframe to an interactive table.\"\n",
              "              style=\"display:none;\">\n",
              "        \n",
              "  <svg xmlns=\"http://www.w3.org/2000/svg\" height=\"24px\"viewBox=\"0 0 24 24\"\n",
              "       width=\"24px\">\n",
              "    <path d=\"M0 0h24v24H0V0z\" fill=\"none\"/>\n",
              "    <path d=\"M18.56 5.44l.94 2.06.94-2.06 2.06-.94-2.06-.94-.94-2.06-.94 2.06-2.06.94zm-11 1L8.5 8.5l.94-2.06 2.06-.94-2.06-.94L8.5 2.5l-.94 2.06-2.06.94zm10 10l.94 2.06.94-2.06 2.06-.94-2.06-.94-.94-2.06-.94 2.06-2.06.94z\"/><path d=\"M17.41 7.96l-1.37-1.37c-.4-.4-.92-.59-1.43-.59-.52 0-1.04.2-1.43.59L10.3 9.45l-7.72 7.72c-.78.78-.78 2.05 0 2.83L4 21.41c.39.39.9.59 1.41.59.51 0 1.02-.2 1.41-.59l7.78-7.78 2.81-2.81c.8-.78.8-2.07 0-2.86zM5.41 20L4 18.59l7.72-7.72 1.47 1.35L5.41 20z\"/>\n",
              "  </svg>\n",
              "      </button>\n",
              "      \n",
              "  <style>\n",
              "    .colab-df-container {\n",
              "      display:flex;\n",
              "      flex-wrap:wrap;\n",
              "      gap: 12px;\n",
              "    }\n",
              "\n",
              "    .colab-df-convert {\n",
              "      background-color: #E8F0FE;\n",
              "      border: none;\n",
              "      border-radius: 50%;\n",
              "      cursor: pointer;\n",
              "      display: none;\n",
              "      fill: #1967D2;\n",
              "      height: 32px;\n",
              "      padding: 0 0 0 0;\n",
              "      width: 32px;\n",
              "    }\n",
              "\n",
              "    .colab-df-convert:hover {\n",
              "      background-color: #E2EBFA;\n",
              "      box-shadow: 0px 1px 2px rgba(60, 64, 67, 0.3), 0px 1px 3px 1px rgba(60, 64, 67, 0.15);\n",
              "      fill: #174EA6;\n",
              "    }\n",
              "\n",
              "    [theme=dark] .colab-df-convert {\n",
              "      background-color: #3B4455;\n",
              "      fill: #D2E3FC;\n",
              "    }\n",
              "\n",
              "    [theme=dark] .colab-df-convert:hover {\n",
              "      background-color: #434B5C;\n",
              "      box-shadow: 0px 1px 3px 1px rgba(0, 0, 0, 0.15);\n",
              "      filter: drop-shadow(0px 1px 2px rgba(0, 0, 0, 0.3));\n",
              "      fill: #FFFFFF;\n",
              "    }\n",
              "  </style>\n",
              "\n",
              "      <script>\n",
              "        const buttonEl =\n",
              "          document.querySelector('#df-80d613ae-1414-4016-96e0-7a459023de59 button.colab-df-convert');\n",
              "        buttonEl.style.display =\n",
              "          google.colab.kernel.accessAllowed ? 'block' : 'none';\n",
              "\n",
              "        async function convertToInteractive(key) {\n",
              "          const element = document.querySelector('#df-80d613ae-1414-4016-96e0-7a459023de59');\n",
              "          const dataTable =\n",
              "            await google.colab.kernel.invokeFunction('convertToInteractive',\n",
              "                                                     [key], {});\n",
              "          if (!dataTable) return;\n",
              "\n",
              "          const docLinkHtml = 'Like what you see? Visit the ' +\n",
              "            '<a target=\"_blank\" href=https://colab.research.google.com/notebooks/data_table.ipynb>data table notebook</a>'\n",
              "            + ' to learn more about interactive tables.';\n",
              "          element.innerHTML = '';\n",
              "          dataTable['output_type'] = 'display_data';\n",
              "          await google.colab.output.renderOutput(dataTable, element);\n",
              "          const docLink = document.createElement('div');\n",
              "          docLink.innerHTML = docLinkHtml;\n",
              "          element.appendChild(docLink);\n",
              "        }\n",
              "      </script>\n",
              "    </div>\n",
              "  </div>\n",
              "  "
            ]
          },
          "metadata": {},
          "execution_count": 63
        }
      ]
    },
    {
      "cell_type": "markdown",
      "source": [
        "# Dodatkowe źródła\n",
        "- http://cejsh.icm.edu.pl/cejsh/element/bwmeta1.element.desklight-002cb3e1-70f4-4321-a489-f4ced00e9d3b\n",
        "- https://www.analyticsvidhya.com/blog/2020/10/overcoming-class-imbalance-using-smote-techniques/\n",
        "- https://towardsdatascience.com/imbalanced-classification-in-python-smote-enn-method-db5db06b8d50\n",
        "- https://machinelearningmastery.com/polynomial-features-transforms-for-machine-learning/\n",
        "- https://towardsdatascience.com/regularization-in-machine-learning-connecting-the-dots-c6e030bfaddd\n",
        "- https://en.wikipedia.org/wiki/Confusion_matrix\n",
        "\n"
      ],
      "metadata": {
        "id": "obQPn05F9wje"
      }
    },
    {
      "cell_type": "code",
      "source": [
        ""
      ],
      "metadata": {
        "id": "ZVq4J6lQYucl"
      },
      "execution_count": null,
      "outputs": []
    }
  ]
}